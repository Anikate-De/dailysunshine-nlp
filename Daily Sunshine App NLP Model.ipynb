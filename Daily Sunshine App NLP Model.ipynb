{
  "cells": [
    {
      "cell_type": "markdown",
      "metadata": {
        "id": "2v4rChOAyFKD"
      },
      "source": [
        "# Daily Sunshine App NLP Model\n",
        "\n",
        "## Objective of this Notebook\n",
        "To create a NLP Model that classifies a given piece of plaintext into two categories, Good or Bad. The output of the model will be presented as a floating point numeral. This numeral will help us interpret the decision."
      ]
    },
    {
      "cell_type": "markdown",
      "metadata": {
        "id": "g9oYPpPCzMsM"
      },
      "source": [
        "## Notebook Plan\n",
        "\n",
        "- Multiple models will be created for each of the following datasets as training input\n",
        "  - [IMDb Movie Reviews Dataset](https://ai.stanford.edu/~amaas/data/sentiment/aclImdb_v1.tar.gz)\n",
        "  - [Financial Phrase Bank Dataset](https://www.kaggle.com/datasets/ankurzing/sentiment-analysis-for-financial-news)\n",
        "  - [Positive and Negative Word List](https://www.kaggle.com/datasets/mukulkirti/positive-and-negative-word-listrar)\n",
        "  - [News Sentiment Dataset](https://www.kaggle.com/datasets/hoshi7/news-sentiment-dataset)\n",
        "\n",
        "- All the above models will be tested on \n",
        "  - New Data points from the newsapi.org API\n",
        "  - [\"All the News\" Dataset](https://www.kaggle.com/datasets/snapcrack/all-the-news)\n",
        "  - [\"Million News Headlines\" Dataset](https://www.kaggle.com/datasets/therohk/million-headlines)\n",
        "  "
      ]
    },
    {
      "cell_type": "markdown",
      "source": [
        "## Notebook Instructions\n",
        "\n",
        "This notebook contains all necessary code to import a LLM model, train it, make predictions and export it for further inference.\n",
        "\n",
        "Along with the creation of usable models, it also contains a script to utilize the previously exported models and make predictions of newly fetched data from the [NewsAPI.org](https://newsapi.org/docs/endpoints) endpoints. This code is a demonstrative script and it is put to use in Firebase Cloud Functions.\n",
        "\n",
        "---\n",
        "\n",
        "Any of the following actions may be desired based on your scenario of usage -\n",
        "\n",
        "- **Train the models from scratch using your own dataset(s)**\n",
        "- **Understand and visualise the training data, script, evaluation methods** \n",
        "- **Visualize the evaluation metrics such as Accuracy, Loss, etc**\n",
        "- **Save and/or Export models for future**\n",
        "\n",
        "**In any of the above cases, consider executing the notebook only upto the Section [\"Save All Models for later user\"](#scrollTo=Save_All_Models_for_later_use)**\n",
        "\n",
        "---\n",
        "\n",
        "**If you have trained or copied the required models, you may skip the sections prior to [\"Load Previously Built Models\"](#scrollTo=Load_Previously_Built_Models)**\n",
        "\n",
        "\n",
        "#### **NOTE: Under all scenarios, you must run the [\"Pre Requisites\"](#scrollTo=Pre_Requisites) section.**\n"
      ],
      "metadata": {
        "id": "DR_IqoJaZspT"
      }
    },
    {
      "cell_type": "markdown",
      "source": [
        "## Pre-Requisites"
      ],
      "metadata": {
        "id": "Nj7gh1cwdOEr"
      }
    },
    {
      "cell_type": "code",
      "execution_count": 1,
      "metadata": {
        "id": "lCvTxnTPDHP8"
      },
      "outputs": [],
      "source": [
        "# A dependency of the preprocessing for BERT inputs\n",
        "!pip install -q -U \"tensorflow-text==2.12.*\"\n",
        "!pip install -q tf-models-official==2.12.0"
      ]
    },
    {
      "cell_type": "code",
      "execution_count": 2,
      "metadata": {
        "colab": {
          "base_uri": "https://localhost:8080/"
        },
        "id": "BYy2x0wgC7rt",
        "outputId": "4c8d5261-0567-46ae-8121-c31675f2f39f"
      },
      "outputs": [
        {
          "output_type": "stream",
          "name": "stderr",
          "text": [
            "/usr/local/lib/python3.10/dist-packages/tensorflow_addons/utils/tfa_eol_msg.py:23: UserWarning: \n",
            "\n",
            "TensorFlow Addons (TFA) has ended development and introduction of new features.\n",
            "TFA has entered a minimal maintenance and release mode until a planned end of life in May 2024.\n",
            "Please modify downstream libraries to take dependencies from other repositories in our TensorFlow community (e.g. Keras, Keras-CV, and Keras-NLP). \n",
            "\n",
            "For more information see: https://github.com/tensorflow/addons/issues/2807 \n",
            "\n",
            "  warnings.warn(\n"
          ]
        }
      ],
      "source": [
        "import os\n",
        "import shutil\n",
        "\n",
        "import tensorflow as tf\n",
        "\n",
        "import tensorflow_hub as hub\n",
        "import tensorflow_text as text\n",
        "from official.nlp import optimization\n",
        "import numpy as np\n",
        "\n",
        "import matplotlib.pyplot as plt\n",
        "\n",
        "import pandas as pd"
      ]
    },
    {
      "cell_type": "markdown",
      "source": [
        "## Training Pre-Requisites"
      ],
      "metadata": {
        "id": "E297EO73dG8u"
      }
    },
    {
      "cell_type": "code",
      "execution_count": null,
      "metadata": {
        "id": "9HBaszqTJbsn"
      },
      "outputs": [],
      "source": [
        "def build_classifier_model(preprocess, encoder):\n",
        "  text_input = tf.keras.layers.Input(shape=(), dtype=tf.string, name='text')\n",
        "  preprocessing_layer = hub.KerasLayer(preprocess, name='preprocessing')\n",
        "  encoder_inputs = preprocessing_layer(text_input)\n",
        "  encoder = hub.KerasLayer(encoder, trainable=True, name='BERT_encoder')\n",
        "  outputs = encoder(encoder_inputs)\n",
        "  net = outputs['pooled_output']\n",
        "  net = tf.keras.layers.Dropout(0.1)(net)\n",
        "  net = tf.keras.layers.Dense(1, activation=None, name='classifier')(net)\n",
        "  return tf.keras.Model(text_input, net)"
      ]
    },
    {
      "cell_type": "code",
      "source": [
        "map_name_to_handle = {\n",
        "    'bert_en_uncased_L-12_H-768_A-12':\n",
        "        'https://tfhub.dev/tensorflow/bert_en_uncased_L-12_H-768_A-12/3',\n",
        "    'bert_en_cased_L-12_H-768_A-12':\n",
        "        'https://tfhub.dev/tensorflow/bert_en_cased_L-12_H-768_A-12/3',\n",
        "    'bert_multi_cased_L-12_H-768_A-12':\n",
        "        'https://tfhub.dev/tensorflow/bert_multi_cased_L-12_H-768_A-12/3',\n",
        "    'small_bert/bert_en_uncased_L-2_H-128_A-2':\n",
        "        'https://tfhub.dev/tensorflow/small_bert/bert_en_uncased_L-2_H-128_A-2/1',\n",
        "    'small_bert/bert_en_uncased_L-2_H-256_A-4':\n",
        "        'https://tfhub.dev/tensorflow/small_bert/bert_en_uncased_L-2_H-256_A-4/1',\n",
        "    'small_bert/bert_en_uncased_L-2_H-512_A-8':\n",
        "        'https://tfhub.dev/tensorflow/small_bert/bert_en_uncased_L-2_H-512_A-8/1',\n",
        "    'small_bert/bert_en_uncased_L-2_H-768_A-12':\n",
        "        'https://tfhub.dev/tensorflow/small_bert/bert_en_uncased_L-2_H-768_A-12/1',\n",
        "    'small_bert/bert_en_uncased_L-4_H-128_A-2':\n",
        "        'https://tfhub.dev/tensorflow/small_bert/bert_en_uncased_L-4_H-128_A-2/1',\n",
        "    'small_bert/bert_en_uncased_L-4_H-256_A-4':\n",
        "        'https://tfhub.dev/tensorflow/small_bert/bert_en_uncased_L-4_H-256_A-4/1',\n",
        "    'small_bert/bert_en_uncased_L-4_H-512_A-8':\n",
        "        'https://tfhub.dev/tensorflow/small_bert/bert_en_uncased_L-4_H-512_A-8/1',\n",
        "    'small_bert/bert_en_uncased_L-4_H-768_A-12':\n",
        "        'https://tfhub.dev/tensorflow/small_bert/bert_en_uncased_L-4_H-768_A-12/1',\n",
        "    'small_bert/bert_en_uncased_L-6_H-128_A-2':\n",
        "        'https://tfhub.dev/tensorflow/small_bert/bert_en_uncased_L-6_H-128_A-2/1',\n",
        "    'small_bert/bert_en_uncased_L-6_H-256_A-4':\n",
        "        'https://tfhub.dev/tensorflow/small_bert/bert_en_uncased_L-6_H-256_A-4/1',\n",
        "    'small_bert/bert_en_uncased_L-6_H-512_A-8':\n",
        "        'https://tfhub.dev/tensorflow/small_bert/bert_en_uncased_L-6_H-512_A-8/1',\n",
        "    'small_bert/bert_en_uncased_L-6_H-768_A-12':\n",
        "        'https://tfhub.dev/tensorflow/small_bert/bert_en_uncased_L-6_H-768_A-12/1',\n",
        "    'small_bert/bert_en_uncased_L-8_H-128_A-2':\n",
        "        'https://tfhub.dev/tensorflow/small_bert/bert_en_uncased_L-8_H-128_A-2/1',\n",
        "    'small_bert/bert_en_uncased_L-8_H-256_A-4':\n",
        "        'https://tfhub.dev/tensorflow/small_bert/bert_en_uncased_L-8_H-256_A-4/1',\n",
        "    'small_bert/bert_en_uncased_L-8_H-512_A-8':\n",
        "        'https://tfhub.dev/tensorflow/small_bert/bert_en_uncased_L-8_H-512_A-8/1',\n",
        "    'small_bert/bert_en_uncased_L-8_H-768_A-12':\n",
        "        'https://tfhub.dev/tensorflow/small_bert/bert_en_uncased_L-8_H-768_A-12/1',\n",
        "    'small_bert/bert_en_uncased_L-10_H-128_A-2':\n",
        "        'https://tfhub.dev/tensorflow/small_bert/bert_en_uncased_L-10_H-128_A-2/1',\n",
        "    'small_bert/bert_en_uncased_L-10_H-256_A-4':\n",
        "        'https://tfhub.dev/tensorflow/small_bert/bert_en_uncased_L-10_H-256_A-4/1',\n",
        "    'small_bert/bert_en_uncased_L-10_H-512_A-8':\n",
        "        'https://tfhub.dev/tensorflow/small_bert/bert_en_uncased_L-10_H-512_A-8/1',\n",
        "    'small_bert/bert_en_uncased_L-10_H-768_A-12':\n",
        "        'https://tfhub.dev/tensorflow/small_bert/bert_en_uncased_L-10_H-768_A-12/1',\n",
        "    'small_bert/bert_en_uncased_L-12_H-128_A-2':\n",
        "        'https://tfhub.dev/tensorflow/small_bert/bert_en_uncased_L-12_H-128_A-2/1',\n",
        "    'small_bert/bert_en_uncased_L-12_H-256_A-4':\n",
        "        'https://tfhub.dev/tensorflow/small_bert/bert_en_uncased_L-12_H-256_A-4/1',\n",
        "    'small_bert/bert_en_uncased_L-12_H-512_A-8':\n",
        "        'https://tfhub.dev/tensorflow/small_bert/bert_en_uncased_L-12_H-512_A-8/1',\n",
        "    'small_bert/bert_en_uncased_L-12_H-768_A-12':\n",
        "        'https://tfhub.dev/tensorflow/small_bert/bert_en_uncased_L-12_H-768_A-12/1',\n",
        "    'albert_en_base':\n",
        "        'https://tfhub.dev/tensorflow/albert_en_base/2',\n",
        "    'electra_small':\n",
        "        'https://tfhub.dev/google/electra_small/2',\n",
        "    'electra_base':\n",
        "        'https://tfhub.dev/google/electra_base/2',\n",
        "    'experts_pubmed':\n",
        "        'https://tfhub.dev/google/experts/bert/pubmed/2',\n",
        "    'experts_wiki_books':\n",
        "        'https://tfhub.dev/google/experts/bert/wiki_books/2',\n",
        "    'talking-heads_base':\n",
        "        'https://tfhub.dev/tensorflow/talkheads_ggelu_bert_en_base/1',\n",
        "}\n",
        "\n",
        "map_model_to_preprocess = {\n",
        "    'bert_en_uncased_L-12_H-768_A-12':\n",
        "        'https://tfhub.dev/tensorflow/bert_en_uncased_preprocess/3',\n",
        "    'bert_en_cased_L-12_H-768_A-12':\n",
        "        'https://tfhub.dev/tensorflow/bert_en_cased_preprocess/3',\n",
        "    'small_bert/bert_en_uncased_L-2_H-128_A-2':\n",
        "        'https://tfhub.dev/tensorflow/bert_en_uncased_preprocess/3',\n",
        "    'small_bert/bert_en_uncased_L-2_H-256_A-4':\n",
        "        'https://tfhub.dev/tensorflow/bert_en_uncased_preprocess/3',\n",
        "    'small_bert/bert_en_uncased_L-2_H-512_A-8':\n",
        "        'https://tfhub.dev/tensorflow/bert_en_uncased_preprocess/3',\n",
        "    'small_bert/bert_en_uncased_L-2_H-768_A-12':\n",
        "        'https://tfhub.dev/tensorflow/bert_en_uncased_preprocess/3',\n",
        "    'small_bert/bert_en_uncased_L-4_H-128_A-2':\n",
        "        'https://tfhub.dev/tensorflow/bert_en_uncased_preprocess/3',\n",
        "    'small_bert/bert_en_uncased_L-4_H-256_A-4':\n",
        "        'https://tfhub.dev/tensorflow/bert_en_uncased_preprocess/3',\n",
        "    'small_bert/bert_en_uncased_L-4_H-512_A-8':\n",
        "        'https://tfhub.dev/tensorflow/bert_en_uncased_preprocess/3',\n",
        "    'small_bert/bert_en_uncased_L-4_H-768_A-12':\n",
        "        'https://tfhub.dev/tensorflow/bert_en_uncased_preprocess/3',\n",
        "    'small_bert/bert_en_uncased_L-6_H-128_A-2':\n",
        "        'https://tfhub.dev/tensorflow/bert_en_uncased_preprocess/3',\n",
        "    'small_bert/bert_en_uncased_L-6_H-256_A-4':\n",
        "        'https://tfhub.dev/tensorflow/bert_en_uncased_preprocess/3',\n",
        "    'small_bert/bert_en_uncased_L-6_H-512_A-8':\n",
        "        'https://tfhub.dev/tensorflow/bert_en_uncased_preprocess/3',\n",
        "    'small_bert/bert_en_uncased_L-6_H-768_A-12':\n",
        "        'https://tfhub.dev/tensorflow/bert_en_uncased_preprocess/3',\n",
        "    'small_bert/bert_en_uncased_L-8_H-128_A-2':\n",
        "        'https://tfhub.dev/tensorflow/bert_en_uncased_preprocess/3',\n",
        "    'small_bert/bert_en_uncased_L-8_H-256_A-4':\n",
        "        'https://tfhub.dev/tensorflow/bert_en_uncased_preprocess/3',\n",
        "    'small_bert/bert_en_uncased_L-8_H-512_A-8':\n",
        "        'https://tfhub.dev/tensorflow/bert_en_uncased_preprocess/3',\n",
        "    'small_bert/bert_en_uncased_L-8_H-768_A-12':\n",
        "        'https://tfhub.dev/tensorflow/bert_en_uncased_preprocess/3',\n",
        "    'small_bert/bert_en_uncased_L-10_H-128_A-2':\n",
        "        'https://tfhub.dev/tensorflow/bert_en_uncased_preprocess/3',\n",
        "    'small_bert/bert_en_uncased_L-10_H-256_A-4':\n",
        "        'https://tfhub.dev/tensorflow/bert_en_uncased_preprocess/3',\n",
        "    'small_bert/bert_en_uncased_L-10_H-512_A-8':\n",
        "        'https://tfhub.dev/tensorflow/bert_en_uncased_preprocess/3',\n",
        "    'small_bert/bert_en_uncased_L-10_H-768_A-12':\n",
        "        'https://tfhub.dev/tensorflow/bert_en_uncased_preprocess/3',\n",
        "    'small_bert/bert_en_uncased_L-12_H-128_A-2':\n",
        "        'https://tfhub.dev/tensorflow/bert_en_uncased_preprocess/3',\n",
        "    'small_bert/bert_en_uncased_L-12_H-256_A-4':\n",
        "        'https://tfhub.dev/tensorflow/bert_en_uncased_preprocess/3',\n",
        "    'small_bert/bert_en_uncased_L-12_H-512_A-8':\n",
        "        'https://tfhub.dev/tensorflow/bert_en_uncased_preprocess/3',\n",
        "    'small_bert/bert_en_uncased_L-12_H-768_A-12':\n",
        "        'https://tfhub.dev/tensorflow/bert_en_uncased_preprocess/3',\n",
        "    'bert_multi_cased_L-12_H-768_A-12':\n",
        "        'https://tfhub.dev/tensorflow/bert_multi_cased_preprocess/3',\n",
        "    'albert_en_base':\n",
        "        'https://tfhub.dev/tensorflow/albert_en_preprocess/3',\n",
        "    'electra_small':\n",
        "        'https://tfhub.dev/tensorflow/bert_en_uncased_preprocess/3',\n",
        "    'electra_base':\n",
        "        'https://tfhub.dev/tensorflow/bert_en_uncased_preprocess/3',\n",
        "    'experts_pubmed':\n",
        "        'https://tfhub.dev/tensorflow/bert_en_uncased_preprocess/3',\n",
        "    'experts_wiki_books':\n",
        "        'https://tfhub.dev/tensorflow/bert_en_uncased_preprocess/3',\n",
        "    'talking-heads_base':\n",
        "        'https://tfhub.dev/tensorflow/bert_en_uncased_preprocess/3',\n",
        "}"
      ],
      "metadata": {
        "id": "sey3Vu_14sbh"
      },
      "execution_count": null,
      "outputs": []
    },
    {
      "cell_type": "markdown",
      "metadata": {
        "id": "uPhUToKUncad"
      },
      "source": [
        "## Evaluation Datasets"
      ]
    },
    {
      "cell_type": "markdown",
      "metadata": {
        "id": "0vYMzfTnnnOX"
      },
      "source": [
        "### \"All the News\" Dataset"
      ]
    },
    {
      "cell_type": "code",
      "execution_count": null,
      "metadata": {
        "id": "ZQXi32axntZM"
      },
      "outputs": [],
      "source": [
        "!cp \"/content/drive/MyDrive/Colab Notebooks/Daily Sunshine App/data/all_the_news.csv\" \"/content/all_the_news.csv\""
      ]
    },
    {
      "cell_type": "code",
      "execution_count": null,
      "metadata": {
        "id": "5WtVJkPcVvyj"
      },
      "outputs": [],
      "source": [
        "atn_dataframe = pd.read_csv('all_the_news.csv', encoding = 'utf-8', encoding_errors = 'ignore')"
      ]
    },
    {
      "cell_type": "code",
      "execution_count": null,
      "metadata": {
        "colab": {
          "base_uri": "https://localhost:8080/"
        },
        "id": "vfhJVKFjYPuV",
        "outputId": "8d469009-ec9d-41fa-9748-f4545c7e3f8d"
      },
      "outputs": [
        {
          "output_type": "execute_result",
          "data": {
            "text/plain": [
              "                                                   title\n",
              "0      House Republicans Fret About Winning Their Hea...\n",
              "1      Rift Between Officers and Residents as Killing...\n",
              "2      Tyrus Wong, ‘Bambi’ Artist Thwarted by Racial ...\n",
              "3      Among Deaths in 2016, a Heavy Toll in Pop Musi...\n",
              "4      Kim Jong-un Says North Korea Is Preparing to T...\n",
              "...                                                  ...\n",
              "49995   Rex Tillerson Says Climate Change Is Real, but …\n",
              "49996  The Biggest Intelligence Questions Raised by t...\n",
              "49997  Trump Announces Plan That Does Little to Resol...\n",
              "49998    Dozens of For-Profit Colleges Could Soon Close \n",
              "49999                       The Milky Way’s Stolen Stars\n",
              "\n",
              "[50000 rows x 1 columns]"
            ],
            "text/html": [
              "\n",
              "  <div id=\"df-fc9646e6-b05e-4b77-8cd9-dce6d7b02511\">\n",
              "    <div class=\"colab-df-container\">\n",
              "      <div>\n",
              "<style scoped>\n",
              "    .dataframe tbody tr th:only-of-type {\n",
              "        vertical-align: middle;\n",
              "    }\n",
              "\n",
              "    .dataframe tbody tr th {\n",
              "        vertical-align: top;\n",
              "    }\n",
              "\n",
              "    .dataframe thead th {\n",
              "        text-align: right;\n",
              "    }\n",
              "</style>\n",
              "<table border=\"1\" class=\"dataframe\">\n",
              "  <thead>\n",
              "    <tr style=\"text-align: right;\">\n",
              "      <th></th>\n",
              "      <th>title</th>\n",
              "    </tr>\n",
              "  </thead>\n",
              "  <tbody>\n",
              "    <tr>\n",
              "      <th>0</th>\n",
              "      <td>House Republicans Fret About Winning Their Hea...</td>\n",
              "    </tr>\n",
              "    <tr>\n",
              "      <th>1</th>\n",
              "      <td>Rift Between Officers and Residents as Killing...</td>\n",
              "    </tr>\n",
              "    <tr>\n",
              "      <th>2</th>\n",
              "      <td>Tyrus Wong, ‘Bambi’ Artist Thwarted by Racial ...</td>\n",
              "    </tr>\n",
              "    <tr>\n",
              "      <th>3</th>\n",
              "      <td>Among Deaths in 2016, a Heavy Toll in Pop Musi...</td>\n",
              "    </tr>\n",
              "    <tr>\n",
              "      <th>4</th>\n",
              "      <td>Kim Jong-un Says North Korea Is Preparing to T...</td>\n",
              "    </tr>\n",
              "    <tr>\n",
              "      <th>...</th>\n",
              "      <td>...</td>\n",
              "    </tr>\n",
              "    <tr>\n",
              "      <th>49995</th>\n",
              "      <td>Rex Tillerson Says Climate Change Is Real, but …</td>\n",
              "    </tr>\n",
              "    <tr>\n",
              "      <th>49996</th>\n",
              "      <td>The Biggest Intelligence Questions Raised by t...</td>\n",
              "    </tr>\n",
              "    <tr>\n",
              "      <th>49997</th>\n",
              "      <td>Trump Announces Plan That Does Little to Resol...</td>\n",
              "    </tr>\n",
              "    <tr>\n",
              "      <th>49998</th>\n",
              "      <td>Dozens of For-Profit Colleges Could Soon Close</td>\n",
              "    </tr>\n",
              "    <tr>\n",
              "      <th>49999</th>\n",
              "      <td>The Milky Way’s Stolen Stars</td>\n",
              "    </tr>\n",
              "  </tbody>\n",
              "</table>\n",
              "<p>50000 rows × 1 columns</p>\n",
              "</div>\n",
              "      <button class=\"colab-df-convert\" onclick=\"convertToInteractive('df-fc9646e6-b05e-4b77-8cd9-dce6d7b02511')\"\n",
              "              title=\"Convert this dataframe to an interactive table.\"\n",
              "              style=\"display:none;\">\n",
              "        \n",
              "  <svg xmlns=\"http://www.w3.org/2000/svg\" height=\"24px\"viewBox=\"0 0 24 24\"\n",
              "       width=\"24px\">\n",
              "    <path d=\"M0 0h24v24H0V0z\" fill=\"none\"/>\n",
              "    <path d=\"M18.56 5.44l.94 2.06.94-2.06 2.06-.94-2.06-.94-.94-2.06-.94 2.06-2.06.94zm-11 1L8.5 8.5l.94-2.06 2.06-.94-2.06-.94L8.5 2.5l-.94 2.06-2.06.94zm10 10l.94 2.06.94-2.06 2.06-.94-2.06-.94-.94-2.06-.94 2.06-2.06.94z\"/><path d=\"M17.41 7.96l-1.37-1.37c-.4-.4-.92-.59-1.43-.59-.52 0-1.04.2-1.43.59L10.3 9.45l-7.72 7.72c-.78.78-.78 2.05 0 2.83L4 21.41c.39.39.9.59 1.41.59.51 0 1.02-.2 1.41-.59l7.78-7.78 2.81-2.81c.8-.78.8-2.07 0-2.86zM5.41 20L4 18.59l7.72-7.72 1.47 1.35L5.41 20z\"/>\n",
              "  </svg>\n",
              "      </button>\n",
              "      \n",
              "  <style>\n",
              "    .colab-df-container {\n",
              "      display:flex;\n",
              "      flex-wrap:wrap;\n",
              "      gap: 12px;\n",
              "    }\n",
              "\n",
              "    .colab-df-convert {\n",
              "      background-color: #E8F0FE;\n",
              "      border: none;\n",
              "      border-radius: 50%;\n",
              "      cursor: pointer;\n",
              "      display: none;\n",
              "      fill: #1967D2;\n",
              "      height: 32px;\n",
              "      padding: 0 0 0 0;\n",
              "      width: 32px;\n",
              "    }\n",
              "\n",
              "    .colab-df-convert:hover {\n",
              "      background-color: #E2EBFA;\n",
              "      box-shadow: 0px 1px 2px rgba(60, 64, 67, 0.3), 0px 1px 3px 1px rgba(60, 64, 67, 0.15);\n",
              "      fill: #174EA6;\n",
              "    }\n",
              "\n",
              "    [theme=dark] .colab-df-convert {\n",
              "      background-color: #3B4455;\n",
              "      fill: #D2E3FC;\n",
              "    }\n",
              "\n",
              "    [theme=dark] .colab-df-convert:hover {\n",
              "      background-color: #434B5C;\n",
              "      box-shadow: 0px 1px 3px 1px rgba(0, 0, 0, 0.15);\n",
              "      filter: drop-shadow(0px 1px 2px rgba(0, 0, 0, 0.3));\n",
              "      fill: #FFFFFF;\n",
              "    }\n",
              "  </style>\n",
              "\n",
              "      <script>\n",
              "        const buttonEl =\n",
              "          document.querySelector('#df-fc9646e6-b05e-4b77-8cd9-dce6d7b02511 button.colab-df-convert');\n",
              "        buttonEl.style.display =\n",
              "          google.colab.kernel.accessAllowed ? 'block' : 'none';\n",
              "\n",
              "        async function convertToInteractive(key) {\n",
              "          const element = document.querySelector('#df-fc9646e6-b05e-4b77-8cd9-dce6d7b02511');\n",
              "          const dataTable =\n",
              "            await google.colab.kernel.invokeFunction('convertToInteractive',\n",
              "                                                     [key], {});\n",
              "          if (!dataTable) return;\n",
              "\n",
              "          const docLinkHtml = 'Like what you see? Visit the ' +\n",
              "            '<a target=\"_blank\" href=https://colab.research.google.com/notebooks/data_table.ipynb>data table notebook</a>'\n",
              "            + ' to learn more about interactive tables.';\n",
              "          element.innerHTML = '';\n",
              "          dataTable['output_type'] = 'display_data';\n",
              "          await google.colab.output.renderOutput(dataTable, element);\n",
              "          const docLink = document.createElement('div');\n",
              "          docLink.innerHTML = docLinkHtml;\n",
              "          element.appendChild(docLink);\n",
              "        }\n",
              "      </script>\n",
              "    </div>\n",
              "  </div>\n",
              "  "
            ]
          },
          "metadata": {},
          "execution_count": 7
        }
      ],
      "source": [
        "atn_dataframe.drop(atn_dataframe.iloc[:, 3:], inplace=True, axis=1)\n",
        "atn_dataframe.drop(atn_dataframe.iloc[:, :2], inplace=True, axis=1)\n",
        "atn_dataframe"
      ]
    },
    {
      "cell_type": "code",
      "execution_count": null,
      "metadata": {
        "id": "yj2xCi35c93n"
      },
      "outputs": [],
      "source": [
        "def atn_array(n = 10):\n",
        "  return np.squeeze(atn_dataframe.sample(n=n).values)"
      ]
    },
    {
      "cell_type": "code",
      "execution_count": null,
      "metadata": {
        "colab": {
          "base_uri": "https://localhost:8080/"
        },
        "id": "szb4V3qtesAl",
        "outputId": "84516a55-f98f-417d-8fa7-b4fab55366a0"
      },
      "outputs": [
        {
          "output_type": "execute_result",
          "data": {
            "text/plain": [
              "array(['Fed Indictments Target Alleged Italian Mob Family in NYC',\n",
              "       'Baltimore unrest as Obama pushes mentoring program',\n",
              "       'First Time Ever All Refugee Olympic Team Heading to Summer Games - Breitbart',\n",
              "       'White House gears up for prolonged Russia fight',\n",
              "       'Natalee Holloway’s father opens up about new lead',\n",
              "       'Fact-Checking Apple’s Claims on E.U. Tax Ruling - The New York Times',\n",
              "       'Always moving: A transient way of life',\n",
              "       'Italy Struggles To House Migrants In Third Year Of Mass Arrivals',\n",
              "       'Federer vs. Nadal: Which way will it go? ',\n",
              "       'The owner of the convenience store where Alton Sterling was killed is suing the police',\n",
              "       'Five U.S. Women’s Soccer Teammates File Discrimination Suit Against U.S. Soccer - Breitbart',\n",
              "       'What would happen if you experienced Trump’s brag? ',\n",
              "       'Betty White: ’I am the luckiest old broad on two feet’',\n",
              "       '7 shot at Florida house party',\n",
              "       'Country Duo Big &amp Rich to Perform at Trump Inauguration Gala',\n",
              "       'Does Killing Terrorist Leaders Make Any Difference? Scholars Are Doubtful - The New York Times',\n",
              "       'Maher: Trump’s Tax Plan Proves ’Mental Illness Is Sad’ - Breitbart',\n",
              "       'Illegal Alien MS-13 Gang Members Charged in Murder of Teenager in Virginia',\n",
              "       'Here is what will happen on Friday if Britain votes to remain in the EU',\n",
              "       'Ohio State Attacker Posted Anti-US Screed to Facebook Moments Before Attack - Breitbart'],\n",
              "      dtype=object)"
            ]
          },
          "metadata": {},
          "execution_count": 9
        }
      ],
      "source": [
        "atn_array(20)"
      ]
    },
    {
      "cell_type": "markdown",
      "metadata": {
        "id": "0iQ3lQVde1F4"
      },
      "source": [
        "### Million News Headlines Dataset"
      ]
    },
    {
      "cell_type": "code",
      "execution_count": null,
      "metadata": {
        "id": "nZ9BovdCe-Hs"
      },
      "outputs": [],
      "source": [
        "!cp \"/content/drive/MyDrive/Colab Notebooks/Daily Sunshine App/data/million_news_headlines.csv\" \"/content/million_news_headlines.csv\""
      ]
    },
    {
      "cell_type": "code",
      "execution_count": null,
      "metadata": {
        "colab": {
          "base_uri": "https://localhost:8080/"
        },
        "id": "Km2VAQ-bf8A4",
        "outputId": "f547e294-cc53-460b-bd98-fe75a34bfb9f"
      },
      "outputs": [
        {
          "output_type": "execute_result",
          "data": {
            "text/plain": [
              "         publish_date                                      headline_text\n",
              "0            20030219  aba decides against community broadcasting lic...\n",
              "1            20030219     act fire witnesses must be aware of defamation\n",
              "2            20030219     a g calls for infrastructure protection summit\n",
              "3            20030219           air nz staff in aust strike for pay rise\n",
              "4            20030219      air nz strike to affect australian travellers\n",
              "...               ...                                                ...\n",
              "1244179      20211231  two aged care residents die as state records 2...\n",
              "1244180      20211231  victoria records 5;919 new cases and seven deaths\n",
              "1244181      20211231    wa delays adopting new close contact definition\n",
              "1244182      20211231  western ringtail possums found badly dehydrate...\n",
              "1244183      20211231  what makes you a close covid contact here are ...\n",
              "\n",
              "[1244184 rows x 2 columns]"
            ],
            "text/html": [
              "\n",
              "  <div id=\"df-a4b424ce-226a-4680-aab4-ccbc650feb58\">\n",
              "    <div class=\"colab-df-container\">\n",
              "      <div>\n",
              "<style scoped>\n",
              "    .dataframe tbody tr th:only-of-type {\n",
              "        vertical-align: middle;\n",
              "    }\n",
              "\n",
              "    .dataframe tbody tr th {\n",
              "        vertical-align: top;\n",
              "    }\n",
              "\n",
              "    .dataframe thead th {\n",
              "        text-align: right;\n",
              "    }\n",
              "</style>\n",
              "<table border=\"1\" class=\"dataframe\">\n",
              "  <thead>\n",
              "    <tr style=\"text-align: right;\">\n",
              "      <th></th>\n",
              "      <th>publish_date</th>\n",
              "      <th>headline_text</th>\n",
              "    </tr>\n",
              "  </thead>\n",
              "  <tbody>\n",
              "    <tr>\n",
              "      <th>0</th>\n",
              "      <td>20030219</td>\n",
              "      <td>aba decides against community broadcasting lic...</td>\n",
              "    </tr>\n",
              "    <tr>\n",
              "      <th>1</th>\n",
              "      <td>20030219</td>\n",
              "      <td>act fire witnesses must be aware of defamation</td>\n",
              "    </tr>\n",
              "    <tr>\n",
              "      <th>2</th>\n",
              "      <td>20030219</td>\n",
              "      <td>a g calls for infrastructure protection summit</td>\n",
              "    </tr>\n",
              "    <tr>\n",
              "      <th>3</th>\n",
              "      <td>20030219</td>\n",
              "      <td>air nz staff in aust strike for pay rise</td>\n",
              "    </tr>\n",
              "    <tr>\n",
              "      <th>4</th>\n",
              "      <td>20030219</td>\n",
              "      <td>air nz strike to affect australian travellers</td>\n",
              "    </tr>\n",
              "    <tr>\n",
              "      <th>...</th>\n",
              "      <td>...</td>\n",
              "      <td>...</td>\n",
              "    </tr>\n",
              "    <tr>\n",
              "      <th>1244179</th>\n",
              "      <td>20211231</td>\n",
              "      <td>two aged care residents die as state records 2...</td>\n",
              "    </tr>\n",
              "    <tr>\n",
              "      <th>1244180</th>\n",
              "      <td>20211231</td>\n",
              "      <td>victoria records 5;919 new cases and seven deaths</td>\n",
              "    </tr>\n",
              "    <tr>\n",
              "      <th>1244181</th>\n",
              "      <td>20211231</td>\n",
              "      <td>wa delays adopting new close contact definition</td>\n",
              "    </tr>\n",
              "    <tr>\n",
              "      <th>1244182</th>\n",
              "      <td>20211231</td>\n",
              "      <td>western ringtail possums found badly dehydrate...</td>\n",
              "    </tr>\n",
              "    <tr>\n",
              "      <th>1244183</th>\n",
              "      <td>20211231</td>\n",
              "      <td>what makes you a close covid contact here are ...</td>\n",
              "    </tr>\n",
              "  </tbody>\n",
              "</table>\n",
              "<p>1244184 rows × 2 columns</p>\n",
              "</div>\n",
              "      <button class=\"colab-df-convert\" onclick=\"convertToInteractive('df-a4b424ce-226a-4680-aab4-ccbc650feb58')\"\n",
              "              title=\"Convert this dataframe to an interactive table.\"\n",
              "              style=\"display:none;\">\n",
              "        \n",
              "  <svg xmlns=\"http://www.w3.org/2000/svg\" height=\"24px\"viewBox=\"0 0 24 24\"\n",
              "       width=\"24px\">\n",
              "    <path d=\"M0 0h24v24H0V0z\" fill=\"none\"/>\n",
              "    <path d=\"M18.56 5.44l.94 2.06.94-2.06 2.06-.94-2.06-.94-.94-2.06-.94 2.06-2.06.94zm-11 1L8.5 8.5l.94-2.06 2.06-.94-2.06-.94L8.5 2.5l-.94 2.06-2.06.94zm10 10l.94 2.06.94-2.06 2.06-.94-2.06-.94-.94-2.06-.94 2.06-2.06.94z\"/><path d=\"M17.41 7.96l-1.37-1.37c-.4-.4-.92-.59-1.43-.59-.52 0-1.04.2-1.43.59L10.3 9.45l-7.72 7.72c-.78.78-.78 2.05 0 2.83L4 21.41c.39.39.9.59 1.41.59.51 0 1.02-.2 1.41-.59l7.78-7.78 2.81-2.81c.8-.78.8-2.07 0-2.86zM5.41 20L4 18.59l7.72-7.72 1.47 1.35L5.41 20z\"/>\n",
              "  </svg>\n",
              "      </button>\n",
              "      \n",
              "  <style>\n",
              "    .colab-df-container {\n",
              "      display:flex;\n",
              "      flex-wrap:wrap;\n",
              "      gap: 12px;\n",
              "    }\n",
              "\n",
              "    .colab-df-convert {\n",
              "      background-color: #E8F0FE;\n",
              "      border: none;\n",
              "      border-radius: 50%;\n",
              "      cursor: pointer;\n",
              "      display: none;\n",
              "      fill: #1967D2;\n",
              "      height: 32px;\n",
              "      padding: 0 0 0 0;\n",
              "      width: 32px;\n",
              "    }\n",
              "\n",
              "    .colab-df-convert:hover {\n",
              "      background-color: #E2EBFA;\n",
              "      box-shadow: 0px 1px 2px rgba(60, 64, 67, 0.3), 0px 1px 3px 1px rgba(60, 64, 67, 0.15);\n",
              "      fill: #174EA6;\n",
              "    }\n",
              "\n",
              "    [theme=dark] .colab-df-convert {\n",
              "      background-color: #3B4455;\n",
              "      fill: #D2E3FC;\n",
              "    }\n",
              "\n",
              "    [theme=dark] .colab-df-convert:hover {\n",
              "      background-color: #434B5C;\n",
              "      box-shadow: 0px 1px 3px 1px rgba(0, 0, 0, 0.15);\n",
              "      filter: drop-shadow(0px 1px 2px rgba(0, 0, 0, 0.3));\n",
              "      fill: #FFFFFF;\n",
              "    }\n",
              "  </style>\n",
              "\n",
              "      <script>\n",
              "        const buttonEl =\n",
              "          document.querySelector('#df-a4b424ce-226a-4680-aab4-ccbc650feb58 button.colab-df-convert');\n",
              "        buttonEl.style.display =\n",
              "          google.colab.kernel.accessAllowed ? 'block' : 'none';\n",
              "\n",
              "        async function convertToInteractive(key) {\n",
              "          const element = document.querySelector('#df-a4b424ce-226a-4680-aab4-ccbc650feb58');\n",
              "          const dataTable =\n",
              "            await google.colab.kernel.invokeFunction('convertToInteractive',\n",
              "                                                     [key], {});\n",
              "          if (!dataTable) return;\n",
              "\n",
              "          const docLinkHtml = 'Like what you see? Visit the ' +\n",
              "            '<a target=\"_blank\" href=https://colab.research.google.com/notebooks/data_table.ipynb>data table notebook</a>'\n",
              "            + ' to learn more about interactive tables.';\n",
              "          element.innerHTML = '';\n",
              "          dataTable['output_type'] = 'display_data';\n",
              "          await google.colab.output.renderOutput(dataTable, element);\n",
              "          const docLink = document.createElement('div');\n",
              "          docLink.innerHTML = docLinkHtml;\n",
              "          element.appendChild(docLink);\n",
              "        }\n",
              "      </script>\n",
              "    </div>\n",
              "  </div>\n",
              "  "
            ]
          },
          "metadata": {},
          "execution_count": 11
        }
      ],
      "source": [
        "mnh_dataframe = pd.read_csv('million_news_headlines.csv', encoding = 'utf-8', encoding_errors = 'ignore')\n",
        "mnh_dataframe"
      ]
    },
    {
      "cell_type": "code",
      "execution_count": null,
      "metadata": {
        "colab": {
          "base_uri": "https://localhost:8080/"
        },
        "id": "F7hJ8YfYgNiE",
        "outputId": "04b2ae5e-40c7-44af-944a-ba0d4a45c2ea"
      },
      "outputs": [
        {
          "output_type": "execute_result",
          "data": {
            "text/plain": [
              "                                             headline_text\n",
              "0        aba decides against community broadcasting lic...\n",
              "1           act fire witnesses must be aware of defamation\n",
              "2           a g calls for infrastructure protection summit\n",
              "3                 air nz staff in aust strike for pay rise\n",
              "4            air nz strike to affect australian travellers\n",
              "...                                                    ...\n",
              "1244179  two aged care residents die as state records 2...\n",
              "1244180  victoria records 5;919 new cases and seven deaths\n",
              "1244181    wa delays adopting new close contact definition\n",
              "1244182  western ringtail possums found badly dehydrate...\n",
              "1244183  what makes you a close covid contact here are ...\n",
              "\n",
              "[1244184 rows x 1 columns]"
            ],
            "text/html": [
              "\n",
              "  <div id=\"df-a0f2056a-07f3-414c-bf93-d92b90675443\">\n",
              "    <div class=\"colab-df-container\">\n",
              "      <div>\n",
              "<style scoped>\n",
              "    .dataframe tbody tr th:only-of-type {\n",
              "        vertical-align: middle;\n",
              "    }\n",
              "\n",
              "    .dataframe tbody tr th {\n",
              "        vertical-align: top;\n",
              "    }\n",
              "\n",
              "    .dataframe thead th {\n",
              "        text-align: right;\n",
              "    }\n",
              "</style>\n",
              "<table border=\"1\" class=\"dataframe\">\n",
              "  <thead>\n",
              "    <tr style=\"text-align: right;\">\n",
              "      <th></th>\n",
              "      <th>headline_text</th>\n",
              "    </tr>\n",
              "  </thead>\n",
              "  <tbody>\n",
              "    <tr>\n",
              "      <th>0</th>\n",
              "      <td>aba decides against community broadcasting lic...</td>\n",
              "    </tr>\n",
              "    <tr>\n",
              "      <th>1</th>\n",
              "      <td>act fire witnesses must be aware of defamation</td>\n",
              "    </tr>\n",
              "    <tr>\n",
              "      <th>2</th>\n",
              "      <td>a g calls for infrastructure protection summit</td>\n",
              "    </tr>\n",
              "    <tr>\n",
              "      <th>3</th>\n",
              "      <td>air nz staff in aust strike for pay rise</td>\n",
              "    </tr>\n",
              "    <tr>\n",
              "      <th>4</th>\n",
              "      <td>air nz strike to affect australian travellers</td>\n",
              "    </tr>\n",
              "    <tr>\n",
              "      <th>...</th>\n",
              "      <td>...</td>\n",
              "    </tr>\n",
              "    <tr>\n",
              "      <th>1244179</th>\n",
              "      <td>two aged care residents die as state records 2...</td>\n",
              "    </tr>\n",
              "    <tr>\n",
              "      <th>1244180</th>\n",
              "      <td>victoria records 5;919 new cases and seven deaths</td>\n",
              "    </tr>\n",
              "    <tr>\n",
              "      <th>1244181</th>\n",
              "      <td>wa delays adopting new close contact definition</td>\n",
              "    </tr>\n",
              "    <tr>\n",
              "      <th>1244182</th>\n",
              "      <td>western ringtail possums found badly dehydrate...</td>\n",
              "    </tr>\n",
              "    <tr>\n",
              "      <th>1244183</th>\n",
              "      <td>what makes you a close covid contact here are ...</td>\n",
              "    </tr>\n",
              "  </tbody>\n",
              "</table>\n",
              "<p>1244184 rows × 1 columns</p>\n",
              "</div>\n",
              "      <button class=\"colab-df-convert\" onclick=\"convertToInteractive('df-a0f2056a-07f3-414c-bf93-d92b90675443')\"\n",
              "              title=\"Convert this dataframe to an interactive table.\"\n",
              "              style=\"display:none;\">\n",
              "        \n",
              "  <svg xmlns=\"http://www.w3.org/2000/svg\" height=\"24px\"viewBox=\"0 0 24 24\"\n",
              "       width=\"24px\">\n",
              "    <path d=\"M0 0h24v24H0V0z\" fill=\"none\"/>\n",
              "    <path d=\"M18.56 5.44l.94 2.06.94-2.06 2.06-.94-2.06-.94-.94-2.06-.94 2.06-2.06.94zm-11 1L8.5 8.5l.94-2.06 2.06-.94-2.06-.94L8.5 2.5l-.94 2.06-2.06.94zm10 10l.94 2.06.94-2.06 2.06-.94-2.06-.94-.94-2.06-.94 2.06-2.06.94z\"/><path d=\"M17.41 7.96l-1.37-1.37c-.4-.4-.92-.59-1.43-.59-.52 0-1.04.2-1.43.59L10.3 9.45l-7.72 7.72c-.78.78-.78 2.05 0 2.83L4 21.41c.39.39.9.59 1.41.59.51 0 1.02-.2 1.41-.59l7.78-7.78 2.81-2.81c.8-.78.8-2.07 0-2.86zM5.41 20L4 18.59l7.72-7.72 1.47 1.35L5.41 20z\"/>\n",
              "  </svg>\n",
              "      </button>\n",
              "      \n",
              "  <style>\n",
              "    .colab-df-container {\n",
              "      display:flex;\n",
              "      flex-wrap:wrap;\n",
              "      gap: 12px;\n",
              "    }\n",
              "\n",
              "    .colab-df-convert {\n",
              "      background-color: #E8F0FE;\n",
              "      border: none;\n",
              "      border-radius: 50%;\n",
              "      cursor: pointer;\n",
              "      display: none;\n",
              "      fill: #1967D2;\n",
              "      height: 32px;\n",
              "      padding: 0 0 0 0;\n",
              "      width: 32px;\n",
              "    }\n",
              "\n",
              "    .colab-df-convert:hover {\n",
              "      background-color: #E2EBFA;\n",
              "      box-shadow: 0px 1px 2px rgba(60, 64, 67, 0.3), 0px 1px 3px 1px rgba(60, 64, 67, 0.15);\n",
              "      fill: #174EA6;\n",
              "    }\n",
              "\n",
              "    [theme=dark] .colab-df-convert {\n",
              "      background-color: #3B4455;\n",
              "      fill: #D2E3FC;\n",
              "    }\n",
              "\n",
              "    [theme=dark] .colab-df-convert:hover {\n",
              "      background-color: #434B5C;\n",
              "      box-shadow: 0px 1px 3px 1px rgba(0, 0, 0, 0.15);\n",
              "      filter: drop-shadow(0px 1px 2px rgba(0, 0, 0, 0.3));\n",
              "      fill: #FFFFFF;\n",
              "    }\n",
              "  </style>\n",
              "\n",
              "      <script>\n",
              "        const buttonEl =\n",
              "          document.querySelector('#df-a0f2056a-07f3-414c-bf93-d92b90675443 button.colab-df-convert');\n",
              "        buttonEl.style.display =\n",
              "          google.colab.kernel.accessAllowed ? 'block' : 'none';\n",
              "\n",
              "        async function convertToInteractive(key) {\n",
              "          const element = document.querySelector('#df-a0f2056a-07f3-414c-bf93-d92b90675443');\n",
              "          const dataTable =\n",
              "            await google.colab.kernel.invokeFunction('convertToInteractive',\n",
              "                                                     [key], {});\n",
              "          if (!dataTable) return;\n",
              "\n",
              "          const docLinkHtml = 'Like what you see? Visit the ' +\n",
              "            '<a target=\"_blank\" href=https://colab.research.google.com/notebooks/data_table.ipynb>data table notebook</a>'\n",
              "            + ' to learn more about interactive tables.';\n",
              "          element.innerHTML = '';\n",
              "          dataTable['output_type'] = 'display_data';\n",
              "          await google.colab.output.renderOutput(dataTable, element);\n",
              "          const docLink = document.createElement('div');\n",
              "          docLink.innerHTML = docLinkHtml;\n",
              "          element.appendChild(docLink);\n",
              "        }\n",
              "      </script>\n",
              "    </div>\n",
              "  </div>\n",
              "  "
            ]
          },
          "metadata": {},
          "execution_count": 12
        }
      ],
      "source": [
        "mnh_dataframe.drop(mnh_dataframe.iloc[:, 0:1], inplace=True, axis=1)\n",
        "mnh_dataframe"
      ]
    },
    {
      "cell_type": "code",
      "execution_count": null,
      "metadata": {
        "id": "9w1608S3ggQh"
      },
      "outputs": [],
      "source": [
        "def mnh_array(n = 10):\n",
        "  return np.squeeze(mnh_dataframe.sample(n=n).values)"
      ]
    },
    {
      "cell_type": "code",
      "execution_count": null,
      "metadata": {
        "colab": {
          "base_uri": "https://localhost:8080/"
        },
        "id": "zrUFUJNggtP7",
        "outputId": "d873f171-032a-4f20-bfcb-418f5e8ac6dc"
      },
      "outputs": [
        {
          "output_type": "execute_result",
          "data": {
            "text/plain": [
              "array(['sinking navy ships will be a loss to history',\n",
              "       'iemma confirms kurnell desalination plant planning',\n",
              "       '911 rescue dog cloned', 'ramos horta denies aust interference',\n",
              "       '50th anniversary of the royal australian navy helicopter flight',\n",
              "       'warm november for south west wa',\n",
              "       'family had lucky escape from glemorchy house fire',\n",
              "       'interview with mark vassella',\n",
              "       'bennett calls for fair trade period',\n",
              "       'south west national park continues to burn',\n",
              "       'joyce opposes sick leave rules',\n",
              "       'police investigate mandurah ram raid',\n",
              "       'pole protester brought down', 'all ords breaks through 4000 mark',\n",
              "       'woman goes missing near bombala',\n",
              "       'nsw opposition accuses govt of delaying tunnel',\n",
              "       'forestry practices in tasmania recognised in',\n",
              "       'sonya lovell and her daughter bronwyn run the que',\n",
              "       'federal fallout is bad news for keneally',\n",
              "       'rta figures back call for highway road dividers'], dtype=object)"
            ]
          },
          "metadata": {},
          "execution_count": 14
        }
      ],
      "source": [
        "mnh_array(20)"
      ]
    },
    {
      "cell_type": "code",
      "execution_count": null,
      "metadata": {
        "id": "wVxWSEjbgRl3"
      },
      "outputs": [],
      "source": [
        "# Fixed Dataset for comparing models\n",
        "\n",
        "eval_data = np.concatenate([atn_array(100), mnh_array(100)], 0)"
      ]
    },
    {
      "cell_type": "markdown",
      "metadata": {
        "id": "rXwir2pXBZrL"
      },
      "source": [
        "## Model I - IMDb Movie Review Dataset"
      ]
    },
    {
      "cell_type": "markdown",
      "metadata": {
        "id": "w6q8VuhLBmhA"
      },
      "source": [
        "### Downloading the Dataset"
      ]
    },
    {
      "cell_type": "code",
      "execution_count": null,
      "metadata": {
        "colab": {
          "base_uri": "https://localhost:8080/"
        },
        "id": "eag0szD7x-Uw",
        "outputId": "33b6e13a-5d41-402b-c838-51910a5b19e6"
      },
      "outputs": [
        {
          "output_type": "stream",
          "name": "stdout",
          "text": [
            "Downloading data from https://ai.stanford.edu/~amaas/data/sentiment/aclImdb_v1.tar.gz\n",
            "84125825/84125825 [==============================] - 8s 0us/step\n"
          ]
        }
      ],
      "source": [
        "imdb_url = 'https://ai.stanford.edu/~amaas/data/sentiment/aclImdb_v1.tar.gz'\n",
        "\n",
        "imdb_dataset = tf.keras.utils.get_file('aclImdb_v1.tar.gz', imdb_url,\n",
        "                                  untar=True, cache_dir='.',\n",
        "                                  cache_subdir='')\n",
        "\n",
        "imdb_dataset_dir = os.path.join(os.path.dirname(imdb_dataset), 'aclImdb')\n",
        "\n",
        "imdb_train_dir = os.path.join(imdb_dataset_dir, 'train')"
      ]
    },
    {
      "cell_type": "code",
      "execution_count": null,
      "metadata": {
        "id": "dJ2U3tpVDyDx"
      },
      "outputs": [],
      "source": [
        "# Remove unused folders to make it easier to load the data\n",
        "imdb_remove_dir = os.path.join(imdb_train_dir, 'unsup')\n",
        "shutil.rmtree(imdb_remove_dir)"
      ]
    },
    {
      "cell_type": "markdown",
      "metadata": {
        "id": "oWpohJxrEjKW"
      },
      "source": [
        "### Split the Data into Training, Testing & Validation sets"
      ]
    },
    {
      "cell_type": "code",
      "execution_count": null,
      "metadata": {
        "colab": {
          "base_uri": "https://localhost:8080/"
        },
        "id": "6IwI_2bcIeX8",
        "outputId": "56d11670-bede-4d4c-d331-25a1055d54f4"
      },
      "outputs": [
        {
          "output_type": "stream",
          "name": "stdout",
          "text": [
            "Found 25000 files belonging to 2 classes.\n",
            "Using 20000 files for training.\n",
            "Found 25000 files belonging to 2 classes.\n",
            "Using 5000 files for validation.\n",
            "Found 25000 files belonging to 2 classes.\n"
          ]
        }
      ],
      "source": [
        "AUTOTUNE = tf.data.AUTOTUNE\n",
        "batch_size = 32\n",
        "seed = 42\n",
        "\n",
        "imdb_raw_train_ds = tf.keras.utils.text_dataset_from_directory(\n",
        "    'aclImdb/train',\n",
        "    batch_size=batch_size,\n",
        "    validation_split=0.2,\n",
        "    subset='training',\n",
        "    seed=seed)\n",
        "\n",
        "imdb_class_names = imdb_raw_train_ds.class_names\n",
        "imdb_train_ds = imdb_raw_train_ds.cache().prefetch(buffer_size=AUTOTUNE)\n",
        "\n",
        "imdb_val_ds = tf.keras.utils.text_dataset_from_directory(\n",
        "    'aclImdb/train',\n",
        "    batch_size=batch_size,\n",
        "    validation_split=0.2,\n",
        "    subset='validation',\n",
        "    seed=seed)\n",
        "\n",
        "imdb_val_ds = imdb_val_ds.cache().prefetch(buffer_size=AUTOTUNE)\n",
        "\n",
        "imdb_test_ds = tf.keras.utils.text_dataset_from_directory(\n",
        "    'aclImdb/test',\n",
        "    batch_size=batch_size)\n",
        "\n",
        "imdb_test_ds = imdb_test_ds.cache().prefetch(buffer_size=AUTOTUNE)"
      ]
    },
    {
      "cell_type": "markdown",
      "metadata": {
        "id": "wH2g8ICLErYz"
      },
      "source": [
        "### Visualise the data"
      ]
    },
    {
      "cell_type": "code",
      "execution_count": null,
      "metadata": {
        "colab": {
          "base_uri": "https://localhost:8080/"
        },
        "id": "craRDsRbEebm",
        "outputId": "fdc9bb39-b3a8-4308-8ba0-caff18b542d3"
      },
      "outputs": [
        {
          "output_type": "stream",
          "name": "stdout",
          "text": [
            "Review: b'\"Pandemonium\" is a horror movie spoof that comes off more stupid than funny. Believe me when I tell you, I love comedies. Especially comedy spoofs. \"Airplane\", \"The Naked Gun\" trilogy, \"Blazing Saddles\", \"High Anxiety\", and \"Spaceballs\" are some of my favorite comedies that spoof a particular genre. \"Pandemonium\" is not up there with those films. Most of the scenes in this movie had me sitting there in stunned silence because the movie wasn\\'t all that funny. There are a few laughs in the film, but when you watch a comedy, you expect to laugh a lot more than a few times and that\\'s all this film has going for it. Geez, \"Scream\" had more laughs than this film and that was more of a horror film. How bizarre is that?<br /><br />*1/2 (out of four)'\n",
            "Label : 0 (neg)\n",
            "\n",
            "Review: b\"David Mamet is a very interesting and a very un-equal director. His first movie 'House of Games' was the one I liked best, and it set a series of films with characters whose perspective of life changes as they get into complicated situations, and so does the perspective of the viewer.<br /><br />So is 'Homicide' which from the title tries to set the mind of the viewer to the usual crime drama. The principal characters are two cops, one Jewish and one Irish who deal with a racially charged area. The murder of an old Jewish shop owner who proves to be an ancient veteran of the Israeli Independence war triggers the Jewish identity in the mind and heart of the Jewish detective.<br /><br />This is were the flaws of the film are the more obvious. The process of awakening is theatrical and hard to believe, the group of Jewish militants is operatic, and the way the detective eventually walks to the final violent confrontation is pathetic. The end of the film itself is Mamet-like smart, but disappoints from a human emotional perspective.<br /><br />Joe Mantegna and William Macy give strong performances, but the flaws of the story are too evident to be easily compensated.\"\n",
            "Label : 0 (neg)\n",
            "\n",
            "Review: b'Great documentary about the lives of NY firefighters during the worst terrorist attack of all time.. That reason alone is why this should be a must see collectors item.. What shocked me was not only the attacks, but the\"High Fat Diet\" and physical appearance of some of these firefighters. I think a lot of Doctors would agree with me that,in the physical shape they were in, some of these firefighters would NOT of made it to the 79th floor carrying over 60 lbs of gear. Having said that i now have a greater respect for firefighters and i realize becoming a firefighter is a life altering job. The French have a history of making great documentary\\'s and that is what this is, a Great Documentary.....'\n",
            "Label : 1 (pos)\n",
            "\n"
          ]
        }
      ],
      "source": [
        "for text_batch, label_batch in imdb_train_ds.take(1):\n",
        "  for i in range(3):\n",
        "    print(f'Review: {text_batch.numpy()[i]}')\n",
        "    label = label_batch.numpy()[i]\n",
        "    print(f'Label : {label} ({imdb_class_names[label]})\\n')"
      ]
    },
    {
      "cell_type": "markdown",
      "metadata": {
        "id": "E0GzyJeGEue4"
      },
      "source": [
        "### Selecting a Model"
      ]
    },
    {
      "cell_type": "code",
      "execution_count": null,
      "metadata": {
        "colab": {
          "base_uri": "https://localhost:8080/"
        },
        "id": "95ZQ9B2LFTiK",
        "outputId": "4c967694-27c7-4d98-ad04-bf2d14f1ca30"
      },
      "outputs": [
        {
          "output_type": "stream",
          "name": "stdout",
          "text": [
            "BERT model selected           : https://tfhub.dev/tensorflow/small_bert/bert_en_uncased_L-4_H-512_A-8/1\n",
            "Preprocess model auto-selected: https://tfhub.dev/tensorflow/bert_en_uncased_preprocess/3\n"
          ]
        }
      ],
      "source": [
        "#@title Choose a BERT model to fine-tune for IMDb Model\n",
        "\n",
        "imdb_bert_model_name = 'small_bert/bert_en_uncased_L-4_H-512_A-8'  #@param [\"bert_en_uncased_L-12_H-768_A-12\", \"bert_en_cased_L-12_H-768_A-12\", \"bert_multi_cased_L-12_H-768_A-12\", \"small_bert/bert_en_uncased_L-2_H-128_A-2\", \"small_bert/bert_en_uncased_L-2_H-256_A-4\", \"small_bert/bert_en_uncased_L-2_H-512_A-8\", \"small_bert/bert_en_uncased_L-2_H-768_A-12\", \"small_bert/bert_en_uncased_L-4_H-128_A-2\", \"small_bert/bert_en_uncased_L-4_H-256_A-4\", \"small_bert/bert_en_uncased_L-4_H-512_A-8\", \"small_bert/bert_en_uncased_L-4_H-768_A-12\", \"small_bert/bert_en_uncased_L-6_H-128_A-2\", \"small_bert/bert_en_uncased_L-6_H-256_A-4\", \"small_bert/bert_en_uncased_L-6_H-512_A-8\", \"small_bert/bert_en_uncased_L-6_H-768_A-12\", \"small_bert/bert_en_uncased_L-8_H-128_A-2\", \"small_bert/bert_en_uncased_L-8_H-256_A-4\", \"small_bert/bert_en_uncased_L-8_H-512_A-8\", \"small_bert/bert_en_uncased_L-8_H-768_A-12\", \"small_bert/bert_en_uncased_L-10_H-128_A-2\", \"small_bert/bert_en_uncased_L-10_H-256_A-4\", \"small_bert/bert_en_uncased_L-10_H-512_A-8\", \"small_bert/bert_en_uncased_L-10_H-768_A-12\", \"small_bert/bert_en_uncased_L-12_H-128_A-2\", \"small_bert/bert_en_uncased_L-12_H-256_A-4\", \"small_bert/bert_en_uncased_L-12_H-512_A-8\", \"small_bert/bert_en_uncased_L-12_H-768_A-12\", \"albert_en_base\", \"electra_small\", \"electra_base\", \"experts_pubmed\", \"experts_wiki_books\", \"talking-heads_base\"]\n",
        "\n",
        "\n",
        "imdb_tfhub_handle_encoder = map_name_to_handle[imdb_bert_model_name]\n",
        "imdb_tfhub_handle_preprocess = map_model_to_preprocess[imdb_bert_model_name]\n",
        "\n",
        "print(f'BERT model selected           : {imdb_tfhub_handle_encoder}')\n",
        "print(f'Preprocess model auto-selected: {imdb_tfhub_handle_preprocess}')"
      ]
    },
    {
      "cell_type": "markdown",
      "metadata": {
        "id": "ImfRj3wMFT8b"
      },
      "source": [
        "### Preprocessing Model"
      ]
    },
    {
      "cell_type": "code",
      "execution_count": null,
      "metadata": {
        "id": "kHP0YRhoFf8b"
      },
      "outputs": [],
      "source": [
        "imdb_bert_preprocess_model = hub.KerasLayer(imdb_tfhub_handle_preprocess)"
      ]
    },
    {
      "cell_type": "markdown",
      "metadata": {
        "id": "iqO2niPIFpGl"
      },
      "source": [
        "### Using the BERT Model"
      ]
    },
    {
      "cell_type": "code",
      "execution_count": null,
      "metadata": {
        "id": "uXzTu6bEJNnm"
      },
      "outputs": [],
      "source": [
        "imdb_bert_model = hub.KerasLayer(imdb_tfhub_handle_encoder)"
      ]
    },
    {
      "cell_type": "code",
      "execution_count": null,
      "metadata": {
        "colab": {
          "base_uri": "https://localhost:8080/",
          "height": 466
        },
        "id": "Jc63oatEJTW0",
        "outputId": "fc7ae268-70e3-462d-97cd-c68a3e045139"
      },
      "outputs": [
        {
          "output_type": "execute_result",
          "data": {
            "image/png": "[encoded data removed]",
            "text/plain": [
              "<IPython.core.display.Image object>"
            ]
          },
          "metadata": {},
          "execution_count": 23
        }
      ],
      "source": [
        "imdb_classifier_model = build_classifier_model(imdb_tfhub_handle_preprocess, imdb_tfhub_handle_encoder)\n",
        "tf.keras.utils.plot_model(imdb_classifier_model)"
      ]
    },
    {
      "cell_type": "code",
      "execution_count": null,
      "metadata": {
        "id": "EQKyJhuIJfB8"
      },
      "outputs": [],
      "source": [
        "imdb_loss = tf.keras.losses.BinaryCrossentropy(from_logits=True)\n",
        "imdb_metrics = tf.metrics.BinaryAccuracy()\n",
        "\n",
        "imdb_epochs = 5\n",
        "imdb_steps_per_epoch = tf.data.experimental.cardinality(imdb_train_ds).numpy()\n",
        "imdb_num_train_steps = imdb_steps_per_epoch * imdb_epochs\n",
        "imdb_num_warmup_steps = int(0.1*imdb_num_train_steps)\n",
        "\n",
        "imdb_init_lr = 3e-5\n",
        "imdb_optimizer = optimization.create_optimizer(init_lr=imdb_init_lr,\n",
        "                                          num_train_steps=imdb_num_train_steps,\n",
        "                                          num_warmup_steps=imdb_num_warmup_steps,\n",
        "                                          optimizer_type='adamw')"
      ]
    },
    {
      "cell_type": "code",
      "execution_count": null,
      "metadata": {
        "colab": {
          "base_uri": "https://localhost:8080/"
        },
        "id": "D4JEQj-bJyN7",
        "outputId": "c7ffb259-9048-4aca-82fb-0b11bbe84981"
      },
      "outputs": [
        {
          "output_type": "stream",
          "name": "stdout",
          "text": [
            "Epoch 1/5\n",
            "625/625 [==============================] - 189s 288ms/step - loss: 0.4930 - binary_accuracy: 0.7370 - val_loss: 0.3929 - val_binary_accuracy: 0.8326\n",
            "Epoch 2/5\n",
            "625/625 [==============================] - 179s 286ms/step - loss: 0.3310 - binary_accuracy: 0.8501 - val_loss: 0.3713 - val_binary_accuracy: 0.8484\n",
            "Epoch 3/5\n",
            "625/625 [==============================] - 178s 285ms/step - loss: 0.2531 - binary_accuracy: 0.8929 - val_loss: 0.3965 - val_binary_accuracy: 0.8432\n",
            "Epoch 4/5\n",
            "625/625 [==============================] - 178s 285ms/step - loss: 0.1965 - binary_accuracy: 0.9213 - val_loss: 0.4444 - val_binary_accuracy: 0.8518\n",
            "Epoch 5/5\n",
            "625/625 [==============================] - 178s 285ms/step - loss: 0.1499 - binary_accuracy: 0.9433 - val_loss: 0.4825 - val_binary_accuracy: 0.8516\n"
          ]
        }
      ],
      "source": [
        "imdb_classifier_model.compile(optimizer=imdb_optimizer,\n",
        "                         loss=imdb_loss,\n",
        "                         metrics=imdb_metrics)\n",
        "\n",
        "imdb_history = imdb_classifier_model.fit(x=imdb_train_ds,\n",
        "                               validation_data=imdb_val_ds,\n",
        "                               epochs=imdb_epochs)"
      ]
    },
    {
      "cell_type": "markdown",
      "metadata": {
        "id": "u0cUiFuPJ3ID"
      },
      "source": [
        "### Evaluating the Model"
      ]
    },
    {
      "cell_type": "code",
      "execution_count": null,
      "metadata": {
        "id": "_agMr9WiJ-bN",
        "colab": {
          "base_uri": "https://localhost:8080/"
        },
        "outputId": "d0c6e046-267d-46c2-cf71-293119a9a1d4"
      },
      "outputs": [
        {
          "output_type": "stream",
          "name": "stdout",
          "text": [
            "782/782 [==============================] - 104s 133ms/step - loss: 0.4678 - binary_accuracy: 0.8537\n",
            "Loss: 0.4678176939487457\n",
            "Accuracy: 0.8536800146102905\n"
          ]
        }
      ],
      "source": [
        "imdb_loss, imdb_accuracy = imdb_classifier_model.evaluate(imdb_test_ds)\n",
        "\n",
        "print(f'Loss: {imdb_loss}')\n",
        "print(f'Accuracy: {imdb_accuracy}')"
      ]
    },
    {
      "cell_type": "code",
      "execution_count": null,
      "metadata": {
        "id": "SkttdTxqKDMw",
        "colab": {
          "base_uri": "https://localhost:8080/",
          "height": 599
        },
        "outputId": "e65c56f9-6fce-4dc7-a02d-a2b854fd468c"
      },
      "outputs": [
        {
          "output_type": "stream",
          "name": "stdout",
          "text": [
            "dict_keys(['loss', 'binary_accuracy', 'val_loss', 'val_binary_accuracy'])\n"
          ]
        },
        {
          "output_type": "execute_result",
          "data": {
            "text/plain": [
              "Text(0, 0.5, 'Accuracy')"
            ]
          },
          "metadata": {},
          "execution_count": 27
        },
        {
          "output_type": "display_data",
          "data": {
            "text/plain": [
              "<Figure size 1000x600 with 2 Axes>"
            ],
            "image/png": "[encoded data removed]"
          },
          "metadata": {}
        }
      ],
      "source": [
        "imdb_history_dict = imdb_history.history\n",
        "print(imdb_history_dict.keys())\n",
        "\n",
        "imdb_acc = imdb_history_dict['binary_accuracy']\n",
        "imdb_val_acc = imdb_history_dict['val_binary_accuracy']\n",
        "imdb_loss = imdb_history_dict['loss']\n",
        "imdb_val_loss = imdb_history_dict['val_loss']\n",
        "\n",
        "imdb_epochs = range(1, len(imdb_acc) + 1)\n",
        "imdb_fig = plt.figure(figsize=(10, 6))\n",
        "imdb_fig.tight_layout()\n",
        "\n",
        "plt.subplot(2, 1, 1)\n",
        "\n",
        "plt.plot(imdb_epochs, imdb_loss, 'r', label='Training loss')\n",
        "\n",
        "plt.plot(imdb_epochs, imdb_val_loss, 'b', label='Validation loss')\n",
        "plt.title('Training and validation loss')\n",
        "\n",
        "plt.ylabel('Loss')\n",
        "plt.legend()\n",
        "\n",
        "plt.subplot(2, 1, 2)\n",
        "plt.plot(imdb_epochs, imdb_acc, 'r', label='Training acc')\n",
        "plt.plot(imdb_epochs, imdb_val_acc, 'b', label='Validation acc')\n",
        "plt.title('Training and validation accuracy')\n",
        "plt.xlabel('Epochs')\n",
        "plt.ylabel('Accuracy')"
      ]
    },
    {
      "cell_type": "markdown",
      "metadata": {
        "id": "jkJzz9bnLReb"
      },
      "source": [
        "### Make Predictions"
      ]
    },
    {
      "cell_type": "code",
      "execution_count": null,
      "metadata": {
        "id": "GdRm6AmsleKD",
        "colab": {
          "base_uri": "https://localhost:8080/",
          "height": 441
        },
        "outputId": "0c543c61-2780-4f95-d134-19d66b19eaf8"
      },
      "outputs": [
        {
          "output_type": "stream",
          "name": "stdout",
          "text": [
            "7/7 [==============================] - 1s 86ms/step\n"
          ]
        },
        {
          "output_type": "execute_result",
          "data": {
            "text/plain": [
              "            0                                              Title\n",
              "0   -0.733837    Girl Scouts refuse gift with transgender limits\n",
              "1    1.946372          American to launch Dreamliner 787 service\n",
              "2   -0.163686  15 Times Celebrities Envisioned Violence Again...\n",
              "3    0.435629  Deadly Northern California Wildfire Spreads - ...\n",
              "4    2.373650  How Millennials Became Spooked by Credit Cards...\n",
              "..        ...                                                ...\n",
              "195  3.655803    moutiaa el zahed gives the islamic state salute\n",
              "196 -0.399266  afp defends raiding abc office annika smethurs...\n",
              "197  2.530798                           interview david williams\n",
              "198  3.797237  top sprint cyclists put through paces ahead of...\n",
              "199  5.351167                         tonga welcomes aid changes\n",
              "\n",
              "[200 rows x 2 columns]"
            ],
            "text/html": [
              "\n",
              "  <div id=\"df-86d8d392-38d5-41b5-a683-7c6af30c7b7e\">\n",
              "    <div class=\"colab-df-container\">\n",
              "      <div>\n",
              "<style scoped>\n",
              "    .dataframe tbody tr th:only-of-type {\n",
              "        vertical-align: middle;\n",
              "    }\n",
              "\n",
              "    .dataframe tbody tr th {\n",
              "        vertical-align: top;\n",
              "    }\n",
              "\n",
              "    .dataframe thead th {\n",
              "        text-align: right;\n",
              "    }\n",
              "</style>\n",
              "<table border=\"1\" class=\"dataframe\">\n",
              "  <thead>\n",
              "    <tr style=\"text-align: right;\">\n",
              "      <th></th>\n",
              "      <th>0</th>\n",
              "      <th>Title</th>\n",
              "    </tr>\n",
              "  </thead>\n",
              "  <tbody>\n",
              "    <tr>\n",
              "      <th>0</th>\n",
              "      <td>-0.733837</td>\n",
              "      <td>Girl Scouts refuse gift with transgender limits</td>\n",
              "    </tr>\n",
              "    <tr>\n",
              "      <th>1</th>\n",
              "      <td>1.946372</td>\n",
              "      <td>American to launch Dreamliner 787 service</td>\n",
              "    </tr>\n",
              "    <tr>\n",
              "      <th>2</th>\n",
              "      <td>-0.163686</td>\n",
              "      <td>15 Times Celebrities Envisioned Violence Again...</td>\n",
              "    </tr>\n",
              "    <tr>\n",
              "      <th>3</th>\n",
              "      <td>0.435629</td>\n",
              "      <td>Deadly Northern California Wildfire Spreads - ...</td>\n",
              "    </tr>\n",
              "    <tr>\n",
              "      <th>4</th>\n",
              "      <td>2.373650</td>\n",
              "      <td>How Millennials Became Spooked by Credit Cards...</td>\n",
              "    </tr>\n",
              "    <tr>\n",
              "      <th>...</th>\n",
              "      <td>...</td>\n",
              "      <td>...</td>\n",
              "    </tr>\n",
              "    <tr>\n",
              "      <th>195</th>\n",
              "      <td>3.655803</td>\n",
              "      <td>moutiaa el zahed gives the islamic state salute</td>\n",
              "    </tr>\n",
              "    <tr>\n",
              "      <th>196</th>\n",
              "      <td>-0.399266</td>\n",
              "      <td>afp defends raiding abc office annika smethurs...</td>\n",
              "    </tr>\n",
              "    <tr>\n",
              "      <th>197</th>\n",
              "      <td>2.530798</td>\n",
              "      <td>interview david williams</td>\n",
              "    </tr>\n",
              "    <tr>\n",
              "      <th>198</th>\n",
              "      <td>3.797237</td>\n",
              "      <td>top sprint cyclists put through paces ahead of...</td>\n",
              "    </tr>\n",
              "    <tr>\n",
              "      <th>199</th>\n",
              "      <td>5.351167</td>\n",
              "      <td>tonga welcomes aid changes</td>\n",
              "    </tr>\n",
              "  </tbody>\n",
              "</table>\n",
              "<p>200 rows × 2 columns</p>\n",
              "</div>\n",
              "      <button class=\"colab-df-convert\" onclick=\"convertToInteractive('df-86d8d392-38d5-41b5-a683-7c6af30c7b7e')\"\n",
              "              title=\"Convert this dataframe to an interactive table.\"\n",
              "              style=\"display:none;\">\n",
              "        \n",
              "  <svg xmlns=\"http://www.w3.org/2000/svg\" height=\"24px\"viewBox=\"0 0 24 24\"\n",
              "       width=\"24px\">\n",
              "    <path d=\"M0 0h24v24H0V0z\" fill=\"none\"/>\n",
              "    <path d=\"M18.56 5.44l.94 2.06.94-2.06 2.06-.94-2.06-.94-.94-2.06-.94 2.06-2.06.94zm-11 1L8.5 8.5l.94-2.06 2.06-.94-2.06-.94L8.5 2.5l-.94 2.06-2.06.94zm10 10l.94 2.06.94-2.06 2.06-.94-2.06-.94-.94-2.06-.94 2.06-2.06.94z\"/><path d=\"M17.41 7.96l-1.37-1.37c-.4-.4-.92-.59-1.43-.59-.52 0-1.04.2-1.43.59L10.3 9.45l-7.72 7.72c-.78.78-.78 2.05 0 2.83L4 21.41c.39.39.9.59 1.41.59.51 0 1.02-.2 1.41-.59l7.78-7.78 2.81-2.81c.8-.78.8-2.07 0-2.86zM5.41 20L4 18.59l7.72-7.72 1.47 1.35L5.41 20z\"/>\n",
              "  </svg>\n",
              "      </button>\n",
              "      \n",
              "  <style>\n",
              "    .colab-df-container {\n",
              "      display:flex;\n",
              "      flex-wrap:wrap;\n",
              "      gap: 12px;\n",
              "    }\n",
              "\n",
              "    .colab-df-convert {\n",
              "      background-color: #E8F0FE;\n",
              "      border: none;\n",
              "      border-radius: 50%;\n",
              "      cursor: pointer;\n",
              "      display: none;\n",
              "      fill: #1967D2;\n",
              "      height: 32px;\n",
              "      padding: 0 0 0 0;\n",
              "      width: 32px;\n",
              "    }\n",
              "\n",
              "    .colab-df-convert:hover {\n",
              "      background-color: #E2EBFA;\n",
              "      box-shadow: 0px 1px 2px rgba(60, 64, 67, 0.3), 0px 1px 3px 1px rgba(60, 64, 67, 0.15);\n",
              "      fill: #174EA6;\n",
              "    }\n",
              "\n",
              "    [theme=dark] .colab-df-convert {\n",
              "      background-color: #3B4455;\n",
              "      fill: #D2E3FC;\n",
              "    }\n",
              "\n",
              "    [theme=dark] .colab-df-convert:hover {\n",
              "      background-color: #434B5C;\n",
              "      box-shadow: 0px 1px 3px 1px rgba(0, 0, 0, 0.15);\n",
              "      filter: drop-shadow(0px 1px 2px rgba(0, 0, 0, 0.3));\n",
              "      fill: #FFFFFF;\n",
              "    }\n",
              "  </style>\n",
              "\n",
              "      <script>\n",
              "        const buttonEl =\n",
              "          document.querySelector('#df-86d8d392-38d5-41b5-a683-7c6af30c7b7e button.colab-df-convert');\n",
              "        buttonEl.style.display =\n",
              "          google.colab.kernel.accessAllowed ? 'block' : 'none';\n",
              "\n",
              "        async function convertToInteractive(key) {\n",
              "          const element = document.querySelector('#df-86d8d392-38d5-41b5-a683-7c6af30c7b7e');\n",
              "          const dataTable =\n",
              "            await google.colab.kernel.invokeFunction('convertToInteractive',\n",
              "                                                     [key], {});\n",
              "          if (!dataTable) return;\n",
              "\n",
              "          const docLinkHtml = 'Like what you see? Visit the ' +\n",
              "            '<a target=\"_blank\" href=https://colab.research.google.com/notebooks/data_table.ipynb>data table notebook</a>'\n",
              "            + ' to learn more about interactive tables.';\n",
              "          element.innerHTML = '';\n",
              "          dataTable['output_type'] = 'display_data';\n",
              "          await google.colab.output.renderOutput(dataTable, element);\n",
              "          const docLink = document.createElement('div');\n",
              "          docLink.innerHTML = docLinkHtml;\n",
              "          element.appendChild(docLink);\n",
              "        }\n",
              "      </script>\n",
              "    </div>\n",
              "  </div>\n",
              "  "
            ]
          },
          "metadata": {},
          "execution_count": 28
        }
      ],
      "source": [
        "# imdb_eval_data = np.concatenate([atn_array(30), mnh_array(30)], 0)\n",
        "imdb_df = pd.DataFrame(np.squeeze(imdb_classifier_model.predict(eval_data)))\n",
        "imdb_df.insert(1, \"Title\", eval_data, True)\n",
        "imdb_df"
      ]
    },
    {
      "cell_type": "markdown",
      "metadata": {
        "id": "Gv5xACFRDDMx"
      },
      "source": [
        "## Model II - Financial Phrase Bank Dataset"
      ]
    },
    {
      "cell_type": "markdown",
      "metadata": {
        "id": "BBRvAXyYDoEc"
      },
      "source": [
        "### Downloading the Dataset"
      ]
    },
    {
      "cell_type": "code",
      "execution_count": null,
      "metadata": {
        "id": "5hpzi2RtDsi0"
      },
      "outputs": [],
      "source": [
        "!cp \"/content/drive/MyDrive/Colab Notebooks/Daily Sunshine App/data/financial_phrase_bank.csv\" \"/content/financial_phrase_bank.csv\""
      ]
    },
    {
      "cell_type": "code",
      "execution_count": null,
      "metadata": {
        "id": "XD67Ha2FE2Iv",
        "colab": {
          "base_uri": "https://localhost:8080/",
          "height": 423
        },
        "outputId": "2672b254-05b4-4d48-84f0-48cd62877c63"
      },
      "outputs": [
        {
          "output_type": "execute_result",
          "data": {
            "text/plain": [
              "          Tone                                           Headline\n",
              "2     negative  The international electronic industry company ...\n",
              "3     positive  With the new production plant the company woul...\n",
              "4     positive  According to the company 's updated strategy f...\n",
              "5     positive  FINANCING OF ASPOCOMP 'S GROWTH Aspocomp is ag...\n",
              "6     positive  For the last quarter of 2010 , Componenta 's n...\n",
              "...        ...                                                ...\n",
              "4840  negative  HELSINKI Thomson Financial - Shares in Cargote...\n",
              "4841  negative  LONDON MarketWatch -- Share prices ended lower...\n",
              "4843  negative  Operating profit fell to EUR 35.4 mn from EUR ...\n",
              "4844  negative  Net sales of the Paper segment decreased to EU...\n",
              "4845  negative  Sales in Finland decreased by 10.5 % in Januar...\n",
              "\n",
              "[1967 rows x 2 columns]"
            ],
            "text/html": [
              "\n",
              "  <div id=\"df-d9003e58-2ddb-4156-a28c-dd507dac8d4b\">\n",
              "    <div class=\"colab-df-container\">\n",
              "      <div>\n",
              "<style scoped>\n",
              "    .dataframe tbody tr th:only-of-type {\n",
              "        vertical-align: middle;\n",
              "    }\n",
              "\n",
              "    .dataframe tbody tr th {\n",
              "        vertical-align: top;\n",
              "    }\n",
              "\n",
              "    .dataframe thead th {\n",
              "        text-align: right;\n",
              "    }\n",
              "</style>\n",
              "<table border=\"1\" class=\"dataframe\">\n",
              "  <thead>\n",
              "    <tr style=\"text-align: right;\">\n",
              "      <th></th>\n",
              "      <th>Tone</th>\n",
              "      <th>Headline</th>\n",
              "    </tr>\n",
              "  </thead>\n",
              "  <tbody>\n",
              "    <tr>\n",
              "      <th>2</th>\n",
              "      <td>negative</td>\n",
              "      <td>The international electronic industry company ...</td>\n",
              "    </tr>\n",
              "    <tr>\n",
              "      <th>3</th>\n",
              "      <td>positive</td>\n",
              "      <td>With the new production plant the company woul...</td>\n",
              "    </tr>\n",
              "    <tr>\n",
              "      <th>4</th>\n",
              "      <td>positive</td>\n",
              "      <td>According to the company 's updated strategy f...</td>\n",
              "    </tr>\n",
              "    <tr>\n",
              "      <th>5</th>\n",
              "      <td>positive</td>\n",
              "      <td>FINANCING OF ASPOCOMP 'S GROWTH Aspocomp is ag...</td>\n",
              "    </tr>\n",
              "    <tr>\n",
              "      <th>6</th>\n",
              "      <td>positive</td>\n",
              "      <td>For the last quarter of 2010 , Componenta 's n...</td>\n",
              "    </tr>\n",
              "    <tr>\n",
              "      <th>...</th>\n",
              "      <td>...</td>\n",
              "      <td>...</td>\n",
              "    </tr>\n",
              "    <tr>\n",
              "      <th>4840</th>\n",
              "      <td>negative</td>\n",
              "      <td>HELSINKI Thomson Financial - Shares in Cargote...</td>\n",
              "    </tr>\n",
              "    <tr>\n",
              "      <th>4841</th>\n",
              "      <td>negative</td>\n",
              "      <td>LONDON MarketWatch -- Share prices ended lower...</td>\n",
              "    </tr>\n",
              "    <tr>\n",
              "      <th>4843</th>\n",
              "      <td>negative</td>\n",
              "      <td>Operating profit fell to EUR 35.4 mn from EUR ...</td>\n",
              "    </tr>\n",
              "    <tr>\n",
              "      <th>4844</th>\n",
              "      <td>negative</td>\n",
              "      <td>Net sales of the Paper segment decreased to EU...</td>\n",
              "    </tr>\n",
              "    <tr>\n",
              "      <th>4845</th>\n",
              "      <td>negative</td>\n",
              "      <td>Sales in Finland decreased by 10.5 % in Januar...</td>\n",
              "    </tr>\n",
              "  </tbody>\n",
              "</table>\n",
              "<p>1967 rows × 2 columns</p>\n",
              "</div>\n",
              "      <button class=\"colab-df-convert\" onclick=\"convertToInteractive('df-d9003e58-2ddb-4156-a28c-dd507dac8d4b')\"\n",
              "              title=\"Convert this dataframe to an interactive table.\"\n",
              "              style=\"display:none;\">\n",
              "        \n",
              "  <svg xmlns=\"http://www.w3.org/2000/svg\" height=\"24px\"viewBox=\"0 0 24 24\"\n",
              "       width=\"24px\">\n",
              "    <path d=\"M0 0h24v24H0V0z\" fill=\"none\"/>\n",
              "    <path d=\"M18.56 5.44l.94 2.06.94-2.06 2.06-.94-2.06-.94-.94-2.06-.94 2.06-2.06.94zm-11 1L8.5 8.5l.94-2.06 2.06-.94-2.06-.94L8.5 2.5l-.94 2.06-2.06.94zm10 10l.94 2.06.94-2.06 2.06-.94-2.06-.94-.94-2.06-.94 2.06-2.06.94z\"/><path d=\"M17.41 7.96l-1.37-1.37c-.4-.4-.92-.59-1.43-.59-.52 0-1.04.2-1.43.59L10.3 9.45l-7.72 7.72c-.78.78-.78 2.05 0 2.83L4 21.41c.39.39.9.59 1.41.59.51 0 1.02-.2 1.41-.59l7.78-7.78 2.81-2.81c.8-.78.8-2.07 0-2.86zM5.41 20L4 18.59l7.72-7.72 1.47 1.35L5.41 20z\"/>\n",
              "  </svg>\n",
              "      </button>\n",
              "      \n",
              "  <style>\n",
              "    .colab-df-container {\n",
              "      display:flex;\n",
              "      flex-wrap:wrap;\n",
              "      gap: 12px;\n",
              "    }\n",
              "\n",
              "    .colab-df-convert {\n",
              "      background-color: #E8F0FE;\n",
              "      border: none;\n",
              "      border-radius: 50%;\n",
              "      cursor: pointer;\n",
              "      display: none;\n",
              "      fill: #1967D2;\n",
              "      height: 32px;\n",
              "      padding: 0 0 0 0;\n",
              "      width: 32px;\n",
              "    }\n",
              "\n",
              "    .colab-df-convert:hover {\n",
              "      background-color: #E2EBFA;\n",
              "      box-shadow: 0px 1px 2px rgba(60, 64, 67, 0.3), 0px 1px 3px 1px rgba(60, 64, 67, 0.15);\n",
              "      fill: #174EA6;\n",
              "    }\n",
              "\n",
              "    [theme=dark] .colab-df-convert {\n",
              "      background-color: #3B4455;\n",
              "      fill: #D2E3FC;\n",
              "    }\n",
              "\n",
              "    [theme=dark] .colab-df-convert:hover {\n",
              "      background-color: #434B5C;\n",
              "      box-shadow: 0px 1px 3px 1px rgba(0, 0, 0, 0.15);\n",
              "      filter: drop-shadow(0px 1px 2px rgba(0, 0, 0, 0.3));\n",
              "      fill: #FFFFFF;\n",
              "    }\n",
              "  </style>\n",
              "\n",
              "      <script>\n",
              "        const buttonEl =\n",
              "          document.querySelector('#df-d9003e58-2ddb-4156-a28c-dd507dac8d4b button.colab-df-convert');\n",
              "        buttonEl.style.display =\n",
              "          google.colab.kernel.accessAllowed ? 'block' : 'none';\n",
              "\n",
              "        async function convertToInteractive(key) {\n",
              "          const element = document.querySelector('#df-d9003e58-2ddb-4156-a28c-dd507dac8d4b');\n",
              "          const dataTable =\n",
              "            await google.colab.kernel.invokeFunction('convertToInteractive',\n",
              "                                                     [key], {});\n",
              "          if (!dataTable) return;\n",
              "\n",
              "          const docLinkHtml = 'Like what you see? Visit the ' +\n",
              "            '<a target=\"_blank\" href=https://colab.research.google.com/notebooks/data_table.ipynb>data table notebook</a>'\n",
              "            + ' to learn more about interactive tables.';\n",
              "          element.innerHTML = '';\n",
              "          dataTable['output_type'] = 'display_data';\n",
              "          await google.colab.output.renderOutput(dataTable, element);\n",
              "          const docLink = document.createElement('div');\n",
              "          docLink.innerHTML = docLinkHtml;\n",
              "          element.appendChild(docLink);\n",
              "        }\n",
              "      </script>\n",
              "    </div>\n",
              "  </div>\n",
              "  "
            ]
          },
          "metadata": {},
          "execution_count": 30
        }
      ],
      "source": [
        "fpb_dataframe = pd.read_csv('financial_phrase_bank.csv', encoding = 'utf-8', encoding_errors = 'ignore', names = ('Tone', 'Headline'))\n",
        "fpb_dataframe = fpb_dataframe[fpb_dataframe['Tone'] != 'neutral']\n",
        "fpb_dataframe"
      ]
    },
    {
      "cell_type": "markdown",
      "source": [
        "### Split the Data into Trinaing, Testing and Validation sets"
      ],
      "metadata": {
        "id": "I2YnWx0ecr2W"
      }
    },
    {
      "cell_type": "code",
      "execution_count": null,
      "metadata": {
        "id": "TJ4tMRxppBbF"
      },
      "outputs": [],
      "source": [
        "!rm -rf financial_phrase_bank"
      ]
    },
    {
      "cell_type": "code",
      "execution_count": null,
      "metadata": {
        "id": "gvHPVW5EFEAR"
      },
      "outputs": [],
      "source": [
        "fpb_dataset_dir = 'financial_phrase_bank'\n",
        "\n",
        "os.mkdir(fpb_dataset_dir)\n",
        "\n",
        "fpb_train_dir = os.path.join(fpb_dataset_dir, 'train')\n",
        "fpb_test_dir = os.path.join(fpb_dataset_dir, 'test')\n",
        "\n",
        "os.mkdir(fpb_train_dir)\n",
        "os.mkdir(fpb_test_dir)\n",
        "\n",
        "for path in [fpb_train_dir, fpb_test_dir]:\n",
        "  os.mkdir(os.path.join(path, 'negative'))\n",
        "  os.mkdir(os.path.join(path, 'positive'))\n",
        "\n",
        "\n",
        "count_train = 1\n",
        "count_test = 1\n",
        "\n",
        "# Training Dataset\n",
        "for ind in fpb_dataframe[int(.7*len(fpb_dataframe)):].index:\n",
        "  with open(os.path.join(fpb_train_dir,  fpb_dataframe['Tone'][ind], str(count_train)+'.txt'), 'w') as file_obj:\n",
        "    file_obj.write(fpb_dataframe['Headline'][ind])\n",
        "  count_train +=1\n",
        "\n",
        "# Testing Dataset\n",
        "for ind in fpb_dataframe[:int(.3*len(fpb_dataframe))].index:\n",
        "  with open(os.path.join(fpb_test_dir,  fpb_dataframe['Tone'][ind], str(count_test)+'.txt'), 'w') as file_obj:\n",
        "    file_obj.write(fpb_dataframe['Headline'][ind])\n",
        "  count_test +=1"
      ]
    },
    {
      "cell_type": "code",
      "execution_count": null,
      "metadata": {
        "id": "9ZLudMmVnpSC",
        "colab": {
          "base_uri": "https://localhost:8080/"
        },
        "outputId": "68de8dae-1244-4b67-a7d4-843d4ed3d814"
      },
      "outputs": [
        {
          "output_type": "stream",
          "name": "stdout",
          "text": [
            "Found 591 files belonging to 2 classes.\n",
            "Using 473 files for training.\n",
            "Found 591 files belonging to 2 classes.\n",
            "Using 118 files for validation.\n",
            "Found 590 files belonging to 2 classes.\n"
          ]
        }
      ],
      "source": [
        "AUTOTUNE = tf.data.AUTOTUNE\n",
        "batch_size = 32\n",
        "seed = 42\n",
        "\n",
        "fpb_raw_train_ds = tf.keras.utils.text_dataset_from_directory(\n",
        "    fpb_train_dir,\n",
        "    batch_size=batch_size,\n",
        "    validation_split=0.2,\n",
        "    subset='training',\n",
        "    seed=seed)\n",
        "\n",
        "fpb_class_names = fpb_raw_train_ds.class_names\n",
        "fpb_train_ds = fpb_raw_train_ds.cache().prefetch(buffer_size=AUTOTUNE)\n",
        "\n",
        "fpb_val_ds = tf.keras.utils.text_dataset_from_directory(\n",
        "    fpb_train_dir,\n",
        "    batch_size=batch_size,\n",
        "    validation_split=0.2,\n",
        "    subset='validation',\n",
        "    seed=seed)\n",
        "\n",
        "fpb_val_ds = fpb_val_ds.cache().prefetch(buffer_size=AUTOTUNE)\n",
        "\n",
        "fpb_test_ds = tf.keras.utils.text_dataset_from_directory(\n",
        "    fpb_test_dir,\n",
        "    batch_size=batch_size)\n",
        "\n",
        "fpb_test_ds = fpb_test_ds.cache().prefetch(buffer_size=AUTOTUNE)"
      ]
    },
    {
      "cell_type": "markdown",
      "source": [
        "### Selecting a Model"
      ],
      "metadata": {
        "id": "yZSRPxPfc4UF"
      }
    },
    {
      "cell_type": "code",
      "execution_count": null,
      "metadata": {
        "id": "FoJDmmqQf3X9",
        "colab": {
          "base_uri": "https://localhost:8080/"
        },
        "outputId": "3496df18-6572-42aa-9e14-d3c4ec24458c"
      },
      "outputs": [
        {
          "output_type": "stream",
          "name": "stdout",
          "text": [
            "BERT model selected           : https://tfhub.dev/tensorflow/small_bert/bert_en_uncased_L-8_H-512_A-8/1\n",
            "Preprocess model auto-selected: https://tfhub.dev/tensorflow/bert_en_uncased_preprocess/3\n"
          ]
        }
      ],
      "source": [
        "#@title Choose a BERT model to fine-tune for Financial Phrase Bank Model\n",
        "\n",
        "fpb_bert_model_name = 'small_bert/bert_en_uncased_L-8_H-512_A-8'  #@param [\"bert_en_uncased_L-12_H-768_A-12\", \"bert_en_cased_L-12_H-768_A-12\", \"bert_multi_cased_L-12_H-768_A-12\", \"small_bert/bert_en_uncased_L-2_H-128_A-2\", \"small_bert/bert_en_uncased_L-2_H-256_A-4\", \"small_bert/bert_en_uncased_L-2_H-512_A-8\", \"small_bert/bert_en_uncased_L-2_H-768_A-12\", \"small_bert/bert_en_uncased_L-4_H-128_A-2\", \"small_bert/bert_en_uncased_L-4_H-256_A-4\", \"small_bert/bert_en_uncased_L-4_H-512_A-8\", \"small_bert/bert_en_uncased_L-4_H-768_A-12\", \"small_bert/bert_en_uncased_L-6_H-128_A-2\", \"small_bert/bert_en_uncased_L-6_H-256_A-4\", \"small_bert/bert_en_uncased_L-6_H-512_A-8\", \"small_bert/bert_en_uncased_L-6_H-768_A-12\", \"small_bert/bert_en_uncased_L-8_H-128_A-2\", \"small_bert/bert_en_uncased_L-8_H-256_A-4\", \"small_bert/bert_en_uncased_L-8_H-512_A-8\", \"small_bert/bert_en_uncased_L-8_H-768_A-12\", \"small_bert/bert_en_uncased_L-10_H-128_A-2\", \"small_bert/bert_en_uncased_L-10_H-256_A-4\", \"small_bert/bert_en_uncased_L-10_H-512_A-8\", \"small_bert/bert_en_uncased_L-10_H-768_A-12\", \"small_bert/bert_en_uncased_L-12_H-128_A-2\", \"small_bert/bert_en_uncased_L-12_H-256_A-4\", \"small_bert/bert_en_uncased_L-12_H-512_A-8\", \"small_bert/bert_en_uncased_L-12_H-768_A-12\", \"albert_en_base\", \"electra_small\", \"electra_base\", \"experts_pubmed\", \"experts_wiki_books\", \"talking-heads_base\"]\n",
        "\n",
        "\n",
        "fpb_tfhub_handle_encoder = map_name_to_handle[fpb_bert_model_name]\n",
        "fpb_tfhub_handle_preprocess = map_model_to_preprocess[fpb_bert_model_name]\n",
        "\n",
        "print(f'BERT model selected           : {fpb_tfhub_handle_encoder}')\n",
        "print(f'Preprocess model auto-selected: {fpb_tfhub_handle_preprocess}')"
      ]
    },
    {
      "cell_type": "markdown",
      "source": [
        "### Using the BERT Model"
      ],
      "metadata": {
        "id": "8Ogphq3KdCvA"
      }
    },
    {
      "cell_type": "code",
      "execution_count": null,
      "metadata": {
        "id": "C7ouViT_ry98"
      },
      "outputs": [],
      "source": [
        "fpb_bert_preprocess_model = hub.KerasLayer(fpb_tfhub_handle_preprocess)"
      ]
    },
    {
      "cell_type": "code",
      "execution_count": null,
      "metadata": {
        "id": "0_bkSlCHr0Cs"
      },
      "outputs": [],
      "source": [
        "fpb_bert_model = hub.KerasLayer(fpb_tfhub_handle_encoder)"
      ]
    },
    {
      "cell_type": "code",
      "execution_count": null,
      "metadata": {
        "id": "ytpYC57Or0qg",
        "colab": {
          "base_uri": "https://localhost:8080/",
          "height": 466
        },
        "outputId": "75d50cea-6ff3-4704-ddb0-3df4c86ee432"
      },
      "outputs": [
        {
          "output_type": "execute_result",
          "data": {
            "image/png": "[encoded data removed]",
            "text/plain": [
              "<IPython.core.display.Image object>"
            ]
          },
          "metadata": {},
          "execution_count": 37
        }
      ],
      "source": [
        "fpb_classifier_model = build_classifier_model(fpb_tfhub_handle_preprocess, fpb_tfhub_handle_encoder)\n",
        "tf.keras.utils.plot_model(fpb_classifier_model)"
      ]
    },
    {
      "cell_type": "code",
      "execution_count": null,
      "metadata": {
        "id": "Mn3PvhiDsH7-"
      },
      "outputs": [],
      "source": [
        "fpb_loss = tf.keras.losses.BinaryCrossentropy(from_logits=True)\n",
        "fpb_metrics = tf.metrics.BinaryAccuracy()\n",
        "\n",
        "fpb_epochs = 10\n",
        "fpb_steps_per_epoch = tf.data.experimental.cardinality(fpb_train_ds).numpy()\n",
        "fpb_num_train_steps = fpb_steps_per_epoch * fpb_epochs\n",
        "fpb_num_warmup_steps = int(0.1*fpb_num_train_steps)\n",
        "\n",
        "fpb_init_lr = 3e-5\n",
        "fpb_optimizer = optimization.create_optimizer(init_lr=fpb_init_lr,\n",
        "                                          num_train_steps=fpb_num_train_steps,\n",
        "                                          num_warmup_steps=fpb_num_warmup_steps,\n",
        "                                          optimizer_type='adamw')"
      ]
    },
    {
      "cell_type": "code",
      "execution_count": null,
      "metadata": {
        "id": "H_ICsw3FsYql",
        "colab": {
          "base_uri": "https://localhost:8080/"
        },
        "outputId": "fdd34730-ca35-475c-a88d-e79b44155b3c"
      },
      "outputs": [
        {
          "output_type": "stream",
          "name": "stdout",
          "text": [
            "Epoch 1/10\n",
            "15/15 [==============================] - 20s 456ms/step - loss: 0.4517 - binary_accuracy: 0.8372 - val_loss: 0.2721 - val_binary_accuracy: 0.8814\n",
            "Epoch 2/10\n",
            "15/15 [==============================] - 7s 462ms/step - loss: 0.3059 - binary_accuracy: 0.8774 - val_loss: 0.2127 - val_binary_accuracy: 0.9407\n",
            "Epoch 3/10\n",
            "15/15 [==============================] - 6s 407ms/step - loss: 0.1871 - binary_accuracy: 0.9281 - val_loss: 0.1902 - val_binary_accuracy: 0.9492\n",
            "Epoch 4/10\n",
            "15/15 [==============================] - 7s 452ms/step - loss: 0.1227 - binary_accuracy: 0.9471 - val_loss: 0.1612 - val_binary_accuracy: 0.9661\n",
            "Epoch 5/10\n",
            "15/15 [==============================] - 6s 411ms/step - loss: 0.0733 - binary_accuracy: 0.9641 - val_loss: 0.1761 - val_binary_accuracy: 0.9576\n",
            "Epoch 6/10\n",
            "15/15 [==============================] - 7s 459ms/step - loss: 0.0380 - binary_accuracy: 0.9810 - val_loss: 0.1670 - val_binary_accuracy: 0.9576\n",
            "Epoch 7/10\n",
            "15/15 [==============================] - 6s 407ms/step - loss: 0.0146 - binary_accuracy: 0.9958 - val_loss: 0.1767 - val_binary_accuracy: 0.9576\n",
            "Epoch 8/10\n",
            "15/15 [==============================] - 7s 458ms/step - loss: 0.0088 - binary_accuracy: 0.9958 - val_loss: 0.1796 - val_binary_accuracy: 0.9576\n",
            "Epoch 9/10\n",
            "15/15 [==============================] - 6s 401ms/step - loss: 0.0074 - binary_accuracy: 0.9979 - val_loss: 0.1694 - val_binary_accuracy: 0.9576\n",
            "Epoch 10/10\n",
            "15/15 [==============================] - 6s 413ms/step - loss: 0.0046 - binary_accuracy: 1.0000 - val_loss: 0.1691 - val_binary_accuracy: 0.9576\n"
          ]
        }
      ],
      "source": [
        "fpb_classifier_model.compile(optimizer=fpb_optimizer,\n",
        "                         loss=fpb_loss,\n",
        "                         metrics=fpb_metrics)\n",
        "\n",
        "fpb_history = fpb_classifier_model.fit(x=fpb_train_ds,\n",
        "                               validation_data=fpb_val_ds,\n",
        "                               epochs=fpb_epochs)"
      ]
    },
    {
      "cell_type": "markdown",
      "source": [
        "### Evaluate the Model"
      ],
      "metadata": {
        "id": "POiRioFYdNaT"
      }
    },
    {
      "cell_type": "code",
      "execution_count": null,
      "metadata": {
        "id": "IuUkz-C1sexw",
        "colab": {
          "base_uri": "https://localhost:8080/",
          "height": 599
        },
        "outputId": "1343a2b6-f611-4e14-8df6-4612aab7fbbd"
      },
      "outputs": [
        {
          "output_type": "stream",
          "name": "stdout",
          "text": [
            "dict_keys(['loss', 'binary_accuracy', 'val_loss', 'val_binary_accuracy'])\n"
          ]
        },
        {
          "output_type": "execute_result",
          "data": {
            "text/plain": [
              "Text(0, 0.5, 'Accuracy')"
            ]
          },
          "metadata": {},
          "execution_count": 40
        },
        {
          "output_type": "display_data",
          "data": {
            "text/plain": [
              "<Figure size 1000x600 with 2 Axes>"
            ],
            "image/png": "[encoded data removed]"
          },
          "metadata": {}
        }
      ],
      "source": [
        "fpb_history_dict = fpb_history.history\n",
        "print(fpb_history_dict.keys())\n",
        "\n",
        "fpb_acc = fpb_history_dict['binary_accuracy']\n",
        "fpb_val_acc = fpb_history_dict['val_binary_accuracy']\n",
        "fpb_loss = fpb_history_dict['loss']\n",
        "fpb_val_loss = fpb_history_dict['val_loss']\n",
        "\n",
        "fpb_epochs = range(1, len(fpb_acc) + 1)\n",
        "fpb_fig = plt.figure(figsize=(10, 6))\n",
        "fpb_fig.tight_layout()\n",
        "\n",
        "plt.subplot(2, 1, 1)\n",
        "\n",
        "plt.plot(fpb_epochs, fpb_loss, 'r', label='Training loss')\n",
        "\n",
        "plt.plot(fpb_epochs, fpb_val_loss, 'b', label='Validation loss')\n",
        "plt.title('Training and validation loss')\n",
        "\n",
        "plt.ylabel('Loss')\n",
        "plt.legend()\n",
        "\n",
        "plt.subplot(2, 1, 2)\n",
        "plt.plot(fpb_epochs, fpb_acc, 'r', label='Training acc')\n",
        "plt.plot(fpb_epochs, fpb_val_acc, 'b', label='Validation acc')\n",
        "plt.title('Training and validation accuracy')\n",
        "plt.xlabel('Epochs')\n",
        "plt.ylabel('Accuracy')"
      ]
    },
    {
      "cell_type": "markdown",
      "source": [
        "### Make Predictions"
      ],
      "metadata": {
        "id": "1PTGqE1HdQnE"
      }
    },
    {
      "cell_type": "code",
      "execution_count": null,
      "metadata": {
        "id": "dbweiZ2BstHj",
        "colab": {
          "base_uri": "https://localhost:8080/",
          "height": 441
        },
        "outputId": "8c007c2e-f35d-474b-b998-a3f9a800650c"
      },
      "outputs": [
        {
          "output_type": "stream",
          "name": "stdout",
          "text": [
            "7/7 [==============================] - 2s 140ms/step\n"
          ]
        },
        {
          "output_type": "execute_result",
          "data": {
            "text/plain": [
              "     FPB Model                                              Title\n",
              "0    -5.805300    Girl Scouts refuse gift with transgender limits\n",
              "1     4.798319          American to launch Dreamliner 787 service\n",
              "2    -4.357934  15 Times Celebrities Envisioned Violence Again...\n",
              "3    -3.547501  Deadly Northern California Wildfire Spreads - ...\n",
              "4    -3.737055  How Millennials Became Spooked by Credit Cards...\n",
              "..         ...                                                ...\n",
              "195   0.817480    moutiaa el zahed gives the islamic state salute\n",
              "196  -4.373072  afp defends raiding abc office annika smethurs...\n",
              "197   0.933000                           interview david williams\n",
              "198   1.491438  top sprint cyclists put through paces ahead of...\n",
              "199   0.944576                         tonga welcomes aid changes\n",
              "\n",
              "[200 rows x 2 columns]"
            ],
            "text/html": [
              "\n",
              "  <div id=\"df-393fcd93-ab3a-45eb-9b32-5bbf0255e41a\">\n",
              "    <div class=\"colab-df-container\">\n",
              "      <div>\n",
              "<style scoped>\n",
              "    .dataframe tbody tr th:only-of-type {\n",
              "        vertical-align: middle;\n",
              "    }\n",
              "\n",
              "    .dataframe tbody tr th {\n",
              "        vertical-align: top;\n",
              "    }\n",
              "\n",
              "    .dataframe thead th {\n",
              "        text-align: right;\n",
              "    }\n",
              "</style>\n",
              "<table border=\"1\" class=\"dataframe\">\n",
              "  <thead>\n",
              "    <tr style=\"text-align: right;\">\n",
              "      <th></th>\n",
              "      <th>FPB Model</th>\n",
              "      <th>Title</th>\n",
              "    </tr>\n",
              "  </thead>\n",
              "  <tbody>\n",
              "    <tr>\n",
              "      <th>0</th>\n",
              "      <td>-5.805300</td>\n",
              "      <td>Girl Scouts refuse gift with transgender limits</td>\n",
              "    </tr>\n",
              "    <tr>\n",
              "      <th>1</th>\n",
              "      <td>4.798319</td>\n",
              "      <td>American to launch Dreamliner 787 service</td>\n",
              "    </tr>\n",
              "    <tr>\n",
              "      <th>2</th>\n",
              "      <td>-4.357934</td>\n",
              "      <td>15 Times Celebrities Envisioned Violence Again...</td>\n",
              "    </tr>\n",
              "    <tr>\n",
              "      <th>3</th>\n",
              "      <td>-3.547501</td>\n",
              "      <td>Deadly Northern California Wildfire Spreads - ...</td>\n",
              "    </tr>\n",
              "    <tr>\n",
              "      <th>4</th>\n",
              "      <td>-3.737055</td>\n",
              "      <td>How Millennials Became Spooked by Credit Cards...</td>\n",
              "    </tr>\n",
              "    <tr>\n",
              "      <th>...</th>\n",
              "      <td>...</td>\n",
              "      <td>...</td>\n",
              "    </tr>\n",
              "    <tr>\n",
              "      <th>195</th>\n",
              "      <td>0.817480</td>\n",
              "      <td>moutiaa el zahed gives the islamic state salute</td>\n",
              "    </tr>\n",
              "    <tr>\n",
              "      <th>196</th>\n",
              "      <td>-4.373072</td>\n",
              "      <td>afp defends raiding abc office annika smethurs...</td>\n",
              "    </tr>\n",
              "    <tr>\n",
              "      <th>197</th>\n",
              "      <td>0.933000</td>\n",
              "      <td>interview david williams</td>\n",
              "    </tr>\n",
              "    <tr>\n",
              "      <th>198</th>\n",
              "      <td>1.491438</td>\n",
              "      <td>top sprint cyclists put through paces ahead of...</td>\n",
              "    </tr>\n",
              "    <tr>\n",
              "      <th>199</th>\n",
              "      <td>0.944576</td>\n",
              "      <td>tonga welcomes aid changes</td>\n",
              "    </tr>\n",
              "  </tbody>\n",
              "</table>\n",
              "<p>200 rows × 2 columns</p>\n",
              "</div>\n",
              "      <button class=\"colab-df-convert\" onclick=\"convertToInteractive('df-393fcd93-ab3a-45eb-9b32-5bbf0255e41a')\"\n",
              "              title=\"Convert this dataframe to an interactive table.\"\n",
              "              style=\"display:none;\">\n",
              "        \n",
              "  <svg xmlns=\"http://www.w3.org/2000/svg\" height=\"24px\"viewBox=\"0 0 24 24\"\n",
              "       width=\"24px\">\n",
              "    <path d=\"M0 0h24v24H0V0z\" fill=\"none\"/>\n",
              "    <path d=\"M18.56 5.44l.94 2.06.94-2.06 2.06-.94-2.06-.94-.94-2.06-.94 2.06-2.06.94zm-11 1L8.5 8.5l.94-2.06 2.06-.94-2.06-.94L8.5 2.5l-.94 2.06-2.06.94zm10 10l.94 2.06.94-2.06 2.06-.94-2.06-.94-.94-2.06-.94 2.06-2.06.94z\"/><path d=\"M17.41 7.96l-1.37-1.37c-.4-.4-.92-.59-1.43-.59-.52 0-1.04.2-1.43.59L10.3 9.45l-7.72 7.72c-.78.78-.78 2.05 0 2.83L4 21.41c.39.39.9.59 1.41.59.51 0 1.02-.2 1.41-.59l7.78-7.78 2.81-2.81c.8-.78.8-2.07 0-2.86zM5.41 20L4 18.59l7.72-7.72 1.47 1.35L5.41 20z\"/>\n",
              "  </svg>\n",
              "      </button>\n",
              "      \n",
              "  <style>\n",
              "    .colab-df-container {\n",
              "      display:flex;\n",
              "      flex-wrap:wrap;\n",
              "      gap: 12px;\n",
              "    }\n",
              "\n",
              "    .colab-df-convert {\n",
              "      background-color: #E8F0FE;\n",
              "      border: none;\n",
              "      border-radius: 50%;\n",
              "      cursor: pointer;\n",
              "      display: none;\n",
              "      fill: #1967D2;\n",
              "      height: 32px;\n",
              "      padding: 0 0 0 0;\n",
              "      width: 32px;\n",
              "    }\n",
              "\n",
              "    .colab-df-convert:hover {\n",
              "      background-color: #E2EBFA;\n",
              "      box-shadow: 0px 1px 2px rgba(60, 64, 67, 0.3), 0px 1px 3px 1px rgba(60, 64, 67, 0.15);\n",
              "      fill: #174EA6;\n",
              "    }\n",
              "\n",
              "    [theme=dark] .colab-df-convert {\n",
              "      background-color: #3B4455;\n",
              "      fill: #D2E3FC;\n",
              "    }\n",
              "\n",
              "    [theme=dark] .colab-df-convert:hover {\n",
              "      background-color: #434B5C;\n",
              "      box-shadow: 0px 1px 3px 1px rgba(0, 0, 0, 0.15);\n",
              "      filter: drop-shadow(0px 1px 2px rgba(0, 0, 0, 0.3));\n",
              "      fill: #FFFFFF;\n",
              "    }\n",
              "  </style>\n",
              "\n",
              "      <script>\n",
              "        const buttonEl =\n",
              "          document.querySelector('#df-393fcd93-ab3a-45eb-9b32-5bbf0255e41a button.colab-df-convert');\n",
              "        buttonEl.style.display =\n",
              "          google.colab.kernel.accessAllowed ? 'block' : 'none';\n",
              "\n",
              "        async function convertToInteractive(key) {\n",
              "          const element = document.querySelector('#df-393fcd93-ab3a-45eb-9b32-5bbf0255e41a');\n",
              "          const dataTable =\n",
              "            await google.colab.kernel.invokeFunction('convertToInteractive',\n",
              "                                                     [key], {});\n",
              "          if (!dataTable) return;\n",
              "\n",
              "          const docLinkHtml = 'Like what you see? Visit the ' +\n",
              "            '<a target=\"_blank\" href=https://colab.research.google.com/notebooks/data_table.ipynb>data table notebook</a>'\n",
              "            + ' to learn more about interactive tables.';\n",
              "          element.innerHTML = '';\n",
              "          dataTable['output_type'] = 'display_data';\n",
              "          await google.colab.output.renderOutput(dataTable, element);\n",
              "          const docLink = document.createElement('div');\n",
              "          docLink.innerHTML = docLinkHtml;\n",
              "          element.appendChild(docLink);\n",
              "        }\n",
              "      </script>\n",
              "    </div>\n",
              "  </div>\n",
              "  "
            ]
          },
          "metadata": {},
          "execution_count": 41
        }
      ],
      "source": [
        "# fpb_eval_data = np.concatenate([atn_array(100), mnh_array(100)], 0)\n",
        "fpb_df = pd.DataFrame(np.squeeze(fpb_classifier_model.predict(eval_data)), columns=['FPB Model'])\n",
        "fpb_df.insert(1, \"Title\", eval_data, True)\n",
        "fpb_df"
      ]
    },
    {
      "cell_type": "markdown",
      "source": [
        "### Compare Predictions with the IMDb Model"
      ],
      "metadata": {
        "id": "Se0gsQxLdTpS"
      }
    },
    {
      "cell_type": "code",
      "source": [
        "overall_df = fpb_df\n",
        "overall_df.insert(0, \"IMDb Model\", imdb_df[0])\n",
        "overall_df"
      ],
      "metadata": {
        "colab": {
          "base_uri": "https://localhost:8080/",
          "height": 423
        },
        "id": "hLJKlv2pF7WI",
        "outputId": "3179b282-b5bd-4b0e-ceb6-3da27016dc5c"
      },
      "execution_count": null,
      "outputs": [
        {
          "output_type": "execute_result",
          "data": {
            "text/plain": [
              "     IMDb Model  FPB Model                                              Title\n",
              "0     -0.733837  -5.805300    Girl Scouts refuse gift with transgender limits\n",
              "1      1.946372   4.798319          American to launch Dreamliner 787 service\n",
              "2     -0.163686  -4.357934  15 Times Celebrities Envisioned Violence Again...\n",
              "3      0.435629  -3.547501  Deadly Northern California Wildfire Spreads - ...\n",
              "4      2.373650  -3.737055  How Millennials Became Spooked by Credit Cards...\n",
              "..          ...        ...                                                ...\n",
              "195    3.655803   0.817480    moutiaa el zahed gives the islamic state salute\n",
              "196   -0.399266  -4.373072  afp defends raiding abc office annika smethurs...\n",
              "197    2.530798   0.933000                           interview david williams\n",
              "198    3.797237   1.491438  top sprint cyclists put through paces ahead of...\n",
              "199    5.351167   0.944576                         tonga welcomes aid changes\n",
              "\n",
              "[200 rows x 3 columns]"
            ],
            "text/html": [
              "\n",
              "  <div id=\"df-240a7edc-d749-44eb-ba9d-78d963fb6b9c\">\n",
              "    <div class=\"colab-df-container\">\n",
              "      <div>\n",
              "<style scoped>\n",
              "    .dataframe tbody tr th:only-of-type {\n",
              "        vertical-align: middle;\n",
              "    }\n",
              "\n",
              "    .dataframe tbody tr th {\n",
              "        vertical-align: top;\n",
              "    }\n",
              "\n",
              "    .dataframe thead th {\n",
              "        text-align: right;\n",
              "    }\n",
              "</style>\n",
              "<table border=\"1\" class=\"dataframe\">\n",
              "  <thead>\n",
              "    <tr style=\"text-align: right;\">\n",
              "      <th></th>\n",
              "      <th>IMDb Model</th>\n",
              "      <th>FPB Model</th>\n",
              "      <th>Title</th>\n",
              "    </tr>\n",
              "  </thead>\n",
              "  <tbody>\n",
              "    <tr>\n",
              "      <th>0</th>\n",
              "      <td>-0.733837</td>\n",
              "      <td>-5.805300</td>\n",
              "      <td>Girl Scouts refuse gift with transgender limits</td>\n",
              "    </tr>\n",
              "    <tr>\n",
              "      <th>1</th>\n",
              "      <td>1.946372</td>\n",
              "      <td>4.798319</td>\n",
              "      <td>American to launch Dreamliner 787 service</td>\n",
              "    </tr>\n",
              "    <tr>\n",
              "      <th>2</th>\n",
              "      <td>-0.163686</td>\n",
              "      <td>-4.357934</td>\n",
              "      <td>15 Times Celebrities Envisioned Violence Again...</td>\n",
              "    </tr>\n",
              "    <tr>\n",
              "      <th>3</th>\n",
              "      <td>0.435629</td>\n",
              "      <td>-3.547501</td>\n",
              "      <td>Deadly Northern California Wildfire Spreads - ...</td>\n",
              "    </tr>\n",
              "    <tr>\n",
              "      <th>4</th>\n",
              "      <td>2.373650</td>\n",
              "      <td>-3.737055</td>\n",
              "      <td>How Millennials Became Spooked by Credit Cards...</td>\n",
              "    </tr>\n",
              "    <tr>\n",
              "      <th>...</th>\n",
              "      <td>...</td>\n",
              "      <td>...</td>\n",
              "      <td>...</td>\n",
              "    </tr>\n",
              "    <tr>\n",
              "      <th>195</th>\n",
              "      <td>3.655803</td>\n",
              "      <td>0.817480</td>\n",
              "      <td>moutiaa el zahed gives the islamic state salute</td>\n",
              "    </tr>\n",
              "    <tr>\n",
              "      <th>196</th>\n",
              "      <td>-0.399266</td>\n",
              "      <td>-4.373072</td>\n",
              "      <td>afp defends raiding abc office annika smethurs...</td>\n",
              "    </tr>\n",
              "    <tr>\n",
              "      <th>197</th>\n",
              "      <td>2.530798</td>\n",
              "      <td>0.933000</td>\n",
              "      <td>interview david williams</td>\n",
              "    </tr>\n",
              "    <tr>\n",
              "      <th>198</th>\n",
              "      <td>3.797237</td>\n",
              "      <td>1.491438</td>\n",
              "      <td>top sprint cyclists put through paces ahead of...</td>\n",
              "    </tr>\n",
              "    <tr>\n",
              "      <th>199</th>\n",
              "      <td>5.351167</td>\n",
              "      <td>0.944576</td>\n",
              "      <td>tonga welcomes aid changes</td>\n",
              "    </tr>\n",
              "  </tbody>\n",
              "</table>\n",
              "<p>200 rows × 3 columns</p>\n",
              "</div>\n",
              "      <button class=\"colab-df-convert\" onclick=\"convertToInteractive('df-240a7edc-d749-44eb-ba9d-78d963fb6b9c')\"\n",
              "              title=\"Convert this dataframe to an interactive table.\"\n",
              "              style=\"display:none;\">\n",
              "        \n",
              "  <svg xmlns=\"http://www.w3.org/2000/svg\" height=\"24px\"viewBox=\"0 0 24 24\"\n",
              "       width=\"24px\">\n",
              "    <path d=\"M0 0h24v24H0V0z\" fill=\"none\"/>\n",
              "    <path d=\"M18.56 5.44l.94 2.06.94-2.06 2.06-.94-2.06-.94-.94-2.06-.94 2.06-2.06.94zm-11 1L8.5 8.5l.94-2.06 2.06-.94-2.06-.94L8.5 2.5l-.94 2.06-2.06.94zm10 10l.94 2.06.94-2.06 2.06-.94-2.06-.94-.94-2.06-.94 2.06-2.06.94z\"/><path d=\"M17.41 7.96l-1.37-1.37c-.4-.4-.92-.59-1.43-.59-.52 0-1.04.2-1.43.59L10.3 9.45l-7.72 7.72c-.78.78-.78 2.05 0 2.83L4 21.41c.39.39.9.59 1.41.59.51 0 1.02-.2 1.41-.59l7.78-7.78 2.81-2.81c.8-.78.8-2.07 0-2.86zM5.41 20L4 18.59l7.72-7.72 1.47 1.35L5.41 20z\"/>\n",
              "  </svg>\n",
              "      </button>\n",
              "      \n",
              "  <style>\n",
              "    .colab-df-container {\n",
              "      display:flex;\n",
              "      flex-wrap:wrap;\n",
              "      gap: 12px;\n",
              "    }\n",
              "\n",
              "    .colab-df-convert {\n",
              "      background-color: #E8F0FE;\n",
              "      border: none;\n",
              "      border-radius: 50%;\n",
              "      cursor: pointer;\n",
              "      display: none;\n",
              "      fill: #1967D2;\n",
              "      height: 32px;\n",
              "      padding: 0 0 0 0;\n",
              "      width: 32px;\n",
              "    }\n",
              "\n",
              "    .colab-df-convert:hover {\n",
              "      background-color: #E2EBFA;\n",
              "      box-shadow: 0px 1px 2px rgba(60, 64, 67, 0.3), 0px 1px 3px 1px rgba(60, 64, 67, 0.15);\n",
              "      fill: #174EA6;\n",
              "    }\n",
              "\n",
              "    [theme=dark] .colab-df-convert {\n",
              "      background-color: #3B4455;\n",
              "      fill: #D2E3FC;\n",
              "    }\n",
              "\n",
              "    [theme=dark] .colab-df-convert:hover {\n",
              "      background-color: #434B5C;\n",
              "      box-shadow: 0px 1px 3px 1px rgba(0, 0, 0, 0.15);\n",
              "      filter: drop-shadow(0px 1px 2px rgba(0, 0, 0, 0.3));\n",
              "      fill: #FFFFFF;\n",
              "    }\n",
              "  </style>\n",
              "\n",
              "      <script>\n",
              "        const buttonEl =\n",
              "          document.querySelector('#df-240a7edc-d749-44eb-ba9d-78d963fb6b9c button.colab-df-convert');\n",
              "        buttonEl.style.display =\n",
              "          google.colab.kernel.accessAllowed ? 'block' : 'none';\n",
              "\n",
              "        async function convertToInteractive(key) {\n",
              "          const element = document.querySelector('#df-240a7edc-d749-44eb-ba9d-78d963fb6b9c');\n",
              "          const dataTable =\n",
              "            await google.colab.kernel.invokeFunction('convertToInteractive',\n",
              "                                                     [key], {});\n",
              "          if (!dataTable) return;\n",
              "\n",
              "          const docLinkHtml = 'Like what you see? Visit the ' +\n",
              "            '<a target=\"_blank\" href=https://colab.research.google.com/notebooks/data_table.ipynb>data table notebook</a>'\n",
              "            + ' to learn more about interactive tables.';\n",
              "          element.innerHTML = '';\n",
              "          dataTable['output_type'] = 'display_data';\n",
              "          await google.colab.output.renderOutput(dataTable, element);\n",
              "          const docLink = document.createElement('div');\n",
              "          docLink.innerHTML = docLinkHtml;\n",
              "          element.appendChild(docLink);\n",
              "        }\n",
              "      </script>\n",
              "    </div>\n",
              "  </div>\n",
              "  "
            ]
          },
          "metadata": {},
          "execution_count": 42
        }
      ]
    },
    {
      "cell_type": "markdown",
      "source": [
        "## Model III - Positive and Negative Word List Dataset"
      ],
      "metadata": {
        "id": "GNCk3Z_IxDEo"
      }
    },
    {
      "cell_type": "markdown",
      "source": [
        "### Downloading the Dataset"
      ],
      "metadata": {
        "id": "WyAHwrlDdYIm"
      }
    },
    {
      "cell_type": "code",
      "source": [
        "!cp \"/content/drive/MyDrive/Colab Notebooks/Daily Sunshine App/data/positive_and_negative_word_list.csv\" \"/content/positive_and_negative_word_list.csv\""
      ],
      "metadata": {
        "id": "o-KxMUCPzlVI"
      },
      "execution_count": null,
      "outputs": []
    },
    {
      "cell_type": "code",
      "source": [
        "pnw_dataframe = pd.read_csv('positive_and_negative_word_list.csv', encoding = 'utf-8', encoding_errors = 'ignore', names = ('Negative', 'Positive'))\n",
        "pnw_dataframe"
      ],
      "metadata": {
        "colab": {
          "base_uri": "https://localhost:8080/",
          "height": 423
        },
        "id": "-zWbm-tGzpDj",
        "outputId": "1e7334d6-999c-4846-b2ee-01477b6c4005"
      },
      "execution_count": null,
      "outputs": [
        {
          "output_type": "execute_result",
          "data": {
            "text/plain": [
              "        Negative    Positive\n",
              "1       abnormal        able\n",
              "2        abolish   abundance\n",
              "3     abominable  accelerate\n",
              "4     abominably      accept\n",
              "5      abominate     acclaim\n",
              "...          ...         ...\n",
              "4716      zenana         NaN\n",
              "4717      zephyr         NaN\n",
              "4718        zero         NaN\n",
              "4719         zol         NaN\n",
              "4720      zombie         NaN\n",
              "\n",
              "[4720 rows x 2 columns]"
            ],
            "text/html": [
              "\n",
              "  <div id=\"df-3ad1c5db-b922-4a3a-a891-8c9a2eecb78a\">\n",
              "    <div class=\"colab-df-container\">\n",
              "      <div>\n",
              "<style scoped>\n",
              "    .dataframe tbody tr th:only-of-type {\n",
              "        vertical-align: middle;\n",
              "    }\n",
              "\n",
              "    .dataframe tbody tr th {\n",
              "        vertical-align: top;\n",
              "    }\n",
              "\n",
              "    .dataframe thead th {\n",
              "        text-align: right;\n",
              "    }\n",
              "</style>\n",
              "<table border=\"1\" class=\"dataframe\">\n",
              "  <thead>\n",
              "    <tr style=\"text-align: right;\">\n",
              "      <th></th>\n",
              "      <th>Negative</th>\n",
              "      <th>Positive</th>\n",
              "    </tr>\n",
              "  </thead>\n",
              "  <tbody>\n",
              "    <tr>\n",
              "      <th>1</th>\n",
              "      <td>abnormal</td>\n",
              "      <td>able</td>\n",
              "    </tr>\n",
              "    <tr>\n",
              "      <th>2</th>\n",
              "      <td>abolish</td>\n",
              "      <td>abundance</td>\n",
              "    </tr>\n",
              "    <tr>\n",
              "      <th>3</th>\n",
              "      <td>abominable</td>\n",
              "      <td>accelerate</td>\n",
              "    </tr>\n",
              "    <tr>\n",
              "      <th>4</th>\n",
              "      <td>abominably</td>\n",
              "      <td>accept</td>\n",
              "    </tr>\n",
              "    <tr>\n",
              "      <th>5</th>\n",
              "      <td>abominate</td>\n",
              "      <td>acclaim</td>\n",
              "    </tr>\n",
              "    <tr>\n",
              "      <th>...</th>\n",
              "      <td>...</td>\n",
              "      <td>...</td>\n",
              "    </tr>\n",
              "    <tr>\n",
              "      <th>4716</th>\n",
              "      <td>zenana</td>\n",
              "      <td>NaN</td>\n",
              "    </tr>\n",
              "    <tr>\n",
              "      <th>4717</th>\n",
              "      <td>zephyr</td>\n",
              "      <td>NaN</td>\n",
              "    </tr>\n",
              "    <tr>\n",
              "      <th>4718</th>\n",
              "      <td>zero</td>\n",
              "      <td>NaN</td>\n",
              "    </tr>\n",
              "    <tr>\n",
              "      <th>4719</th>\n",
              "      <td>zol</td>\n",
              "      <td>NaN</td>\n",
              "    </tr>\n",
              "    <tr>\n",
              "      <th>4720</th>\n",
              "      <td>zombie</td>\n",
              "      <td>NaN</td>\n",
              "    </tr>\n",
              "  </tbody>\n",
              "</table>\n",
              "<p>4720 rows × 2 columns</p>\n",
              "</div>\n",
              "      <button class=\"colab-df-convert\" onclick=\"convertToInteractive('df-3ad1c5db-b922-4a3a-a891-8c9a2eecb78a')\"\n",
              "              title=\"Convert this dataframe to an interactive table.\"\n",
              "              style=\"display:none;\">\n",
              "        \n",
              "  <svg xmlns=\"http://www.w3.org/2000/svg\" height=\"24px\"viewBox=\"0 0 24 24\"\n",
              "       width=\"24px\">\n",
              "    <path d=\"M0 0h24v24H0V0z\" fill=\"none\"/>\n",
              "    <path d=\"M18.56 5.44l.94 2.06.94-2.06 2.06-.94-2.06-.94-.94-2.06-.94 2.06-2.06.94zm-11 1L8.5 8.5l.94-2.06 2.06-.94-2.06-.94L8.5 2.5l-.94 2.06-2.06.94zm10 10l.94 2.06.94-2.06 2.06-.94-2.06-.94-.94-2.06-.94 2.06-2.06.94z\"/><path d=\"M17.41 7.96l-1.37-1.37c-.4-.4-.92-.59-1.43-.59-.52 0-1.04.2-1.43.59L10.3 9.45l-7.72 7.72c-.78.78-.78 2.05 0 2.83L4 21.41c.39.39.9.59 1.41.59.51 0 1.02-.2 1.41-.59l7.78-7.78 2.81-2.81c.8-.78.8-2.07 0-2.86zM5.41 20L4 18.59l7.72-7.72 1.47 1.35L5.41 20z\"/>\n",
              "  </svg>\n",
              "      </button>\n",
              "      \n",
              "  <style>\n",
              "    .colab-df-container {\n",
              "      display:flex;\n",
              "      flex-wrap:wrap;\n",
              "      gap: 12px;\n",
              "    }\n",
              "\n",
              "    .colab-df-convert {\n",
              "      background-color: #E8F0FE;\n",
              "      border: none;\n",
              "      border-radius: 50%;\n",
              "      cursor: pointer;\n",
              "      display: none;\n",
              "      fill: #1967D2;\n",
              "      height: 32px;\n",
              "      padding: 0 0 0 0;\n",
              "      width: 32px;\n",
              "    }\n",
              "\n",
              "    .colab-df-convert:hover {\n",
              "      background-color: #E2EBFA;\n",
              "      box-shadow: 0px 1px 2px rgba(60, 64, 67, 0.3), 0px 1px 3px 1px rgba(60, 64, 67, 0.15);\n",
              "      fill: #174EA6;\n",
              "    }\n",
              "\n",
              "    [theme=dark] .colab-df-convert {\n",
              "      background-color: #3B4455;\n",
              "      fill: #D2E3FC;\n",
              "    }\n",
              "\n",
              "    [theme=dark] .colab-df-convert:hover {\n",
              "      background-color: #434B5C;\n",
              "      box-shadow: 0px 1px 3px 1px rgba(0, 0, 0, 0.15);\n",
              "      filter: drop-shadow(0px 1px 2px rgba(0, 0, 0, 0.3));\n",
              "      fill: #FFFFFF;\n",
              "    }\n",
              "  </style>\n",
              "\n",
              "      <script>\n",
              "        const buttonEl =\n",
              "          document.querySelector('#df-3ad1c5db-b922-4a3a-a891-8c9a2eecb78a button.colab-df-convert');\n",
              "        buttonEl.style.display =\n",
              "          google.colab.kernel.accessAllowed ? 'block' : 'none';\n",
              "\n",
              "        async function convertToInteractive(key) {\n",
              "          const element = document.querySelector('#df-3ad1c5db-b922-4a3a-a891-8c9a2eecb78a');\n",
              "          const dataTable =\n",
              "            await google.colab.kernel.invokeFunction('convertToInteractive',\n",
              "                                                     [key], {});\n",
              "          if (!dataTable) return;\n",
              "\n",
              "          const docLinkHtml = 'Like what you see? Visit the ' +\n",
              "            '<a target=\"_blank\" href=https://colab.research.google.com/notebooks/data_table.ipynb>data table notebook</a>'\n",
              "            + ' to learn more about interactive tables.';\n",
              "          element.innerHTML = '';\n",
              "          dataTable['output_type'] = 'display_data';\n",
              "          await google.colab.output.renderOutput(dataTable, element);\n",
              "          const docLink = document.createElement('div');\n",
              "          docLink.innerHTML = docLinkHtml;\n",
              "          element.appendChild(docLink);\n",
              "        }\n",
              "      </script>\n",
              "    </div>\n",
              "  </div>\n",
              "  "
            ]
          },
          "metadata": {},
          "execution_count": 44
        }
      ]
    },
    {
      "cell_type": "markdown",
      "source": [
        "### Split the data into Training, Testing and Validation Datasets"
      ],
      "metadata": {
        "id": "DaBopPgIdcS5"
      }
    },
    {
      "cell_type": "code",
      "source": [
        "!rm -rf positive_and_negative_word_list"
      ],
      "metadata": {
        "id": "1Jz_7ioe1hYN"
      },
      "execution_count": null,
      "outputs": []
    },
    {
      "cell_type": "code",
      "source": [
        "pnw_dataset_dir = 'positive_and_negative_word_list'\n",
        "\n",
        "os.mkdir(pnw_dataset_dir)\n",
        "\n",
        "pnw_train_dir = os.path.join(pnw_dataset_dir, 'train')\n",
        "pnw_test_dir = os.path.join(pnw_dataset_dir, 'test')\n",
        "\n",
        "os.mkdir(pnw_train_dir)\n",
        "os.mkdir(pnw_test_dir)\n",
        "\n",
        "for path in [pnw_train_dir, pnw_test_dir]:\n",
        "  os.mkdir(os.path.join(path, 'negative'))\n",
        "  os.mkdir(os.path.join(path, 'positive'))\n",
        "\n",
        "\n",
        "count_train = 1\n",
        "count_test = 1\n",
        "\n",
        "# Training Dataset\n",
        "for ind in pnw_dataframe[int(.6*len(pnw_dataframe)):].index:\n",
        "  with open(os.path.join(pnw_train_dir,  'negative', str(count_train)+'.txt'), 'w') as file_obj:\n",
        "    file_obj.write(pnw_dataframe['Negative'][ind])\n",
        "  count_train +=1\n",
        "  with open(os.path.join(pnw_train_dir,  'positive', str(count_train)+'.txt'), 'w') as file_obj:\n",
        "    if (isinstance(pnw_dataframe['Positive'][ind], str)):\n",
        "      file_obj.write(pnw_dataframe['Positive'][ind])\n",
        "      count_train += 1\n",
        "\n",
        "# Testing Dataset\n",
        "for ind in pnw_dataframe[:int(.3*len(pnw_dataframe))].index:\n",
        "  with open(os.path.join(pnw_test_dir,  'negative', str(count_test)+'.txt'), 'w') as file_obj:\n",
        "    file_obj.write(pnw_dataframe['Negative'][ind])\n",
        "  count_test +=1\n",
        "  with open(os.path.join(pnw_test_dir,  'positive', str(count_test)+'.txt'), 'w') as file_obj:\n",
        "    if (isinstance(pnw_dataframe['Positive'][ind], str)):\n",
        "      file_obj.write(pnw_dataframe['Positive'][ind])\n",
        "      count_test += 1"
      ],
      "metadata": {
        "id": "6n11rXjzz5wy"
      },
      "execution_count": null,
      "outputs": []
    },
    {
      "cell_type": "markdown",
      "source": [
        "### Preprocess Data"
      ],
      "metadata": {
        "id": "RPYVUvF4diut"
      }
    },
    {
      "cell_type": "code",
      "source": [
        "AUTOTUNE = tf.data.AUTOTUNE\n",
        "batch_size = 32\n",
        "seed = 42\n",
        "\n",
        "pnw_raw_train_ds = tf.keras.utils.text_dataset_from_directory(\n",
        "    pnw_train_dir,\n",
        "    batch_size=batch_size,\n",
        "    validation_split=0.2,\n",
        "    subset='training',\n",
        "    seed=seed)\n",
        "\n",
        "pnw_class_names = pnw_raw_train_ds.class_names\n",
        "pnw_train_ds = pnw_raw_train_ds.cache().prefetch(buffer_size=AUTOTUNE)\n",
        "\n",
        "pnw_val_ds = tf.keras.utils.text_dataset_from_directory(\n",
        "    pnw_train_dir,\n",
        "    batch_size=batch_size,\n",
        "    validation_split=0.2,\n",
        "    subset='validation',\n",
        "    seed=seed)\n",
        "\n",
        "pnw_val_ds = pnw_val_ds.cache().prefetch(buffer_size=AUTOTUNE)\n",
        "\n",
        "pnw_test_ds = tf.keras.utils.text_dataset_from_directory(\n",
        "    pnw_test_dir,\n",
        "    batch_size=batch_size)\n",
        "\n",
        "pnw_test_ds = pnw_test_ds.cache().prefetch(buffer_size=AUTOTUNE)"
      ],
      "metadata": {
        "colab": {
          "base_uri": "https://localhost:8080/"
        },
        "id": "k8oUdB3g0Et7",
        "outputId": "9a18a993-b360-47f6-d03d-e695143a2d84"
      },
      "execution_count": null,
      "outputs": [
        {
          "output_type": "stream",
          "name": "stdout",
          "text": [
            "Found 3776 files belonging to 2 classes.\n",
            "Using 3021 files for training.\n",
            "Found 3776 files belonging to 2 classes.\n",
            "Using 755 files for validation.\n",
            "Found 2832 files belonging to 2 classes.\n"
          ]
        }
      ]
    },
    {
      "cell_type": "markdown",
      "source": [
        "### Selecting a BERT Model"
      ],
      "metadata": {
        "id": "33KZ0R9pdl46"
      }
    },
    {
      "cell_type": "code",
      "source": [
        "#@title Choose a BERT model to fine-tune for Positive and Negative Word List Model\n",
        "\n",
        "pnw_bert_model_name = 'bert_multi_cased_L-12_H-768_A-12'  #@param [\"bert_en_uncased_L-12_H-768_A-12\", \"bert_en_cased_L-12_H-768_A-12\", \"bert_multi_cased_L-12_H-768_A-12\", \"small_bert/bert_en_uncased_L-2_H-128_A-2\", \"small_bert/bert_en_uncased_L-2_H-256_A-4\", \"small_bert/bert_en_uncased_L-2_H-512_A-8\", \"small_bert/bert_en_uncased_L-2_H-768_A-12\", \"small_bert/bert_en_uncased_L-4_H-128_A-2\", \"small_bert/bert_en_uncased_L-4_H-256_A-4\", \"small_bert/bert_en_uncased_L-4_H-512_A-8\", \"small_bert/bert_en_uncased_L-4_H-768_A-12\", \"small_bert/bert_en_uncased_L-6_H-128_A-2\", \"small_bert/bert_en_uncased_L-6_H-256_A-4\", \"small_bert/bert_en_uncased_L-6_H-512_A-8\", \"small_bert/bert_en_uncased_L-6_H-768_A-12\", \"small_bert/bert_en_uncased_L-8_H-128_A-2\", \"small_bert/bert_en_uncased_L-8_H-256_A-4\", \"small_bert/bert_en_uncased_L-8_H-512_A-8\", \"small_bert/bert_en_uncased_L-8_H-768_A-12\", \"small_bert/bert_en_uncased_L-10_H-128_A-2\", \"small_bert/bert_en_uncased_L-10_H-256_A-4\", \"small_bert/bert_en_uncased_L-10_H-512_A-8\", \"small_bert/bert_en_uncased_L-10_H-768_A-12\", \"small_bert/bert_en_uncased_L-12_H-128_A-2\", \"small_bert/bert_en_uncased_L-12_H-256_A-4\", \"small_bert/bert_en_uncased_L-12_H-512_A-8\", \"small_bert/bert_en_uncased_L-12_H-768_A-12\", \"albert_en_base\", \"electra_small\", \"electra_base\", \"experts_pubmed\", \"experts_wiki_books\", \"talking-heads_base\"]\n",
        "\n",
        "\n",
        "pnw_tfhub_handle_encoder = map_name_to_handle[pnw_bert_model_name]\n",
        "pnw_tfhub_handle_preprocess = map_model_to_preprocess[pnw_bert_model_name]\n",
        "\n",
        "print(f'BERT model selected           : {pnw_tfhub_handle_encoder}')\n",
        "print(f'Preprocess model auto-selected: {pnw_tfhub_handle_preprocess}')"
      ],
      "metadata": {
        "colab": {
          "base_uri": "https://localhost:8080/"
        },
        "id": "9wVYZx671y4A",
        "outputId": "d5871d43-8e82-43c3-f950-cc0e3fa57e0f"
      },
      "execution_count": null,
      "outputs": [
        {
          "output_type": "stream",
          "name": "stdout",
          "text": [
            "BERT model selected           : https://tfhub.dev/tensorflow/bert_multi_cased_L-12_H-768_A-12/3\n",
            "Preprocess model auto-selected: https://tfhub.dev/tensorflow/bert_multi_cased_preprocess/3\n"
          ]
        }
      ]
    },
    {
      "cell_type": "code",
      "source": [
        "pnw_bert_preprocess_model = hub.KerasLayer(pnw_tfhub_handle_preprocess)"
      ],
      "metadata": {
        "id": "wxuZgi5419JR"
      },
      "execution_count": null,
      "outputs": []
    },
    {
      "cell_type": "code",
      "source": [
        "pnw_bert_model = hub.KerasLayer(pnw_tfhub_handle_encoder)"
      ],
      "metadata": {
        "id": "wuTrHJ4Q1-BQ"
      },
      "execution_count": null,
      "outputs": []
    },
    {
      "cell_type": "markdown",
      "source": [
        "### Using the BERT Model"
      ],
      "metadata": {
        "id": "5Sq292p8dpFR"
      }
    },
    {
      "cell_type": "code",
      "source": [
        "pnw_classifier_model = build_classifier_model(pnw_tfhub_handle_preprocess, pnw_tfhub_handle_encoder)\n",
        "tf.keras.utils.plot_model(pnw_classifier_model)"
      ],
      "metadata": {
        "colab": {
          "base_uri": "https://localhost:8080/",
          "height": 466
        },
        "id": "JhHy0eNm1-0I",
        "outputId": "ff446cdf-2b3d-4caa-94ce-236f89ef5508"
      },
      "execution_count": null,
      "outputs": [
        {
          "output_type": "execute_result",
          "data": {
            "image/png": "[encoded data removed]",
            "text/plain": [
              "<IPython.core.display.Image object>"
            ]
          },
          "metadata": {},
          "execution_count": 51
        }
      ]
    },
    {
      "cell_type": "code",
      "source": [
        "pnw_loss = tf.keras.losses.BinaryCrossentropy(from_logits=True)\n",
        "pnw_metrics = tf.metrics.BinaryAccuracy()\n",
        "\n",
        "pnw_epochs = 10\n",
        "pnw_steps_per_epoch = tf.data.experimental.cardinality(pnw_train_ds).numpy()\n",
        "pnw_num_train_steps = pnw_steps_per_epoch * pnw_epochs\n",
        "pnw_num_warmup_steps = int(0.1*pnw_num_train_steps)\n",
        "\n",
        "pnw_init_lr = 3e-5\n",
        "pnw_optimizer = optimization.create_optimizer(init_lr=pnw_init_lr,\n",
        "                                          num_train_steps=pnw_num_train_steps,\n",
        "                                          num_warmup_steps=pnw_num_warmup_steps,\n",
        "                                          optimizer_type='adamw')"
      ],
      "metadata": {
        "id": "GbVT2tHs2k5j"
      },
      "execution_count": null,
      "outputs": []
    },
    {
      "cell_type": "code",
      "source": [
        "pnw_classifier_model.compile(optimizer=pnw_optimizer,\n",
        "                         loss=pnw_loss,\n",
        "                         metrics=pnw_metrics)\n",
        "\n",
        "pnw_history = pnw_classifier_model.fit(x=pnw_train_ds,\n",
        "                               validation_data=pnw_val_ds,\n",
        "                               epochs=pnw_epochs)"
      ],
      "metadata": {
        "colab": {
          "base_uri": "https://localhost:8080/"
        },
        "id": "lhewBUBm2Myf",
        "outputId": "9591ad55-c1f8-4d6f-9ee6-d5deb600aee7"
      },
      "execution_count": null,
      "outputs": [
        {
          "output_type": "stream",
          "name": "stdout",
          "text": [
            "Epoch 1/10\n",
            "95/95 [==============================] - 123s 1s/step - loss: 0.6235 - binary_accuracy: 0.6064 - val_loss: 0.4575 - val_binary_accuracy: 0.7682\n",
            "Epoch 2/10\n",
            "95/95 [==============================] - 103s 1s/step - loss: 0.4003 - binary_accuracy: 0.8113 - val_loss: 0.6714 - val_binary_accuracy: 0.7695\n",
            "Epoch 3/10\n",
            "95/95 [==============================] - 101s 1s/step - loss: 0.2796 - binary_accuracy: 0.8838 - val_loss: 0.7599 - val_binary_accuracy: 0.8013\n",
            "Epoch 4/10\n",
            "95/95 [==============================] - 101s 1s/step - loss: 0.2136 - binary_accuracy: 0.9172 - val_loss: 0.5726 - val_binary_accuracy: 0.8384\n",
            "Epoch 5/10\n",
            "95/95 [==============================] - 100s 1s/step - loss: 0.1737 - binary_accuracy: 0.9318 - val_loss: 0.8703 - val_binary_accuracy: 0.8132\n",
            "Epoch 6/10\n",
            "95/95 [==============================] - 101s 1s/step - loss: 0.1130 - binary_accuracy: 0.9652 - val_loss: 0.9199 - val_binary_accuracy: 0.8424\n",
            "Epoch 7/10\n",
            "95/95 [==============================] - 101s 1s/step - loss: 0.0891 - binary_accuracy: 0.9715 - val_loss: 0.9075 - val_binary_accuracy: 0.8397\n",
            "Epoch 8/10\n",
            "95/95 [==============================] - 100s 1s/step - loss: 0.0731 - binary_accuracy: 0.9795 - val_loss: 1.0324 - val_binary_accuracy: 0.8252\n",
            "Epoch 9/10\n",
            "95/95 [==============================] - 101s 1s/step - loss: 0.0561 - binary_accuracy: 0.9828 - val_loss: 0.9867 - val_binary_accuracy: 0.8344\n",
            "Epoch 10/10\n",
            "95/95 [==============================] - 101s 1s/step - loss: 0.0452 - binary_accuracy: 0.9858 - val_loss: 1.0084 - val_binary_accuracy: 0.8384\n"
          ]
        }
      ]
    },
    {
      "cell_type": "markdown",
      "source": [
        "### Evaluating the Model"
      ],
      "metadata": {
        "id": "WeaqD9lQdrkJ"
      }
    },
    {
      "cell_type": "code",
      "source": [
        "pnw_history_dict = pnw_history.history\n",
        "print(pnw_history_dict.keys())\n",
        "\n",
        "pnw_acc = pnw_history_dict['binary_accuracy']\n",
        "pnw_val_acc = pnw_history_dict['val_binary_accuracy']\n",
        "pnw_loss = pnw_history_dict['loss']\n",
        "pnw_val_loss = pnw_history_dict['val_loss']\n",
        "\n",
        "pnw_epochs = range(1, len(pnw_acc) + 1)\n",
        "pnw_fig = plt.figure(figsize=(10, 6))\n",
        "pnw_fig.tight_layout()\n",
        "\n",
        "plt.subplot(2, 1, 1)\n",
        "\n",
        "plt.plot(pnw_epochs, pnw_loss, 'r', label='Training loss')\n",
        "\n",
        "plt.plot(pnw_epochs, pnw_val_loss, 'b', label='Validation loss')\n",
        "plt.title('Training and validation loss')\n",
        "\n",
        "plt.ylabel('Loss')\n",
        "plt.legend()\n",
        "\n",
        "plt.subplot(2, 1, 2)\n",
        "plt.plot(pnw_epochs, pnw_acc, 'r', label='Training acc')\n",
        "plt.plot(pnw_epochs, pnw_val_acc, 'b', label='Validation acc')\n",
        "plt.title('Training and validation accuracy')\n",
        "plt.xlabel('Epochs')\n",
        "plt.ylabel('Accuracy')"
      ],
      "metadata": {
        "id": "6zORQDmV2XS4",
        "colab": {
          "base_uri": "https://localhost:8080/",
          "height": 599
        },
        "outputId": "fc923ebc-14c9-4e36-8158-35ca5bec0bd1"
      },
      "execution_count": null,
      "outputs": [
        {
          "output_type": "stream",
          "name": "stdout",
          "text": [
            "dict_keys(['loss', 'binary_accuracy', 'val_loss', 'val_binary_accuracy'])\n"
          ]
        },
        {
          "output_type": "execute_result",
          "data": {
            "text/plain": [
              "Text(0, 0.5, 'Accuracy')"
            ]
          },
          "metadata": {},
          "execution_count": 54
        },
        {
          "output_type": "display_data",
          "data": {
            "text/plain": [
              "<Figure size 1000x600 with 2 Axes>"
            ],
            "image/png": "[encoded data removed]"
          },
          "metadata": {}
        }
      ]
    },
    {
      "cell_type": "markdown",
      "source": [
        "### Make Predictions"
      ],
      "metadata": {
        "id": "c0ak3dCJdtrg"
      }
    },
    {
      "cell_type": "code",
      "source": [
        "# pnw_eval_data = np.concatenate([atn_array(100), mnh_array(100)], 0)\n",
        "pnw_df = pd.DataFrame(np.squeeze(pnw_classifier_model.predict(eval_data)), columns=['Pos & Neg Word List Model'])\n",
        "pnw_df.insert(1, \"Title\", eval_data, True)\n",
        "pnw_df"
      ],
      "metadata": {
        "id": "ps5Uhfis2Y_K",
        "colab": {
          "base_uri": "https://localhost:8080/",
          "height": 441
        },
        "outputId": "16eacc8a-934d-4968-e8dc-bae2121dc3b7"
      },
      "execution_count": null,
      "outputs": [
        {
          "output_type": "stream",
          "name": "stdout",
          "text": [
            "7/7 [==============================] - 3s 334ms/step\n"
          ]
        },
        {
          "output_type": "execute_result",
          "data": {
            "text/plain": [
              "     Pos & Neg Word List Model  \\\n",
              "0                    -4.871751   \n",
              "1                     8.266789   \n",
              "2                     6.145327   \n",
              "3                    -4.167357   \n",
              "4                    -4.333350   \n",
              "..                         ...   \n",
              "195                   8.317531   \n",
              "196                   2.237307   \n",
              "197                   5.051312   \n",
              "198                   6.351323   \n",
              "199                   8.279448   \n",
              "\n",
              "                                                 Title  \n",
              "0      Girl Scouts refuse gift with transgender limits  \n",
              "1            American to launch Dreamliner 787 service  \n",
              "2    15 Times Celebrities Envisioned Violence Again...  \n",
              "3    Deadly Northern California Wildfire Spreads - ...  \n",
              "4    How Millennials Became Spooked by Credit Cards...  \n",
              "..                                                 ...  \n",
              "195    moutiaa el zahed gives the islamic state salute  \n",
              "196  afp defends raiding abc office annika smethurs...  \n",
              "197                           interview david williams  \n",
              "198  top sprint cyclists put through paces ahead of...  \n",
              "199                         tonga welcomes aid changes  \n",
              "\n",
              "[200 rows x 2 columns]"
            ],
            "text/html": [
              "\n",
              "  <div id=\"df-309638d8-bd8c-4d3f-af89-e909b14a5811\">\n",
              "    <div class=\"colab-df-container\">\n",
              "      <div>\n",
              "<style scoped>\n",
              "    .dataframe tbody tr th:only-of-type {\n",
              "        vertical-align: middle;\n",
              "    }\n",
              "\n",
              "    .dataframe tbody tr th {\n",
              "        vertical-align: top;\n",
              "    }\n",
              "\n",
              "    .dataframe thead th {\n",
              "        text-align: right;\n",
              "    }\n",
              "</style>\n",
              "<table border=\"1\" class=\"dataframe\">\n",
              "  <thead>\n",
              "    <tr style=\"text-align: right;\">\n",
              "      <th></th>\n",
              "      <th>Pos &amp; Neg Word List Model</th>\n",
              "      <th>Title</th>\n",
              "    </tr>\n",
              "  </thead>\n",
              "  <tbody>\n",
              "    <tr>\n",
              "      <th>0</th>\n",
              "      <td>-4.871751</td>\n",
              "      <td>Girl Scouts refuse gift with transgender limits</td>\n",
              "    </tr>\n",
              "    <tr>\n",
              "      <th>1</th>\n",
              "      <td>8.266789</td>\n",
              "      <td>American to launch Dreamliner 787 service</td>\n",
              "    </tr>\n",
              "    <tr>\n",
              "      <th>2</th>\n",
              "      <td>6.145327</td>\n",
              "      <td>15 Times Celebrities Envisioned Violence Again...</td>\n",
              "    </tr>\n",
              "    <tr>\n",
              "      <th>3</th>\n",
              "      <td>-4.167357</td>\n",
              "      <td>Deadly Northern California Wildfire Spreads - ...</td>\n",
              "    </tr>\n",
              "    <tr>\n",
              "      <th>4</th>\n",
              "      <td>-4.333350</td>\n",
              "      <td>How Millennials Became Spooked by Credit Cards...</td>\n",
              "    </tr>\n",
              "    <tr>\n",
              "      <th>...</th>\n",
              "      <td>...</td>\n",
              "      <td>...</td>\n",
              "    </tr>\n",
              "    <tr>\n",
              "      <th>195</th>\n",
              "      <td>8.317531</td>\n",
              "      <td>moutiaa el zahed gives the islamic state salute</td>\n",
              "    </tr>\n",
              "    <tr>\n",
              "      <th>196</th>\n",
              "      <td>2.237307</td>\n",
              "      <td>afp defends raiding abc office annika smethurs...</td>\n",
              "    </tr>\n",
              "    <tr>\n",
              "      <th>197</th>\n",
              "      <td>5.051312</td>\n",
              "      <td>interview david williams</td>\n",
              "    </tr>\n",
              "    <tr>\n",
              "      <th>198</th>\n",
              "      <td>6.351323</td>\n",
              "      <td>top sprint cyclists put through paces ahead of...</td>\n",
              "    </tr>\n",
              "    <tr>\n",
              "      <th>199</th>\n",
              "      <td>8.279448</td>\n",
              "      <td>tonga welcomes aid changes</td>\n",
              "    </tr>\n",
              "  </tbody>\n",
              "</table>\n",
              "<p>200 rows × 2 columns</p>\n",
              "</div>\n",
              "      <button class=\"colab-df-convert\" onclick=\"convertToInteractive('df-309638d8-bd8c-4d3f-af89-e909b14a5811')\"\n",
              "              title=\"Convert this dataframe to an interactive table.\"\n",
              "              style=\"display:none;\">\n",
              "        \n",
              "  <svg xmlns=\"http://www.w3.org/2000/svg\" height=\"24px\"viewBox=\"0 0 24 24\"\n",
              "       width=\"24px\">\n",
              "    <path d=\"M0 0h24v24H0V0z\" fill=\"none\"/>\n",
              "    <path d=\"M18.56 5.44l.94 2.06.94-2.06 2.06-.94-2.06-.94-.94-2.06-.94 2.06-2.06.94zm-11 1L8.5 8.5l.94-2.06 2.06-.94-2.06-.94L8.5 2.5l-.94 2.06-2.06.94zm10 10l.94 2.06.94-2.06 2.06-.94-2.06-.94-.94-2.06-.94 2.06-2.06.94z\"/><path d=\"M17.41 7.96l-1.37-1.37c-.4-.4-.92-.59-1.43-.59-.52 0-1.04.2-1.43.59L10.3 9.45l-7.72 7.72c-.78.78-.78 2.05 0 2.83L4 21.41c.39.39.9.59 1.41.59.51 0 1.02-.2 1.41-.59l7.78-7.78 2.81-2.81c.8-.78.8-2.07 0-2.86zM5.41 20L4 18.59l7.72-7.72 1.47 1.35L5.41 20z\"/>\n",
              "  </svg>\n",
              "      </button>\n",
              "      \n",
              "  <style>\n",
              "    .colab-df-container {\n",
              "      display:flex;\n",
              "      flex-wrap:wrap;\n",
              "      gap: 12px;\n",
              "    }\n",
              "\n",
              "    .colab-df-convert {\n",
              "      background-color: #E8F0FE;\n",
              "      border: none;\n",
              "      border-radius: 50%;\n",
              "      cursor: pointer;\n",
              "      display: none;\n",
              "      fill: #1967D2;\n",
              "      height: 32px;\n",
              "      padding: 0 0 0 0;\n",
              "      width: 32px;\n",
              "    }\n",
              "\n",
              "    .colab-df-convert:hover {\n",
              "      background-color: #E2EBFA;\n",
              "      box-shadow: 0px 1px 2px rgba(60, 64, 67, 0.3), 0px 1px 3px 1px rgba(60, 64, 67, 0.15);\n",
              "      fill: #174EA6;\n",
              "    }\n",
              "\n",
              "    [theme=dark] .colab-df-convert {\n",
              "      background-color: #3B4455;\n",
              "      fill: #D2E3FC;\n",
              "    }\n",
              "\n",
              "    [theme=dark] .colab-df-convert:hover {\n",
              "      background-color: #434B5C;\n",
              "      box-shadow: 0px 1px 3px 1px rgba(0, 0, 0, 0.15);\n",
              "      filter: drop-shadow(0px 1px 2px rgba(0, 0, 0, 0.3));\n",
              "      fill: #FFFFFF;\n",
              "    }\n",
              "  </style>\n",
              "\n",
              "      <script>\n",
              "        const buttonEl =\n",
              "          document.querySelector('#df-309638d8-bd8c-4d3f-af89-e909b14a5811 button.colab-df-convert');\n",
              "        buttonEl.style.display =\n",
              "          google.colab.kernel.accessAllowed ? 'block' : 'none';\n",
              "\n",
              "        async function convertToInteractive(key) {\n",
              "          const element = document.querySelector('#df-309638d8-bd8c-4d3f-af89-e909b14a5811');\n",
              "          const dataTable =\n",
              "            await google.colab.kernel.invokeFunction('convertToInteractive',\n",
              "                                                     [key], {});\n",
              "          if (!dataTable) return;\n",
              "\n",
              "          const docLinkHtml = 'Like what you see? Visit the ' +\n",
              "            '<a target=\"_blank\" href=https://colab.research.google.com/notebooks/data_table.ipynb>data table notebook</a>'\n",
              "            + ' to learn more about interactive tables.';\n",
              "          element.innerHTML = '';\n",
              "          dataTable['output_type'] = 'display_data';\n",
              "          await google.colab.output.renderOutput(dataTable, element);\n",
              "          const docLink = document.createElement('div');\n",
              "          docLink.innerHTML = docLinkHtml;\n",
              "          element.appendChild(docLink);\n",
              "        }\n",
              "      </script>\n",
              "    </div>\n",
              "  </div>\n",
              "  "
            ]
          },
          "metadata": {},
          "execution_count": 55
        }
      ]
    },
    {
      "cell_type": "markdown",
      "source": [
        "### Compare predictions with the other models"
      ],
      "metadata": {
        "id": "Ei-7NVeAdwFX"
      }
    },
    {
      "cell_type": "code",
      "source": [
        "overall_df.insert(0, \"Pos & Neg Word List\", pnw_df['Pos & Neg Word List Model'])\n",
        "overall_df"
      ],
      "metadata": {
        "id": "Gyic5WdF58E6",
        "colab": {
          "base_uri": "https://localhost:8080/",
          "height": 423
        },
        "outputId": "53f788ae-19e5-46bf-d873-ac1a9213380a"
      },
      "execution_count": null,
      "outputs": [
        {
          "output_type": "execute_result",
          "data": {
            "text/plain": [
              "     Pos & Neg Word List  IMDb Model  FPB Model  \\\n",
              "0              -4.871751   -0.733837  -5.805300   \n",
              "1               8.266789    1.946372   4.798319   \n",
              "2               6.145327   -0.163686  -4.357934   \n",
              "3              -4.167357    0.435629  -3.547501   \n",
              "4              -4.333350    2.373650  -3.737055   \n",
              "..                   ...         ...        ...   \n",
              "195             8.317531    3.655803   0.817480   \n",
              "196             2.237307   -0.399266  -4.373072   \n",
              "197             5.051312    2.530798   0.933000   \n",
              "198             6.351323    3.797237   1.491438   \n",
              "199             8.279448    5.351167   0.944576   \n",
              "\n",
              "                                                 Title  \n",
              "0      Girl Scouts refuse gift with transgender limits  \n",
              "1            American to launch Dreamliner 787 service  \n",
              "2    15 Times Celebrities Envisioned Violence Again...  \n",
              "3    Deadly Northern California Wildfire Spreads - ...  \n",
              "4    How Millennials Became Spooked by Credit Cards...  \n",
              "..                                                 ...  \n",
              "195    moutiaa el zahed gives the islamic state salute  \n",
              "196  afp defends raiding abc office annika smethurs...  \n",
              "197                           interview david williams  \n",
              "198  top sprint cyclists put through paces ahead of...  \n",
              "199                         tonga welcomes aid changes  \n",
              "\n",
              "[200 rows x 4 columns]"
            ],
            "text/html": [
              "\n",
              "  <div id=\"df-d938d1cd-486e-4476-80c0-f747d0fd6160\">\n",
              "    <div class=\"colab-df-container\">\n",
              "      <div>\n",
              "<style scoped>\n",
              "    .dataframe tbody tr th:only-of-type {\n",
              "        vertical-align: middle;\n",
              "    }\n",
              "\n",
              "    .dataframe tbody tr th {\n",
              "        vertical-align: top;\n",
              "    }\n",
              "\n",
              "    .dataframe thead th {\n",
              "        text-align: right;\n",
              "    }\n",
              "</style>\n",
              "<table border=\"1\" class=\"dataframe\">\n",
              "  <thead>\n",
              "    <tr style=\"text-align: right;\">\n",
              "      <th></th>\n",
              "      <th>Pos &amp; Neg Word List</th>\n",
              "      <th>IMDb Model</th>\n",
              "      <th>FPB Model</th>\n",
              "      <th>Title</th>\n",
              "    </tr>\n",
              "  </thead>\n",
              "  <tbody>\n",
              "    <tr>\n",
              "      <th>0</th>\n",
              "      <td>-4.871751</td>\n",
              "      <td>-0.733837</td>\n",
              "      <td>-5.805300</td>\n",
              "      <td>Girl Scouts refuse gift with transgender limits</td>\n",
              "    </tr>\n",
              "    <tr>\n",
              "      <th>1</th>\n",
              "      <td>8.266789</td>\n",
              "      <td>1.946372</td>\n",
              "      <td>4.798319</td>\n",
              "      <td>American to launch Dreamliner 787 service</td>\n",
              "    </tr>\n",
              "    <tr>\n",
              "      <th>2</th>\n",
              "      <td>6.145327</td>\n",
              "      <td>-0.163686</td>\n",
              "      <td>-4.357934</td>\n",
              "      <td>15 Times Celebrities Envisioned Violence Again...</td>\n",
              "    </tr>\n",
              "    <tr>\n",
              "      <th>3</th>\n",
              "      <td>-4.167357</td>\n",
              "      <td>0.435629</td>\n",
              "      <td>-3.547501</td>\n",
              "      <td>Deadly Northern California Wildfire Spreads - ...</td>\n",
              "    </tr>\n",
              "    <tr>\n",
              "      <th>4</th>\n",
              "      <td>-4.333350</td>\n",
              "      <td>2.373650</td>\n",
              "      <td>-3.737055</td>\n",
              "      <td>How Millennials Became Spooked by Credit Cards...</td>\n",
              "    </tr>\n",
              "    <tr>\n",
              "      <th>...</th>\n",
              "      <td>...</td>\n",
              "      <td>...</td>\n",
              "      <td>...</td>\n",
              "      <td>...</td>\n",
              "    </tr>\n",
              "    <tr>\n",
              "      <th>195</th>\n",
              "      <td>8.317531</td>\n",
              "      <td>3.655803</td>\n",
              "      <td>0.817480</td>\n",
              "      <td>moutiaa el zahed gives the islamic state salute</td>\n",
              "    </tr>\n",
              "    <tr>\n",
              "      <th>196</th>\n",
              "      <td>2.237307</td>\n",
              "      <td>-0.399266</td>\n",
              "      <td>-4.373072</td>\n",
              "      <td>afp defends raiding abc office annika smethurs...</td>\n",
              "    </tr>\n",
              "    <tr>\n",
              "      <th>197</th>\n",
              "      <td>5.051312</td>\n",
              "      <td>2.530798</td>\n",
              "      <td>0.933000</td>\n",
              "      <td>interview david williams</td>\n",
              "    </tr>\n",
              "    <tr>\n",
              "      <th>198</th>\n",
              "      <td>6.351323</td>\n",
              "      <td>3.797237</td>\n",
              "      <td>1.491438</td>\n",
              "      <td>top sprint cyclists put through paces ahead of...</td>\n",
              "    </tr>\n",
              "    <tr>\n",
              "      <th>199</th>\n",
              "      <td>8.279448</td>\n",
              "      <td>5.351167</td>\n",
              "      <td>0.944576</td>\n",
              "      <td>tonga welcomes aid changes</td>\n",
              "    </tr>\n",
              "  </tbody>\n",
              "</table>\n",
              "<p>200 rows × 4 columns</p>\n",
              "</div>\n",
              "      <button class=\"colab-df-convert\" onclick=\"convertToInteractive('df-d938d1cd-486e-4476-80c0-f747d0fd6160')\"\n",
              "              title=\"Convert this dataframe to an interactive table.\"\n",
              "              style=\"display:none;\">\n",
              "        \n",
              "  <svg xmlns=\"http://www.w3.org/2000/svg\" height=\"24px\"viewBox=\"0 0 24 24\"\n",
              "       width=\"24px\">\n",
              "    <path d=\"M0 0h24v24H0V0z\" fill=\"none\"/>\n",
              "    <path d=\"M18.56 5.44l.94 2.06.94-2.06 2.06-.94-2.06-.94-.94-2.06-.94 2.06-2.06.94zm-11 1L8.5 8.5l.94-2.06 2.06-.94-2.06-.94L8.5 2.5l-.94 2.06-2.06.94zm10 10l.94 2.06.94-2.06 2.06-.94-2.06-.94-.94-2.06-.94 2.06-2.06.94z\"/><path d=\"M17.41 7.96l-1.37-1.37c-.4-.4-.92-.59-1.43-.59-.52 0-1.04.2-1.43.59L10.3 9.45l-7.72 7.72c-.78.78-.78 2.05 0 2.83L4 21.41c.39.39.9.59 1.41.59.51 0 1.02-.2 1.41-.59l7.78-7.78 2.81-2.81c.8-.78.8-2.07 0-2.86zM5.41 20L4 18.59l7.72-7.72 1.47 1.35L5.41 20z\"/>\n",
              "  </svg>\n",
              "      </button>\n",
              "      \n",
              "  <style>\n",
              "    .colab-df-container {\n",
              "      display:flex;\n",
              "      flex-wrap:wrap;\n",
              "      gap: 12px;\n",
              "    }\n",
              "\n",
              "    .colab-df-convert {\n",
              "      background-color: #E8F0FE;\n",
              "      border: none;\n",
              "      border-radius: 50%;\n",
              "      cursor: pointer;\n",
              "      display: none;\n",
              "      fill: #1967D2;\n",
              "      height: 32px;\n",
              "      padding: 0 0 0 0;\n",
              "      width: 32px;\n",
              "    }\n",
              "\n",
              "    .colab-df-convert:hover {\n",
              "      background-color: #E2EBFA;\n",
              "      box-shadow: 0px 1px 2px rgba(60, 64, 67, 0.3), 0px 1px 3px 1px rgba(60, 64, 67, 0.15);\n",
              "      fill: #174EA6;\n",
              "    }\n",
              "\n",
              "    [theme=dark] .colab-df-convert {\n",
              "      background-color: #3B4455;\n",
              "      fill: #D2E3FC;\n",
              "    }\n",
              "\n",
              "    [theme=dark] .colab-df-convert:hover {\n",
              "      background-color: #434B5C;\n",
              "      box-shadow: 0px 1px 3px 1px rgba(0, 0, 0, 0.15);\n",
              "      filter: drop-shadow(0px 1px 2px rgba(0, 0, 0, 0.3));\n",
              "      fill: #FFFFFF;\n",
              "    }\n",
              "  </style>\n",
              "\n",
              "      <script>\n",
              "        const buttonEl =\n",
              "          document.querySelector('#df-d938d1cd-486e-4476-80c0-f747d0fd6160 button.colab-df-convert');\n",
              "        buttonEl.style.display =\n",
              "          google.colab.kernel.accessAllowed ? 'block' : 'none';\n",
              "\n",
              "        async function convertToInteractive(key) {\n",
              "          const element = document.querySelector('#df-d938d1cd-486e-4476-80c0-f747d0fd6160');\n",
              "          const dataTable =\n",
              "            await google.colab.kernel.invokeFunction('convertToInteractive',\n",
              "                                                     [key], {});\n",
              "          if (!dataTable) return;\n",
              "\n",
              "          const docLinkHtml = 'Like what you see? Visit the ' +\n",
              "            '<a target=\"_blank\" href=https://colab.research.google.com/notebooks/data_table.ipynb>data table notebook</a>'\n",
              "            + ' to learn more about interactive tables.';\n",
              "          element.innerHTML = '';\n",
              "          dataTable['output_type'] = 'display_data';\n",
              "          await google.colab.output.renderOutput(dataTable, element);\n",
              "          const docLink = document.createElement('div');\n",
              "          docLink.innerHTML = docLinkHtml;\n",
              "          element.appendChild(docLink);\n",
              "        }\n",
              "      </script>\n",
              "    </div>\n",
              "  </div>\n",
              "  "
            ]
          },
          "metadata": {},
          "execution_count": 56
        }
      ]
    },
    {
      "cell_type": "markdown",
      "source": [
        "## Model IV - News Sentiment Dataset"
      ],
      "metadata": {
        "id": "L9UZojBwgwnU"
      }
    },
    {
      "cell_type": "markdown",
      "source": [
        "### Downloading the Dataset"
      ],
      "metadata": {
        "id": "HBjlxGs1g0ZV"
      }
    },
    {
      "cell_type": "code",
      "source": [
        "!cp \"/content/drive/MyDrive/Colab Notebooks/Daily Sunshine App/data/news_sentiment_dataset.csv\" \"/content/news_sentiment_dataset.csv\""
      ],
      "metadata": {
        "id": "DI7lygTqhTTr"
      },
      "execution_count": null,
      "outputs": []
    },
    {
      "cell_type": "code",
      "source": [
        "nsd_dataframe = pd.read_csv('news_sentiment_dataset.csv', encoding = 'utf-8', encoding_errors = 'ignore')\n",
        "nsd_dataframe"
      ],
      "metadata": {
        "colab": {
          "base_uri": "https://localhost:8080/"
        },
        "id": "QHmPFhYghdBi",
        "outputId": "a7b11360-58ed-421b-c2ff-802bf0b7f8a0"
      },
      "execution_count": null,
      "outputs": [
        {
          "output_type": "execute_result",
          "data": {
            "text/plain": [
              "                                            news_title  \\\n",
              "0             Mark Cuban launches generic drug company   \n",
              "1    From Defendant to Defender: One Wrongfully Con...   \n",
              "2    Amazon Tribe Wins Lawsuit Against Big Oil, Sav...   \n",
              "3    Newark police: No officer fired a single shot ...   \n",
              "4                   Ingen barn døde i trafikken i 2019   \n",
              "..                                                 ...   \n",
              "843  Dee Why attack: Man allegedly choked and threa...   \n",
              "844  Africa: Children and HIV/Aids - 'We Need to Ta...   \n",
              "845                Terrorism suspected in Eilat attack   \n",
              "846  Anti-Semitism never disappeared in Europe. It'...   \n",
              "847     Five dead, 32 injured in Hong Kong coach crash   \n",
              "\n",
              "                                          reddit_title  sentiment  \\\n",
              "0    Billionaire Mark Cuban just launched a drug co...        1.0   \n",
              "1    Man falsely imprisoned for 10 years, uses pris...        1.0   \n",
              "2    Amazon tribe wins legal battle against oil com...        1.0   \n",
              "3    Newark police: No officer fired a single shot ...        1.0   \n",
              "4    No children died in traffic accidents in Norwa...        1.0   \n",
              "..                                                 ...        ...   \n",
              "843  Dee Why attack: Man allegedly choked and threa...        0.0   \n",
              "844  Africa: Children and HIV/Aids - 'We Need to Ta...        0.0   \n",
              "845                Terrorism suspected in Eilat attack        0.0   \n",
              "846  Anti-Semitism never disappeared in Europe. It'...        0.0   \n",
              "847     Five dead, 32 injured in Hong Kong coach crash        0.0   \n",
              "\n",
              "                                                  text  \\\n",
              "0    Billionaire investor and Shark Tank star Mark ...   \n",
              "1    Attorney Jarrett Adams recently helped overtur...   \n",
              "2    The Amazon Rainforest is well known across the...   \n",
              "3    Newark police: No officer fired a single shot ...   \n",
              "4    I 1970 døde det 560 mennesker i den norske tra...   \n",
              "..                                                 ...   \n",
              "843  Frightening details have emerged about a toile...   \n",
              "844  interview\\n\\nJohannesburg — 360,000 adolescent...   \n",
              "845  A violent attack in the southern Israeli port ...   \n",
              "846  It's a 17-year-old boy, too frightened to wear...   \n",
              "847  HONG KONG (AFP) - Five people were killed and ...   \n",
              "\n",
              "                                                   url  \n",
              "0    https://www.beckershospitalreview.com/pharmacy...  \n",
              "1    https://www.nbcnews.com/news/us-news/defendant...  \n",
              "2    https://www.disclose.tv/amazon-tribe-wins-laws...  \n",
              "3    https://newjersey.news12.com/newark-police-no-...  \n",
              "4    https://www.nrk.no/trondelag/ingen-barn-dode-i...  \n",
              "..                                                 ...  \n",
              "843  https://www.9news.com.au/2018/11/30/17/55/sydn...  \n",
              "844    https://allafrica.com/stories/201811300567.html  \n",
              "845  http://www.israelnationalnews.com/News/News.as...  \n",
              "846  https://edition.cnn.com/2018/11/27/europe/anti...  \n",
              "847  https://www.straitstimes.com/asia/east-asia/fi...  \n",
              "\n",
              "[848 rows x 5 columns]"
            ],
            "text/html": [
              "\n",
              "  <div id=\"df-dc788aa5-f1d0-4233-97f0-6efb78a3344a\">\n",
              "    <div class=\"colab-df-container\">\n",
              "      <div>\n",
              "<style scoped>\n",
              "    .dataframe tbody tr th:only-of-type {\n",
              "        vertical-align: middle;\n",
              "    }\n",
              "\n",
              "    .dataframe tbody tr th {\n",
              "        vertical-align: top;\n",
              "    }\n",
              "\n",
              "    .dataframe thead th {\n",
              "        text-align: right;\n",
              "    }\n",
              "</style>\n",
              "<table border=\"1\" class=\"dataframe\">\n",
              "  <thead>\n",
              "    <tr style=\"text-align: right;\">\n",
              "      <th></th>\n",
              "      <th>news_title</th>\n",
              "      <th>reddit_title</th>\n",
              "      <th>sentiment</th>\n",
              "      <th>text</th>\n",
              "      <th>url</th>\n",
              "    </tr>\n",
              "  </thead>\n",
              "  <tbody>\n",
              "    <tr>\n",
              "      <th>0</th>\n",
              "      <td>Mark Cuban launches generic drug company</td>\n",
              "      <td>Billionaire Mark Cuban just launched a drug co...</td>\n",
              "      <td>1.0</td>\n",
              "      <td>Billionaire investor and Shark Tank star Mark ...</td>\n",
              "      <td>https://www.beckershospitalreview.com/pharmacy...</td>\n",
              "    </tr>\n",
              "    <tr>\n",
              "      <th>1</th>\n",
              "      <td>From Defendant to Defender: One Wrongfully Con...</td>\n",
              "      <td>Man falsely imprisoned for 10 years, uses pris...</td>\n",
              "      <td>1.0</td>\n",
              "      <td>Attorney Jarrett Adams recently helped overtur...</td>\n",
              "      <td>https://www.nbcnews.com/news/us-news/defendant...</td>\n",
              "    </tr>\n",
              "    <tr>\n",
              "      <th>2</th>\n",
              "      <td>Amazon Tribe Wins Lawsuit Against Big Oil, Sav...</td>\n",
              "      <td>Amazon tribe wins legal battle against oil com...</td>\n",
              "      <td>1.0</td>\n",
              "      <td>The Amazon Rainforest is well known across the...</td>\n",
              "      <td>https://www.disclose.tv/amazon-tribe-wins-laws...</td>\n",
              "    </tr>\n",
              "    <tr>\n",
              "      <th>3</th>\n",
              "      <td>Newark police: No officer fired a single shot ...</td>\n",
              "      <td>Newark police: No officer fired a single shot ...</td>\n",
              "      <td>1.0</td>\n",
              "      <td>Newark police: No officer fired a single shot ...</td>\n",
              "      <td>https://newjersey.news12.com/newark-police-no-...</td>\n",
              "    </tr>\n",
              "    <tr>\n",
              "      <th>4</th>\n",
              "      <td>Ingen barn døde i trafikken i 2019</td>\n",
              "      <td>No children died in traffic accidents in Norwa...</td>\n",
              "      <td>1.0</td>\n",
              "      <td>I 1970 døde det 560 mennesker i den norske tra...</td>\n",
              "      <td>https://www.nrk.no/trondelag/ingen-barn-dode-i...</td>\n",
              "    </tr>\n",
              "    <tr>\n",
              "      <th>...</th>\n",
              "      <td>...</td>\n",
              "      <td>...</td>\n",
              "      <td>...</td>\n",
              "      <td>...</td>\n",
              "      <td>...</td>\n",
              "    </tr>\n",
              "    <tr>\n",
              "      <th>843</th>\n",
              "      <td>Dee Why attack: Man allegedly choked and threa...</td>\n",
              "      <td>Dee Why attack: Man allegedly choked and threa...</td>\n",
              "      <td>0.0</td>\n",
              "      <td>Frightening details have emerged about a toile...</td>\n",
              "      <td>https://www.9news.com.au/2018/11/30/17/55/sydn...</td>\n",
              "    </tr>\n",
              "    <tr>\n",
              "      <th>844</th>\n",
              "      <td>Africa: Children and HIV/Aids - 'We Need to Ta...</td>\n",
              "      <td>Africa: Children and HIV/Aids - 'We Need to Ta...</td>\n",
              "      <td>0.0</td>\n",
              "      <td>interview\\n\\nJohannesburg — 360,000 adolescent...</td>\n",
              "      <td>https://allafrica.com/stories/201811300567.html</td>\n",
              "    </tr>\n",
              "    <tr>\n",
              "      <th>845</th>\n",
              "      <td>Terrorism suspected in Eilat attack</td>\n",
              "      <td>Terrorism suspected in Eilat attack</td>\n",
              "      <td>0.0</td>\n",
              "      <td>A violent attack in the southern Israeli port ...</td>\n",
              "      <td>http://www.israelnationalnews.com/News/News.as...</td>\n",
              "    </tr>\n",
              "    <tr>\n",
              "      <th>846</th>\n",
              "      <td>Anti-Semitism never disappeared in Europe. It'...</td>\n",
              "      <td>Anti-Semitism never disappeared in Europe. It'...</td>\n",
              "      <td>0.0</td>\n",
              "      <td>It's a 17-year-old boy, too frightened to wear...</td>\n",
              "      <td>https://edition.cnn.com/2018/11/27/europe/anti...</td>\n",
              "    </tr>\n",
              "    <tr>\n",
              "      <th>847</th>\n",
              "      <td>Five dead, 32 injured in Hong Kong coach crash</td>\n",
              "      <td>Five dead, 32 injured in Hong Kong coach crash</td>\n",
              "      <td>0.0</td>\n",
              "      <td>HONG KONG (AFP) - Five people were killed and ...</td>\n",
              "      <td>https://www.straitstimes.com/asia/east-asia/fi...</td>\n",
              "    </tr>\n",
              "  </tbody>\n",
              "</table>\n",
              "<p>848 rows × 5 columns</p>\n",
              "</div>\n",
              "      <button class=\"colab-df-convert\" onclick=\"convertToInteractive('df-dc788aa5-f1d0-4233-97f0-6efb78a3344a')\"\n",
              "              title=\"Convert this dataframe to an interactive table.\"\n",
              "              style=\"display:none;\">\n",
              "        \n",
              "  <svg xmlns=\"http://www.w3.org/2000/svg\" height=\"24px\"viewBox=\"0 0 24 24\"\n",
              "       width=\"24px\">\n",
              "    <path d=\"M0 0h24v24H0V0z\" fill=\"none\"/>\n",
              "    <path d=\"M18.56 5.44l.94 2.06.94-2.06 2.06-.94-2.06-.94-.94-2.06-.94 2.06-2.06.94zm-11 1L8.5 8.5l.94-2.06 2.06-.94-2.06-.94L8.5 2.5l-.94 2.06-2.06.94zm10 10l.94 2.06.94-2.06 2.06-.94-2.06-.94-.94-2.06-.94 2.06-2.06.94z\"/><path d=\"M17.41 7.96l-1.37-1.37c-.4-.4-.92-.59-1.43-.59-.52 0-1.04.2-1.43.59L10.3 9.45l-7.72 7.72c-.78.78-.78 2.05 0 2.83L4 21.41c.39.39.9.59 1.41.59.51 0 1.02-.2 1.41-.59l7.78-7.78 2.81-2.81c.8-.78.8-2.07 0-2.86zM5.41 20L4 18.59l7.72-7.72 1.47 1.35L5.41 20z\"/>\n",
              "  </svg>\n",
              "      </button>\n",
              "      \n",
              "  <style>\n",
              "    .colab-df-container {\n",
              "      display:flex;\n",
              "      flex-wrap:wrap;\n",
              "      gap: 12px;\n",
              "    }\n",
              "\n",
              "    .colab-df-convert {\n",
              "      background-color: #E8F0FE;\n",
              "      border: none;\n",
              "      border-radius: 50%;\n",
              "      cursor: pointer;\n",
              "      display: none;\n",
              "      fill: #1967D2;\n",
              "      height: 32px;\n",
              "      padding: 0 0 0 0;\n",
              "      width: 32px;\n",
              "    }\n",
              "\n",
              "    .colab-df-convert:hover {\n",
              "      background-color: #E2EBFA;\n",
              "      box-shadow: 0px 1px 2px rgba(60, 64, 67, 0.3), 0px 1px 3px 1px rgba(60, 64, 67, 0.15);\n",
              "      fill: #174EA6;\n",
              "    }\n",
              "\n",
              "    [theme=dark] .colab-df-convert {\n",
              "      background-color: #3B4455;\n",
              "      fill: #D2E3FC;\n",
              "    }\n",
              "\n",
              "    [theme=dark] .colab-df-convert:hover {\n",
              "      background-color: #434B5C;\n",
              "      box-shadow: 0px 1px 3px 1px rgba(0, 0, 0, 0.15);\n",
              "      filter: drop-shadow(0px 1px 2px rgba(0, 0, 0, 0.3));\n",
              "      fill: #FFFFFF;\n",
              "    }\n",
              "  </style>\n",
              "\n",
              "      <script>\n",
              "        const buttonEl =\n",
              "          document.querySelector('#df-dc788aa5-f1d0-4233-97f0-6efb78a3344a button.colab-df-convert');\n",
              "        buttonEl.style.display =\n",
              "          google.colab.kernel.accessAllowed ? 'block' : 'none';\n",
              "\n",
              "        async function convertToInteractive(key) {\n",
              "          const element = document.querySelector('#df-dc788aa5-f1d0-4233-97f0-6efb78a3344a');\n",
              "          const dataTable =\n",
              "            await google.colab.kernel.invokeFunction('convertToInteractive',\n",
              "                                                     [key], {});\n",
              "          if (!dataTable) return;\n",
              "\n",
              "          const docLinkHtml = 'Like what you see? Visit the ' +\n",
              "            '<a target=\"_blank\" href=https://colab.research.google.com/notebooks/data_table.ipynb>data table notebook</a>'\n",
              "            + ' to learn more about interactive tables.';\n",
              "          element.innerHTML = '';\n",
              "          dataTable['output_type'] = 'display_data';\n",
              "          await google.colab.output.renderOutput(dataTable, element);\n",
              "          const docLink = document.createElement('div');\n",
              "          docLink.innerHTML = docLinkHtml;\n",
              "          element.appendChild(docLink);\n",
              "        }\n",
              "      </script>\n",
              "    </div>\n",
              "  </div>\n",
              "  "
            ]
          },
          "metadata": {},
          "execution_count": 58
        }
      ]
    },
    {
      "cell_type": "markdown",
      "source": [
        "### Split the data into Training, Testing and Validation Datasets"
      ],
      "metadata": {
        "id": "VDNXtBYkg4nW"
      }
    },
    {
      "cell_type": "code",
      "source": [
        "!rm -rf news_sentiment_dataset"
      ],
      "metadata": {
        "id": "1W0KD_fhhTyY"
      },
      "execution_count": null,
      "outputs": []
    },
    {
      "cell_type": "code",
      "source": [
        "nsd_dataset_dir = 'news_sentiment_dataset'\n",
        "\n",
        "os.mkdir(nsd_dataset_dir)\n",
        "\n",
        "nsd_train_dir = os.path.join(nsd_dataset_dir, 'train')\n",
        "nsd_test_dir = os.path.join(nsd_dataset_dir, 'test')\n",
        "\n",
        "os.mkdir(nsd_train_dir)\n",
        "os.mkdir(nsd_test_dir)\n",
        "\n",
        "for path in [nsd_train_dir, nsd_test_dir]:\n",
        "  os.mkdir(os.path.join(path, 'negative'))\n",
        "  os.mkdir(os.path.join(path, 'positive'))\n",
        "\n",
        "\n",
        "count_train = 1\n",
        "count_test = 1\n",
        "\n",
        "# Training Dataset\n",
        "for ind in nsd_dataframe[int(.6*len(nsd_dataframe)):].index:\n",
        "  with open(os.path.join(nsd_train_dir, 'negative' if nsd_dataframe['sentiment'][ind] == 0 else 'positive', str(count_train)+'.txt'), 'w') as file_obj:\n",
        "    file_obj.write(nsd_dataframe['news_title'][ind])\n",
        "  count_train +=1\n",
        "\n",
        "# Testing Dataset\n",
        "for ind in nsd_dataframe[:int(.3*len(nsd_dataframe))].index:\n",
        "  with open(os.path.join(nsd_test_dir, 'negative' if nsd_dataframe['sentiment'][ind] == 0 else 'positive', str(count_test)+'.txt'), 'w') as file_obj:\n",
        "    file_obj.write(nsd_dataframe['news_title'][ind])\n",
        "  count_test +=1"
      ],
      "metadata": {
        "id": "68jmNciIh1dy"
      },
      "execution_count": null,
      "outputs": []
    },
    {
      "cell_type": "markdown",
      "source": [
        "### Preprocess Data"
      ],
      "metadata": {
        "id": "G9T8g7bcg-hy"
      }
    },
    {
      "cell_type": "code",
      "source": [
        "AUTOTUNE = tf.data.AUTOTUNE\n",
        "batch_size = 32\n",
        "seed = 42\n",
        "\n",
        "nsd_raw_train_ds = tf.keras.utils.text_dataset_from_directory(\n",
        "    nsd_train_dir,\n",
        "    batch_size=batch_size,\n",
        "    validation_split=0.2,\n",
        "    subset='training',\n",
        "    seed=seed)\n",
        "\n",
        "nsd_class_names = nsd_raw_train_ds.class_names\n",
        "nsd_train_ds = nsd_raw_train_ds.cache().prefetch(buffer_size=AUTOTUNE)\n",
        "\n",
        "nsd_val_ds = tf.keras.utils.text_dataset_from_directory(\n",
        "    nsd_train_dir,\n",
        "    batch_size=batch_size,\n",
        "    validation_split=0.2,\n",
        "    subset='validation',\n",
        "    seed=seed)\n",
        "\n",
        "nsd_val_ds = nsd_val_ds.cache().prefetch(buffer_size=AUTOTUNE)\n",
        "\n",
        "nsd_test_ds = tf.keras.utils.text_dataset_from_directory(\n",
        "    nsd_test_dir,\n",
        "    batch_size=batch_size)\n",
        "\n",
        "nsd_test_ds = nsd_test_ds.cache().prefetch(buffer_size=AUTOTUNE)"
      ],
      "metadata": {
        "colab": {
          "base_uri": "https://localhost:8080/"
        },
        "id": "cs0KxWtdhUcr",
        "outputId": "c68da161-882f-402f-cc2b-bee10454417a"
      },
      "execution_count": null,
      "outputs": [
        {
          "output_type": "stream",
          "name": "stdout",
          "text": [
            "Found 340 files belonging to 2 classes.\n",
            "Using 272 files for training.\n",
            "Found 340 files belonging to 2 classes.\n",
            "Using 68 files for validation.\n",
            "Found 254 files belonging to 2 classes.\n"
          ]
        }
      ]
    },
    {
      "cell_type": "markdown",
      "source": [
        "### Selecting a BERT Model"
      ],
      "metadata": {
        "id": "0DZL5w2bhAaN"
      }
    },
    {
      "cell_type": "code",
      "source": [
        "#@title Choose a BERT model to fine-tune for Positive and Negative Word List Model\n",
        "\n",
        "nsd_bert_model_name = 'small_bert/bert_en_uncased_L-4_H-512_A-8'  #@param [\"bert_en_uncased_L-12_H-768_A-12\", \"bert_en_cased_L-12_H-768_A-12\", \"bert_multi_cased_L-12_H-768_A-12\", \"small_bert/bert_en_uncased_L-2_H-128_A-2\", \"small_bert/bert_en_uncased_L-2_H-256_A-4\", \"small_bert/bert_en_uncased_L-2_H-512_A-8\", \"small_bert/bert_en_uncased_L-2_H-768_A-12\", \"small_bert/bert_en_uncased_L-4_H-128_A-2\", \"small_bert/bert_en_uncased_L-4_H-256_A-4\", \"small_bert/bert_en_uncased_L-4_H-512_A-8\", \"small_bert/bert_en_uncased_L-4_H-768_A-12\", \"small_bert/bert_en_uncased_L-6_H-128_A-2\", \"small_bert/bert_en_uncased_L-6_H-256_A-4\", \"small_bert/bert_en_uncased_L-6_H-512_A-8\", \"small_bert/bert_en_uncased_L-6_H-768_A-12\", \"small_bert/bert_en_uncased_L-8_H-128_A-2\", \"small_bert/bert_en_uncased_L-8_H-256_A-4\", \"small_bert/bert_en_uncased_L-8_H-512_A-8\", \"small_bert/bert_en_uncased_L-8_H-768_A-12\", \"small_bert/bert_en_uncased_L-10_H-128_A-2\", \"small_bert/bert_en_uncased_L-10_H-256_A-4\", \"small_bert/bert_en_uncased_L-10_H-512_A-8\", \"small_bert/bert_en_uncased_L-10_H-768_A-12\", \"small_bert/bert_en_uncased_L-12_H-128_A-2\", \"small_bert/bert_en_uncased_L-12_H-256_A-4\", \"small_bert/bert_en_uncased_L-12_H-512_A-8\", \"small_bert/bert_en_uncased_L-12_H-768_A-12\", \"albert_en_base\", \"electra_small\", \"electra_base\", \"experts_pubmed\", \"experts_wiki_books\", \"talking-heads_base\"]\n",
        "\n",
        "\n",
        "nsd_tfhub_handle_encoder = map_name_to_handle[nsd_bert_model_name]\n",
        "nsd_tfhub_handle_preprocess = map_model_to_preprocess[nsd_bert_model_name]\n",
        "\n",
        "print(f'BERT model selected           : {nsd_tfhub_handle_encoder}')\n",
        "print(f'Preprocess model auto-selected: {nsd_tfhub_handle_preprocess}')"
      ],
      "metadata": {
        "colab": {
          "base_uri": "https://localhost:8080/"
        },
        "id": "BKdDnJMShU6v",
        "outputId": "3b346ae2-0e31-4be9-df54-2b8097387cc2"
      },
      "execution_count": null,
      "outputs": [
        {
          "output_type": "stream",
          "name": "stdout",
          "text": [
            "BERT model selected           : https://tfhub.dev/tensorflow/small_bert/bert_en_uncased_L-4_H-512_A-8/1\n",
            "Preprocess model auto-selected: https://tfhub.dev/tensorflow/bert_en_uncased_preprocess/3\n"
          ]
        }
      ]
    },
    {
      "cell_type": "code",
      "source": [
        "nsd_bert_preprocess_model = hub.KerasLayer(nsd_tfhub_handle_preprocess)"
      ],
      "metadata": {
        "id": "bTk_bp14iyVx"
      },
      "execution_count": null,
      "outputs": []
    },
    {
      "cell_type": "code",
      "source": [
        "nsd_bert_model = hub.KerasLayer(nsd_tfhub_handle_encoder)"
      ],
      "metadata": {
        "id": "TilViebsizMa"
      },
      "execution_count": null,
      "outputs": []
    },
    {
      "cell_type": "markdown",
      "source": [
        "### Using the BERT Model"
      ],
      "metadata": {
        "id": "hZqv4xMDhE4R"
      }
    },
    {
      "cell_type": "code",
      "source": [
        "nsd_classifier_model = build_classifier_model(nsd_tfhub_handle_preprocess, nsd_tfhub_handle_encoder)\n",
        "tf.keras.utils.plot_model(nsd_classifier_model)"
      ],
      "metadata": {
        "colab": {
          "base_uri": "https://localhost:8080/"
        },
        "id": "0FoDCya2hVSm",
        "outputId": "cd5476cd-9823-434b-a536-5889d2a54281"
      },
      "execution_count": null,
      "outputs": [
        {
          "output_type": "execute_result",
          "data": {
            "image/png": "[encoded data removed]",
            "text/plain": [
              "<IPython.core.display.Image object>"
            ]
          },
          "metadata": {},
          "execution_count": 65
        }
      ]
    },
    {
      "cell_type": "code",
      "source": [
        "nsd_loss = tf.keras.losses.BinaryCrossentropy(from_logits=True)\n",
        "nsd_metrics = tf.metrics.BinaryAccuracy()\n",
        "\n",
        "nsd_epochs = 10\n",
        "nsd_steps_per_epoch = tf.data.experimental.cardinality(nsd_train_ds).numpy()\n",
        "nsd_num_train_steps = nsd_steps_per_epoch * nsd_epochs\n",
        "nsd_num_warmup_steps = int(0.1*nsd_num_train_steps)\n",
        "\n",
        "nsd_init_lr = 3e-5\n",
        "nsd_optimizer = optimization.create_optimizer(init_lr=nsd_init_lr,\n",
        "                                          num_train_steps=nsd_num_train_steps,\n",
        "                                          num_warmup_steps=nsd_num_warmup_steps,\n",
        "                                          optimizer_type='adamw')"
      ],
      "metadata": {
        "id": "L761Zrw2i8uJ"
      },
      "execution_count": null,
      "outputs": []
    },
    {
      "cell_type": "code",
      "source": [
        "nsd_classifier_model.compile(optimizer=nsd_optimizer,\n",
        "                         loss=nsd_loss,\n",
        "                         metrics=nsd_metrics)\n",
        "\n",
        "nsd_history = nsd_classifier_model.fit(x=nsd_train_ds,\n",
        "                               validation_data=nsd_val_ds,\n",
        "                               epochs=nsd_epochs)"
      ],
      "metadata": {
        "colab": {
          "base_uri": "https://localhost:8080/"
        },
        "id": "dU8D18qTi_Uf",
        "outputId": "d6e617c8-a773-49ed-f5eb-5661cd54a872"
      },
      "execution_count": null,
      "outputs": [
        {
          "output_type": "stream",
          "name": "stdout",
          "text": [
            "Epoch 1/10\n",
            "9/9 [==============================] - 11s 359ms/step - loss: 0.9258 - binary_accuracy: 0.3529 - val_loss: 0.6171 - val_binary_accuracy: 0.7206\n",
            "Epoch 2/10\n",
            "9/9 [==============================] - 2s 230ms/step - loss: 0.6262 - binary_accuracy: 0.7096 - val_loss: 0.5630 - val_binary_accuracy: 0.7500\n",
            "Epoch 3/10\n",
            "9/9 [==============================] - 2s 233ms/step - loss: 0.5100 - binary_accuracy: 0.7684 - val_loss: 0.5127 - val_binary_accuracy: 0.6471\n",
            "Epoch 4/10\n",
            "9/9 [==============================] - 2s 234ms/step - loss: 0.4575 - binary_accuracy: 0.8015 - val_loss: 0.4607 - val_binary_accuracy: 0.8088\n",
            "Epoch 5/10\n",
            "9/9 [==============================] - 2s 258ms/step - loss: 0.3995 - binary_accuracy: 0.8309 - val_loss: 0.4282 - val_binary_accuracy: 0.8235\n",
            "Epoch 6/10\n",
            "9/9 [==============================] - 3s 303ms/step - loss: 0.3363 - binary_accuracy: 0.8566 - val_loss: 0.4171 - val_binary_accuracy: 0.8088\n",
            "Epoch 7/10\n",
            "9/9 [==============================] - 2s 231ms/step - loss: 0.2968 - binary_accuracy: 0.9007 - val_loss: 0.4099 - val_binary_accuracy: 0.8088\n",
            "Epoch 8/10\n",
            "9/9 [==============================] - 2s 236ms/step - loss: 0.2507 - binary_accuracy: 0.9081 - val_loss: 0.4034 - val_binary_accuracy: 0.7941\n",
            "Epoch 9/10\n",
            "9/9 [==============================] - 2s 234ms/step - loss: 0.2449 - binary_accuracy: 0.9265 - val_loss: 0.4031 - val_binary_accuracy: 0.7941\n",
            "Epoch 10/10\n",
            "9/9 [==============================] - 2s 233ms/step - loss: 0.2179 - binary_accuracy: 0.9338 - val_loss: 0.4015 - val_binary_accuracy: 0.7941\n"
          ]
        }
      ]
    },
    {
      "cell_type": "markdown",
      "source": [
        "### Evaluating the Model"
      ],
      "metadata": {
        "id": "CfNtKLINhHdT"
      }
    },
    {
      "cell_type": "code",
      "source": [
        "nsd_history_dict = nsd_history.history\n",
        "print(nsd_history_dict.keys())\n",
        "\n",
        "nsd_acc = nsd_history_dict['binary_accuracy']\n",
        "nsd_val_acc = nsd_history_dict['val_binary_accuracy']\n",
        "nsd_loss = nsd_history_dict['loss']\n",
        "nsd_val_loss = nsd_history_dict['val_loss']\n",
        "\n",
        "nsd_epochs = range(1, len(nsd_acc) + 1)\n",
        "nsd_fig = plt.figure(figsize=(10, 6))\n",
        "nsd_fig.tight_layout()\n",
        "\n",
        "plt.subplot(2, 1, 1)\n",
        "\n",
        "plt.plot(nsd_epochs, nsd_loss, 'r', label='Training loss')\n",
        "\n",
        "plt.plot(nsd_epochs, nsd_val_loss, 'b', label='Validation loss')\n",
        "plt.title('Training and validation loss')\n",
        "\n",
        "plt.ylabel('Loss')\n",
        "plt.legend()\n",
        "\n",
        "plt.subplot(2, 1, 2)\n",
        "plt.plot(nsd_epochs, nsd_acc, 'r', label='Training acc')\n",
        "plt.plot(nsd_epochs, nsd_val_acc, 'b', label='Validation acc')\n",
        "plt.title('Training and validation accuracy')\n",
        "plt.xlabel('Epochs')\n",
        "plt.ylabel('Accuracy')"
      ],
      "metadata": {
        "colab": {
          "base_uri": "https://localhost:8080/"
        },
        "id": "MCc8wa9ehVuC",
        "outputId": "217caebd-17d4-475f-9509-2f27542ec85b"
      },
      "execution_count": null,
      "outputs": [
        {
          "output_type": "stream",
          "name": "stdout",
          "text": [
            "dict_keys(['loss', 'binary_accuracy', 'val_loss', 'val_binary_accuracy'])\n"
          ]
        },
        {
          "output_type": "execute_result",
          "data": {
            "text/plain": [
              "Text(0, 0.5, 'Accuracy')"
            ]
          },
          "metadata": {},
          "execution_count": 68
        },
        {
          "output_type": "display_data",
          "data": {
            "text/plain": [
              "<Figure size 1000x600 with 2 Axes>"
            ],
            "image/png": "[encoded data removed]"
          },
          "metadata": {}
        }
      ]
    },
    {
      "cell_type": "markdown",
      "source": [
        "### Make Predictions"
      ],
      "metadata": {
        "id": "Hg68RHcNhKQP"
      }
    },
    {
      "cell_type": "code",
      "source": [
        "# nsd_eval_data = np.concatenate([atn_array(100), mnh_array(100)], 0)\n",
        "nsd_df = pd.DataFrame(np.squeeze(nsd_classifier_model.predict(eval_data)), columns=['News Sentiment Dataset Model'])\n",
        "nsd_df.insert(1, \"Title\", eval_data, True)\n",
        "nsd_df"
      ],
      "metadata": {
        "colab": {
          "base_uri": "https://localhost:8080/"
        },
        "id": "adYgocjlhWYd",
        "outputId": "f08c6c11-ed32-46a9-d53e-bd0a357289e0"
      },
      "execution_count": null,
      "outputs": [
        {
          "output_type": "stream",
          "name": "stdout",
          "text": [
            "7/7 [==============================] - 2s 141ms/step\n"
          ]
        },
        {
          "output_type": "execute_result",
          "data": {
            "text/plain": [
              "     News Sentiment Dataset Model  \\\n",
              "0                        2.802962   \n",
              "1                        2.521557   \n",
              "2                       -0.927634   \n",
              "3                        0.693936   \n",
              "4                        1.577643   \n",
              "..                            ...   \n",
              "195                      0.816248   \n",
              "196                      1.522570   \n",
              "197                     -0.127026   \n",
              "198                      1.289493   \n",
              "199                      1.455028   \n",
              "\n",
              "                                                 Title  \n",
              "0      Girl Scouts refuse gift with transgender limits  \n",
              "1            American to launch Dreamliner 787 service  \n",
              "2    15 Times Celebrities Envisioned Violence Again...  \n",
              "3    Deadly Northern California Wildfire Spreads - ...  \n",
              "4    How Millennials Became Spooked by Credit Cards...  \n",
              "..                                                 ...  \n",
              "195    moutiaa el zahed gives the islamic state salute  \n",
              "196  afp defends raiding abc office annika smethurs...  \n",
              "197                           interview david williams  \n",
              "198  top sprint cyclists put through paces ahead of...  \n",
              "199                         tonga welcomes aid changes  \n",
              "\n",
              "[200 rows x 2 columns]"
            ],
            "text/html": [
              "\n",
              "  <div id=\"df-346bc8d2-2849-4da9-b6df-161dfb7d598d\">\n",
              "    <div class=\"colab-df-container\">\n",
              "      <div>\n",
              "<style scoped>\n",
              "    .dataframe tbody tr th:only-of-type {\n",
              "        vertical-align: middle;\n",
              "    }\n",
              "\n",
              "    .dataframe tbody tr th {\n",
              "        vertical-align: top;\n",
              "    }\n",
              "\n",
              "    .dataframe thead th {\n",
              "        text-align: right;\n",
              "    }\n",
              "</style>\n",
              "<table border=\"1\" class=\"dataframe\">\n",
              "  <thead>\n",
              "    <tr style=\"text-align: right;\">\n",
              "      <th></th>\n",
              "      <th>News Sentiment Dataset Model</th>\n",
              "      <th>Title</th>\n",
              "    </tr>\n",
              "  </thead>\n",
              "  <tbody>\n",
              "    <tr>\n",
              "      <th>0</th>\n",
              "      <td>2.802962</td>\n",
              "      <td>Girl Scouts refuse gift with transgender limits</td>\n",
              "    </tr>\n",
              "    <tr>\n",
              "      <th>1</th>\n",
              "      <td>2.521557</td>\n",
              "      <td>American to launch Dreamliner 787 service</td>\n",
              "    </tr>\n",
              "    <tr>\n",
              "      <th>2</th>\n",
              "      <td>-0.927634</td>\n",
              "      <td>15 Times Celebrities Envisioned Violence Again...</td>\n",
              "    </tr>\n",
              "    <tr>\n",
              "      <th>3</th>\n",
              "      <td>0.693936</td>\n",
              "      <td>Deadly Northern California Wildfire Spreads - ...</td>\n",
              "    </tr>\n",
              "    <tr>\n",
              "      <th>4</th>\n",
              "      <td>1.577643</td>\n",
              "      <td>How Millennials Became Spooked by Credit Cards...</td>\n",
              "    </tr>\n",
              "    <tr>\n",
              "      <th>...</th>\n",
              "      <td>...</td>\n",
              "      <td>...</td>\n",
              "    </tr>\n",
              "    <tr>\n",
              "      <th>195</th>\n",
              "      <td>0.816248</td>\n",
              "      <td>moutiaa el zahed gives the islamic state salute</td>\n",
              "    </tr>\n",
              "    <tr>\n",
              "      <th>196</th>\n",
              "      <td>1.522570</td>\n",
              "      <td>afp defends raiding abc office annika smethurs...</td>\n",
              "    </tr>\n",
              "    <tr>\n",
              "      <th>197</th>\n",
              "      <td>-0.127026</td>\n",
              "      <td>interview david williams</td>\n",
              "    </tr>\n",
              "    <tr>\n",
              "      <th>198</th>\n",
              "      <td>1.289493</td>\n",
              "      <td>top sprint cyclists put through paces ahead of...</td>\n",
              "    </tr>\n",
              "    <tr>\n",
              "      <th>199</th>\n",
              "      <td>1.455028</td>\n",
              "      <td>tonga welcomes aid changes</td>\n",
              "    </tr>\n",
              "  </tbody>\n",
              "</table>\n",
              "<p>200 rows × 2 columns</p>\n",
              "</div>\n",
              "      <button class=\"colab-df-convert\" onclick=\"convertToInteractive('df-346bc8d2-2849-4da9-b6df-161dfb7d598d')\"\n",
              "              title=\"Convert this dataframe to an interactive table.\"\n",
              "              style=\"display:none;\">\n",
              "        \n",
              "  <svg xmlns=\"http://www.w3.org/2000/svg\" height=\"24px\"viewBox=\"0 0 24 24\"\n",
              "       width=\"24px\">\n",
              "    <path d=\"M0 0h24v24H0V0z\" fill=\"none\"/>\n",
              "    <path d=\"M18.56 5.44l.94 2.06.94-2.06 2.06-.94-2.06-.94-.94-2.06-.94 2.06-2.06.94zm-11 1L8.5 8.5l.94-2.06 2.06-.94-2.06-.94L8.5 2.5l-.94 2.06-2.06.94zm10 10l.94 2.06.94-2.06 2.06-.94-2.06-.94-.94-2.06-.94 2.06-2.06.94z\"/><path d=\"M17.41 7.96l-1.37-1.37c-.4-.4-.92-.59-1.43-.59-.52 0-1.04.2-1.43.59L10.3 9.45l-7.72 7.72c-.78.78-.78 2.05 0 2.83L4 21.41c.39.39.9.59 1.41.59.51 0 1.02-.2 1.41-.59l7.78-7.78 2.81-2.81c.8-.78.8-2.07 0-2.86zM5.41 20L4 18.59l7.72-7.72 1.47 1.35L5.41 20z\"/>\n",
              "  </svg>\n",
              "      </button>\n",
              "      \n",
              "  <style>\n",
              "    .colab-df-container {\n",
              "      display:flex;\n",
              "      flex-wrap:wrap;\n",
              "      gap: 12px;\n",
              "    }\n",
              "\n",
              "    .colab-df-convert {\n",
              "      background-color: #E8F0FE;\n",
              "      border: none;\n",
              "      border-radius: 50%;\n",
              "      cursor: pointer;\n",
              "      display: none;\n",
              "      fill: #1967D2;\n",
              "      height: 32px;\n",
              "      padding: 0 0 0 0;\n",
              "      width: 32px;\n",
              "    }\n",
              "\n",
              "    .colab-df-convert:hover {\n",
              "      background-color: #E2EBFA;\n",
              "      box-shadow: 0px 1px 2px rgba(60, 64, 67, 0.3), 0px 1px 3px 1px rgba(60, 64, 67, 0.15);\n",
              "      fill: #174EA6;\n",
              "    }\n",
              "\n",
              "    [theme=dark] .colab-df-convert {\n",
              "      background-color: #3B4455;\n",
              "      fill: #D2E3FC;\n",
              "    }\n",
              "\n",
              "    [theme=dark] .colab-df-convert:hover {\n",
              "      background-color: #434B5C;\n",
              "      box-shadow: 0px 1px 3px 1px rgba(0, 0, 0, 0.15);\n",
              "      filter: drop-shadow(0px 1px 2px rgba(0, 0, 0, 0.3));\n",
              "      fill: #FFFFFF;\n",
              "    }\n",
              "  </style>\n",
              "\n",
              "      <script>\n",
              "        const buttonEl =\n",
              "          document.querySelector('#df-346bc8d2-2849-4da9-b6df-161dfb7d598d button.colab-df-convert');\n",
              "        buttonEl.style.display =\n",
              "          google.colab.kernel.accessAllowed ? 'block' : 'none';\n",
              "\n",
              "        async function convertToInteractive(key) {\n",
              "          const element = document.querySelector('#df-346bc8d2-2849-4da9-b6df-161dfb7d598d');\n",
              "          const dataTable =\n",
              "            await google.colab.kernel.invokeFunction('convertToInteractive',\n",
              "                                                     [key], {});\n",
              "          if (!dataTable) return;\n",
              "\n",
              "          const docLinkHtml = 'Like what you see? Visit the ' +\n",
              "            '<a target=\"_blank\" href=https://colab.research.google.com/notebooks/data_table.ipynb>data table notebook</a>'\n",
              "            + ' to learn more about interactive tables.';\n",
              "          element.innerHTML = '';\n",
              "          dataTable['output_type'] = 'display_data';\n",
              "          await google.colab.output.renderOutput(dataTable, element);\n",
              "          const docLink = document.createElement('div');\n",
              "          docLink.innerHTML = docLinkHtml;\n",
              "          element.appendChild(docLink);\n",
              "        }\n",
              "      </script>\n",
              "    </div>\n",
              "  </div>\n",
              "  "
            ]
          },
          "metadata": {},
          "execution_count": 69
        }
      ]
    },
    {
      "cell_type": "markdown",
      "source": [
        "### Compare predictions with the other models"
      ],
      "metadata": {
        "id": "MEWmfcRChOIX"
      }
    },
    {
      "cell_type": "code",
      "source": [
        "overall_df.insert(0, \"News Sentiment Dataset Model\", nsd_df['News Sentiment Dataset Model'])\n",
        "overall_df"
      ],
      "metadata": {
        "colab": {
          "base_uri": "https://localhost:8080/"
        },
        "id": "WLODZ8PYhWw6",
        "outputId": "e0afcc10-ae37-4d58-861e-d4b7c486e408"
      },
      "execution_count": null,
      "outputs": [
        {
          "output_type": "execute_result",
          "data": {
            "text/plain": [
              "     News Sentiment Dataset Model  Pos & Neg Word List  IMDb Model  FPB Model  \\\n",
              "0                        2.802962            -4.871751   -0.733837  -5.805300   \n",
              "1                        2.521557             8.266789    1.946372   4.798319   \n",
              "2                       -0.927634             6.145327   -0.163686  -4.357934   \n",
              "3                        0.693936            -4.167357    0.435629  -3.547501   \n",
              "4                        1.577643            -4.333350    2.373650  -3.737055   \n",
              "..                            ...                  ...         ...        ...   \n",
              "195                      0.816248             8.317531    3.655803   0.817480   \n",
              "196                      1.522570             2.237307   -0.399266  -4.373072   \n",
              "197                     -0.127026             5.051312    2.530798   0.933000   \n",
              "198                      1.289493             6.351323    3.797237   1.491438   \n",
              "199                      1.455028             8.279448    5.351167   0.944576   \n",
              "\n",
              "                                                 Title  \n",
              "0      Girl Scouts refuse gift with transgender limits  \n",
              "1            American to launch Dreamliner 787 service  \n",
              "2    15 Times Celebrities Envisioned Violence Again...  \n",
              "3    Deadly Northern California Wildfire Spreads - ...  \n",
              "4    How Millennials Became Spooked by Credit Cards...  \n",
              "..                                                 ...  \n",
              "195    moutiaa el zahed gives the islamic state salute  \n",
              "196  afp defends raiding abc office annika smethurs...  \n",
              "197                           interview david williams  \n",
              "198  top sprint cyclists put through paces ahead of...  \n",
              "199                         tonga welcomes aid changes  \n",
              "\n",
              "[200 rows x 5 columns]"
            ],
            "text/html": [
              "\n",
              "  <div id=\"df-e822f505-46c5-4ff8-9ad3-e67106619990\">\n",
              "    <div class=\"colab-df-container\">\n",
              "      <div>\n",
              "<style scoped>\n",
              "    .dataframe tbody tr th:only-of-type {\n",
              "        vertical-align: middle;\n",
              "    }\n",
              "\n",
              "    .dataframe tbody tr th {\n",
              "        vertical-align: top;\n",
              "    }\n",
              "\n",
              "    .dataframe thead th {\n",
              "        text-align: right;\n",
              "    }\n",
              "</style>\n",
              "<table border=\"1\" class=\"dataframe\">\n",
              "  <thead>\n",
              "    <tr style=\"text-align: right;\">\n",
              "      <th></th>\n",
              "      <th>News Sentiment Dataset Model</th>\n",
              "      <th>Pos &amp; Neg Word List</th>\n",
              "      <th>IMDb Model</th>\n",
              "      <th>FPB Model</th>\n",
              "      <th>Title</th>\n",
              "    </tr>\n",
              "  </thead>\n",
              "  <tbody>\n",
              "    <tr>\n",
              "      <th>0</th>\n",
              "      <td>2.802962</td>\n",
              "      <td>-4.871751</td>\n",
              "      <td>-0.733837</td>\n",
              "      <td>-5.805300</td>\n",
              "      <td>Girl Scouts refuse gift with transgender limits</td>\n",
              "    </tr>\n",
              "    <tr>\n",
              "      <th>1</th>\n",
              "      <td>2.521557</td>\n",
              "      <td>8.266789</td>\n",
              "      <td>1.946372</td>\n",
              "      <td>4.798319</td>\n",
              "      <td>American to launch Dreamliner 787 service</td>\n",
              "    </tr>\n",
              "    <tr>\n",
              "      <th>2</th>\n",
              "      <td>-0.927634</td>\n",
              "      <td>6.145327</td>\n",
              "      <td>-0.163686</td>\n",
              "      <td>-4.357934</td>\n",
              "      <td>15 Times Celebrities Envisioned Violence Again...</td>\n",
              "    </tr>\n",
              "    <tr>\n",
              "      <th>3</th>\n",
              "      <td>0.693936</td>\n",
              "      <td>-4.167357</td>\n",
              "      <td>0.435629</td>\n",
              "      <td>-3.547501</td>\n",
              "      <td>Deadly Northern California Wildfire Spreads - ...</td>\n",
              "    </tr>\n",
              "    <tr>\n",
              "      <th>4</th>\n",
              "      <td>1.577643</td>\n",
              "      <td>-4.333350</td>\n",
              "      <td>2.373650</td>\n",
              "      <td>-3.737055</td>\n",
              "      <td>How Millennials Became Spooked by Credit Cards...</td>\n",
              "    </tr>\n",
              "    <tr>\n",
              "      <th>...</th>\n",
              "      <td>...</td>\n",
              "      <td>...</td>\n",
              "      <td>...</td>\n",
              "      <td>...</td>\n",
              "      <td>...</td>\n",
              "    </tr>\n",
              "    <tr>\n",
              "      <th>195</th>\n",
              "      <td>0.816248</td>\n",
              "      <td>8.317531</td>\n",
              "      <td>3.655803</td>\n",
              "      <td>0.817480</td>\n",
              "      <td>moutiaa el zahed gives the islamic state salute</td>\n",
              "    </tr>\n",
              "    <tr>\n",
              "      <th>196</th>\n",
              "      <td>1.522570</td>\n",
              "      <td>2.237307</td>\n",
              "      <td>-0.399266</td>\n",
              "      <td>-4.373072</td>\n",
              "      <td>afp defends raiding abc office annika smethurs...</td>\n",
              "    </tr>\n",
              "    <tr>\n",
              "      <th>197</th>\n",
              "      <td>-0.127026</td>\n",
              "      <td>5.051312</td>\n",
              "      <td>2.530798</td>\n",
              "      <td>0.933000</td>\n",
              "      <td>interview david williams</td>\n",
              "    </tr>\n",
              "    <tr>\n",
              "      <th>198</th>\n",
              "      <td>1.289493</td>\n",
              "      <td>6.351323</td>\n",
              "      <td>3.797237</td>\n",
              "      <td>1.491438</td>\n",
              "      <td>top sprint cyclists put through paces ahead of...</td>\n",
              "    </tr>\n",
              "    <tr>\n",
              "      <th>199</th>\n",
              "      <td>1.455028</td>\n",
              "      <td>8.279448</td>\n",
              "      <td>5.351167</td>\n",
              "      <td>0.944576</td>\n",
              "      <td>tonga welcomes aid changes</td>\n",
              "    </tr>\n",
              "  </tbody>\n",
              "</table>\n",
              "<p>200 rows × 5 columns</p>\n",
              "</div>\n",
              "      <button class=\"colab-df-convert\" onclick=\"convertToInteractive('df-e822f505-46c5-4ff8-9ad3-e67106619990')\"\n",
              "              title=\"Convert this dataframe to an interactive table.\"\n",
              "              style=\"display:none;\">\n",
              "        \n",
              "  <svg xmlns=\"http://www.w3.org/2000/svg\" height=\"24px\"viewBox=\"0 0 24 24\"\n",
              "       width=\"24px\">\n",
              "    <path d=\"M0 0h24v24H0V0z\" fill=\"none\"/>\n",
              "    <path d=\"M18.56 5.44l.94 2.06.94-2.06 2.06-.94-2.06-.94-.94-2.06-.94 2.06-2.06.94zm-11 1L8.5 8.5l.94-2.06 2.06-.94-2.06-.94L8.5 2.5l-.94 2.06-2.06.94zm10 10l.94 2.06.94-2.06 2.06-.94-2.06-.94-.94-2.06-.94 2.06-2.06.94z\"/><path d=\"M17.41 7.96l-1.37-1.37c-.4-.4-.92-.59-1.43-.59-.52 0-1.04.2-1.43.59L10.3 9.45l-7.72 7.72c-.78.78-.78 2.05 0 2.83L4 21.41c.39.39.9.59 1.41.59.51 0 1.02-.2 1.41-.59l7.78-7.78 2.81-2.81c.8-.78.8-2.07 0-2.86zM5.41 20L4 18.59l7.72-7.72 1.47 1.35L5.41 20z\"/>\n",
              "  </svg>\n",
              "      </button>\n",
              "      \n",
              "  <style>\n",
              "    .colab-df-container {\n",
              "      display:flex;\n",
              "      flex-wrap:wrap;\n",
              "      gap: 12px;\n",
              "    }\n",
              "\n",
              "    .colab-df-convert {\n",
              "      background-color: #E8F0FE;\n",
              "      border: none;\n",
              "      border-radius: 50%;\n",
              "      cursor: pointer;\n",
              "      display: none;\n",
              "      fill: #1967D2;\n",
              "      height: 32px;\n",
              "      padding: 0 0 0 0;\n",
              "      width: 32px;\n",
              "    }\n",
              "\n",
              "    .colab-df-convert:hover {\n",
              "      background-color: #E2EBFA;\n",
              "      box-shadow: 0px 1px 2px rgba(60, 64, 67, 0.3), 0px 1px 3px 1px rgba(60, 64, 67, 0.15);\n",
              "      fill: #174EA6;\n",
              "    }\n",
              "\n",
              "    [theme=dark] .colab-df-convert {\n",
              "      background-color: #3B4455;\n",
              "      fill: #D2E3FC;\n",
              "    }\n",
              "\n",
              "    [theme=dark] .colab-df-convert:hover {\n",
              "      background-color: #434B5C;\n",
              "      box-shadow: 0px 1px 3px 1px rgba(0, 0, 0, 0.15);\n",
              "      filter: drop-shadow(0px 1px 2px rgba(0, 0, 0, 0.3));\n",
              "      fill: #FFFFFF;\n",
              "    }\n",
              "  </style>\n",
              "\n",
              "      <script>\n",
              "        const buttonEl =\n",
              "          document.querySelector('#df-e822f505-46c5-4ff8-9ad3-e67106619990 button.colab-df-convert');\n",
              "        buttonEl.style.display =\n",
              "          google.colab.kernel.accessAllowed ? 'block' : 'none';\n",
              "\n",
              "        async function convertToInteractive(key) {\n",
              "          const element = document.querySelector('#df-e822f505-46c5-4ff8-9ad3-e67106619990');\n",
              "          const dataTable =\n",
              "            await google.colab.kernel.invokeFunction('convertToInteractive',\n",
              "                                                     [key], {});\n",
              "          if (!dataTable) return;\n",
              "\n",
              "          const docLinkHtml = 'Like what you see? Visit the ' +\n",
              "            '<a target=\"_blank\" href=https://colab.research.google.com/notebooks/data_table.ipynb>data table notebook</a>'\n",
              "            + ' to learn more about interactive tables.';\n",
              "          element.innerHTML = '';\n",
              "          dataTable['output_type'] = 'display_data';\n",
              "          await google.colab.output.renderOutput(dataTable, element);\n",
              "          const docLink = document.createElement('div');\n",
              "          docLink.innerHTML = docLinkHtml;\n",
              "          element.appendChild(docLink);\n",
              "        }\n",
              "      </script>\n",
              "    </div>\n",
              "  </div>\n",
              "  "
            ]
          },
          "metadata": {},
          "execution_count": 70
        }
      ]
    },
    {
      "cell_type": "markdown",
      "source": [
        "## Save All Models for later use"
      ],
      "metadata": {
        "id": "OFi_Fe4mAEO7"
      }
    },
    {
      "cell_type": "code",
      "source": [
        "!mkdir models"
      ],
      "metadata": {
        "id": "M-AuI-ihA7fQ",
        "colab": {
          "base_uri": "https://localhost:8080/"
        },
        "outputId": "1e8fa559-4679-4128-8d8b-dd1082a43a5b"
      },
      "execution_count": null,
      "outputs": [
        {
          "output_type": "stream",
          "name": "stdout",
          "text": [
            "mkdir: cannot create directory ‘models’: File exists\n"
          ]
        }
      ]
    },
    {
      "cell_type": "code",
      "source": [
        "imdb_classifier_model.save('models/imdb_classifier_model', include_optimizer=False)\n",
        "fpb_classifier_model.save('models/fpb_classifier_model', include_optimizer=False)\n",
        "pnw_classifier_model.save('models/pnw_classifier_model', include_optimizer=False)\n",
        "nsd_classifier_model.save('models/nsd_classifier_model', include_optimizer=False)"
      ],
      "metadata": {
        "id": "C8ql4V-UkWCx",
        "colab": {
          "base_uri": "https://localhost:8080/"
        },
        "outputId": "20b3e55c-5b0e-4334-836e-2d85e774900e"
      },
      "execution_count": null,
      "outputs": [
        {
          "output_type": "stream",
          "name": "stderr",
          "text": [
            "WARNING:absl:Found untraced functions such as restored_function_body, restored_function_body, restored_function_body, restored_function_body, restored_function_body while saving (showing 5 of 124). These functions will not be directly callable after loading.\n",
            "WARNING:absl:Found untraced functions such as restored_function_body, restored_function_body, restored_function_body, restored_function_body, restored_function_body while saving (showing 5 of 244). These functions will not be directly callable after loading.\n",
            "WARNING:absl:Found untraced functions such as restored_function_body, restored_function_body, restored_function_body, restored_function_body, restored_function_body while saving (showing 5 of 364). These functions will not be directly callable after loading.\n",
            "WARNING:absl:Found untraced functions such as restored_function_body, restored_function_body, restored_function_body, restored_function_body, restored_function_body while saving (showing 5 of 124). These functions will not be directly callable after loading.\n"
          ]
        }
      ]
    },
    {
      "cell_type": "code",
      "source": [
        "!cp -R \"models/imdb_classifier_model\" \"/content/drive/MyDrive/Colab Notebooks/Daily Sunshine App/models/imdb_classifier_model\"\n",
        "!cp -R \"models/fpb_classifier_model\" \"/content/drive/MyDrive/Colab Notebooks/Daily Sunshine App/models/fpb_classifier_model\"\n",
        "!cp -R \"models/pnw_classifier_model\" \"/content/drive/MyDrive/Colab Notebooks/Daily Sunshine App/models/pnw_classifier_model\"\n",
        "!cp -R \"models/nsd_classifier_model\" \"/content/drive/MyDrive/Colab Notebooks/Daily Sunshine App/models/nsd_classifier_model\""
      ],
      "metadata": {
        "id": "FA8FwKzIBXGK"
      },
      "execution_count": null,
      "outputs": []
    },
    {
      "cell_type": "markdown",
      "source": [
        "## Load Previously Built Models"
      ],
      "metadata": {
        "id": "rO1N8tDBDhLa"
      }
    },
    {
      "cell_type": "code",
      "source": [
        "!rm -rf models\n",
        "!mkdir models"
      ],
      "metadata": {
        "id": "7qDwbhxwE023"
      },
      "execution_count": 3,
      "outputs": []
    },
    {
      "cell_type": "code",
      "source": [
        "# Copy models from Google Drive\n",
        "# !cp -R \"/content/drive/MyDrive/Colab Notebooks/Daily Sunshine App/models/imdb_classifier_model\" \"models/imdb_classifier_model\"\n",
        "# !cp -R \"/content/drive/MyDrive/Colab Notebooks/Daily Sunshine App/models/fpb_classifier_model\" \"models/fpb_classifier_model\"\n",
        "!cp -R \"/content/drive/MyDrive/Colab Notebooks/Daily Sunshine App/models/pnw_classifier_model\" \"models/pnw_classifier_model\"\n",
        "# !cp -R \"/content/drive/MyDrive/Colab Notebooks/Daily Sunshine App/models/nsd_classifier_model\" \"models/nsd_classifier_model\""
      ],
      "metadata": {
        "id": "2lhLpVdwDm_J"
      },
      "execution_count": 4,
      "outputs": []
    },
    {
      "cell_type": "code",
      "source": [
        "# imdb_model = tf.saved_model.load('models/imdb_classifier_model')\n",
        "# fpb_model = tf.saved_model.load('models/fpb_classifier_model')\n",
        "pnw_model = tf.saved_model.load('models/pnw_classifier_model')\n",
        "# nsd_model = tf.saved_model.load('models/nsd_classifier_model')"
      ],
      "metadata": {
        "id": "vkh4PULyEENC"
      },
      "execution_count": 5,
      "outputs": []
    },
    {
      "cell_type": "markdown",
      "source": [
        "## Creating a Script for connecting to NewsAPI.org API"
      ],
      "metadata": {
        "id": "ZskOgERu62Xy"
      }
    },
    {
      "cell_type": "code",
      "source": [
        "!pip install newsapi-python"
      ],
      "metadata": {
        "colab": {
          "base_uri": "https://localhost:8080/"
        },
        "id": "4vXMFO5b9A4l",
        "outputId": "83789e86-883f-47b7-a19f-8a8cba5d507f"
      },
      "execution_count": 6,
      "outputs": [
        {
          "output_type": "stream",
          "name": "stdout",
          "text": [
            "Looking in indexes: https://pypi.org/simple, https://us-python.pkg.dev/colab-wheels/public/simple/\n",
            "Requirement already satisfied: newsapi-python in /usr/local/lib/python3.10/dist-packages (0.2.7)\n",
            "Requirement already satisfied: requests<3.0.0 in /usr/local/lib/python3.10/dist-packages (from newsapi-python) (2.27.1)\n",
            "Requirement already satisfied: urllib3<1.27,>=1.21.1 in /usr/local/lib/python3.10/dist-packages (from requests<3.0.0->newsapi-python) (1.26.15)\n",
            "Requirement already satisfied: certifi>=2017.4.17 in /usr/local/lib/python3.10/dist-packages (from requests<3.0.0->newsapi-python) (2022.12.7)\n",
            "Requirement already satisfied: charset-normalizer~=2.0.0 in /usr/local/lib/python3.10/dist-packages (from requests<3.0.0->newsapi-python) (2.0.12)\n",
            "Requirement already satisfied: idna<4,>=2.5 in /usr/local/lib/python3.10/dist-packages (from requests<3.0.0->newsapi-python) (3.4)\n"
          ]
        }
      ]
    },
    {
      "cell_type": "code",
      "source": [
        "#@title API KEY { display-mode: \"form\" }\n",
        "\n",
        "API_KEY = 'a476e6c66455446f8251b87a2e598384' #@param {type:\"string\"}"
      ],
      "metadata": {
        "id": "Ok9WtTz38bBj"
      },
      "execution_count": 7,
      "outputs": []
    },
    {
      "cell_type": "code",
      "source": [
        "from newsapi import NewsApiClient\n",
        "newsapi = NewsApiClient(api_key=API_KEY)"
      ],
      "metadata": {
        "id": "pOXWC4jP9P06"
      },
      "execution_count": 8,
      "outputs": []
    },
    {
      "cell_type": "markdown",
      "source": [
        "### `Everything` endpoint"
      ],
      "metadata": {
        "id": "HNol2RqG6-yC"
      }
    },
    {
      "cell_type": "markdown",
      "source": [
        "It is necessary to enter a search query for this endpoint to work as the data returned by it is quite vast. If this value is not provided, then NewsAPI returns an error."
      ],
      "metadata": {
        "id": "yDAOVPQt7xyj"
      }
    },
    {
      "cell_type": "code",
      "source": [
        "#@title Search Query Parameters { display-mode: \"form\" }\n",
        "#@markdown Enter a list of keywords that should be used for fetching the articles <br> The input must be in the form of a python list of strings i.e. <br> ***\\['apple', 'banana', 'carrot', 'dates'\\]***\n",
        "keywords = ['ai', 'health', 'environment', 'life', 'pet', 'finance', 'growth'] #@param {type:\"raw\"}\n",
        "\n",
        "#@markdown Enter a date that the oldest article in the results can have <br> Default is 'current day'\n",
        "from_date = \"2023-05-28\" #@param {type:\"date\"}"
      ],
      "metadata": {
        "id": "wDkbT96T7ee2"
      },
      "execution_count": 9,
      "outputs": []
    },
    {
      "cell_type": "code",
      "source": [
        "# Run a loop for all keywords\n",
        "all_articles = []\n",
        "\n",
        "for query in keywords:\n",
        "  print('Currently searching for articles with the keyword', query)\n",
        "  query_articles = newsapi.get_everything(q=query,\n",
        "                                      from_param=from_date,\n",
        "                                      language='en',\n",
        "                                      )\n",
        "  if query_articles['totalResults'] > 100:\n",
        "    for i in range((query_articles['totalResults'] // 100)-2):\n",
        "      if (i > 20) :\n",
        "        break\n",
        "      try:\n",
        "        next_query_articles = newsapi.get_everything(q=query,\n",
        "                                          from_param=from_date,\n",
        "                                          language='en',\n",
        "                                          page = i+2\n",
        "                                          )\n",
        "        \n",
        "        query_articles['articles'] += next_query_articles['articles']\n",
        "      except:\n",
        "        break\n",
        "\n",
        "  print('Articles collected -', len(query_articles['articles']))\n",
        "  all_articles += query_articles['articles']\n",
        "\n",
        "print('\\nTotal number of articles collected -', len(all_articles))"
      ],
      "metadata": {
        "colab": {
          "base_uri": "https://localhost:8080/"
        },
        "id": "v53fSi8RgCKv",
        "outputId": "a1a85055-08e2-4867-d2ef-2a8d40d28dfd"
      },
      "execution_count": 10,
      "outputs": [
        {
          "output_type": "stream",
          "name": "stdout",
          "text": [
            "Currently searching for articles with the keyword ai\n",
            "Articles collected - 500\n",
            "Currently searching for articles with the keyword health\n",
            "Articles collected - 500\n",
            "Currently searching for articles with the keyword environment\n",
            "Articles collected - 500\n",
            "Currently searching for articles with the keyword life\n",
            "Articles collected - 500\n",
            "Currently searching for articles with the keyword pet\n",
            "Articles collected - 96\n",
            "Currently searching for articles with the keyword finance\n",
            "Articles collected - 400\n",
            "Currently searching for articles with the keyword growth\n",
            "Articles collected - 500\n",
            "\n",
            "Total number of articles collected - 2996\n"
          ]
        }
      ]
    },
    {
      "cell_type": "code",
      "source": [
        "# Create a Dataframe of articles\n",
        "import pandas as pd\n",
        "\n",
        "everything_df = pd.DataFrame(all_articles)\n",
        "everything_df.drop_duplicates(subset=\"title\", keep=False, inplace=True)"
      ],
      "metadata": {
        "id": "gc0reyy69kVG"
      },
      "execution_count": 23,
      "outputs": []
    },
    {
      "cell_type": "markdown",
      "source": [
        "### Run Predictions on the titles\n",
        "\n"
      ],
      "metadata": {
        "id": "sdrFh15PBPqk"
      }
    },
    {
      "cell_type": "code",
      "source": [
        "everything_df['PosNeg Score'] = 0\n",
        "for i in range(len(everything_df) // 100):\n",
        "  print('Iteration', i+1, 'of', len(everything_df) // 100)\n",
        "  everything_df.iloc[i*100:(i+1)*100, 8] = np.squeeze(pnw_model(everything_df[i*100:(i+1)*100]['title']))\n",
        "\n",
        "if not len(everything_df) % 100 == 0:\n",
        "  everything_df.iloc[-(len(everything_df) % 100):, 8] = np.squeeze(pnw_model(everything_df[-(len(everything_df) % 100):]['title']))"
      ],
      "metadata": {
        "colab": {
          "base_uri": "https://localhost:8080/"
        },
        "id": "MZEdfa2GlFj0",
        "outputId": "2bb8a18a-c111-4e43-b9a0-553a25d25e26"
      },
      "execution_count": 24,
      "outputs": [
        {
          "output_type": "stream",
          "name": "stdout",
          "text": [
            "Iteration 1 of 19\n",
            "Iteration 2 of 19\n",
            "Iteration 3 of 19\n",
            "Iteration 4 of 19\n",
            "Iteration 5 of 19\n",
            "Iteration 6 of 19\n",
            "Iteration 7 of 19\n",
            "Iteration 8 of 19\n",
            "Iteration 9 of 19\n",
            "Iteration 10 of 19\n",
            "Iteration 11 of 19\n",
            "Iteration 12 of 19\n",
            "Iteration 13 of 19\n",
            "Iteration 14 of 19\n",
            "Iteration 15 of 19\n",
            "Iteration 16 of 19\n",
            "Iteration 17 of 19\n",
            "Iteration 18 of 19\n",
            "Iteration 19 of 19\n"
          ]
        }
      ]
    },
    {
      "cell_type": "code",
      "source": [
        "everything_df.insert(9, \"PosNeg Confidence\", tf.sigmoid(everything_df['PosNeg Score']), True)\n",
        "everything_df"
      ],
      "metadata": {
        "colab": {
          "base_uri": "https://localhost:8080/",
          "height": 0
        },
        "id": "pEAdfBHjvm7Y",
        "outputId": "a3cf2960-a5b6-439e-8628-465b6d146e7b"
      },
      "execution_count": 25,
      "outputs": [
        {
          "output_type": "execute_result",
          "data": {
            "text/plain": [
              "                                                 source  \\\n",
              "0     {'id': 'business-insider', 'name': 'Business I...   \n",
              "1                      {'id': None, 'name': 'Hackaday'}   \n",
              "2                      {'id': None, 'name': 'Hackaday'}   \n",
              "6                   {'id': None, 'name': 'VentureBeat'}   \n",
              "9                   {'id': None, 'name': 'VentureBeat'}   \n",
              "...                                                 ...   \n",
              "2987                    {'id': None, 'name': 'Vulture'}   \n",
              "2988                    {'id': None, 'name': 'Vulture'}   \n",
              "2989              {'id': None, 'name': 'Bitrebels.com'}   \n",
              "2990                     {'id': None, 'name': 'Forbes'}   \n",
              "2994           {'id': None, 'name': 'Ozbargain.com.au'}   \n",
              "\n",
              "                                                 author  \\\n",
              "0                             Jyoti Mann,Beatrice Nolan   \n",
              "1                                           Al Williams   \n",
              "2                                           Donald Papp   \n",
              "6             Suhail Nimji, Jasper, Saad Ansari, Jasper   \n",
              "9                                            Victor Dey   \n",
              "...                                                 ...   \n",
              "2987                                     Maggie Fremont   \n",
              "2988                                     Maggie Fremont   \n",
              "2989                                        Marc Solano   \n",
              "2990  Jordan Thomas, Forbes Staff, \\n Jordan Thomas,...   \n",
              "2994                                               Odin   \n",
              "\n",
              "                                                  title  \\\n",
              "0     The music industry is freaking out about AI — ...   \n",
              "1                                AI Creates Killer Drug   \n",
              "2             AI Image Generation Gets a Drag Interface   \n",
              "6     How generative AI can revolutionize customizat...   \n",
              "9     Nvidia CEO reveals groundbreaking generative A...   \n",
              "...                                                 ...   \n",
              "2987  Somebody, Somewhere Recap: The Fred Rococo Bac...   \n",
              "2988  Somebody Somewhere Season-Finale Recap: A Craz...   \n",
              "2989  3 Best Websites To Buy TikTok Followers (Activ...   \n",
              "2990    These Are The Best Memorial Day Sales This Year   \n",
              "2994  [Switch] Akai Katana Shin $55.52 + Delivery ($...   \n",
              "\n",
              "                                            description  \\\n",
              "0     \"patten\" made his album \"Mirage FM\" entirely f...   \n",
              "1     Researchers in Canada and the United States ha...   \n",
              "2     AI image generators have gained new tools and ...   \n",
              "6     It's time to look beyond using generative AI t...   \n",
              "9     Huang believes the innovations will facilitate...   \n",
              "...                                                 ...   \n",
              "2987  While things seem dire between Sam and Joel at...   \n",
              "2988  A catharsis and joy-filled finale brings Sam a...   \n",
              "2989  Do you need assistance in increasing your TikT...   \n",
              "2990  To ensure you don’t miss any of the deals, we’...   \n",
              "2994  Has a full english option\\n\\n\\n\\nBe guided ane...   \n",
              "\n",
              "                                                    url  \\\n",
              "0     https://www.businessinsider.com/music-industry...   \n",
              "1     https://hackaday.com/2023/05/28/ai-creates-kil...   \n",
              "2     https://hackaday.com/2023/05/27/ai-image-gener...   \n",
              "6     https://venturebeat.com/ai/how-generative-ai-c...   \n",
              "9     https://venturebeat.com/ai/nvidia-ceo-reveals-...   \n",
              "...                                                 ...   \n",
              "2987  http://www.vulture.com/article/somebody-somewh...   \n",
              "2988  http://www.vulture.com/article/somebody-somewh...   \n",
              "2989  https://bitrebels.com/social/3-best-websites-b...   \n",
              "2990  https://www.forbes.com/sites/forbes-personal-s...   \n",
              "2994           https://www.ozbargain.com.au/node/777730   \n",
              "\n",
              "                                             urlToImage           publishedAt  \\\n",
              "0     https://i.insider.com/646e42256f9a4800187369fb...  2023-05-28T09:08:54Z   \n",
              "1     https://hackaday.com/wp-content/uploads/2023/0...  2023-05-28T14:00:58Z   \n",
              "2     https://hackaday.com/wp-content/uploads/2023/0...  2023-05-28T02:00:12Z   \n",
              "6     https://venturebeat.com/wp-content/uploads/202...  2023-05-28T16:10:00Z   \n",
              "9     https://venturebeat.com/wp-content/uploads/202...  2023-05-29T04:00:00Z   \n",
              "...                                                 ...                   ...   \n",
              "2987  https://pyxis.nymag.com/v1/imgs/b2c/e2a/2bda83...  2023-05-29T03:33:51Z   \n",
              "2988  https://pyxis.nymag.com/v1/imgs/8b7/cc7/b89cc8...  2023-05-29T04:05:34Z   \n",
              "2989  https://bitrebels.com/wp-content/uploads/2023/...  2023-05-28T22:00:00Z   \n",
              "2990  https://imageio.forbes.com/specials-images/ima...  2023-05-28T23:46:19Z   \n",
              "2994  https://files.ozbargain.com.au/n/30/777730x.jp...  2023-05-28T13:30:15Z   \n",
              "\n",
              "                                                content  PosNeg Score  \\\n",
              "0     \"Patten,\" aka Damien Roach.Damien Roach\\r\\n<ul...      7.800910   \n",
              "1     Researchers in Canada and the United States ha...      6.062581   \n",
              "2     AI image generators have gained new tools and ...      9.189483   \n",
              "6     Join top executives in San Francisco on July 1...      9.536411   \n",
              "9     Join top executives in San Francisco on July 1...      9.233106   \n",
              "...                                                 ...           ...   \n",
              "2987  Well, rip our hearts out and stomp on them why...      7.451091   \n",
              "2988  Is there any show that knows how to do joy bet...      7.213947   \n",
              "2989  Do you need assistance in increasing your TikT...      9.029008   \n",
              "2990  Whether youve been meaning to pick up a new ma...      8.470292   \n",
              "2994  Has a full english option\\r\\nBe guided anew in...      8.196534   \n",
              "\n",
              "      PosNeg Confidence  \n",
              "0              0.999591  \n",
              "1              0.997677  \n",
              "2              0.999898  \n",
              "6              0.999928  \n",
              "9              0.999902  \n",
              "...                 ...  \n",
              "2987           0.999420  \n",
              "2988           0.999264  \n",
              "2989           0.999880  \n",
              "2990           0.999790  \n",
              "2994           0.999724  \n",
              "\n",
              "[1977 rows x 10 columns]"
            ],
            "text/html": [
              "\n",
              "  <div id=\"df-8c75da74-4dd9-45eb-a407-9921f689b471\">\n",
              "    <div class=\"colab-df-container\">\n",
              "      <div>\n",
              "<style scoped>\n",
              "    .dataframe tbody tr th:only-of-type {\n",
              "        vertical-align: middle;\n",
              "    }\n",
              "\n",
              "    .dataframe tbody tr th {\n",
              "        vertical-align: top;\n",
              "    }\n",
              "\n",
              "    .dataframe thead th {\n",
              "        text-align: right;\n",
              "    }\n",
              "</style>\n",
              "<table border=\"1\" class=\"dataframe\">\n",
              "  <thead>\n",
              "    <tr style=\"text-align: right;\">\n",
              "      <th></th>\n",
              "      <th>source</th>\n",
              "      <th>author</th>\n",
              "      <th>title</th>\n",
              "      <th>description</th>\n",
              "      <th>url</th>\n",
              "      <th>urlToImage</th>\n",
              "      <th>publishedAt</th>\n",
              "      <th>content</th>\n",
              "      <th>PosNeg Score</th>\n",
              "      <th>PosNeg Confidence</th>\n",
              "    </tr>\n",
              "  </thead>\n",
              "  <tbody>\n",
              "    <tr>\n",
              "      <th>0</th>\n",
              "      <td>{'id': 'business-insider', 'name': 'Business I...</td>\n",
              "      <td>Jyoti Mann,Beatrice Nolan</td>\n",
              "      <td>The music industry is freaking out about AI — ...</td>\n",
              "      <td>\"patten\" made his album \"Mirage FM\" entirely f...</td>\n",
              "      <td>https://www.businessinsider.com/music-industry...</td>\n",
              "      <td>https://i.insider.com/646e42256f9a4800187369fb...</td>\n",
              "      <td>2023-05-28T09:08:54Z</td>\n",
              "      <td>\"Patten,\" aka Damien Roach.Damien Roach\\r\\n&lt;ul...</td>\n",
              "      <td>7.800910</td>\n",
              "      <td>0.999591</td>\n",
              "    </tr>\n",
              "    <tr>\n",
              "      <th>1</th>\n",
              "      <td>{'id': None, 'name': 'Hackaday'}</td>\n",
              "      <td>Al Williams</td>\n",
              "      <td>AI Creates Killer Drug</td>\n",
              "      <td>Researchers in Canada and the United States ha...</td>\n",
              "      <td>https://hackaday.com/2023/05/28/ai-creates-kil...</td>\n",
              "      <td>https://hackaday.com/wp-content/uploads/2023/0...</td>\n",
              "      <td>2023-05-28T14:00:58Z</td>\n",
              "      <td>Researchers in Canada and the United States ha...</td>\n",
              "      <td>6.062581</td>\n",
              "      <td>0.997677</td>\n",
              "    </tr>\n",
              "    <tr>\n",
              "      <th>2</th>\n",
              "      <td>{'id': None, 'name': 'Hackaday'}</td>\n",
              "      <td>Donald Papp</td>\n",
              "      <td>AI Image Generation Gets a Drag Interface</td>\n",
              "      <td>AI image generators have gained new tools and ...</td>\n",
              "      <td>https://hackaday.com/2023/05/27/ai-image-gener...</td>\n",
              "      <td>https://hackaday.com/wp-content/uploads/2023/0...</td>\n",
              "      <td>2023-05-28T02:00:12Z</td>\n",
              "      <td>AI image generators have gained new tools and ...</td>\n",
              "      <td>9.189483</td>\n",
              "      <td>0.999898</td>\n",
              "    </tr>\n",
              "    <tr>\n",
              "      <th>6</th>\n",
              "      <td>{'id': None, 'name': 'VentureBeat'}</td>\n",
              "      <td>Suhail Nimji, Jasper, Saad Ansari, Jasper</td>\n",
              "      <td>How generative AI can revolutionize customizat...</td>\n",
              "      <td>It's time to look beyond using generative AI t...</td>\n",
              "      <td>https://venturebeat.com/ai/how-generative-ai-c...</td>\n",
              "      <td>https://venturebeat.com/wp-content/uploads/202...</td>\n",
              "      <td>2023-05-28T16:10:00Z</td>\n",
              "      <td>Join top executives in San Francisco on July 1...</td>\n",
              "      <td>9.536411</td>\n",
              "      <td>0.999928</td>\n",
              "    </tr>\n",
              "    <tr>\n",
              "      <th>9</th>\n",
              "      <td>{'id': None, 'name': 'VentureBeat'}</td>\n",
              "      <td>Victor Dey</td>\n",
              "      <td>Nvidia CEO reveals groundbreaking generative A...</td>\n",
              "      <td>Huang believes the innovations will facilitate...</td>\n",
              "      <td>https://venturebeat.com/ai/nvidia-ceo-reveals-...</td>\n",
              "      <td>https://venturebeat.com/wp-content/uploads/202...</td>\n",
              "      <td>2023-05-29T04:00:00Z</td>\n",
              "      <td>Join top executives in San Francisco on July 1...</td>\n",
              "      <td>9.233106</td>\n",
              "      <td>0.999902</td>\n",
              "    </tr>\n",
              "    <tr>\n",
              "      <th>...</th>\n",
              "      <td>...</td>\n",
              "      <td>...</td>\n",
              "      <td>...</td>\n",
              "      <td>...</td>\n",
              "      <td>...</td>\n",
              "      <td>...</td>\n",
              "      <td>...</td>\n",
              "      <td>...</td>\n",
              "      <td>...</td>\n",
              "      <td>...</td>\n",
              "    </tr>\n",
              "    <tr>\n",
              "      <th>2987</th>\n",
              "      <td>{'id': None, 'name': 'Vulture'}</td>\n",
              "      <td>Maggie Fremont</td>\n",
              "      <td>Somebody, Somewhere Recap: The Fred Rococo Bac...</td>\n",
              "      <td>While things seem dire between Sam and Joel at...</td>\n",
              "      <td>http://www.vulture.com/article/somebody-somewh...</td>\n",
              "      <td>https://pyxis.nymag.com/v1/imgs/b2c/e2a/2bda83...</td>\n",
              "      <td>2023-05-29T03:33:51Z</td>\n",
              "      <td>Well, rip our hearts out and stomp on them why...</td>\n",
              "      <td>7.451091</td>\n",
              "      <td>0.999420</td>\n",
              "    </tr>\n",
              "    <tr>\n",
              "      <th>2988</th>\n",
              "      <td>{'id': None, 'name': 'Vulture'}</td>\n",
              "      <td>Maggie Fremont</td>\n",
              "      <td>Somebody Somewhere Season-Finale Recap: A Craz...</td>\n",
              "      <td>A catharsis and joy-filled finale brings Sam a...</td>\n",
              "      <td>http://www.vulture.com/article/somebody-somewh...</td>\n",
              "      <td>https://pyxis.nymag.com/v1/imgs/8b7/cc7/b89cc8...</td>\n",
              "      <td>2023-05-29T04:05:34Z</td>\n",
              "      <td>Is there any show that knows how to do joy bet...</td>\n",
              "      <td>7.213947</td>\n",
              "      <td>0.999264</td>\n",
              "    </tr>\n",
              "    <tr>\n",
              "      <th>2989</th>\n",
              "      <td>{'id': None, 'name': 'Bitrebels.com'}</td>\n",
              "      <td>Marc Solano</td>\n",
              "      <td>3 Best Websites To Buy TikTok Followers (Activ...</td>\n",
              "      <td>Do you need assistance in increasing your TikT...</td>\n",
              "      <td>https://bitrebels.com/social/3-best-websites-b...</td>\n",
              "      <td>https://bitrebels.com/wp-content/uploads/2023/...</td>\n",
              "      <td>2023-05-28T22:00:00Z</td>\n",
              "      <td>Do you need assistance in increasing your TikT...</td>\n",
              "      <td>9.029008</td>\n",
              "      <td>0.999880</td>\n",
              "    </tr>\n",
              "    <tr>\n",
              "      <th>2990</th>\n",
              "      <td>{'id': None, 'name': 'Forbes'}</td>\n",
              "      <td>Jordan Thomas, Forbes Staff, \\n Jordan Thomas,...</td>\n",
              "      <td>These Are The Best Memorial Day Sales This Year</td>\n",
              "      <td>To ensure you don’t miss any of the deals, we’...</td>\n",
              "      <td>https://www.forbes.com/sites/forbes-personal-s...</td>\n",
              "      <td>https://imageio.forbes.com/specials-images/ima...</td>\n",
              "      <td>2023-05-28T23:46:19Z</td>\n",
              "      <td>Whether youve been meaning to pick up a new ma...</td>\n",
              "      <td>8.470292</td>\n",
              "      <td>0.999790</td>\n",
              "    </tr>\n",
              "    <tr>\n",
              "      <th>2994</th>\n",
              "      <td>{'id': None, 'name': 'Ozbargain.com.au'}</td>\n",
              "      <td>Odin</td>\n",
              "      <td>[Switch] Akai Katana Shin $55.52 + Delivery ($...</td>\n",
              "      <td>Has a full english option\\n\\n\\n\\nBe guided ane...</td>\n",
              "      <td>https://www.ozbargain.com.au/node/777730</td>\n",
              "      <td>https://files.ozbargain.com.au/n/30/777730x.jp...</td>\n",
              "      <td>2023-05-28T13:30:15Z</td>\n",
              "      <td>Has a full english option\\r\\nBe guided anew in...</td>\n",
              "      <td>8.196534</td>\n",
              "      <td>0.999724</td>\n",
              "    </tr>\n",
              "  </tbody>\n",
              "</table>\n",
              "<p>1977 rows × 10 columns</p>\n",
              "</div>\n",
              "      <button class=\"colab-df-convert\" onclick=\"convertToInteractive('df-8c75da74-4dd9-45eb-a407-9921f689b471')\"\n",
              "              title=\"Convert this dataframe to an interactive table.\"\n",
              "              style=\"display:none;\">\n",
              "        \n",
              "  <svg xmlns=\"http://www.w3.org/2000/svg\" height=\"24px\"viewBox=\"0 0 24 24\"\n",
              "       width=\"24px\">\n",
              "    <path d=\"M0 0h24v24H0V0z\" fill=\"none\"/>\n",
              "    <path d=\"M18.56 5.44l.94 2.06.94-2.06 2.06-.94-2.06-.94-.94-2.06-.94 2.06-2.06.94zm-11 1L8.5 8.5l.94-2.06 2.06-.94-2.06-.94L8.5 2.5l-.94 2.06-2.06.94zm10 10l.94 2.06.94-2.06 2.06-.94-2.06-.94-.94-2.06-.94 2.06-2.06.94z\"/><path d=\"M17.41 7.96l-1.37-1.37c-.4-.4-.92-.59-1.43-.59-.52 0-1.04.2-1.43.59L10.3 9.45l-7.72 7.72c-.78.78-.78 2.05 0 2.83L4 21.41c.39.39.9.59 1.41.59.51 0 1.02-.2 1.41-.59l7.78-7.78 2.81-2.81c.8-.78.8-2.07 0-2.86zM5.41 20L4 18.59l7.72-7.72 1.47 1.35L5.41 20z\"/>\n",
              "  </svg>\n",
              "      </button>\n",
              "      \n",
              "  <style>\n",
              "    .colab-df-container {\n",
              "      display:flex;\n",
              "      flex-wrap:wrap;\n",
              "      gap: 12px;\n",
              "    }\n",
              "\n",
              "    .colab-df-convert {\n",
              "      background-color: #E8F0FE;\n",
              "      border: none;\n",
              "      border-radius: 50%;\n",
              "      cursor: pointer;\n",
              "      display: none;\n",
              "      fill: #1967D2;\n",
              "      height: 32px;\n",
              "      padding: 0 0 0 0;\n",
              "      width: 32px;\n",
              "    }\n",
              "\n",
              "    .colab-df-convert:hover {\n",
              "      background-color: #E2EBFA;\n",
              "      box-shadow: 0px 1px 2px rgba(60, 64, 67, 0.3), 0px 1px 3px 1px rgba(60, 64, 67, 0.15);\n",
              "      fill: #174EA6;\n",
              "    }\n",
              "\n",
              "    [theme=dark] .colab-df-convert {\n",
              "      background-color: #3B4455;\n",
              "      fill: #D2E3FC;\n",
              "    }\n",
              "\n",
              "    [theme=dark] .colab-df-convert:hover {\n",
              "      background-color: #434B5C;\n",
              "      box-shadow: 0px 1px 3px 1px rgba(0, 0, 0, 0.15);\n",
              "      filter: drop-shadow(0px 1px 2px rgba(0, 0, 0, 0.3));\n",
              "      fill: #FFFFFF;\n",
              "    }\n",
              "  </style>\n",
              "\n",
              "      <script>\n",
              "        const buttonEl =\n",
              "          document.querySelector('#df-8c75da74-4dd9-45eb-a407-9921f689b471 button.colab-df-convert');\n",
              "        buttonEl.style.display =\n",
              "          google.colab.kernel.accessAllowed ? 'block' : 'none';\n",
              "\n",
              "        async function convertToInteractive(key) {\n",
              "          const element = document.querySelector('#df-8c75da74-4dd9-45eb-a407-9921f689b471');\n",
              "          const dataTable =\n",
              "            await google.colab.kernel.invokeFunction('convertToInteractive',\n",
              "                                                     [key], {});\n",
              "          if (!dataTable) return;\n",
              "\n",
              "          const docLinkHtml = 'Like what you see? Visit the ' +\n",
              "            '<a target=\"_blank\" href=https://colab.research.google.com/notebooks/data_table.ipynb>data table notebook</a>'\n",
              "            + ' to learn more about interactive tables.';\n",
              "          element.innerHTML = '';\n",
              "          dataTable['output_type'] = 'display_data';\n",
              "          await google.colab.output.renderOutput(dataTable, element);\n",
              "          const docLink = document.createElement('div');\n",
              "          docLink.innerHTML = docLinkHtml;\n",
              "          element.appendChild(docLink);\n",
              "        }\n",
              "      </script>\n",
              "    </div>\n",
              "  </div>\n",
              "  "
            ]
          },
          "metadata": {},
          "execution_count": 25
        }
      ]
    },
    {
      "cell_type": "code",
      "source": [
        "# Export for futher inference\n",
        "\n",
        "excel_writer = pd.ExcelWriter('Everything.xlsx')\n",
        "\n",
        "everything_df.to_excel(excel_writer)\n",
        "  \n",
        "excel_writer.save()"
      ],
      "metadata": {
        "colab": {
          "base_uri": "https://localhost:8080/"
        },
        "id": "PByqIxq3CUeR",
        "outputId": "b83ce65f-b626-4e40-826d-a6173246fd5f"
      },
      "execution_count": 22,
      "outputs": [
        {
          "output_type": "stream",
          "name": "stderr",
          "text": [
            "<ipython-input-22-c1ebd7fc0934>:7: FutureWarning: save is not part of the public API, usage can give unexpected results and will be removed in a future version\n",
            "  excel_writer.save()\n"
          ]
        }
      ]
    },
    {
      "cell_type": "code",
      "source": [],
      "metadata": {
        "id": "bOXjetxvDEHR"
      },
      "execution_count": null,
      "outputs": []
    }
  ],
  "metadata": {
    "accelerator": "GPU",
    "colab": {
      "provenance": [],
      "collapsed_sections": [
        "g9oYPpPCzMsM",
        "Nj7gh1cwdOEr",
        "E297EO73dG8u",
        "uPhUToKUncad",
        "rXwir2pXBZrL",
        "Gv5xACFRDDMx",
        "GNCk3Z_IxDEo",
        "L9UZojBwgwnU",
        "OFi_Fe4mAEO7"
      ],
      "mount_file_id": "1DWRkxowtHGD4wPTiwtchgIxWj8EDReLs",
      "authorship_tag": "ABX9TyOD488ipJf8B+uV6MPQvzJ5"
    },
    "gpuClass": "standard",
    "kernelspec": {
      "display_name": "Python 3",
      "name": "python3"
    },
    "language_info": {
      "name": "python"
    }
  },
  "nbformat": 4,
  "nbformat_minor": 0
}
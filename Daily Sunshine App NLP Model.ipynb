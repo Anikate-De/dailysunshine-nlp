{
  "cells": [
    {
      "cell_type": "markdown",
      "metadata": {
        "id": "2v4rChOAyFKD"
      },
      "source": [
        "# Daily Sunshine App NLP Model\n",
        "\n",
        "## Objective of this Notebook\n",
        "To create a NLP Model that classifies a given piece of plaintext into two categories, Good or Bad. The output of the model will be presented as a floating point numeral. This numeral will help us interpret the decision."
      ]
    },
    {
      "cell_type": "markdown",
      "metadata": {
        "id": "g9oYPpPCzMsM"
      },
      "source": [
        "## Notebook Plan\n",
        "\n",
        "- Multiple models will be created for each of the following datasets as training input\n",
        "  - [IMDb Movie Reviews Dataset](https://ai.stanford.edu/~amaas/data/sentiment/aclImdb_v1.tar.gz)\n",
        "  - [Financial Phrase Bank Dataset](https://www.kaggle.com/datasets/ankurzing/sentiment-analysis-for-financial-news)\n",
        "  - [Positive and Negative Word List](https://www.kaggle.com/datasets/mukulkirti/positive-and-negative-word-listrar)\n",
        "  - [News Sentiment Dataset](https://www.kaggle.com/datasets/hoshi7/news-sentiment-dataset)\n",
        "\n",
        "- All the above models will be tested on \n",
        "  - New Data points from the newsapi.org API\n",
        "  - [\"All the News\" Dataset](https://www.kaggle.com/datasets/snapcrack/all-the-news)\n",
        "  - [\"Million News Headlines\" Dataset](https://www.kaggle.com/datasets/therohk/million-headlines)\n",
        "  "
      ]
    },
    {
      "cell_type": "code",
      "execution_count": 1,
      "metadata": {
        "colab": {
          "base_uri": "https://localhost:8080/"
        },
        "id": "lCvTxnTPDHP8",
        "outputId": "06bd66da-98f0-4d3a-89b4-e62693491bf8"
      },
      "outputs": [
        {
          "output_type": "stream",
          "name": "stdout",
          "text": [
            "\u001b[2K     \u001b[90m━━━━━━━━━━━━━━━━━━━━━━━━━━━━━━━━━━━━━━━━\u001b[0m \u001b[32m6.0/6.0 MB\u001b[0m \u001b[31m82.8 MB/s\u001b[0m eta \u001b[36m0:00:00\u001b[0m\n",
            "\u001b[2K     \u001b[90m━━━━━━━━━━━━━━━━━━━━━━━━━━━━━━━━━━━━━━━━\u001b[0m \u001b[32m2.6/2.6 MB\u001b[0m \u001b[31m64.2 MB/s\u001b[0m eta \u001b[36m0:00:00\u001b[0m\n",
            "\u001b[2K     \u001b[90m━━━━━━━━━━━━━━━━━━━━━━━━━━━━━━━━━━━━━━\u001b[0m \u001b[32m175.1/175.1 kB\u001b[0m \u001b[31m19.9 MB/s\u001b[0m eta \u001b[36m0:00:00\u001b[0m\n",
            "\u001b[?25h  Installing build dependencies ... \u001b[?25l\u001b[?25hdone\n",
            "  Getting requirements to build wheel ... \u001b[?25l\u001b[?25hdone\n",
            "  Preparing metadata (pyproject.toml) ... \u001b[?25l\u001b[?25hdone\n",
            "\u001b[2K     \u001b[90m━━━━━━━━━━━━━━━━━━━━━━━━━━━━━━━━━━━━━━\u001b[0m \u001b[32m118.9/118.9 kB\u001b[0m \u001b[31m15.4 MB/s\u001b[0m eta \u001b[36m0:00:00\u001b[0m\n",
            "\u001b[2K     \u001b[90m━━━━━━━━━━━━━━━━━━━━━━━━━━━━━━━━━━━━━━━━\u001b[0m \u001b[32m1.3/1.3 MB\u001b[0m \u001b[31m79.9 MB/s\u001b[0m eta \u001b[36m0:00:00\u001b[0m\n",
            "\u001b[2K     \u001b[90m━━━━━━━━━━━━━━━━━━━━━━━━━━━━━━━━━━━━━━━━\u001b[0m \u001b[32m43.6/43.6 kB\u001b[0m \u001b[31m5.8 MB/s\u001b[0m eta \u001b[36m0:00:00\u001b[0m\n",
            "\u001b[?25h  Preparing metadata (setup.py) ... \u001b[?25l\u001b[?25hdone\n",
            "\u001b[2K     \u001b[90m━━━━━━━━━━━━━━━━━━━━━━━━━━━━━━━━━━━━━━\u001b[0m \u001b[32m591.0/591.0 kB\u001b[0m \u001b[31m56.3 MB/s\u001b[0m eta \u001b[36m0:00:00\u001b[0m\n",
            "\u001b[2K     \u001b[90m━━━━━━━━━━━━━━━━━━━━━━━━━━━━━━━━━━━━━━\u001b[0m \u001b[32m240.6/240.6 kB\u001b[0m \u001b[31m27.4 MB/s\u001b[0m eta \u001b[36m0:00:00\u001b[0m\n",
            "\u001b[2K     \u001b[90m━━━━━━━━━━━━━━━━━━━━━━━━━━━━━━━━━━━━━━━━\u001b[0m \u001b[32m17.1/17.1 MB\u001b[0m \u001b[31m91.4 MB/s\u001b[0m eta \u001b[36m0:00:00\u001b[0m\n",
            "\u001b[?25h  Building wheel for pyyaml (pyproject.toml) ... \u001b[?25l\u001b[?25hdone\n",
            "  Building wheel for seqeval (setup.py) ... \u001b[?25l\u001b[?25hdone\n"
          ]
        }
      ],
      "source": [
        "# A dependency of the preprocessing for BERT inputs\n",
        "!pip install -q -U \"tensorflow-text==2.12.*\"\n",
        "!pip install -q tf-models-official==2.12.0"
      ]
    },
    {
      "cell_type": "code",
      "execution_count": 2,
      "metadata": {
        "colab": {
          "base_uri": "https://localhost:8080/"
        },
        "id": "BYy2x0wgC7rt",
        "outputId": "e3ae5cd6-14ae-4b8d-e038-701dd820decf"
      },
      "outputs": [
        {
          "output_type": "stream",
          "name": "stderr",
          "text": [
            "/usr/local/lib/python3.10/dist-packages/tensorflow_addons/utils/tfa_eol_msg.py:23: UserWarning: \n",
            "\n",
            "TensorFlow Addons (TFA) has ended development and introduction of new features.\n",
            "TFA has entered a minimal maintenance and release mode until a planned end of life in May 2024.\n",
            "Please modify downstream libraries to take dependencies from other repositories in our TensorFlow community (e.g. Keras, Keras-CV, and Keras-NLP). \n",
            "\n",
            "For more information see: https://github.com/tensorflow/addons/issues/2807 \n",
            "\n",
            "  warnings.warn(\n"
          ]
        }
      ],
      "source": [
        "import os\n",
        "import shutil\n",
        "\n",
        "import tensorflow as tf\n",
        "import tensorflow_hub as hub\n",
        "import tensorflow_text as text\n",
        "from official.nlp import optimization\n",
        "import numpy as np\n",
        "\n",
        "import matplotlib.pyplot as plt\n",
        "\n",
        "import pandas as pd"
      ]
    },
    {
      "cell_type": "code",
      "execution_count": 3,
      "metadata": {
        "id": "9HBaszqTJbsn"
      },
      "outputs": [],
      "source": [
        "def build_classifier_model(preprocess, encoder):\n",
        "  text_input = tf.keras.layers.Input(shape=(), dtype=tf.string, name='text')\n",
        "  preprocessing_layer = hub.KerasLayer(preprocess, name='preprocessing')\n",
        "  encoder_inputs = preprocessing_layer(text_input)\n",
        "  encoder = hub.KerasLayer(encoder, trainable=True, name='BERT_encoder')\n",
        "  outputs = encoder(encoder_inputs)\n",
        "  net = outputs['pooled_output']\n",
        "  net = tf.keras.layers.Dropout(0.1)(net)\n",
        "  net = tf.keras.layers.Dense(1, activation=None, name='classifier')(net)\n",
        "  return tf.keras.Model(text_input, net)"
      ]
    },
    {
      "cell_type": "markdown",
      "metadata": {
        "id": "uPhUToKUncad"
      },
      "source": [
        "## Evaluation Datasets"
      ]
    },
    {
      "cell_type": "markdown",
      "metadata": {
        "id": "0vYMzfTnnnOX"
      },
      "source": [
        "### \"All the News\" Dataset"
      ]
    },
    {
      "cell_type": "code",
      "execution_count": 4,
      "metadata": {
        "id": "ZQXi32axntZM"
      },
      "outputs": [],
      "source": [
        "!cp \"/content/drive/MyDrive/Colab Notebooks/Daily Sunshine App/data/all_the_news.csv\" \"/content/all_the_news.csv\""
      ]
    },
    {
      "cell_type": "code",
      "execution_count": 5,
      "metadata": {
        "id": "5WtVJkPcVvyj"
      },
      "outputs": [],
      "source": [
        "atn_dataframe = pd.read_csv('all_the_news.csv', encoding = 'utf-8', encoding_errors = 'ignore')"
      ]
    },
    {
      "cell_type": "code",
      "execution_count": 6,
      "metadata": {
        "colab": {
          "base_uri": "https://localhost:8080/",
          "height": 423
        },
        "id": "vfhJVKFjYPuV",
        "outputId": "b7abc8c5-f005-479c-b7eb-d42ad45c0512"
      },
      "outputs": [
        {
          "output_type": "execute_result",
          "data": {
            "text/plain": [
              "                                                   title\n",
              "0      House Republicans Fret About Winning Their Hea...\n",
              "1      Rift Between Officers and Residents as Killing...\n",
              "2      Tyrus Wong, ‘Bambi’ Artist Thwarted by Racial ...\n",
              "3      Among Deaths in 2016, a Heavy Toll in Pop Musi...\n",
              "4      Kim Jong-un Says North Korea Is Preparing to T...\n",
              "...                                                  ...\n",
              "49995   Rex Tillerson Says Climate Change Is Real, but …\n",
              "49996  The Biggest Intelligence Questions Raised by t...\n",
              "49997  Trump Announces Plan That Does Little to Resol...\n",
              "49998    Dozens of For-Profit Colleges Could Soon Close \n",
              "49999                       The Milky Way’s Stolen Stars\n",
              "\n",
              "[50000 rows x 1 columns]"
            ],
            "text/html": [
              "\n",
              "  <div id=\"df-7a620f72-71e5-4a45-b544-68ff3ffc57e8\">\n",
              "    <div class=\"colab-df-container\">\n",
              "      <div>\n",
              "<style scoped>\n",
              "    .dataframe tbody tr th:only-of-type {\n",
              "        vertical-align: middle;\n",
              "    }\n",
              "\n",
              "    .dataframe tbody tr th {\n",
              "        vertical-align: top;\n",
              "    }\n",
              "\n",
              "    .dataframe thead th {\n",
              "        text-align: right;\n",
              "    }\n",
              "</style>\n",
              "<table border=\"1\" class=\"dataframe\">\n",
              "  <thead>\n",
              "    <tr style=\"text-align: right;\">\n",
              "      <th></th>\n",
              "      <th>title</th>\n",
              "    </tr>\n",
              "  </thead>\n",
              "  <tbody>\n",
              "    <tr>\n",
              "      <th>0</th>\n",
              "      <td>House Republicans Fret About Winning Their Hea...</td>\n",
              "    </tr>\n",
              "    <tr>\n",
              "      <th>1</th>\n",
              "      <td>Rift Between Officers and Residents as Killing...</td>\n",
              "    </tr>\n",
              "    <tr>\n",
              "      <th>2</th>\n",
              "      <td>Tyrus Wong, ‘Bambi’ Artist Thwarted by Racial ...</td>\n",
              "    </tr>\n",
              "    <tr>\n",
              "      <th>3</th>\n",
              "      <td>Among Deaths in 2016, a Heavy Toll in Pop Musi...</td>\n",
              "    </tr>\n",
              "    <tr>\n",
              "      <th>4</th>\n",
              "      <td>Kim Jong-un Says North Korea Is Preparing to T...</td>\n",
              "    </tr>\n",
              "    <tr>\n",
              "      <th>...</th>\n",
              "      <td>...</td>\n",
              "    </tr>\n",
              "    <tr>\n",
              "      <th>49995</th>\n",
              "      <td>Rex Tillerson Says Climate Change Is Real, but …</td>\n",
              "    </tr>\n",
              "    <tr>\n",
              "      <th>49996</th>\n",
              "      <td>The Biggest Intelligence Questions Raised by t...</td>\n",
              "    </tr>\n",
              "    <tr>\n",
              "      <th>49997</th>\n",
              "      <td>Trump Announces Plan That Does Little to Resol...</td>\n",
              "    </tr>\n",
              "    <tr>\n",
              "      <th>49998</th>\n",
              "      <td>Dozens of For-Profit Colleges Could Soon Close</td>\n",
              "    </tr>\n",
              "    <tr>\n",
              "      <th>49999</th>\n",
              "      <td>The Milky Way’s Stolen Stars</td>\n",
              "    </tr>\n",
              "  </tbody>\n",
              "</table>\n",
              "<p>50000 rows × 1 columns</p>\n",
              "</div>\n",
              "      <button class=\"colab-df-convert\" onclick=\"convertToInteractive('df-7a620f72-71e5-4a45-b544-68ff3ffc57e8')\"\n",
              "              title=\"Convert this dataframe to an interactive table.\"\n",
              "              style=\"display:none;\">\n",
              "        \n",
              "  <svg xmlns=\"http://www.w3.org/2000/svg\" height=\"24px\"viewBox=\"0 0 24 24\"\n",
              "       width=\"24px\">\n",
              "    <path d=\"M0 0h24v24H0V0z\" fill=\"none\"/>\n",
              "    <path d=\"M18.56 5.44l.94 2.06.94-2.06 2.06-.94-2.06-.94-.94-2.06-.94 2.06-2.06.94zm-11 1L8.5 8.5l.94-2.06 2.06-.94-2.06-.94L8.5 2.5l-.94 2.06-2.06.94zm10 10l.94 2.06.94-2.06 2.06-.94-2.06-.94-.94-2.06-.94 2.06-2.06.94z\"/><path d=\"M17.41 7.96l-1.37-1.37c-.4-.4-.92-.59-1.43-.59-.52 0-1.04.2-1.43.59L10.3 9.45l-7.72 7.72c-.78.78-.78 2.05 0 2.83L4 21.41c.39.39.9.59 1.41.59.51 0 1.02-.2 1.41-.59l7.78-7.78 2.81-2.81c.8-.78.8-2.07 0-2.86zM5.41 20L4 18.59l7.72-7.72 1.47 1.35L5.41 20z\"/>\n",
              "  </svg>\n",
              "      </button>\n",
              "      \n",
              "  <style>\n",
              "    .colab-df-container {\n",
              "      display:flex;\n",
              "      flex-wrap:wrap;\n",
              "      gap: 12px;\n",
              "    }\n",
              "\n",
              "    .colab-df-convert {\n",
              "      background-color: #E8F0FE;\n",
              "      border: none;\n",
              "      border-radius: 50%;\n",
              "      cursor: pointer;\n",
              "      display: none;\n",
              "      fill: #1967D2;\n",
              "      height: 32px;\n",
              "      padding: 0 0 0 0;\n",
              "      width: 32px;\n",
              "    }\n",
              "\n",
              "    .colab-df-convert:hover {\n",
              "      background-color: #E2EBFA;\n",
              "      box-shadow: 0px 1px 2px rgba(60, 64, 67, 0.3), 0px 1px 3px 1px rgba(60, 64, 67, 0.15);\n",
              "      fill: #174EA6;\n",
              "    }\n",
              "\n",
              "    [theme=dark] .colab-df-convert {\n",
              "      background-color: #3B4455;\n",
              "      fill: #D2E3FC;\n",
              "    }\n",
              "\n",
              "    [theme=dark] .colab-df-convert:hover {\n",
              "      background-color: #434B5C;\n",
              "      box-shadow: 0px 1px 3px 1px rgba(0, 0, 0, 0.15);\n",
              "      filter: drop-shadow(0px 1px 2px rgba(0, 0, 0, 0.3));\n",
              "      fill: #FFFFFF;\n",
              "    }\n",
              "  </style>\n",
              "\n",
              "      <script>\n",
              "        const buttonEl =\n",
              "          document.querySelector('#df-7a620f72-71e5-4a45-b544-68ff3ffc57e8 button.colab-df-convert');\n",
              "        buttonEl.style.display =\n",
              "          google.colab.kernel.accessAllowed ? 'block' : 'none';\n",
              "\n",
              "        async function convertToInteractive(key) {\n",
              "          const element = document.querySelector('#df-7a620f72-71e5-4a45-b544-68ff3ffc57e8');\n",
              "          const dataTable =\n",
              "            await google.colab.kernel.invokeFunction('convertToInteractive',\n",
              "                                                     [key], {});\n",
              "          if (!dataTable) return;\n",
              "\n",
              "          const docLinkHtml = 'Like what you see? Visit the ' +\n",
              "            '<a target=\"_blank\" href=https://colab.research.google.com/notebooks/data_table.ipynb>data table notebook</a>'\n",
              "            + ' to learn more about interactive tables.';\n",
              "          element.innerHTML = '';\n",
              "          dataTable['output_type'] = 'display_data';\n",
              "          await google.colab.output.renderOutput(dataTable, element);\n",
              "          const docLink = document.createElement('div');\n",
              "          docLink.innerHTML = docLinkHtml;\n",
              "          element.appendChild(docLink);\n",
              "        }\n",
              "      </script>\n",
              "    </div>\n",
              "  </div>\n",
              "  "
            ]
          },
          "metadata": {},
          "execution_count": 6
        }
      ],
      "source": [
        "atn_dataframe.drop(atn_dataframe.iloc[:, 3:], inplace=True, axis=1)\n",
        "atn_dataframe.drop(atn_dataframe.iloc[:, :2], inplace=True, axis=1)\n",
        "atn_dataframe"
      ]
    },
    {
      "cell_type": "code",
      "execution_count": 7,
      "metadata": {
        "id": "yj2xCi35c93n"
      },
      "outputs": [],
      "source": [
        "def atn_array(n = 10):\n",
        "  return np.squeeze(atn_dataframe.sample(n=n).values)"
      ]
    },
    {
      "cell_type": "code",
      "execution_count": 8,
      "metadata": {
        "colab": {
          "base_uri": "https://localhost:8080/"
        },
        "id": "szb4V3qtesAl",
        "outputId": "bd0ecfea-fd49-492a-f1dc-3c2b18159fc0"
      },
      "outputs": [
        {
          "output_type": "execute_result",
          "data": {
            "text/plain": [
              "array(['National Academies: Immigrants’ Integration Is Slowing - Breitbart',\n",
              "       'Trump’s plan to jumpstart US manufacturing could backfire over a major flaw',\n",
              "       'How to lower your stress before Election Day, according to a top psychologist',\n",
              "       'Injured ’Punkin Chunkin’ producer disappointed show is off, faces long recovery',\n",
              "       'Monica Crowley bows out amid plagiarism accusations, says she will not join Trump administration',\n",
              "       'David Frum: There Will Be a ’Scorched Earth Period of Recrimination’ for Trump, Supporters - Breitbart',\n",
              "       'GOP, you need to make friends with Democrats',\n",
              "       'Ted Cruz: ’Will Always Be a Big Fan’ of Sarah Palin, Regardless of 2016 - Breitbart',\n",
              "       'Joe Biden Fast Facts',\n",
              "       'Donald Trump Invites Conservative Media to White House for Exclusive Briefing - Breitbart',\n",
              "       'Saudi Teenager Demands Apple Introduce Hijab Emojis - Breitbart',\n",
              "       'Glenn Beck, Call Your Office: Drudge Buries Ted Cruz in ’Holy Roller’ Avalanche - Breitbart',\n",
              "       'Texas’ homes might be as overvalued as San Francisco’s',\n",
              "       'Libertarian Presidential Hopeful Gary Johnson: ’What Is Aleppo?’ - Breitbart',\n",
              "       'FLASHBACK: Bill Clinton Praises ‘Open Borders, Easy Immigration’',\n",
              "       'Samsung Recalls 2.8 Million Washing Machines After 730 Reportedly Explode - Breitbart',\n",
              "       'Lt. Gov. Michael Steele: Democrats Continue to Alienate Voters',\n",
              "       'Oscar-Nominated Shorts: Unsung but Worth Your Time - The New York Times',\n",
              "       'Americans from all corners of the economy are loving life since Trump’s election',\n",
              "       'For Police, a Playbook for Conflicts Involving Mental Illness - The New York Times'],\n",
              "      dtype=object)"
            ]
          },
          "metadata": {},
          "execution_count": 8
        }
      ],
      "source": [
        "atn_array(20)"
      ]
    },
    {
      "cell_type": "markdown",
      "metadata": {
        "id": "0iQ3lQVde1F4"
      },
      "source": [
        "### Million News Headlines Dataset"
      ]
    },
    {
      "cell_type": "code",
      "execution_count": 9,
      "metadata": {
        "id": "nZ9BovdCe-Hs"
      },
      "outputs": [],
      "source": [
        "!cp \"/content/drive/MyDrive/Colab Notebooks/Daily Sunshine App/data/million_news_headlines.csv\" \"/content/million_news_headlines.csv\""
      ]
    },
    {
      "cell_type": "code",
      "execution_count": 10,
      "metadata": {
        "colab": {
          "base_uri": "https://localhost:8080/",
          "height": 423
        },
        "id": "Km2VAQ-bf8A4",
        "outputId": "20736aa3-b619-48b1-f1e7-0419413e9d03"
      },
      "outputs": [
        {
          "output_type": "execute_result",
          "data": {
            "text/plain": [
              "         publish_date                                      headline_text\n",
              "0            20030219  aba decides against community broadcasting lic...\n",
              "1            20030219     act fire witnesses must be aware of defamation\n",
              "2            20030219     a g calls for infrastructure protection summit\n",
              "3            20030219           air nz staff in aust strike for pay rise\n",
              "4            20030219      air nz strike to affect australian travellers\n",
              "...               ...                                                ...\n",
              "1244179      20211231  two aged care residents die as state records 2...\n",
              "1244180      20211231  victoria records 5;919 new cases and seven deaths\n",
              "1244181      20211231    wa delays adopting new close contact definition\n",
              "1244182      20211231  western ringtail possums found badly dehydrate...\n",
              "1244183      20211231  what makes you a close covid contact here are ...\n",
              "\n",
              "[1244184 rows x 2 columns]"
            ],
            "text/html": [
              "\n",
              "  <div id=\"df-0f7861b8-ff49-4bcc-a9fb-3e5c1f5f3e9f\">\n",
              "    <div class=\"colab-df-container\">\n",
              "      <div>\n",
              "<style scoped>\n",
              "    .dataframe tbody tr th:only-of-type {\n",
              "        vertical-align: middle;\n",
              "    }\n",
              "\n",
              "    .dataframe tbody tr th {\n",
              "        vertical-align: top;\n",
              "    }\n",
              "\n",
              "    .dataframe thead th {\n",
              "        text-align: right;\n",
              "    }\n",
              "</style>\n",
              "<table border=\"1\" class=\"dataframe\">\n",
              "  <thead>\n",
              "    <tr style=\"text-align: right;\">\n",
              "      <th></th>\n",
              "      <th>publish_date</th>\n",
              "      <th>headline_text</th>\n",
              "    </tr>\n",
              "  </thead>\n",
              "  <tbody>\n",
              "    <tr>\n",
              "      <th>0</th>\n",
              "      <td>20030219</td>\n",
              "      <td>aba decides against community broadcasting lic...</td>\n",
              "    </tr>\n",
              "    <tr>\n",
              "      <th>1</th>\n",
              "      <td>20030219</td>\n",
              "      <td>act fire witnesses must be aware of defamation</td>\n",
              "    </tr>\n",
              "    <tr>\n",
              "      <th>2</th>\n",
              "      <td>20030219</td>\n",
              "      <td>a g calls for infrastructure protection summit</td>\n",
              "    </tr>\n",
              "    <tr>\n",
              "      <th>3</th>\n",
              "      <td>20030219</td>\n",
              "      <td>air nz staff in aust strike for pay rise</td>\n",
              "    </tr>\n",
              "    <tr>\n",
              "      <th>4</th>\n",
              "      <td>20030219</td>\n",
              "      <td>air nz strike to affect australian travellers</td>\n",
              "    </tr>\n",
              "    <tr>\n",
              "      <th>...</th>\n",
              "      <td>...</td>\n",
              "      <td>...</td>\n",
              "    </tr>\n",
              "    <tr>\n",
              "      <th>1244179</th>\n",
              "      <td>20211231</td>\n",
              "      <td>two aged care residents die as state records 2...</td>\n",
              "    </tr>\n",
              "    <tr>\n",
              "      <th>1244180</th>\n",
              "      <td>20211231</td>\n",
              "      <td>victoria records 5;919 new cases and seven deaths</td>\n",
              "    </tr>\n",
              "    <tr>\n",
              "      <th>1244181</th>\n",
              "      <td>20211231</td>\n",
              "      <td>wa delays adopting new close contact definition</td>\n",
              "    </tr>\n",
              "    <tr>\n",
              "      <th>1244182</th>\n",
              "      <td>20211231</td>\n",
              "      <td>western ringtail possums found badly dehydrate...</td>\n",
              "    </tr>\n",
              "    <tr>\n",
              "      <th>1244183</th>\n",
              "      <td>20211231</td>\n",
              "      <td>what makes you a close covid contact here are ...</td>\n",
              "    </tr>\n",
              "  </tbody>\n",
              "</table>\n",
              "<p>1244184 rows × 2 columns</p>\n",
              "</div>\n",
              "      <button class=\"colab-df-convert\" onclick=\"convertToInteractive('df-0f7861b8-ff49-4bcc-a9fb-3e5c1f5f3e9f')\"\n",
              "              title=\"Convert this dataframe to an interactive table.\"\n",
              "              style=\"display:none;\">\n",
              "        \n",
              "  <svg xmlns=\"http://www.w3.org/2000/svg\" height=\"24px\"viewBox=\"0 0 24 24\"\n",
              "       width=\"24px\">\n",
              "    <path d=\"M0 0h24v24H0V0z\" fill=\"none\"/>\n",
              "    <path d=\"M18.56 5.44l.94 2.06.94-2.06 2.06-.94-2.06-.94-.94-2.06-.94 2.06-2.06.94zm-11 1L8.5 8.5l.94-2.06 2.06-.94-2.06-.94L8.5 2.5l-.94 2.06-2.06.94zm10 10l.94 2.06.94-2.06 2.06-.94-2.06-.94-.94-2.06-.94 2.06-2.06.94z\"/><path d=\"M17.41 7.96l-1.37-1.37c-.4-.4-.92-.59-1.43-.59-.52 0-1.04.2-1.43.59L10.3 9.45l-7.72 7.72c-.78.78-.78 2.05 0 2.83L4 21.41c.39.39.9.59 1.41.59.51 0 1.02-.2 1.41-.59l7.78-7.78 2.81-2.81c.8-.78.8-2.07 0-2.86zM5.41 20L4 18.59l7.72-7.72 1.47 1.35L5.41 20z\"/>\n",
              "  </svg>\n",
              "      </button>\n",
              "      \n",
              "  <style>\n",
              "    .colab-df-container {\n",
              "      display:flex;\n",
              "      flex-wrap:wrap;\n",
              "      gap: 12px;\n",
              "    }\n",
              "\n",
              "    .colab-df-convert {\n",
              "      background-color: #E8F0FE;\n",
              "      border: none;\n",
              "      border-radius: 50%;\n",
              "      cursor: pointer;\n",
              "      display: none;\n",
              "      fill: #1967D2;\n",
              "      height: 32px;\n",
              "      padding: 0 0 0 0;\n",
              "      width: 32px;\n",
              "    }\n",
              "\n",
              "    .colab-df-convert:hover {\n",
              "      background-color: #E2EBFA;\n",
              "      box-shadow: 0px 1px 2px rgba(60, 64, 67, 0.3), 0px 1px 3px 1px rgba(60, 64, 67, 0.15);\n",
              "      fill: #174EA6;\n",
              "    }\n",
              "\n",
              "    [theme=dark] .colab-df-convert {\n",
              "      background-color: #3B4455;\n",
              "      fill: #D2E3FC;\n",
              "    }\n",
              "\n",
              "    [theme=dark] .colab-df-convert:hover {\n",
              "      background-color: #434B5C;\n",
              "      box-shadow: 0px 1px 3px 1px rgba(0, 0, 0, 0.15);\n",
              "      filter: drop-shadow(0px 1px 2px rgba(0, 0, 0, 0.3));\n",
              "      fill: #FFFFFF;\n",
              "    }\n",
              "  </style>\n",
              "\n",
              "      <script>\n",
              "        const buttonEl =\n",
              "          document.querySelector('#df-0f7861b8-ff49-4bcc-a9fb-3e5c1f5f3e9f button.colab-df-convert');\n",
              "        buttonEl.style.display =\n",
              "          google.colab.kernel.accessAllowed ? 'block' : 'none';\n",
              "\n",
              "        async function convertToInteractive(key) {\n",
              "          const element = document.querySelector('#df-0f7861b8-ff49-4bcc-a9fb-3e5c1f5f3e9f');\n",
              "          const dataTable =\n",
              "            await google.colab.kernel.invokeFunction('convertToInteractive',\n",
              "                                                     [key], {});\n",
              "          if (!dataTable) return;\n",
              "\n",
              "          const docLinkHtml = 'Like what you see? Visit the ' +\n",
              "            '<a target=\"_blank\" href=https://colab.research.google.com/notebooks/data_table.ipynb>data table notebook</a>'\n",
              "            + ' to learn more about interactive tables.';\n",
              "          element.innerHTML = '';\n",
              "          dataTable['output_type'] = 'display_data';\n",
              "          await google.colab.output.renderOutput(dataTable, element);\n",
              "          const docLink = document.createElement('div');\n",
              "          docLink.innerHTML = docLinkHtml;\n",
              "          element.appendChild(docLink);\n",
              "        }\n",
              "      </script>\n",
              "    </div>\n",
              "  </div>\n",
              "  "
            ]
          },
          "metadata": {},
          "execution_count": 10
        }
      ],
      "source": [
        "mnh_dataframe = pd.read_csv('million_news_headlines.csv', encoding = 'utf-8', encoding_errors = 'ignore')\n",
        "mnh_dataframe"
      ]
    },
    {
      "cell_type": "code",
      "execution_count": 11,
      "metadata": {
        "colab": {
          "base_uri": "https://localhost:8080/",
          "height": 423
        },
        "id": "F7hJ8YfYgNiE",
        "outputId": "ce218248-c4b3-4f70-be94-10c5365dfb18"
      },
      "outputs": [
        {
          "output_type": "execute_result",
          "data": {
            "text/plain": [
              "                                             headline_text\n",
              "0        aba decides against community broadcasting lic...\n",
              "1           act fire witnesses must be aware of defamation\n",
              "2           a g calls for infrastructure protection summit\n",
              "3                 air nz staff in aust strike for pay rise\n",
              "4            air nz strike to affect australian travellers\n",
              "...                                                    ...\n",
              "1244179  two aged care residents die as state records 2...\n",
              "1244180  victoria records 5;919 new cases and seven deaths\n",
              "1244181    wa delays adopting new close contact definition\n",
              "1244182  western ringtail possums found badly dehydrate...\n",
              "1244183  what makes you a close covid contact here are ...\n",
              "\n",
              "[1244184 rows x 1 columns]"
            ],
            "text/html": [
              "\n",
              "  <div id=\"df-c9d9028f-8c81-4e06-a8ab-7f5ac71e6251\">\n",
              "    <div class=\"colab-df-container\">\n",
              "      <div>\n",
              "<style scoped>\n",
              "    .dataframe tbody tr th:only-of-type {\n",
              "        vertical-align: middle;\n",
              "    }\n",
              "\n",
              "    .dataframe tbody tr th {\n",
              "        vertical-align: top;\n",
              "    }\n",
              "\n",
              "    .dataframe thead th {\n",
              "        text-align: right;\n",
              "    }\n",
              "</style>\n",
              "<table border=\"1\" class=\"dataframe\">\n",
              "  <thead>\n",
              "    <tr style=\"text-align: right;\">\n",
              "      <th></th>\n",
              "      <th>headline_text</th>\n",
              "    </tr>\n",
              "  </thead>\n",
              "  <tbody>\n",
              "    <tr>\n",
              "      <th>0</th>\n",
              "      <td>aba decides against community broadcasting lic...</td>\n",
              "    </tr>\n",
              "    <tr>\n",
              "      <th>1</th>\n",
              "      <td>act fire witnesses must be aware of defamation</td>\n",
              "    </tr>\n",
              "    <tr>\n",
              "      <th>2</th>\n",
              "      <td>a g calls for infrastructure protection summit</td>\n",
              "    </tr>\n",
              "    <tr>\n",
              "      <th>3</th>\n",
              "      <td>air nz staff in aust strike for pay rise</td>\n",
              "    </tr>\n",
              "    <tr>\n",
              "      <th>4</th>\n",
              "      <td>air nz strike to affect australian travellers</td>\n",
              "    </tr>\n",
              "    <tr>\n",
              "      <th>...</th>\n",
              "      <td>...</td>\n",
              "    </tr>\n",
              "    <tr>\n",
              "      <th>1244179</th>\n",
              "      <td>two aged care residents die as state records 2...</td>\n",
              "    </tr>\n",
              "    <tr>\n",
              "      <th>1244180</th>\n",
              "      <td>victoria records 5;919 new cases and seven deaths</td>\n",
              "    </tr>\n",
              "    <tr>\n",
              "      <th>1244181</th>\n",
              "      <td>wa delays adopting new close contact definition</td>\n",
              "    </tr>\n",
              "    <tr>\n",
              "      <th>1244182</th>\n",
              "      <td>western ringtail possums found badly dehydrate...</td>\n",
              "    </tr>\n",
              "    <tr>\n",
              "      <th>1244183</th>\n",
              "      <td>what makes you a close covid contact here are ...</td>\n",
              "    </tr>\n",
              "  </tbody>\n",
              "</table>\n",
              "<p>1244184 rows × 1 columns</p>\n",
              "</div>\n",
              "      <button class=\"colab-df-convert\" onclick=\"convertToInteractive('df-c9d9028f-8c81-4e06-a8ab-7f5ac71e6251')\"\n",
              "              title=\"Convert this dataframe to an interactive table.\"\n",
              "              style=\"display:none;\">\n",
              "        \n",
              "  <svg xmlns=\"http://www.w3.org/2000/svg\" height=\"24px\"viewBox=\"0 0 24 24\"\n",
              "       width=\"24px\">\n",
              "    <path d=\"M0 0h24v24H0V0z\" fill=\"none\"/>\n",
              "    <path d=\"M18.56 5.44l.94 2.06.94-2.06 2.06-.94-2.06-.94-.94-2.06-.94 2.06-2.06.94zm-11 1L8.5 8.5l.94-2.06 2.06-.94-2.06-.94L8.5 2.5l-.94 2.06-2.06.94zm10 10l.94 2.06.94-2.06 2.06-.94-2.06-.94-.94-2.06-.94 2.06-2.06.94z\"/><path d=\"M17.41 7.96l-1.37-1.37c-.4-.4-.92-.59-1.43-.59-.52 0-1.04.2-1.43.59L10.3 9.45l-7.72 7.72c-.78.78-.78 2.05 0 2.83L4 21.41c.39.39.9.59 1.41.59.51 0 1.02-.2 1.41-.59l7.78-7.78 2.81-2.81c.8-.78.8-2.07 0-2.86zM5.41 20L4 18.59l7.72-7.72 1.47 1.35L5.41 20z\"/>\n",
              "  </svg>\n",
              "      </button>\n",
              "      \n",
              "  <style>\n",
              "    .colab-df-container {\n",
              "      display:flex;\n",
              "      flex-wrap:wrap;\n",
              "      gap: 12px;\n",
              "    }\n",
              "\n",
              "    .colab-df-convert {\n",
              "      background-color: #E8F0FE;\n",
              "      border: none;\n",
              "      border-radius: 50%;\n",
              "      cursor: pointer;\n",
              "      display: none;\n",
              "      fill: #1967D2;\n",
              "      height: 32px;\n",
              "      padding: 0 0 0 0;\n",
              "      width: 32px;\n",
              "    }\n",
              "\n",
              "    .colab-df-convert:hover {\n",
              "      background-color: #E2EBFA;\n",
              "      box-shadow: 0px 1px 2px rgba(60, 64, 67, 0.3), 0px 1px 3px 1px rgba(60, 64, 67, 0.15);\n",
              "      fill: #174EA6;\n",
              "    }\n",
              "\n",
              "    [theme=dark] .colab-df-convert {\n",
              "      background-color: #3B4455;\n",
              "      fill: #D2E3FC;\n",
              "    }\n",
              "\n",
              "    [theme=dark] .colab-df-convert:hover {\n",
              "      background-color: #434B5C;\n",
              "      box-shadow: 0px 1px 3px 1px rgba(0, 0, 0, 0.15);\n",
              "      filter: drop-shadow(0px 1px 2px rgba(0, 0, 0, 0.3));\n",
              "      fill: #FFFFFF;\n",
              "    }\n",
              "  </style>\n",
              "\n",
              "      <script>\n",
              "        const buttonEl =\n",
              "          document.querySelector('#df-c9d9028f-8c81-4e06-a8ab-7f5ac71e6251 button.colab-df-convert');\n",
              "        buttonEl.style.display =\n",
              "          google.colab.kernel.accessAllowed ? 'block' : 'none';\n",
              "\n",
              "        async function convertToInteractive(key) {\n",
              "          const element = document.querySelector('#df-c9d9028f-8c81-4e06-a8ab-7f5ac71e6251');\n",
              "          const dataTable =\n",
              "            await google.colab.kernel.invokeFunction('convertToInteractive',\n",
              "                                                     [key], {});\n",
              "          if (!dataTable) return;\n",
              "\n",
              "          const docLinkHtml = 'Like what you see? Visit the ' +\n",
              "            '<a target=\"_blank\" href=https://colab.research.google.com/notebooks/data_table.ipynb>data table notebook</a>'\n",
              "            + ' to learn more about interactive tables.';\n",
              "          element.innerHTML = '';\n",
              "          dataTable['output_type'] = 'display_data';\n",
              "          await google.colab.output.renderOutput(dataTable, element);\n",
              "          const docLink = document.createElement('div');\n",
              "          docLink.innerHTML = docLinkHtml;\n",
              "          element.appendChild(docLink);\n",
              "        }\n",
              "      </script>\n",
              "    </div>\n",
              "  </div>\n",
              "  "
            ]
          },
          "metadata": {},
          "execution_count": 11
        }
      ],
      "source": [
        "mnh_dataframe.drop(mnh_dataframe.iloc[:, 0:1], inplace=True, axis=1)\n",
        "mnh_dataframe"
      ]
    },
    {
      "cell_type": "code",
      "execution_count": 12,
      "metadata": {
        "id": "9w1608S3ggQh"
      },
      "outputs": [],
      "source": [
        "def mnh_array(n = 10):\n",
        "  return np.squeeze(mnh_dataframe.sample(n=n).values)"
      ]
    },
    {
      "cell_type": "code",
      "execution_count": 13,
      "metadata": {
        "colab": {
          "base_uri": "https://localhost:8080/"
        },
        "id": "zrUFUJNggtP7",
        "outputId": "530abc88-567b-4383-fb01-63665288d85f"
      },
      "outputs": [
        {
          "output_type": "execute_result",
          "data": {
            "text/plain": [
              "array(['leveson raw', 'us plans for iraq under civilian rule may begin',\n",
              "       'johnson thrives in ashes sledgefest',\n",
              "       'north korea not even close to resuming us talks kerry',\n",
              "       'leaders to study cultural camp idea',\n",
              "       'fifteen taliban killed in attack on us base', 'tinytpe photo',\n",
              "       'nrl weekly wrap with matthew elliott',\n",
              "       'wa indigenous community stories film project',\n",
              "       'blaze breaks out on lower eyre peninsula',\n",
              "       'hewitt reaches newport final',\n",
              "       'whitsundays politician accused of backflip over net fishing ban',\n",
              "       'the drum thursday 2 december',\n",
              "       'mother stepfather record sentence over swinging sex child abuse',\n",
              "       'gatlin scorches to diamond league sprint double',\n",
              "       'mosse returns to ride americain', 'moore offered scottish deal',\n",
              "       'farmer uses drone after cyclone', 'wednesday weather',\n",
              "       'hackett headlines with four gold at stake'], dtype=object)"
            ]
          },
          "metadata": {},
          "execution_count": 13
        }
      ],
      "source": [
        "mnh_array(20)"
      ]
    },
    {
      "cell_type": "code",
      "execution_count": 14,
      "metadata": {
        "id": "wVxWSEjbgRl3"
      },
      "outputs": [],
      "source": [
        "# Fixed Dataset for comparing models\n",
        "\n",
        "eval_data = np.concatenate([atn_array(100), mnh_array(100)], 0)"
      ]
    },
    {
      "cell_type": "code",
      "execution_count": 15,
      "metadata": {
        "id": "H6nNf9Z8fhWY"
      },
      "outputs": [],
      "source": [
        "map_name_to_handle = {\n",
        "    'bert_en_uncased_L-12_H-768_A-12':\n",
        "        'https://tfhub.dev/tensorflow/bert_en_uncased_L-12_H-768_A-12/3',\n",
        "    'bert_en_cased_L-12_H-768_A-12':\n",
        "        'https://tfhub.dev/tensorflow/bert_en_cased_L-12_H-768_A-12/3',\n",
        "    'bert_multi_cased_L-12_H-768_A-12':\n",
        "        'https://tfhub.dev/tensorflow/bert_multi_cased_L-12_H-768_A-12/3',\n",
        "    'small_bert/bert_en_uncased_L-2_H-128_A-2':\n",
        "        'https://tfhub.dev/tensorflow/small_bert/bert_en_uncased_L-2_H-128_A-2/1',\n",
        "    'small_bert/bert_en_uncased_L-2_H-256_A-4':\n",
        "        'https://tfhub.dev/tensorflow/small_bert/bert_en_uncased_L-2_H-256_A-4/1',\n",
        "    'small_bert/bert_en_uncased_L-2_H-512_A-8':\n",
        "        'https://tfhub.dev/tensorflow/small_bert/bert_en_uncased_L-2_H-512_A-8/1',\n",
        "    'small_bert/bert_en_uncased_L-2_H-768_A-12':\n",
        "        'https://tfhub.dev/tensorflow/small_bert/bert_en_uncased_L-2_H-768_A-12/1',\n",
        "    'small_bert/bert_en_uncased_L-4_H-128_A-2':\n",
        "        'https://tfhub.dev/tensorflow/small_bert/bert_en_uncased_L-4_H-128_A-2/1',\n",
        "    'small_bert/bert_en_uncased_L-4_H-256_A-4':\n",
        "        'https://tfhub.dev/tensorflow/small_bert/bert_en_uncased_L-4_H-256_A-4/1',\n",
        "    'small_bert/bert_en_uncased_L-4_H-512_A-8':\n",
        "        'https://tfhub.dev/tensorflow/small_bert/bert_en_uncased_L-4_H-512_A-8/1',\n",
        "    'small_bert/bert_en_uncased_L-4_H-768_A-12':\n",
        "        'https://tfhub.dev/tensorflow/small_bert/bert_en_uncased_L-4_H-768_A-12/1',\n",
        "    'small_bert/bert_en_uncased_L-6_H-128_A-2':\n",
        "        'https://tfhub.dev/tensorflow/small_bert/bert_en_uncased_L-6_H-128_A-2/1',\n",
        "    'small_bert/bert_en_uncased_L-6_H-256_A-4':\n",
        "        'https://tfhub.dev/tensorflow/small_bert/bert_en_uncased_L-6_H-256_A-4/1',\n",
        "    'small_bert/bert_en_uncased_L-6_H-512_A-8':\n",
        "        'https://tfhub.dev/tensorflow/small_bert/bert_en_uncased_L-6_H-512_A-8/1',\n",
        "    'small_bert/bert_en_uncased_L-6_H-768_A-12':\n",
        "        'https://tfhub.dev/tensorflow/small_bert/bert_en_uncased_L-6_H-768_A-12/1',\n",
        "    'small_bert/bert_en_uncased_L-8_H-128_A-2':\n",
        "        'https://tfhub.dev/tensorflow/small_bert/bert_en_uncased_L-8_H-128_A-2/1',\n",
        "    'small_bert/bert_en_uncased_L-8_H-256_A-4':\n",
        "        'https://tfhub.dev/tensorflow/small_bert/bert_en_uncased_L-8_H-256_A-4/1',\n",
        "    'small_bert/bert_en_uncased_L-8_H-512_A-8':\n",
        "        'https://tfhub.dev/tensorflow/small_bert/bert_en_uncased_L-8_H-512_A-8/1',\n",
        "    'small_bert/bert_en_uncased_L-8_H-768_A-12':\n",
        "        'https://tfhub.dev/tensorflow/small_bert/bert_en_uncased_L-8_H-768_A-12/1',\n",
        "    'small_bert/bert_en_uncased_L-10_H-128_A-2':\n",
        "        'https://tfhub.dev/tensorflow/small_bert/bert_en_uncased_L-10_H-128_A-2/1',\n",
        "    'small_bert/bert_en_uncased_L-10_H-256_A-4':\n",
        "        'https://tfhub.dev/tensorflow/small_bert/bert_en_uncased_L-10_H-256_A-4/1',\n",
        "    'small_bert/bert_en_uncased_L-10_H-512_A-8':\n",
        "        'https://tfhub.dev/tensorflow/small_bert/bert_en_uncased_L-10_H-512_A-8/1',\n",
        "    'small_bert/bert_en_uncased_L-10_H-768_A-12':\n",
        "        'https://tfhub.dev/tensorflow/small_bert/bert_en_uncased_L-10_H-768_A-12/1',\n",
        "    'small_bert/bert_en_uncased_L-12_H-128_A-2':\n",
        "        'https://tfhub.dev/tensorflow/small_bert/bert_en_uncased_L-12_H-128_A-2/1',\n",
        "    'small_bert/bert_en_uncased_L-12_H-256_A-4':\n",
        "        'https://tfhub.dev/tensorflow/small_bert/bert_en_uncased_L-12_H-256_A-4/1',\n",
        "    'small_bert/bert_en_uncased_L-12_H-512_A-8':\n",
        "        'https://tfhub.dev/tensorflow/small_bert/bert_en_uncased_L-12_H-512_A-8/1',\n",
        "    'small_bert/bert_en_uncased_L-12_H-768_A-12':\n",
        "        'https://tfhub.dev/tensorflow/small_bert/bert_en_uncased_L-12_H-768_A-12/1',\n",
        "    'albert_en_base':\n",
        "        'https://tfhub.dev/tensorflow/albert_en_base/2',\n",
        "    'electra_small':\n",
        "        'https://tfhub.dev/google/electra_small/2',\n",
        "    'electra_base':\n",
        "        'https://tfhub.dev/google/electra_base/2',\n",
        "    'experts_pubmed':\n",
        "        'https://tfhub.dev/google/experts/bert/pubmed/2',\n",
        "    'experts_wiki_books':\n",
        "        'https://tfhub.dev/google/experts/bert/wiki_books/2',\n",
        "    'talking-heads_base':\n",
        "        'https://tfhub.dev/tensorflow/talkheads_ggelu_bert_en_base/1',\n",
        "}\n",
        "\n",
        "map_model_to_preprocess = {\n",
        "    'bert_en_uncased_L-12_H-768_A-12':\n",
        "        'https://tfhub.dev/tensorflow/bert_en_uncased_preprocess/3',\n",
        "    'bert_en_cased_L-12_H-768_A-12':\n",
        "        'https://tfhub.dev/tensorflow/bert_en_cased_preprocess/3',\n",
        "    'small_bert/bert_en_uncased_L-2_H-128_A-2':\n",
        "        'https://tfhub.dev/tensorflow/bert_en_uncased_preprocess/3',\n",
        "    'small_bert/bert_en_uncased_L-2_H-256_A-4':\n",
        "        'https://tfhub.dev/tensorflow/bert_en_uncased_preprocess/3',\n",
        "    'small_bert/bert_en_uncased_L-2_H-512_A-8':\n",
        "        'https://tfhub.dev/tensorflow/bert_en_uncased_preprocess/3',\n",
        "    'small_bert/bert_en_uncased_L-2_H-768_A-12':\n",
        "        'https://tfhub.dev/tensorflow/bert_en_uncased_preprocess/3',\n",
        "    'small_bert/bert_en_uncased_L-4_H-128_A-2':\n",
        "        'https://tfhub.dev/tensorflow/bert_en_uncased_preprocess/3',\n",
        "    'small_bert/bert_en_uncased_L-4_H-256_A-4':\n",
        "        'https://tfhub.dev/tensorflow/bert_en_uncased_preprocess/3',\n",
        "    'small_bert/bert_en_uncased_L-4_H-512_A-8':\n",
        "        'https://tfhub.dev/tensorflow/bert_en_uncased_preprocess/3',\n",
        "    'small_bert/bert_en_uncased_L-4_H-768_A-12':\n",
        "        'https://tfhub.dev/tensorflow/bert_en_uncased_preprocess/3',\n",
        "    'small_bert/bert_en_uncased_L-6_H-128_A-2':\n",
        "        'https://tfhub.dev/tensorflow/bert_en_uncased_preprocess/3',\n",
        "    'small_bert/bert_en_uncased_L-6_H-256_A-4':\n",
        "        'https://tfhub.dev/tensorflow/bert_en_uncased_preprocess/3',\n",
        "    'small_bert/bert_en_uncased_L-6_H-512_A-8':\n",
        "        'https://tfhub.dev/tensorflow/bert_en_uncased_preprocess/3',\n",
        "    'small_bert/bert_en_uncased_L-6_H-768_A-12':\n",
        "        'https://tfhub.dev/tensorflow/bert_en_uncased_preprocess/3',\n",
        "    'small_bert/bert_en_uncased_L-8_H-128_A-2':\n",
        "        'https://tfhub.dev/tensorflow/bert_en_uncased_preprocess/3',\n",
        "    'small_bert/bert_en_uncased_L-8_H-256_A-4':\n",
        "        'https://tfhub.dev/tensorflow/bert_en_uncased_preprocess/3',\n",
        "    'small_bert/bert_en_uncased_L-8_H-512_A-8':\n",
        "        'https://tfhub.dev/tensorflow/bert_en_uncased_preprocess/3',\n",
        "    'small_bert/bert_en_uncased_L-8_H-768_A-12':\n",
        "        'https://tfhub.dev/tensorflow/bert_en_uncased_preprocess/3',\n",
        "    'small_bert/bert_en_uncased_L-10_H-128_A-2':\n",
        "        'https://tfhub.dev/tensorflow/bert_en_uncased_preprocess/3',\n",
        "    'small_bert/bert_en_uncased_L-10_H-256_A-4':\n",
        "        'https://tfhub.dev/tensorflow/bert_en_uncased_preprocess/3',\n",
        "    'small_bert/bert_en_uncased_L-10_H-512_A-8':\n",
        "        'https://tfhub.dev/tensorflow/bert_en_uncased_preprocess/3',\n",
        "    'small_bert/bert_en_uncased_L-10_H-768_A-12':\n",
        "        'https://tfhub.dev/tensorflow/bert_en_uncased_preprocess/3',\n",
        "    'small_bert/bert_en_uncased_L-12_H-128_A-2':\n",
        "        'https://tfhub.dev/tensorflow/bert_en_uncased_preprocess/3',\n",
        "    'small_bert/bert_en_uncased_L-12_H-256_A-4':\n",
        "        'https://tfhub.dev/tensorflow/bert_en_uncased_preprocess/3',\n",
        "    'small_bert/bert_en_uncased_L-12_H-512_A-8':\n",
        "        'https://tfhub.dev/tensorflow/bert_en_uncased_preprocess/3',\n",
        "    'small_bert/bert_en_uncased_L-12_H-768_A-12':\n",
        "        'https://tfhub.dev/tensorflow/bert_en_uncased_preprocess/3',\n",
        "    'bert_multi_cased_L-12_H-768_A-12':\n",
        "        'https://tfhub.dev/tensorflow/bert_multi_cased_preprocess/3',\n",
        "    'albert_en_base':\n",
        "        'https://tfhub.dev/tensorflow/albert_en_preprocess/3',\n",
        "    'electra_small':\n",
        "        'https://tfhub.dev/tensorflow/bert_en_uncased_preprocess/3',\n",
        "    'electra_base':\n",
        "        'https://tfhub.dev/tensorflow/bert_en_uncased_preprocess/3',\n",
        "    'experts_pubmed':\n",
        "        'https://tfhub.dev/tensorflow/bert_en_uncased_preprocess/3',\n",
        "    'experts_wiki_books':\n",
        "        'https://tfhub.dev/tensorflow/bert_en_uncased_preprocess/3',\n",
        "    'talking-heads_base':\n",
        "        'https://tfhub.dev/tensorflow/bert_en_uncased_preprocess/3',\n",
        "}"
      ]
    },
    {
      "cell_type": "markdown",
      "metadata": {
        "id": "rXwir2pXBZrL"
      },
      "source": [
        "## Model I - IMDb Movie Review Dataset"
      ]
    },
    {
      "cell_type": "markdown",
      "metadata": {
        "id": "w6q8VuhLBmhA"
      },
      "source": [
        "### Downloading the Dataset"
      ]
    },
    {
      "cell_type": "code",
      "execution_count": 16,
      "metadata": {
        "colab": {
          "base_uri": "https://localhost:8080/"
        },
        "id": "eag0szD7x-Uw",
        "outputId": "6a503802-50cc-4701-f5a6-a47b5cd02c10"
      },
      "outputs": [
        {
          "output_type": "stream",
          "name": "stdout",
          "text": [
            "Downloading data from https://ai.stanford.edu/~amaas/data/sentiment/aclImdb_v1.tar.gz\n",
            "84125825/84125825 [==============================] - 8s 0us/step\n"
          ]
        }
      ],
      "source": [
        "imdb_url = 'https://ai.stanford.edu/~amaas/data/sentiment/aclImdb_v1.tar.gz'\n",
        "\n",
        "imdb_dataset = tf.keras.utils.get_file('aclImdb_v1.tar.gz', imdb_url,\n",
        "                                  untar=True, cache_dir='.',\n",
        "                                  cache_subdir='')\n",
        "\n",
        "imdb_dataset_dir = os.path.join(os.path.dirname(imdb_dataset), 'aclImdb')\n",
        "\n",
        "imdb_train_dir = os.path.join(imdb_dataset_dir, 'train')"
      ]
    },
    {
      "cell_type": "code",
      "execution_count": 17,
      "metadata": {
        "id": "dJ2U3tpVDyDx"
      },
      "outputs": [],
      "source": [
        "# Remove unused folders to make it easier to load the data\n",
        "imdb_remove_dir = os.path.join(imdb_train_dir, 'unsup')\n",
        "shutil.rmtree(imdb_remove_dir)"
      ]
    },
    {
      "cell_type": "markdown",
      "metadata": {
        "id": "oWpohJxrEjKW"
      },
      "source": [
        "### Split the Data into Training, Testing & Validation sets"
      ]
    },
    {
      "cell_type": "code",
      "execution_count": 18,
      "metadata": {
        "colab": {
          "base_uri": "https://localhost:8080/"
        },
        "id": "6IwI_2bcIeX8",
        "outputId": "6fb04f14-85c0-46fa-9b7a-d19addf381b1"
      },
      "outputs": [
        {
          "output_type": "stream",
          "name": "stdout",
          "text": [
            "Found 25000 files belonging to 2 classes.\n",
            "Using 20000 files for training.\n",
            "Found 25000 files belonging to 2 classes.\n",
            "Using 5000 files for validation.\n",
            "Found 25000 files belonging to 2 classes.\n"
          ]
        }
      ],
      "source": [
        "AUTOTUNE = tf.data.AUTOTUNE\n",
        "batch_size = 32\n",
        "seed = 42\n",
        "\n",
        "imdb_raw_train_ds = tf.keras.utils.text_dataset_from_directory(\n",
        "    'aclImdb/train',\n",
        "    batch_size=batch_size,\n",
        "    validation_split=0.2,\n",
        "    subset='training',\n",
        "    seed=seed)\n",
        "\n",
        "imdb_class_names = imdb_raw_train_ds.class_names\n",
        "imdb_train_ds = imdb_raw_train_ds.cache().prefetch(buffer_size=AUTOTUNE)\n",
        "\n",
        "imdb_val_ds = tf.keras.utils.text_dataset_from_directory(\n",
        "    'aclImdb/train',\n",
        "    batch_size=batch_size,\n",
        "    validation_split=0.2,\n",
        "    subset='validation',\n",
        "    seed=seed)\n",
        "\n",
        "imdb_val_ds = imdb_val_ds.cache().prefetch(buffer_size=AUTOTUNE)\n",
        "\n",
        "imdb_test_ds = tf.keras.utils.text_dataset_from_directory(\n",
        "    'aclImdb/test',\n",
        "    batch_size=batch_size)\n",
        "\n",
        "imdb_test_ds = imdb_test_ds.cache().prefetch(buffer_size=AUTOTUNE)"
      ]
    },
    {
      "cell_type": "markdown",
      "metadata": {
        "id": "wH2g8ICLErYz"
      },
      "source": [
        "### Visualise the data"
      ]
    },
    {
      "cell_type": "code",
      "execution_count": 19,
      "metadata": {
        "colab": {
          "base_uri": "https://localhost:8080/"
        },
        "id": "craRDsRbEebm",
        "outputId": "10277b2f-784a-4a3e-dea5-2ca1c83787a6"
      },
      "outputs": [
        {
          "output_type": "stream",
          "name": "stdout",
          "text": [
            "Review: b'\"Pandemonium\" is a horror movie spoof that comes off more stupid than funny. Believe me when I tell you, I love comedies. Especially comedy spoofs. \"Airplane\", \"The Naked Gun\" trilogy, \"Blazing Saddles\", \"High Anxiety\", and \"Spaceballs\" are some of my favorite comedies that spoof a particular genre. \"Pandemonium\" is not up there with those films. Most of the scenes in this movie had me sitting there in stunned silence because the movie wasn\\'t all that funny. There are a few laughs in the film, but when you watch a comedy, you expect to laugh a lot more than a few times and that\\'s all this film has going for it. Geez, \"Scream\" had more laughs than this film and that was more of a horror film. How bizarre is that?<br /><br />*1/2 (out of four)'\n",
            "Label : 0 (neg)\n",
            "\n",
            "Review: b\"David Mamet is a very interesting and a very un-equal director. His first movie 'House of Games' was the one I liked best, and it set a series of films with characters whose perspective of life changes as they get into complicated situations, and so does the perspective of the viewer.<br /><br />So is 'Homicide' which from the title tries to set the mind of the viewer to the usual crime drama. The principal characters are two cops, one Jewish and one Irish who deal with a racially charged area. The murder of an old Jewish shop owner who proves to be an ancient veteran of the Israeli Independence war triggers the Jewish identity in the mind and heart of the Jewish detective.<br /><br />This is were the flaws of the film are the more obvious. The process of awakening is theatrical and hard to believe, the group of Jewish militants is operatic, and the way the detective eventually walks to the final violent confrontation is pathetic. The end of the film itself is Mamet-like smart, but disappoints from a human emotional perspective.<br /><br />Joe Mantegna and William Macy give strong performances, but the flaws of the story are too evident to be easily compensated.\"\n",
            "Label : 0 (neg)\n",
            "\n",
            "Review: b'Great documentary about the lives of NY firefighters during the worst terrorist attack of all time.. That reason alone is why this should be a must see collectors item.. What shocked me was not only the attacks, but the\"High Fat Diet\" and physical appearance of some of these firefighters. I think a lot of Doctors would agree with me that,in the physical shape they were in, some of these firefighters would NOT of made it to the 79th floor carrying over 60 lbs of gear. Having said that i now have a greater respect for firefighters and i realize becoming a firefighter is a life altering job. The French have a history of making great documentary\\'s and that is what this is, a Great Documentary.....'\n",
            "Label : 1 (pos)\n",
            "\n"
          ]
        }
      ],
      "source": [
        "for text_batch, label_batch in imdb_train_ds.take(1):\n",
        "  for i in range(3):\n",
        "    print(f'Review: {text_batch.numpy()[i]}')\n",
        "    label = label_batch.numpy()[i]\n",
        "    print(f'Label : {label} ({imdb_class_names[label]})\\n')"
      ]
    },
    {
      "cell_type": "markdown",
      "metadata": {
        "id": "E0GzyJeGEue4"
      },
      "source": [
        "### Selecting a Model"
      ]
    },
    {
      "cell_type": "code",
      "execution_count": 20,
      "metadata": {
        "colab": {
          "base_uri": "https://localhost:8080/"
        },
        "id": "95ZQ9B2LFTiK",
        "outputId": "7d7fdc16-decf-4704-cf22-c6450a6aab16"
      },
      "outputs": [
        {
          "output_type": "stream",
          "name": "stdout",
          "text": [
            "BERT model selected           : https://tfhub.dev/tensorflow/small_bert/bert_en_uncased_L-4_H-512_A-8/1\n",
            "Preprocess model auto-selected: https://tfhub.dev/tensorflow/bert_en_uncased_preprocess/3\n"
          ]
        }
      ],
      "source": [
        "#@title Choose a BERT model to fine-tune for IMDb Model\n",
        "\n",
        "imdb_bert_model_name = 'small_bert/bert_en_uncased_L-4_H-512_A-8'  #@param [\"bert_en_uncased_L-12_H-768_A-12\", \"bert_en_cased_L-12_H-768_A-12\", \"bert_multi_cased_L-12_H-768_A-12\", \"small_bert/bert_en_uncased_L-2_H-128_A-2\", \"small_bert/bert_en_uncased_L-2_H-256_A-4\", \"small_bert/bert_en_uncased_L-2_H-512_A-8\", \"small_bert/bert_en_uncased_L-2_H-768_A-12\", \"small_bert/bert_en_uncased_L-4_H-128_A-2\", \"small_bert/bert_en_uncased_L-4_H-256_A-4\", \"small_bert/bert_en_uncased_L-4_H-512_A-8\", \"small_bert/bert_en_uncased_L-4_H-768_A-12\", \"small_bert/bert_en_uncased_L-6_H-128_A-2\", \"small_bert/bert_en_uncased_L-6_H-256_A-4\", \"small_bert/bert_en_uncased_L-6_H-512_A-8\", \"small_bert/bert_en_uncased_L-6_H-768_A-12\", \"small_bert/bert_en_uncased_L-8_H-128_A-2\", \"small_bert/bert_en_uncased_L-8_H-256_A-4\", \"small_bert/bert_en_uncased_L-8_H-512_A-8\", \"small_bert/bert_en_uncased_L-8_H-768_A-12\", \"small_bert/bert_en_uncased_L-10_H-128_A-2\", \"small_bert/bert_en_uncased_L-10_H-256_A-4\", \"small_bert/bert_en_uncased_L-10_H-512_A-8\", \"small_bert/bert_en_uncased_L-10_H-768_A-12\", \"small_bert/bert_en_uncased_L-12_H-128_A-2\", \"small_bert/bert_en_uncased_L-12_H-256_A-4\", \"small_bert/bert_en_uncased_L-12_H-512_A-8\", \"small_bert/bert_en_uncased_L-12_H-768_A-12\", \"albert_en_base\", \"electra_small\", \"electra_base\", \"experts_pubmed\", \"experts_wiki_books\", \"talking-heads_base\"]\n",
        "\n",
        "\n",
        "imdb_tfhub_handle_encoder = map_name_to_handle[imdb_bert_model_name]\n",
        "imdb_tfhub_handle_preprocess = map_model_to_preprocess[imdb_bert_model_name]\n",
        "\n",
        "print(f'BERT model selected           : {imdb_tfhub_handle_encoder}')\n",
        "print(f'Preprocess model auto-selected: {imdb_tfhub_handle_preprocess}')"
      ]
    },
    {
      "cell_type": "markdown",
      "metadata": {
        "id": "ImfRj3wMFT8b"
      },
      "source": [
        "### Preprocessing Model"
      ]
    },
    {
      "cell_type": "code",
      "execution_count": 21,
      "metadata": {
        "id": "kHP0YRhoFf8b"
      },
      "outputs": [],
      "source": [
        "imdb_bert_preprocess_model = hub.KerasLayer(imdb_tfhub_handle_preprocess)"
      ]
    },
    {
      "cell_type": "markdown",
      "metadata": {
        "id": "iqO2niPIFpGl"
      },
      "source": [
        "### Using the BERT Model"
      ]
    },
    {
      "cell_type": "code",
      "execution_count": 22,
      "metadata": {
        "id": "uXzTu6bEJNnm"
      },
      "outputs": [],
      "source": [
        "imdb_bert_model = hub.KerasLayer(imdb_tfhub_handle_encoder)"
      ]
    },
    {
      "cell_type": "code",
      "execution_count": 23,
      "metadata": {
        "colab": {
          "base_uri": "https://localhost:8080/",
          "height": 466
        },
        "id": "Jc63oatEJTW0",
        "outputId": "b78ef49e-3ea3-40a8-a992-1cff97336581"
      },
      "outputs": [
        {
          "output_type": "execute_result",
          "data": {
            "image/png": "[encoded data removed]",
            "text/plain": [
              "<IPython.core.display.Image object>"
            ]
          },
          "metadata": {},
          "execution_count": 23
        }
      ],
      "source": [
        "imdb_classifier_model = build_classifier_model(imdb_tfhub_handle_preprocess, imdb_tfhub_handle_encoder)\n",
        "tf.keras.utils.plot_model(imdb_classifier_model)"
      ]
    },
    {
      "cell_type": "code",
      "execution_count": 24,
      "metadata": {
        "id": "EQKyJhuIJfB8"
      },
      "outputs": [],
      "source": [
        "imdb_loss = tf.keras.losses.BinaryCrossentropy(from_logits=True)\n",
        "imdb_metrics = tf.metrics.BinaryAccuracy()\n",
        "\n",
        "imdb_epochs = 5\n",
        "imdb_steps_per_epoch = tf.data.experimental.cardinality(imdb_train_ds).numpy()\n",
        "imdb_num_train_steps = imdb_steps_per_epoch * imdb_epochs\n",
        "imdb_num_warmup_steps = int(0.1*imdb_num_train_steps)\n",
        "\n",
        "imdb_init_lr = 3e-5\n",
        "imdb_optimizer = optimization.create_optimizer(init_lr=imdb_init_lr,\n",
        "                                          num_train_steps=imdb_num_train_steps,\n",
        "                                          num_warmup_steps=imdb_num_warmup_steps,\n",
        "                                          optimizer_type='adamw')"
      ]
    },
    {
      "cell_type": "code",
      "execution_count": 25,
      "metadata": {
        "colab": {
          "base_uri": "https://localhost:8080/"
        },
        "id": "D4JEQj-bJyN7",
        "outputId": "88f46607-5ee3-49f4-b873-e5fc86d0906a"
      },
      "outputs": [
        {
          "output_type": "stream",
          "name": "stdout",
          "text": [
            "Epoch 1/5\n",
            "625/625 [==============================] - 181s 272ms/step - loss: 0.4905 - binary_accuracy: 0.7380 - val_loss: 0.3733 - val_binary_accuracy: 0.8324\n",
            "Epoch 2/5\n",
            "625/625 [==============================] - 166s 266ms/step - loss: 0.3287 - binary_accuracy: 0.8526 - val_loss: 0.3750 - val_binary_accuracy: 0.8434\n",
            "Epoch 3/5\n",
            "625/625 [==============================] - 168s 269ms/step - loss: 0.2506 - binary_accuracy: 0.8937 - val_loss: 0.4061 - val_binary_accuracy: 0.8436\n",
            "Epoch 4/5\n",
            "625/625 [==============================] - 186s 298ms/step - loss: 0.1982 - binary_accuracy: 0.9197 - val_loss: 0.4556 - val_binary_accuracy: 0.8482\n",
            "Epoch 5/5\n",
            "625/625 [==============================] - 190s 304ms/step - loss: 0.1533 - binary_accuracy: 0.9421 - val_loss: 0.4904 - val_binary_accuracy: 0.8474\n"
          ]
        }
      ],
      "source": [
        "imdb_classifier_model.compile(optimizer=imdb_optimizer,\n",
        "                         loss=imdb_loss,\n",
        "                         metrics=imdb_metrics)\n",
        "\n",
        "imdb_history = imdb_classifier_model.fit(x=imdb_train_ds,\n",
        "                               validation_data=imdb_val_ds,\n",
        "                               epochs=imdb_epochs)"
      ]
    },
    {
      "cell_type": "markdown",
      "metadata": {
        "id": "u0cUiFuPJ3ID"
      },
      "source": [
        "### Evaluating the Model"
      ]
    },
    {
      "cell_type": "code",
      "execution_count": 26,
      "metadata": {
        "id": "_agMr9WiJ-bN",
        "colab": {
          "base_uri": "https://localhost:8080/"
        },
        "outputId": "4ab7ee55-d493-41fc-abf2-89dcc310a01d"
      },
      "outputs": [
        {
          "output_type": "stream",
          "name": "stdout",
          "text": [
            "782/782 [==============================] - 106s 135ms/step - loss: 0.4644 - binary_accuracy: 0.8545\n",
            "Loss: 0.4643866717815399\n",
            "Accuracy: 0.8545200228691101\n"
          ]
        }
      ],
      "source": [
        "imdb_loss, imdb_accuracy = imdb_classifier_model.evaluate(imdb_test_ds)\n",
        "\n",
        "print(f'Loss: {imdb_loss}')\n",
        "print(f'Accuracy: {imdb_accuracy}')"
      ]
    },
    {
      "cell_type": "code",
      "execution_count": 27,
      "metadata": {
        "id": "SkttdTxqKDMw",
        "colab": {
          "base_uri": "https://localhost:8080/",
          "height": 599
        },
        "outputId": "8f60768f-e32f-415f-b815-47ac4356ee74"
      },
      "outputs": [
        {
          "output_type": "stream",
          "name": "stdout",
          "text": [
            "dict_keys(['loss', 'binary_accuracy', 'val_loss', 'val_binary_accuracy'])\n"
          ]
        },
        {
          "output_type": "execute_result",
          "data": {
            "text/plain": [
              "Text(0, 0.5, 'Accuracy')"
            ]
          },
          "metadata": {},
          "execution_count": 27
        },
        {
          "output_type": "display_data",
          "data": {
            "text/plain": [
              "<Figure size 1000x600 with 2 Axes>"
            ],
            "image/png": "[encoded data removed]"
          },
          "metadata": {}
        }
      ],
      "source": [
        "imdb_history_dict = imdb_history.history\n",
        "print(imdb_history_dict.keys())\n",
        "\n",
        "imdb_acc = imdb_history_dict['binary_accuracy']\n",
        "imdb_val_acc = imdb_history_dict['val_binary_accuracy']\n",
        "imdb_loss = imdb_history_dict['loss']\n",
        "imdb_val_loss = imdb_history_dict['val_loss']\n",
        "\n",
        "imdb_epochs = range(1, len(imdb_acc) + 1)\n",
        "imdb_fig = plt.figure(figsize=(10, 6))\n",
        "imdb_fig.tight_layout()\n",
        "\n",
        "plt.subplot(2, 1, 1)\n",
        "\n",
        "plt.plot(imdb_epochs, imdb_loss, 'r', label='Training loss')\n",
        "\n",
        "plt.plot(imdb_epochs, imdb_val_loss, 'b', label='Validation loss')\n",
        "plt.title('Training and validation loss')\n",
        "\n",
        "plt.ylabel('Loss')\n",
        "plt.legend()\n",
        "\n",
        "plt.subplot(2, 1, 2)\n",
        "plt.plot(imdb_epochs, imdb_acc, 'r', label='Training acc')\n",
        "plt.plot(imdb_epochs, imdb_val_acc, 'b', label='Validation acc')\n",
        "plt.title('Training and validation accuracy')\n",
        "plt.xlabel('Epochs')\n",
        "plt.ylabel('Accuracy')"
      ]
    },
    {
      "cell_type": "markdown",
      "metadata": {
        "id": "jkJzz9bnLReb"
      },
      "source": [
        "### Make Predictions"
      ]
    },
    {
      "cell_type": "code",
      "execution_count": 28,
      "metadata": {
        "id": "GdRm6AmsleKD",
        "colab": {
          "base_uri": "https://localhost:8080/",
          "height": 441
        },
        "outputId": "0eaea258-122e-41ac-caf4-4522a9d8436f"
      },
      "outputs": [
        {
          "output_type": "stream",
          "name": "stdout",
          "text": [
            "7/7 [==============================] - 2s 167ms/step\n"
          ]
        },
        {
          "output_type": "execute_result",
          "data": {
            "text/plain": [
              "            0                                              Title\n",
              "0    3.542113  More Women in Their 60s and 70s Are Having ‘Wa...\n",
              "1    2.438075  Harvard Political Review: To Understand Trump,...\n",
              "2   -0.465708  Justice Dept. Sues Michigan City After Mosque ...\n",
              "3    3.762477               Introducing Myanmar’s ’Geek Girls’  \n",
              "4    3.165670  An Establishment Conservative’s Guide To The A...\n",
              "..        ...                                                ...\n",
              "195 -3.276024                    phelps aiming to upstage thorpe\n",
              "196  2.782313                                        kenbi mills\n",
              "197 -0.555887                           cracker of a cotton year\n",
              "198 -0.844037                        hannay to make origin debut\n",
              "199  1.561473  investigation launched into fatal police shoot...\n",
              "\n",
              "[200 rows x 2 columns]"
            ],
            "text/html": [
              "\n",
              "  <div id=\"df-c8bcb7a5-e46f-44de-a5e3-346a23a5b2fd\">\n",
              "    <div class=\"colab-df-container\">\n",
              "      <div>\n",
              "<style scoped>\n",
              "    .dataframe tbody tr th:only-of-type {\n",
              "        vertical-align: middle;\n",
              "    }\n",
              "\n",
              "    .dataframe tbody tr th {\n",
              "        vertical-align: top;\n",
              "    }\n",
              "\n",
              "    .dataframe thead th {\n",
              "        text-align: right;\n",
              "    }\n",
              "</style>\n",
              "<table border=\"1\" class=\"dataframe\">\n",
              "  <thead>\n",
              "    <tr style=\"text-align: right;\">\n",
              "      <th></th>\n",
              "      <th>0</th>\n",
              "      <th>Title</th>\n",
              "    </tr>\n",
              "  </thead>\n",
              "  <tbody>\n",
              "    <tr>\n",
              "      <th>0</th>\n",
              "      <td>3.542113</td>\n",
              "      <td>More Women in Their 60s and 70s Are Having ‘Wa...</td>\n",
              "    </tr>\n",
              "    <tr>\n",
              "      <th>1</th>\n",
              "      <td>2.438075</td>\n",
              "      <td>Harvard Political Review: To Understand Trump,...</td>\n",
              "    </tr>\n",
              "    <tr>\n",
              "      <th>2</th>\n",
              "      <td>-0.465708</td>\n",
              "      <td>Justice Dept. Sues Michigan City After Mosque ...</td>\n",
              "    </tr>\n",
              "    <tr>\n",
              "      <th>3</th>\n",
              "      <td>3.762477</td>\n",
              "      <td>Introducing Myanmar’s ’Geek Girls’</td>\n",
              "    </tr>\n",
              "    <tr>\n",
              "      <th>4</th>\n",
              "      <td>3.165670</td>\n",
              "      <td>An Establishment Conservative’s Guide To The A...</td>\n",
              "    </tr>\n",
              "    <tr>\n",
              "      <th>...</th>\n",
              "      <td>...</td>\n",
              "      <td>...</td>\n",
              "    </tr>\n",
              "    <tr>\n",
              "      <th>195</th>\n",
              "      <td>-3.276024</td>\n",
              "      <td>phelps aiming to upstage thorpe</td>\n",
              "    </tr>\n",
              "    <tr>\n",
              "      <th>196</th>\n",
              "      <td>2.782313</td>\n",
              "      <td>kenbi mills</td>\n",
              "    </tr>\n",
              "    <tr>\n",
              "      <th>197</th>\n",
              "      <td>-0.555887</td>\n",
              "      <td>cracker of a cotton year</td>\n",
              "    </tr>\n",
              "    <tr>\n",
              "      <th>198</th>\n",
              "      <td>-0.844037</td>\n",
              "      <td>hannay to make origin debut</td>\n",
              "    </tr>\n",
              "    <tr>\n",
              "      <th>199</th>\n",
              "      <td>1.561473</td>\n",
              "      <td>investigation launched into fatal police shoot...</td>\n",
              "    </tr>\n",
              "  </tbody>\n",
              "</table>\n",
              "<p>200 rows × 2 columns</p>\n",
              "</div>\n",
              "      <button class=\"colab-df-convert\" onclick=\"convertToInteractive('df-c8bcb7a5-e46f-44de-a5e3-346a23a5b2fd')\"\n",
              "              title=\"Convert this dataframe to an interactive table.\"\n",
              "              style=\"display:none;\">\n",
              "        \n",
              "  <svg xmlns=\"http://www.w3.org/2000/svg\" height=\"24px\"viewBox=\"0 0 24 24\"\n",
              "       width=\"24px\">\n",
              "    <path d=\"M0 0h24v24H0V0z\" fill=\"none\"/>\n",
              "    <path d=\"M18.56 5.44l.94 2.06.94-2.06 2.06-.94-2.06-.94-.94-2.06-.94 2.06-2.06.94zm-11 1L8.5 8.5l.94-2.06 2.06-.94-2.06-.94L8.5 2.5l-.94 2.06-2.06.94zm10 10l.94 2.06.94-2.06 2.06-.94-2.06-.94-.94-2.06-.94 2.06-2.06.94z\"/><path d=\"M17.41 7.96l-1.37-1.37c-.4-.4-.92-.59-1.43-.59-.52 0-1.04.2-1.43.59L10.3 9.45l-7.72 7.72c-.78.78-.78 2.05 0 2.83L4 21.41c.39.39.9.59 1.41.59.51 0 1.02-.2 1.41-.59l7.78-7.78 2.81-2.81c.8-.78.8-2.07 0-2.86zM5.41 20L4 18.59l7.72-7.72 1.47 1.35L5.41 20z\"/>\n",
              "  </svg>\n",
              "      </button>\n",
              "      \n",
              "  <style>\n",
              "    .colab-df-container {\n",
              "      display:flex;\n",
              "      flex-wrap:wrap;\n",
              "      gap: 12px;\n",
              "    }\n",
              "\n",
              "    .colab-df-convert {\n",
              "      background-color: #E8F0FE;\n",
              "      border: none;\n",
              "      border-radius: 50%;\n",
              "      cursor: pointer;\n",
              "      display: none;\n",
              "      fill: #1967D2;\n",
              "      height: 32px;\n",
              "      padding: 0 0 0 0;\n",
              "      width: 32px;\n",
              "    }\n",
              "\n",
              "    .colab-df-convert:hover {\n",
              "      background-color: #E2EBFA;\n",
              "      box-shadow: 0px 1px 2px rgba(60, 64, 67, 0.3), 0px 1px 3px 1px rgba(60, 64, 67, 0.15);\n",
              "      fill: #174EA6;\n",
              "    }\n",
              "\n",
              "    [theme=dark] .colab-df-convert {\n",
              "      background-color: #3B4455;\n",
              "      fill: #D2E3FC;\n",
              "    }\n",
              "\n",
              "    [theme=dark] .colab-df-convert:hover {\n",
              "      background-color: #434B5C;\n",
              "      box-shadow: 0px 1px 3px 1px rgba(0, 0, 0, 0.15);\n",
              "      filter: drop-shadow(0px 1px 2px rgba(0, 0, 0, 0.3));\n",
              "      fill: #FFFFFF;\n",
              "    }\n",
              "  </style>\n",
              "\n",
              "      <script>\n",
              "        const buttonEl =\n",
              "          document.querySelector('#df-c8bcb7a5-e46f-44de-a5e3-346a23a5b2fd button.colab-df-convert');\n",
              "        buttonEl.style.display =\n",
              "          google.colab.kernel.accessAllowed ? 'block' : 'none';\n",
              "\n",
              "        async function convertToInteractive(key) {\n",
              "          const element = document.querySelector('#df-c8bcb7a5-e46f-44de-a5e3-346a23a5b2fd');\n",
              "          const dataTable =\n",
              "            await google.colab.kernel.invokeFunction('convertToInteractive',\n",
              "                                                     [key], {});\n",
              "          if (!dataTable) return;\n",
              "\n",
              "          const docLinkHtml = 'Like what you see? Visit the ' +\n",
              "            '<a target=\"_blank\" href=https://colab.research.google.com/notebooks/data_table.ipynb>data table notebook</a>'\n",
              "            + ' to learn more about interactive tables.';\n",
              "          element.innerHTML = '';\n",
              "          dataTable['output_type'] = 'display_data';\n",
              "          await google.colab.output.renderOutput(dataTable, element);\n",
              "          const docLink = document.createElement('div');\n",
              "          docLink.innerHTML = docLinkHtml;\n",
              "          element.appendChild(docLink);\n",
              "        }\n",
              "      </script>\n",
              "    </div>\n",
              "  </div>\n",
              "  "
            ]
          },
          "metadata": {},
          "execution_count": 28
        }
      ],
      "source": [
        "# imdb_eval_data = np.concatenate([atn_array(30), mnh_array(30)], 0)\n",
        "imdb_df = pd.DataFrame(np.squeeze(imdb_classifier_model.predict(eval_data)))\n",
        "imdb_df.insert(1, \"Title\", eval_data, True)\n",
        "imdb_df"
      ]
    },
    {
      "cell_type": "markdown",
      "metadata": {
        "id": "Gv5xACFRDDMx"
      },
      "source": [
        "## Model II - Financial Phrase Bank Dataset"
      ]
    },
    {
      "cell_type": "markdown",
      "metadata": {
        "id": "BBRvAXyYDoEc"
      },
      "source": [
        "### Downloading the Dataset"
      ]
    },
    {
      "cell_type": "code",
      "execution_count": 29,
      "metadata": {
        "id": "5hpzi2RtDsi0"
      },
      "outputs": [],
      "source": [
        "!cp \"/content/drive/MyDrive/Colab Notebooks/Daily Sunshine App/data/financial_phrase_bank.csv\" \"/content/financial_phrase_bank.csv\""
      ]
    },
    {
      "cell_type": "code",
      "execution_count": 30,
      "metadata": {
        "id": "XD67Ha2FE2Iv",
        "colab": {
          "base_uri": "https://localhost:8080/",
          "height": 423
        },
        "outputId": "96dc1753-ccb7-454f-d6af-ca681a38824f"
      },
      "outputs": [
        {
          "output_type": "execute_result",
          "data": {
            "text/plain": [
              "          Tone                                           Headline\n",
              "2     negative  The international electronic industry company ...\n",
              "3     positive  With the new production plant the company woul...\n",
              "4     positive  According to the company 's updated strategy f...\n",
              "5     positive  FINANCING OF ASPOCOMP 'S GROWTH Aspocomp is ag...\n",
              "6     positive  For the last quarter of 2010 , Componenta 's n...\n",
              "...        ...                                                ...\n",
              "4840  negative  HELSINKI Thomson Financial - Shares in Cargote...\n",
              "4841  negative  LONDON MarketWatch -- Share prices ended lower...\n",
              "4843  negative  Operating profit fell to EUR 35.4 mn from EUR ...\n",
              "4844  negative  Net sales of the Paper segment decreased to EU...\n",
              "4845  negative  Sales in Finland decreased by 10.5 % in Januar...\n",
              "\n",
              "[1967 rows x 2 columns]"
            ],
            "text/html": [
              "\n",
              "  <div id=\"df-6df38cdf-4eee-4d39-8d45-ed53a3cd6ccf\">\n",
              "    <div class=\"colab-df-container\">\n",
              "      <div>\n",
              "<style scoped>\n",
              "    .dataframe tbody tr th:only-of-type {\n",
              "        vertical-align: middle;\n",
              "    }\n",
              "\n",
              "    .dataframe tbody tr th {\n",
              "        vertical-align: top;\n",
              "    }\n",
              "\n",
              "    .dataframe thead th {\n",
              "        text-align: right;\n",
              "    }\n",
              "</style>\n",
              "<table border=\"1\" class=\"dataframe\">\n",
              "  <thead>\n",
              "    <tr style=\"text-align: right;\">\n",
              "      <th></th>\n",
              "      <th>Tone</th>\n",
              "      <th>Headline</th>\n",
              "    </tr>\n",
              "  </thead>\n",
              "  <tbody>\n",
              "    <tr>\n",
              "      <th>2</th>\n",
              "      <td>negative</td>\n",
              "      <td>The international electronic industry company ...</td>\n",
              "    </tr>\n",
              "    <tr>\n",
              "      <th>3</th>\n",
              "      <td>positive</td>\n",
              "      <td>With the new production plant the company woul...</td>\n",
              "    </tr>\n",
              "    <tr>\n",
              "      <th>4</th>\n",
              "      <td>positive</td>\n",
              "      <td>According to the company 's updated strategy f...</td>\n",
              "    </tr>\n",
              "    <tr>\n",
              "      <th>5</th>\n",
              "      <td>positive</td>\n",
              "      <td>FINANCING OF ASPOCOMP 'S GROWTH Aspocomp is ag...</td>\n",
              "    </tr>\n",
              "    <tr>\n",
              "      <th>6</th>\n",
              "      <td>positive</td>\n",
              "      <td>For the last quarter of 2010 , Componenta 's n...</td>\n",
              "    </tr>\n",
              "    <tr>\n",
              "      <th>...</th>\n",
              "      <td>...</td>\n",
              "      <td>...</td>\n",
              "    </tr>\n",
              "    <tr>\n",
              "      <th>4840</th>\n",
              "      <td>negative</td>\n",
              "      <td>HELSINKI Thomson Financial - Shares in Cargote...</td>\n",
              "    </tr>\n",
              "    <tr>\n",
              "      <th>4841</th>\n",
              "      <td>negative</td>\n",
              "      <td>LONDON MarketWatch -- Share prices ended lower...</td>\n",
              "    </tr>\n",
              "    <tr>\n",
              "      <th>4843</th>\n",
              "      <td>negative</td>\n",
              "      <td>Operating profit fell to EUR 35.4 mn from EUR ...</td>\n",
              "    </tr>\n",
              "    <tr>\n",
              "      <th>4844</th>\n",
              "      <td>negative</td>\n",
              "      <td>Net sales of the Paper segment decreased to EU...</td>\n",
              "    </tr>\n",
              "    <tr>\n",
              "      <th>4845</th>\n",
              "      <td>negative</td>\n",
              "      <td>Sales in Finland decreased by 10.5 % in Januar...</td>\n",
              "    </tr>\n",
              "  </tbody>\n",
              "</table>\n",
              "<p>1967 rows × 2 columns</p>\n",
              "</div>\n",
              "      <button class=\"colab-df-convert\" onclick=\"convertToInteractive('df-6df38cdf-4eee-4d39-8d45-ed53a3cd6ccf')\"\n",
              "              title=\"Convert this dataframe to an interactive table.\"\n",
              "              style=\"display:none;\">\n",
              "        \n",
              "  <svg xmlns=\"http://www.w3.org/2000/svg\" height=\"24px\"viewBox=\"0 0 24 24\"\n",
              "       width=\"24px\">\n",
              "    <path d=\"M0 0h24v24H0V0z\" fill=\"none\"/>\n",
              "    <path d=\"M18.56 5.44l.94 2.06.94-2.06 2.06-.94-2.06-.94-.94-2.06-.94 2.06-2.06.94zm-11 1L8.5 8.5l.94-2.06 2.06-.94-2.06-.94L8.5 2.5l-.94 2.06-2.06.94zm10 10l.94 2.06.94-2.06 2.06-.94-2.06-.94-.94-2.06-.94 2.06-2.06.94z\"/><path d=\"M17.41 7.96l-1.37-1.37c-.4-.4-.92-.59-1.43-.59-.52 0-1.04.2-1.43.59L10.3 9.45l-7.72 7.72c-.78.78-.78 2.05 0 2.83L4 21.41c.39.39.9.59 1.41.59.51 0 1.02-.2 1.41-.59l7.78-7.78 2.81-2.81c.8-.78.8-2.07 0-2.86zM5.41 20L4 18.59l7.72-7.72 1.47 1.35L5.41 20z\"/>\n",
              "  </svg>\n",
              "      </button>\n",
              "      \n",
              "  <style>\n",
              "    .colab-df-container {\n",
              "      display:flex;\n",
              "      flex-wrap:wrap;\n",
              "      gap: 12px;\n",
              "    }\n",
              "\n",
              "    .colab-df-convert {\n",
              "      background-color: #E8F0FE;\n",
              "      border: none;\n",
              "      border-radius: 50%;\n",
              "      cursor: pointer;\n",
              "      display: none;\n",
              "      fill: #1967D2;\n",
              "      height: 32px;\n",
              "      padding: 0 0 0 0;\n",
              "      width: 32px;\n",
              "    }\n",
              "\n",
              "    .colab-df-convert:hover {\n",
              "      background-color: #E2EBFA;\n",
              "      box-shadow: 0px 1px 2px rgba(60, 64, 67, 0.3), 0px 1px 3px 1px rgba(60, 64, 67, 0.15);\n",
              "      fill: #174EA6;\n",
              "    }\n",
              "\n",
              "    [theme=dark] .colab-df-convert {\n",
              "      background-color: #3B4455;\n",
              "      fill: #D2E3FC;\n",
              "    }\n",
              "\n",
              "    [theme=dark] .colab-df-convert:hover {\n",
              "      background-color: #434B5C;\n",
              "      box-shadow: 0px 1px 3px 1px rgba(0, 0, 0, 0.15);\n",
              "      filter: drop-shadow(0px 1px 2px rgba(0, 0, 0, 0.3));\n",
              "      fill: #FFFFFF;\n",
              "    }\n",
              "  </style>\n",
              "\n",
              "      <script>\n",
              "        const buttonEl =\n",
              "          document.querySelector('#df-6df38cdf-4eee-4d39-8d45-ed53a3cd6ccf button.colab-df-convert');\n",
              "        buttonEl.style.display =\n",
              "          google.colab.kernel.accessAllowed ? 'block' : 'none';\n",
              "\n",
              "        async function convertToInteractive(key) {\n",
              "          const element = document.querySelector('#df-6df38cdf-4eee-4d39-8d45-ed53a3cd6ccf');\n",
              "          const dataTable =\n",
              "            await google.colab.kernel.invokeFunction('convertToInteractive',\n",
              "                                                     [key], {});\n",
              "          if (!dataTable) return;\n",
              "\n",
              "          const docLinkHtml = 'Like what you see? Visit the ' +\n",
              "            '<a target=\"_blank\" href=https://colab.research.google.com/notebooks/data_table.ipynb>data table notebook</a>'\n",
              "            + ' to learn more about interactive tables.';\n",
              "          element.innerHTML = '';\n",
              "          dataTable['output_type'] = 'display_data';\n",
              "          await google.colab.output.renderOutput(dataTable, element);\n",
              "          const docLink = document.createElement('div');\n",
              "          docLink.innerHTML = docLinkHtml;\n",
              "          element.appendChild(docLink);\n",
              "        }\n",
              "      </script>\n",
              "    </div>\n",
              "  </div>\n",
              "  "
            ]
          },
          "metadata": {},
          "execution_count": 30
        }
      ],
      "source": [
        "fpb_dataframe = pd.read_csv('financial_phrase_bank.csv', encoding = 'utf-8', encoding_errors = 'ignore', names = ('Tone', 'Headline'))\n",
        "fpb_dataframe = fpb_dataframe[fpb_dataframe['Tone'] != 'neutral']\n",
        "fpb_dataframe"
      ]
    },
    {
      "cell_type": "markdown",
      "source": [
        "### Split the Data into Trinaing, Testing and Validation sets"
      ],
      "metadata": {
        "id": "I2YnWx0ecr2W"
      }
    },
    {
      "cell_type": "code",
      "execution_count": 31,
      "metadata": {
        "id": "TJ4tMRxppBbF"
      },
      "outputs": [],
      "source": [
        "!rm -rf financial_phrase_bank"
      ]
    },
    {
      "cell_type": "code",
      "execution_count": 32,
      "metadata": {
        "id": "gvHPVW5EFEAR"
      },
      "outputs": [],
      "source": [
        "fpb_dataset_dir = 'financial_phrase_bank'\n",
        "\n",
        "os.mkdir(fpb_dataset_dir)\n",
        "\n",
        "fpb_train_dir = os.path.join(fpb_dataset_dir, 'train')\n",
        "fpb_test_dir = os.path.join(fpb_dataset_dir, 'test')\n",
        "\n",
        "os.mkdir(fpb_train_dir)\n",
        "os.mkdir(fpb_test_dir)\n",
        "\n",
        "for path in [fpb_train_dir, fpb_test_dir]:\n",
        "  os.mkdir(os.path.join(path, 'negative'))\n",
        "  os.mkdir(os.path.join(path, 'positive'))\n",
        "\n",
        "\n",
        "count_train = 1\n",
        "count_test = 1\n",
        "\n",
        "# Training Dataset\n",
        "for ind in fpb_dataframe[int(.7*len(fpb_dataframe)):].index:\n",
        "  with open(os.path.join(fpb_train_dir,  fpb_dataframe['Tone'][ind], str(count_train)+'.txt'), 'w') as file_obj:\n",
        "    file_obj.write(fpb_dataframe['Headline'][ind])\n",
        "  count_train +=1\n",
        "\n",
        "# Testing Dataset\n",
        "for ind in fpb_dataframe[:int(.3*len(fpb_dataframe))].index:\n",
        "  with open(os.path.join(fpb_test_dir,  fpb_dataframe['Tone'][ind], str(count_test)+'.txt'), 'w') as file_obj:\n",
        "    file_obj.write(fpb_dataframe['Headline'][ind])\n",
        "  count_test +=1"
      ]
    },
    {
      "cell_type": "code",
      "execution_count": 33,
      "metadata": {
        "id": "9ZLudMmVnpSC",
        "colab": {
          "base_uri": "https://localhost:8080/"
        },
        "outputId": "70d837c2-2cd7-4dd9-d11f-402950bbc08e"
      },
      "outputs": [
        {
          "output_type": "stream",
          "name": "stdout",
          "text": [
            "Found 591 files belonging to 2 classes.\n",
            "Using 473 files for training.\n",
            "Found 591 files belonging to 2 classes.\n",
            "Using 118 files for validation.\n",
            "Found 590 files belonging to 2 classes.\n"
          ]
        }
      ],
      "source": [
        "AUTOTUNE = tf.data.AUTOTUNE\n",
        "batch_size = 32\n",
        "seed = 42\n",
        "\n",
        "fpb_raw_train_ds = tf.keras.utils.text_dataset_from_directory(\n",
        "    fpb_train_dir,\n",
        "    batch_size=batch_size,\n",
        "    validation_split=0.2,\n",
        "    subset='training',\n",
        "    seed=seed)\n",
        "\n",
        "fpb_class_names = fpb_raw_train_ds.class_names\n",
        "fpb_train_ds = fpb_raw_train_ds.cache().prefetch(buffer_size=AUTOTUNE)\n",
        "\n",
        "fpb_val_ds = tf.keras.utils.text_dataset_from_directory(\n",
        "    fpb_train_dir,\n",
        "    batch_size=batch_size,\n",
        "    validation_split=0.2,\n",
        "    subset='validation',\n",
        "    seed=seed)\n",
        "\n",
        "fpb_val_ds = fpb_val_ds.cache().prefetch(buffer_size=AUTOTUNE)\n",
        "\n",
        "fpb_test_ds = tf.keras.utils.text_dataset_from_directory(\n",
        "    fpb_test_dir,\n",
        "    batch_size=batch_size)\n",
        "\n",
        "fpb_test_ds = fpb_test_ds.cache().prefetch(buffer_size=AUTOTUNE)"
      ]
    },
    {
      "cell_type": "markdown",
      "source": [
        "### Selecting a Model"
      ],
      "metadata": {
        "id": "yZSRPxPfc4UF"
      }
    },
    {
      "cell_type": "code",
      "execution_count": 34,
      "metadata": {
        "id": "FoJDmmqQf3X9",
        "colab": {
          "base_uri": "https://localhost:8080/"
        },
        "outputId": "05121745-5504-44b8-cf4c-35d7ecac91e9"
      },
      "outputs": [
        {
          "output_type": "stream",
          "name": "stdout",
          "text": [
            "BERT model selected           : https://tfhub.dev/tensorflow/bert_multi_cased_L-12_H-768_A-12/3\n",
            "Preprocess model auto-selected: https://tfhub.dev/tensorflow/bert_multi_cased_preprocess/3\n"
          ]
        }
      ],
      "source": [
        "#@title Choose a BERT model to fine-tune for Financial Phrase Bank Model\n",
        "\n",
        "fpb_bert_model_name = 'bert_multi_cased_L-12_H-768_A-12'  #@param [\"bert_en_uncased_L-12_H-768_A-12\", \"bert_en_cased_L-12_H-768_A-12\", \"bert_multi_cased_L-12_H-768_A-12\", \"small_bert/bert_en_uncased_L-2_H-128_A-2\", \"small_bert/bert_en_uncased_L-2_H-256_A-4\", \"small_bert/bert_en_uncased_L-2_H-512_A-8\", \"small_bert/bert_en_uncased_L-2_H-768_A-12\", \"small_bert/bert_en_uncased_L-4_H-128_A-2\", \"small_bert/bert_en_uncased_L-4_H-256_A-4\", \"small_bert/bert_en_uncased_L-4_H-512_A-8\", \"small_bert/bert_en_uncased_L-4_H-768_A-12\", \"small_bert/bert_en_uncased_L-6_H-128_A-2\", \"small_bert/bert_en_uncased_L-6_H-256_A-4\", \"small_bert/bert_en_uncased_L-6_H-512_A-8\", \"small_bert/bert_en_uncased_L-6_H-768_A-12\", \"small_bert/bert_en_uncased_L-8_H-128_A-2\", \"small_bert/bert_en_uncased_L-8_H-256_A-4\", \"small_bert/bert_en_uncased_L-8_H-512_A-8\", \"small_bert/bert_en_uncased_L-8_H-768_A-12\", \"small_bert/bert_en_uncased_L-10_H-128_A-2\", \"small_bert/bert_en_uncased_L-10_H-256_A-4\", \"small_bert/bert_en_uncased_L-10_H-512_A-8\", \"small_bert/bert_en_uncased_L-10_H-768_A-12\", \"small_bert/bert_en_uncased_L-12_H-128_A-2\", \"small_bert/bert_en_uncased_L-12_H-256_A-4\", \"small_bert/bert_en_uncased_L-12_H-512_A-8\", \"small_bert/bert_en_uncased_L-12_H-768_A-12\", \"albert_en_base\", \"electra_small\", \"electra_base\", \"experts_pubmed\", \"experts_wiki_books\", \"talking-heads_base\"]\n",
        "\n",
        "\n",
        "fpb_tfhub_handle_encoder = map_name_to_handle[fpb_bert_model_name]\n",
        "fpb_tfhub_handle_preprocess = map_model_to_preprocess[fpb_bert_model_name]\n",
        "\n",
        "print(f'BERT model selected           : {fpb_tfhub_handle_encoder}')\n",
        "print(f'Preprocess model auto-selected: {fpb_tfhub_handle_preprocess}')"
      ]
    },
    {
      "cell_type": "markdown",
      "source": [
        "### Using the BERT Model"
      ],
      "metadata": {
        "id": "8Ogphq3KdCvA"
      }
    },
    {
      "cell_type": "code",
      "execution_count": 35,
      "metadata": {
        "id": "C7ouViT_ry98"
      },
      "outputs": [],
      "source": [
        "fpb_bert_preprocess_model = hub.KerasLayer(fpb_tfhub_handle_preprocess)"
      ]
    },
    {
      "cell_type": "code",
      "execution_count": 36,
      "metadata": {
        "id": "0_bkSlCHr0Cs"
      },
      "outputs": [],
      "source": [
        "fpb_bert_model = hub.KerasLayer(fpb_tfhub_handle_encoder)"
      ]
    },
    {
      "cell_type": "code",
      "execution_count": 37,
      "metadata": {
        "id": "ytpYC57Or0qg",
        "colab": {
          "base_uri": "https://localhost:8080/",
          "height": 466
        },
        "outputId": "0f6de60b-edc6-42e1-fbf0-13adfc3e5f2c"
      },
      "outputs": [
        {
          "output_type": "execute_result",
          "data": {
            "image/png": "[encoded data removed]",
            "text/plain": [
              "<IPython.core.display.Image object>"
            ]
          },
          "metadata": {},
          "execution_count": 37
        }
      ],
      "source": [
        "fpb_classifier_model = build_classifier_model(fpb_tfhub_handle_preprocess, fpb_tfhub_handle_encoder)\n",
        "tf.keras.utils.plot_model(fpb_classifier_model)"
      ]
    },
    {
      "cell_type": "code",
      "execution_count": 38,
      "metadata": {
        "id": "Mn3PvhiDsH7-"
      },
      "outputs": [],
      "source": [
        "fpb_loss = tf.keras.losses.BinaryCrossentropy(from_logits=True)\n",
        "fpb_metrics = tf.metrics.BinaryAccuracy()\n",
        "\n",
        "fpb_epochs = 10\n",
        "fpb_steps_per_epoch = tf.data.experimental.cardinality(fpb_train_ds).numpy()\n",
        "fpb_num_train_steps = fpb_steps_per_epoch * fpb_epochs\n",
        "fpb_num_warmup_steps = int(0.1*fpb_num_train_steps)\n",
        "\n",
        "fpb_init_lr = 3e-5\n",
        "fpb_optimizer = optimization.create_optimizer(init_lr=fpb_init_lr,\n",
        "                                          num_train_steps=fpb_num_train_steps,\n",
        "                                          num_warmup_steps=fpb_num_warmup_steps,\n",
        "                                          optimizer_type='adamw')"
      ]
    },
    {
      "cell_type": "code",
      "execution_count": 39,
      "metadata": {
        "id": "H_ICsw3FsYql",
        "colab": {
          "base_uri": "https://localhost:8080/"
        },
        "outputId": "c3f2b035-bc2f-41d3-aae6-13b434c3e6db"
      },
      "outputs": [
        {
          "output_type": "stream",
          "name": "stdout",
          "text": [
            "Epoch 1/10\n",
            "15/15 [==============================] - 35s 1s/step - loss: 0.4667 - binary_accuracy: 0.8372 - val_loss: 0.3174 - val_binary_accuracy: 0.8814\n",
            "Epoch 2/10\n",
            "15/15 [==============================] - 14s 962ms/step - loss: 0.3378 - binary_accuracy: 0.8647 - val_loss: 0.2079 - val_binary_accuracy: 0.9407\n",
            "Epoch 3/10\n",
            "15/15 [==============================] - 14s 970ms/step - loss: 0.1934 - binary_accuracy: 0.9345 - val_loss: 0.1914 - val_binary_accuracy: 0.9492\n",
            "Epoch 4/10\n",
            "15/15 [==============================] - 15s 971ms/step - loss: 0.0851 - binary_accuracy: 0.9725 - val_loss: 0.2360 - val_binary_accuracy: 0.9576\n",
            "Epoch 5/10\n",
            "15/15 [==============================] - 15s 973ms/step - loss: 0.0230 - binary_accuracy: 0.9958 - val_loss: 0.3380 - val_binary_accuracy: 0.9322\n",
            "Epoch 6/10\n",
            "15/15 [==============================] - 15s 979ms/step - loss: 0.0261 - binary_accuracy: 0.9894 - val_loss: 0.2985 - val_binary_accuracy: 0.9576\n",
            "Epoch 7/10\n",
            "15/15 [==============================] - 15s 982ms/step - loss: 0.0127 - binary_accuracy: 0.9958 - val_loss: 0.3149 - val_binary_accuracy: 0.9576\n",
            "Epoch 8/10\n",
            "15/15 [==============================] - 15s 991ms/step - loss: 0.0101 - binary_accuracy: 0.9979 - val_loss: 0.3460 - val_binary_accuracy: 0.9576\n",
            "Epoch 9/10\n",
            "15/15 [==============================] - 16s 1s/step - loss: 7.1325e-04 - binary_accuracy: 1.0000 - val_loss: 0.3183 - val_binary_accuracy: 0.9576\n",
            "Epoch 10/10\n",
            "15/15 [==============================] - 16s 1s/step - loss: 7.2787e-04 - binary_accuracy: 1.0000 - val_loss: 0.3190 - val_binary_accuracy: 0.9576\n"
          ]
        }
      ],
      "source": [
        "fpb_classifier_model.compile(optimizer=fpb_optimizer,\n",
        "                         loss=fpb_loss,\n",
        "                         metrics=fpb_metrics)\n",
        "\n",
        "fpb_history = fpb_classifier_model.fit(x=fpb_train_ds,\n",
        "                               validation_data=fpb_val_ds,\n",
        "                               epochs=fpb_epochs)"
      ]
    },
    {
      "cell_type": "markdown",
      "source": [
        "### Evaluate the Model"
      ],
      "metadata": {
        "id": "POiRioFYdNaT"
      }
    },
    {
      "cell_type": "code",
      "execution_count": 40,
      "metadata": {
        "id": "IuUkz-C1sexw",
        "colab": {
          "base_uri": "https://localhost:8080/",
          "height": 599
        },
        "outputId": "26412713-e034-47f1-b1ce-b0ed6e4c6064"
      },
      "outputs": [
        {
          "output_type": "stream",
          "name": "stdout",
          "text": [
            "dict_keys(['loss', 'binary_accuracy', 'val_loss', 'val_binary_accuracy'])\n"
          ]
        },
        {
          "output_type": "execute_result",
          "data": {
            "text/plain": [
              "Text(0, 0.5, 'Accuracy')"
            ]
          },
          "metadata": {},
          "execution_count": 40
        },
        {
          "output_type": "display_data",
          "data": {
            "text/plain": [
              "<Figure size 1000x600 with 2 Axes>"
            ],
            "image/png": "[encoded data removed]"
          },
          "metadata": {}
        }
      ],
      "source": [
        "fpb_history_dict = fpb_history.history\n",
        "print(fpb_history_dict.keys())\n",
        "\n",
        "fpb_acc = fpb_history_dict['binary_accuracy']\n",
        "fpb_val_acc = fpb_history_dict['val_binary_accuracy']\n",
        "fpb_loss = fpb_history_dict['loss']\n",
        "fpb_val_loss = fpb_history_dict['val_loss']\n",
        "\n",
        "fpb_epochs = range(1, len(fpb_acc) + 1)\n",
        "fpb_fig = plt.figure(figsize=(10, 6))\n",
        "fpb_fig.tight_layout()\n",
        "\n",
        "plt.subplot(2, 1, 1)\n",
        "\n",
        "plt.plot(fpb_epochs, fpb_loss, 'r', label='Training loss')\n",
        "\n",
        "plt.plot(fpb_epochs, fpb_val_loss, 'b', label='Validation loss')\n",
        "plt.title('Training and validation loss')\n",
        "\n",
        "plt.ylabel('Loss')\n",
        "plt.legend()\n",
        "\n",
        "plt.subplot(2, 1, 2)\n",
        "plt.plot(fpb_epochs, fpb_acc, 'r', label='Training acc')\n",
        "plt.plot(fpb_epochs, fpb_val_acc, 'b', label='Validation acc')\n",
        "plt.title('Training and validation accuracy')\n",
        "plt.xlabel('Epochs')\n",
        "plt.ylabel('Accuracy')"
      ]
    },
    {
      "cell_type": "markdown",
      "source": [
        "### Make Predictions"
      ],
      "metadata": {
        "id": "1PTGqE1HdQnE"
      }
    },
    {
      "cell_type": "code",
      "execution_count": 41,
      "metadata": {
        "id": "dbweiZ2BstHj",
        "colab": {
          "base_uri": "https://localhost:8080/",
          "height": 441
        },
        "outputId": "2d9bdf11-a8cd-4a09-8ec9-b5595640796c"
      },
      "outputs": [
        {
          "output_type": "stream",
          "name": "stdout",
          "text": [
            "7/7 [==============================] - 3s 310ms/step\n"
          ]
        },
        {
          "output_type": "execute_result",
          "data": {
            "text/plain": [
              "     FPB Model                                              Title\n",
              "0    -1.654533  More Women in Their 60s and 70s Are Having ‘Wa...\n",
              "1     1.559295  Harvard Political Review: To Understand Trump,...\n",
              "2    -3.411098  Justice Dept. Sues Michigan City After Mosque ...\n",
              "3     6.470010               Introducing Myanmar’s ’Geek Girls’  \n",
              "4     4.444001  An Establishment Conservative’s Guide To The A...\n",
              "..         ...                                                ...\n",
              "195   3.688459                    phelps aiming to upstage thorpe\n",
              "196   3.759456                                        kenbi mills\n",
              "197  -7.483743                           cracker of a cotton year\n",
              "198   6.614454                        hannay to make origin debut\n",
              "199  -3.032038  investigation launched into fatal police shoot...\n",
              "\n",
              "[200 rows x 2 columns]"
            ],
            "text/html": [
              "\n",
              "  <div id=\"df-c8c16a2c-09be-458f-acc4-7803d464c52b\">\n",
              "    <div class=\"colab-df-container\">\n",
              "      <div>\n",
              "<style scoped>\n",
              "    .dataframe tbody tr th:only-of-type {\n",
              "        vertical-align: middle;\n",
              "    }\n",
              "\n",
              "    .dataframe tbody tr th {\n",
              "        vertical-align: top;\n",
              "    }\n",
              "\n",
              "    .dataframe thead th {\n",
              "        text-align: right;\n",
              "    }\n",
              "</style>\n",
              "<table border=\"1\" class=\"dataframe\">\n",
              "  <thead>\n",
              "    <tr style=\"text-align: right;\">\n",
              "      <th></th>\n",
              "      <th>FPB Model</th>\n",
              "      <th>Title</th>\n",
              "    </tr>\n",
              "  </thead>\n",
              "  <tbody>\n",
              "    <tr>\n",
              "      <th>0</th>\n",
              "      <td>-1.654533</td>\n",
              "      <td>More Women in Their 60s and 70s Are Having ‘Wa...</td>\n",
              "    </tr>\n",
              "    <tr>\n",
              "      <th>1</th>\n",
              "      <td>1.559295</td>\n",
              "      <td>Harvard Political Review: To Understand Trump,...</td>\n",
              "    </tr>\n",
              "    <tr>\n",
              "      <th>2</th>\n",
              "      <td>-3.411098</td>\n",
              "      <td>Justice Dept. Sues Michigan City After Mosque ...</td>\n",
              "    </tr>\n",
              "    <tr>\n",
              "      <th>3</th>\n",
              "      <td>6.470010</td>\n",
              "      <td>Introducing Myanmar’s ’Geek Girls’</td>\n",
              "    </tr>\n",
              "    <tr>\n",
              "      <th>4</th>\n",
              "      <td>4.444001</td>\n",
              "      <td>An Establishment Conservative’s Guide To The A...</td>\n",
              "    </tr>\n",
              "    <tr>\n",
              "      <th>...</th>\n",
              "      <td>...</td>\n",
              "      <td>...</td>\n",
              "    </tr>\n",
              "    <tr>\n",
              "      <th>195</th>\n",
              "      <td>3.688459</td>\n",
              "      <td>phelps aiming to upstage thorpe</td>\n",
              "    </tr>\n",
              "    <tr>\n",
              "      <th>196</th>\n",
              "      <td>3.759456</td>\n",
              "      <td>kenbi mills</td>\n",
              "    </tr>\n",
              "    <tr>\n",
              "      <th>197</th>\n",
              "      <td>-7.483743</td>\n",
              "      <td>cracker of a cotton year</td>\n",
              "    </tr>\n",
              "    <tr>\n",
              "      <th>198</th>\n",
              "      <td>6.614454</td>\n",
              "      <td>hannay to make origin debut</td>\n",
              "    </tr>\n",
              "    <tr>\n",
              "      <th>199</th>\n",
              "      <td>-3.032038</td>\n",
              "      <td>investigation launched into fatal police shoot...</td>\n",
              "    </tr>\n",
              "  </tbody>\n",
              "</table>\n",
              "<p>200 rows × 2 columns</p>\n",
              "</div>\n",
              "      <button class=\"colab-df-convert\" onclick=\"convertToInteractive('df-c8c16a2c-09be-458f-acc4-7803d464c52b')\"\n",
              "              title=\"Convert this dataframe to an interactive table.\"\n",
              "              style=\"display:none;\">\n",
              "        \n",
              "  <svg xmlns=\"http://www.w3.org/2000/svg\" height=\"24px\"viewBox=\"0 0 24 24\"\n",
              "       width=\"24px\">\n",
              "    <path d=\"M0 0h24v24H0V0z\" fill=\"none\"/>\n",
              "    <path d=\"M18.56 5.44l.94 2.06.94-2.06 2.06-.94-2.06-.94-.94-2.06-.94 2.06-2.06.94zm-11 1L8.5 8.5l.94-2.06 2.06-.94-2.06-.94L8.5 2.5l-.94 2.06-2.06.94zm10 10l.94 2.06.94-2.06 2.06-.94-2.06-.94-.94-2.06-.94 2.06-2.06.94z\"/><path d=\"M17.41 7.96l-1.37-1.37c-.4-.4-.92-.59-1.43-.59-.52 0-1.04.2-1.43.59L10.3 9.45l-7.72 7.72c-.78.78-.78 2.05 0 2.83L4 21.41c.39.39.9.59 1.41.59.51 0 1.02-.2 1.41-.59l7.78-7.78 2.81-2.81c.8-.78.8-2.07 0-2.86zM5.41 20L4 18.59l7.72-7.72 1.47 1.35L5.41 20z\"/>\n",
              "  </svg>\n",
              "      </button>\n",
              "      \n",
              "  <style>\n",
              "    .colab-df-container {\n",
              "      display:flex;\n",
              "      flex-wrap:wrap;\n",
              "      gap: 12px;\n",
              "    }\n",
              "\n",
              "    .colab-df-convert {\n",
              "      background-color: #E8F0FE;\n",
              "      border: none;\n",
              "      border-radius: 50%;\n",
              "      cursor: pointer;\n",
              "      display: none;\n",
              "      fill: #1967D2;\n",
              "      height: 32px;\n",
              "      padding: 0 0 0 0;\n",
              "      width: 32px;\n",
              "    }\n",
              "\n",
              "    .colab-df-convert:hover {\n",
              "      background-color: #E2EBFA;\n",
              "      box-shadow: 0px 1px 2px rgba(60, 64, 67, 0.3), 0px 1px 3px 1px rgba(60, 64, 67, 0.15);\n",
              "      fill: #174EA6;\n",
              "    }\n",
              "\n",
              "    [theme=dark] .colab-df-convert {\n",
              "      background-color: #3B4455;\n",
              "      fill: #D2E3FC;\n",
              "    }\n",
              "\n",
              "    [theme=dark] .colab-df-convert:hover {\n",
              "      background-color: #434B5C;\n",
              "      box-shadow: 0px 1px 3px 1px rgba(0, 0, 0, 0.15);\n",
              "      filter: drop-shadow(0px 1px 2px rgba(0, 0, 0, 0.3));\n",
              "      fill: #FFFFFF;\n",
              "    }\n",
              "  </style>\n",
              "\n",
              "      <script>\n",
              "        const buttonEl =\n",
              "          document.querySelector('#df-c8c16a2c-09be-458f-acc4-7803d464c52b button.colab-df-convert');\n",
              "        buttonEl.style.display =\n",
              "          google.colab.kernel.accessAllowed ? 'block' : 'none';\n",
              "\n",
              "        async function convertToInteractive(key) {\n",
              "          const element = document.querySelector('#df-c8c16a2c-09be-458f-acc4-7803d464c52b');\n",
              "          const dataTable =\n",
              "            await google.colab.kernel.invokeFunction('convertToInteractive',\n",
              "                                                     [key], {});\n",
              "          if (!dataTable) return;\n",
              "\n",
              "          const docLinkHtml = 'Like what you see? Visit the ' +\n",
              "            '<a target=\"_blank\" href=https://colab.research.google.com/notebooks/data_table.ipynb>data table notebook</a>'\n",
              "            + ' to learn more about interactive tables.';\n",
              "          element.innerHTML = '';\n",
              "          dataTable['output_type'] = 'display_data';\n",
              "          await google.colab.output.renderOutput(dataTable, element);\n",
              "          const docLink = document.createElement('div');\n",
              "          docLink.innerHTML = docLinkHtml;\n",
              "          element.appendChild(docLink);\n",
              "        }\n",
              "      </script>\n",
              "    </div>\n",
              "  </div>\n",
              "  "
            ]
          },
          "metadata": {},
          "execution_count": 41
        }
      ],
      "source": [
        "# fpb_eval_data = np.concatenate([atn_array(100), mnh_array(100)], 0)\n",
        "fpb_df = pd.DataFrame(np.squeeze(fpb_classifier_model.predict(eval_data)), columns=['FPB Model'])\n",
        "fpb_df.insert(1, \"Title\", eval_data, True)\n",
        "fpb_df"
      ]
    },
    {
      "cell_type": "markdown",
      "source": [
        "### Compare Predictions with the IMDb Model"
      ],
      "metadata": {
        "id": "Se0gsQxLdTpS"
      }
    },
    {
      "cell_type": "code",
      "source": [
        "overall_df = fpb_df\n",
        "overall_df.insert(0, \"IMDb Model\", imdb_df[0])\n",
        "overall_df"
      ],
      "metadata": {
        "colab": {
          "base_uri": "https://localhost:8080/",
          "height": 423
        },
        "id": "hLJKlv2pF7WI",
        "outputId": "df8acd64-b768-45d0-8132-932e2f9540c2"
      },
      "execution_count": 42,
      "outputs": [
        {
          "output_type": "execute_result",
          "data": {
            "text/plain": [
              "     IMDb Model  FPB Model                                              Title\n",
              "0      3.542113  -1.654533  More Women in Their 60s and 70s Are Having ‘Wa...\n",
              "1      2.438075   1.559295  Harvard Political Review: To Understand Trump,...\n",
              "2     -0.465708  -3.411098  Justice Dept. Sues Michigan City After Mosque ...\n",
              "3      3.762477   6.470010               Introducing Myanmar’s ’Geek Girls’  \n",
              "4      3.165670   4.444001  An Establishment Conservative’s Guide To The A...\n",
              "..          ...        ...                                                ...\n",
              "195   -3.276024   3.688459                    phelps aiming to upstage thorpe\n",
              "196    2.782313   3.759456                                        kenbi mills\n",
              "197   -0.555887  -7.483743                           cracker of a cotton year\n",
              "198   -0.844037   6.614454                        hannay to make origin debut\n",
              "199    1.561473  -3.032038  investigation launched into fatal police shoot...\n",
              "\n",
              "[200 rows x 3 columns]"
            ],
            "text/html": [
              "\n",
              "  <div id=\"df-cfcfe50c-e215-42c5-93d6-85bab7a1bc70\">\n",
              "    <div class=\"colab-df-container\">\n",
              "      <div>\n",
              "<style scoped>\n",
              "    .dataframe tbody tr th:only-of-type {\n",
              "        vertical-align: middle;\n",
              "    }\n",
              "\n",
              "    .dataframe tbody tr th {\n",
              "        vertical-align: top;\n",
              "    }\n",
              "\n",
              "    .dataframe thead th {\n",
              "        text-align: right;\n",
              "    }\n",
              "</style>\n",
              "<table border=\"1\" class=\"dataframe\">\n",
              "  <thead>\n",
              "    <tr style=\"text-align: right;\">\n",
              "      <th></th>\n",
              "      <th>IMDb Model</th>\n",
              "      <th>FPB Model</th>\n",
              "      <th>Title</th>\n",
              "    </tr>\n",
              "  </thead>\n",
              "  <tbody>\n",
              "    <tr>\n",
              "      <th>0</th>\n",
              "      <td>3.542113</td>\n",
              "      <td>-1.654533</td>\n",
              "      <td>More Women in Their 60s and 70s Are Having ‘Wa...</td>\n",
              "    </tr>\n",
              "    <tr>\n",
              "      <th>1</th>\n",
              "      <td>2.438075</td>\n",
              "      <td>1.559295</td>\n",
              "      <td>Harvard Political Review: To Understand Trump,...</td>\n",
              "    </tr>\n",
              "    <tr>\n",
              "      <th>2</th>\n",
              "      <td>-0.465708</td>\n",
              "      <td>-3.411098</td>\n",
              "      <td>Justice Dept. Sues Michigan City After Mosque ...</td>\n",
              "    </tr>\n",
              "    <tr>\n",
              "      <th>3</th>\n",
              "      <td>3.762477</td>\n",
              "      <td>6.470010</td>\n",
              "      <td>Introducing Myanmar’s ’Geek Girls’</td>\n",
              "    </tr>\n",
              "    <tr>\n",
              "      <th>4</th>\n",
              "      <td>3.165670</td>\n",
              "      <td>4.444001</td>\n",
              "      <td>An Establishment Conservative’s Guide To The A...</td>\n",
              "    </tr>\n",
              "    <tr>\n",
              "      <th>...</th>\n",
              "      <td>...</td>\n",
              "      <td>...</td>\n",
              "      <td>...</td>\n",
              "    </tr>\n",
              "    <tr>\n",
              "      <th>195</th>\n",
              "      <td>-3.276024</td>\n",
              "      <td>3.688459</td>\n",
              "      <td>phelps aiming to upstage thorpe</td>\n",
              "    </tr>\n",
              "    <tr>\n",
              "      <th>196</th>\n",
              "      <td>2.782313</td>\n",
              "      <td>3.759456</td>\n",
              "      <td>kenbi mills</td>\n",
              "    </tr>\n",
              "    <tr>\n",
              "      <th>197</th>\n",
              "      <td>-0.555887</td>\n",
              "      <td>-7.483743</td>\n",
              "      <td>cracker of a cotton year</td>\n",
              "    </tr>\n",
              "    <tr>\n",
              "      <th>198</th>\n",
              "      <td>-0.844037</td>\n",
              "      <td>6.614454</td>\n",
              "      <td>hannay to make origin debut</td>\n",
              "    </tr>\n",
              "    <tr>\n",
              "      <th>199</th>\n",
              "      <td>1.561473</td>\n",
              "      <td>-3.032038</td>\n",
              "      <td>investigation launched into fatal police shoot...</td>\n",
              "    </tr>\n",
              "  </tbody>\n",
              "</table>\n",
              "<p>200 rows × 3 columns</p>\n",
              "</div>\n",
              "      <button class=\"colab-df-convert\" onclick=\"convertToInteractive('df-cfcfe50c-e215-42c5-93d6-85bab7a1bc70')\"\n",
              "              title=\"Convert this dataframe to an interactive table.\"\n",
              "              style=\"display:none;\">\n",
              "        \n",
              "  <svg xmlns=\"http://www.w3.org/2000/svg\" height=\"24px\"viewBox=\"0 0 24 24\"\n",
              "       width=\"24px\">\n",
              "    <path d=\"M0 0h24v24H0V0z\" fill=\"none\"/>\n",
              "    <path d=\"M18.56 5.44l.94 2.06.94-2.06 2.06-.94-2.06-.94-.94-2.06-.94 2.06-2.06.94zm-11 1L8.5 8.5l.94-2.06 2.06-.94-2.06-.94L8.5 2.5l-.94 2.06-2.06.94zm10 10l.94 2.06.94-2.06 2.06-.94-2.06-.94-.94-2.06-.94 2.06-2.06.94z\"/><path d=\"M17.41 7.96l-1.37-1.37c-.4-.4-.92-.59-1.43-.59-.52 0-1.04.2-1.43.59L10.3 9.45l-7.72 7.72c-.78.78-.78 2.05 0 2.83L4 21.41c.39.39.9.59 1.41.59.51 0 1.02-.2 1.41-.59l7.78-7.78 2.81-2.81c.8-.78.8-2.07 0-2.86zM5.41 20L4 18.59l7.72-7.72 1.47 1.35L5.41 20z\"/>\n",
              "  </svg>\n",
              "      </button>\n",
              "      \n",
              "  <style>\n",
              "    .colab-df-container {\n",
              "      display:flex;\n",
              "      flex-wrap:wrap;\n",
              "      gap: 12px;\n",
              "    }\n",
              "\n",
              "    .colab-df-convert {\n",
              "      background-color: #E8F0FE;\n",
              "      border: none;\n",
              "      border-radius: 50%;\n",
              "      cursor: pointer;\n",
              "      display: none;\n",
              "      fill: #1967D2;\n",
              "      height: 32px;\n",
              "      padding: 0 0 0 0;\n",
              "      width: 32px;\n",
              "    }\n",
              "\n",
              "    .colab-df-convert:hover {\n",
              "      background-color: #E2EBFA;\n",
              "      box-shadow: 0px 1px 2px rgba(60, 64, 67, 0.3), 0px 1px 3px 1px rgba(60, 64, 67, 0.15);\n",
              "      fill: #174EA6;\n",
              "    }\n",
              "\n",
              "    [theme=dark] .colab-df-convert {\n",
              "      background-color: #3B4455;\n",
              "      fill: #D2E3FC;\n",
              "    }\n",
              "\n",
              "    [theme=dark] .colab-df-convert:hover {\n",
              "      background-color: #434B5C;\n",
              "      box-shadow: 0px 1px 3px 1px rgba(0, 0, 0, 0.15);\n",
              "      filter: drop-shadow(0px 1px 2px rgba(0, 0, 0, 0.3));\n",
              "      fill: #FFFFFF;\n",
              "    }\n",
              "  </style>\n",
              "\n",
              "      <script>\n",
              "        const buttonEl =\n",
              "          document.querySelector('#df-cfcfe50c-e215-42c5-93d6-85bab7a1bc70 button.colab-df-convert');\n",
              "        buttonEl.style.display =\n",
              "          google.colab.kernel.accessAllowed ? 'block' : 'none';\n",
              "\n",
              "        async function convertToInteractive(key) {\n",
              "          const element = document.querySelector('#df-cfcfe50c-e215-42c5-93d6-85bab7a1bc70');\n",
              "          const dataTable =\n",
              "            await google.colab.kernel.invokeFunction('convertToInteractive',\n",
              "                                                     [key], {});\n",
              "          if (!dataTable) return;\n",
              "\n",
              "          const docLinkHtml = 'Like what you see? Visit the ' +\n",
              "            '<a target=\"_blank\" href=https://colab.research.google.com/notebooks/data_table.ipynb>data table notebook</a>'\n",
              "            + ' to learn more about interactive tables.';\n",
              "          element.innerHTML = '';\n",
              "          dataTable['output_type'] = 'display_data';\n",
              "          await google.colab.output.renderOutput(dataTable, element);\n",
              "          const docLink = document.createElement('div');\n",
              "          docLink.innerHTML = docLinkHtml;\n",
              "          element.appendChild(docLink);\n",
              "        }\n",
              "      </script>\n",
              "    </div>\n",
              "  </div>\n",
              "  "
            ]
          },
          "metadata": {},
          "execution_count": 42
        }
      ]
    },
    {
      "cell_type": "markdown",
      "source": [
        "## Model III - Positive and Negative Word List Dataset"
      ],
      "metadata": {
        "id": "GNCk3Z_IxDEo"
      }
    },
    {
      "cell_type": "markdown",
      "source": [
        "### Downloading the Dataset"
      ],
      "metadata": {
        "id": "WyAHwrlDdYIm"
      }
    },
    {
      "cell_type": "code",
      "source": [
        "!cp \"/content/drive/MyDrive/Colab Notebooks/Daily Sunshine App/data/positive_and_negative_word_list.csv\" \"/content/positive_and_negative_word_list.csv\""
      ],
      "metadata": {
        "id": "o-KxMUCPzlVI"
      },
      "execution_count": 43,
      "outputs": []
    },
    {
      "cell_type": "code",
      "source": [
        "pnw_dataframe = pd.read_csv('positive_and_negative_word_list.csv', encoding = 'utf-8', encoding_errors = 'ignore', names = ('Negative', 'Positive'))\n",
        "pnw_dataframe"
      ],
      "metadata": {
        "colab": {
          "base_uri": "https://localhost:8080/",
          "height": 423
        },
        "id": "-zWbm-tGzpDj",
        "outputId": "459590c2-af27-4d2e-985f-5f8674abdbfa"
      },
      "execution_count": 44,
      "outputs": [
        {
          "output_type": "execute_result",
          "data": {
            "text/plain": [
              "        Negative    Positive\n",
              "1       abnormal        able\n",
              "2        abolish   abundance\n",
              "3     abominable  accelerate\n",
              "4     abominably      accept\n",
              "5      abominate     acclaim\n",
              "...          ...         ...\n",
              "4716      zenana         NaN\n",
              "4717      zephyr         NaN\n",
              "4718        zero         NaN\n",
              "4719         zol         NaN\n",
              "4720      zombie         NaN\n",
              "\n",
              "[4720 rows x 2 columns]"
            ],
            "text/html": [
              "\n",
              "  <div id=\"df-fdf5cc77-1c93-4b67-acb7-c35e43310bf0\">\n",
              "    <div class=\"colab-df-container\">\n",
              "      <div>\n",
              "<style scoped>\n",
              "    .dataframe tbody tr th:only-of-type {\n",
              "        vertical-align: middle;\n",
              "    }\n",
              "\n",
              "    .dataframe tbody tr th {\n",
              "        vertical-align: top;\n",
              "    }\n",
              "\n",
              "    .dataframe thead th {\n",
              "        text-align: right;\n",
              "    }\n",
              "</style>\n",
              "<table border=\"1\" class=\"dataframe\">\n",
              "  <thead>\n",
              "    <tr style=\"text-align: right;\">\n",
              "      <th></th>\n",
              "      <th>Negative</th>\n",
              "      <th>Positive</th>\n",
              "    </tr>\n",
              "  </thead>\n",
              "  <tbody>\n",
              "    <tr>\n",
              "      <th>1</th>\n",
              "      <td>abnormal</td>\n",
              "      <td>able</td>\n",
              "    </tr>\n",
              "    <tr>\n",
              "      <th>2</th>\n",
              "      <td>abolish</td>\n",
              "      <td>abundance</td>\n",
              "    </tr>\n",
              "    <tr>\n",
              "      <th>3</th>\n",
              "      <td>abominable</td>\n",
              "      <td>accelerate</td>\n",
              "    </tr>\n",
              "    <tr>\n",
              "      <th>4</th>\n",
              "      <td>abominably</td>\n",
              "      <td>accept</td>\n",
              "    </tr>\n",
              "    <tr>\n",
              "      <th>5</th>\n",
              "      <td>abominate</td>\n",
              "      <td>acclaim</td>\n",
              "    </tr>\n",
              "    <tr>\n",
              "      <th>...</th>\n",
              "      <td>...</td>\n",
              "      <td>...</td>\n",
              "    </tr>\n",
              "    <tr>\n",
              "      <th>4716</th>\n",
              "      <td>zenana</td>\n",
              "      <td>NaN</td>\n",
              "    </tr>\n",
              "    <tr>\n",
              "      <th>4717</th>\n",
              "      <td>zephyr</td>\n",
              "      <td>NaN</td>\n",
              "    </tr>\n",
              "    <tr>\n",
              "      <th>4718</th>\n",
              "      <td>zero</td>\n",
              "      <td>NaN</td>\n",
              "    </tr>\n",
              "    <tr>\n",
              "      <th>4719</th>\n",
              "      <td>zol</td>\n",
              "      <td>NaN</td>\n",
              "    </tr>\n",
              "    <tr>\n",
              "      <th>4720</th>\n",
              "      <td>zombie</td>\n",
              "      <td>NaN</td>\n",
              "    </tr>\n",
              "  </tbody>\n",
              "</table>\n",
              "<p>4720 rows × 2 columns</p>\n",
              "</div>\n",
              "      <button class=\"colab-df-convert\" onclick=\"convertToInteractive('df-fdf5cc77-1c93-4b67-acb7-c35e43310bf0')\"\n",
              "              title=\"Convert this dataframe to an interactive table.\"\n",
              "              style=\"display:none;\">\n",
              "        \n",
              "  <svg xmlns=\"http://www.w3.org/2000/svg\" height=\"24px\"viewBox=\"0 0 24 24\"\n",
              "       width=\"24px\">\n",
              "    <path d=\"M0 0h24v24H0V0z\" fill=\"none\"/>\n",
              "    <path d=\"M18.56 5.44l.94 2.06.94-2.06 2.06-.94-2.06-.94-.94-2.06-.94 2.06-2.06.94zm-11 1L8.5 8.5l.94-2.06 2.06-.94-2.06-.94L8.5 2.5l-.94 2.06-2.06.94zm10 10l.94 2.06.94-2.06 2.06-.94-2.06-.94-.94-2.06-.94 2.06-2.06.94z\"/><path d=\"M17.41 7.96l-1.37-1.37c-.4-.4-.92-.59-1.43-.59-.52 0-1.04.2-1.43.59L10.3 9.45l-7.72 7.72c-.78.78-.78 2.05 0 2.83L4 21.41c.39.39.9.59 1.41.59.51 0 1.02-.2 1.41-.59l7.78-7.78 2.81-2.81c.8-.78.8-2.07 0-2.86zM5.41 20L4 18.59l7.72-7.72 1.47 1.35L5.41 20z\"/>\n",
              "  </svg>\n",
              "      </button>\n",
              "      \n",
              "  <style>\n",
              "    .colab-df-container {\n",
              "      display:flex;\n",
              "      flex-wrap:wrap;\n",
              "      gap: 12px;\n",
              "    }\n",
              "\n",
              "    .colab-df-convert {\n",
              "      background-color: #E8F0FE;\n",
              "      border: none;\n",
              "      border-radius: 50%;\n",
              "      cursor: pointer;\n",
              "      display: none;\n",
              "      fill: #1967D2;\n",
              "      height: 32px;\n",
              "      padding: 0 0 0 0;\n",
              "      width: 32px;\n",
              "    }\n",
              "\n",
              "    .colab-df-convert:hover {\n",
              "      background-color: #E2EBFA;\n",
              "      box-shadow: 0px 1px 2px rgba(60, 64, 67, 0.3), 0px 1px 3px 1px rgba(60, 64, 67, 0.15);\n",
              "      fill: #174EA6;\n",
              "    }\n",
              "\n",
              "    [theme=dark] .colab-df-convert {\n",
              "      background-color: #3B4455;\n",
              "      fill: #D2E3FC;\n",
              "    }\n",
              "\n",
              "    [theme=dark] .colab-df-convert:hover {\n",
              "      background-color: #434B5C;\n",
              "      box-shadow: 0px 1px 3px 1px rgba(0, 0, 0, 0.15);\n",
              "      filter: drop-shadow(0px 1px 2px rgba(0, 0, 0, 0.3));\n",
              "      fill: #FFFFFF;\n",
              "    }\n",
              "  </style>\n",
              "\n",
              "      <script>\n",
              "        const buttonEl =\n",
              "          document.querySelector('#df-fdf5cc77-1c93-4b67-acb7-c35e43310bf0 button.colab-df-convert');\n",
              "        buttonEl.style.display =\n",
              "          google.colab.kernel.accessAllowed ? 'block' : 'none';\n",
              "\n",
              "        async function convertToInteractive(key) {\n",
              "          const element = document.querySelector('#df-fdf5cc77-1c93-4b67-acb7-c35e43310bf0');\n",
              "          const dataTable =\n",
              "            await google.colab.kernel.invokeFunction('convertToInteractive',\n",
              "                                                     [key], {});\n",
              "          if (!dataTable) return;\n",
              "\n",
              "          const docLinkHtml = 'Like what you see? Visit the ' +\n",
              "            '<a target=\"_blank\" href=https://colab.research.google.com/notebooks/data_table.ipynb>data table notebook</a>'\n",
              "            + ' to learn more about interactive tables.';\n",
              "          element.innerHTML = '';\n",
              "          dataTable['output_type'] = 'display_data';\n",
              "          await google.colab.output.renderOutput(dataTable, element);\n",
              "          const docLink = document.createElement('div');\n",
              "          docLink.innerHTML = docLinkHtml;\n",
              "          element.appendChild(docLink);\n",
              "        }\n",
              "      </script>\n",
              "    </div>\n",
              "  </div>\n",
              "  "
            ]
          },
          "metadata": {},
          "execution_count": 44
        }
      ]
    },
    {
      "cell_type": "markdown",
      "source": [
        "### Split the data into Training, Testing and Validation Datasets"
      ],
      "metadata": {
        "id": "DaBopPgIdcS5"
      }
    },
    {
      "cell_type": "code",
      "source": [
        "!rm -rf positive_and_negative_word_list"
      ],
      "metadata": {
        "id": "1Jz_7ioe1hYN"
      },
      "execution_count": 45,
      "outputs": []
    },
    {
      "cell_type": "code",
      "source": [
        "pnw_dataset_dir = 'positive_and_negative_word_list'\n",
        "\n",
        "os.mkdir(pnw_dataset_dir)\n",
        "\n",
        "pnw_train_dir = os.path.join(pnw_dataset_dir, 'train')\n",
        "pnw_test_dir = os.path.join(pnw_dataset_dir, 'test')\n",
        "\n",
        "os.mkdir(pnw_train_dir)\n",
        "os.mkdir(pnw_test_dir)\n",
        "\n",
        "for path in [pnw_train_dir, pnw_test_dir]:\n",
        "  os.mkdir(os.path.join(path, 'negative'))\n",
        "  os.mkdir(os.path.join(path, 'positive'))\n",
        "\n",
        "\n",
        "count_train = 1\n",
        "count_test = 1\n",
        "\n",
        "# Training Dataset\n",
        "for ind in pnw_dataframe[int(.6*len(pnw_dataframe)):].index:\n",
        "  with open(os.path.join(pnw_train_dir,  'negative', str(count_train)+'.txt'), 'w') as file_obj:\n",
        "    file_obj.write(pnw_dataframe['Negative'][ind])\n",
        "  count_train +=1\n",
        "  with open(os.path.join(pnw_train_dir,  'positive', str(count_train)+'.txt'), 'w') as file_obj:\n",
        "    if (isinstance(pnw_dataframe['Positive'][ind], str)):\n",
        "      file_obj.write(pnw_dataframe['Positive'][ind])\n",
        "      count_train += 1\n",
        "\n",
        "# Testing Dataset\n",
        "for ind in pnw_dataframe[:int(.3*len(pnw_dataframe))].index:\n",
        "  with open(os.path.join(pnw_test_dir,  'negative', str(count_test)+'.txt'), 'w') as file_obj:\n",
        "    file_obj.write(pnw_dataframe['Negative'][ind])\n",
        "  count_test +=1\n",
        "  with open(os.path.join(pnw_test_dir,  'positive', str(count_test)+'.txt'), 'w') as file_obj:\n",
        "    if (isinstance(pnw_dataframe['Positive'][ind], str)):\n",
        "      file_obj.write(pnw_dataframe['Positive'][ind])\n",
        "      count_test += 1"
      ],
      "metadata": {
        "id": "6n11rXjzz5wy"
      },
      "execution_count": 46,
      "outputs": []
    },
    {
      "cell_type": "markdown",
      "source": [
        "### Preprocess Data"
      ],
      "metadata": {
        "id": "RPYVUvF4diut"
      }
    },
    {
      "cell_type": "code",
      "source": [
        "AUTOTUNE = tf.data.AUTOTUNE\n",
        "batch_size = 32\n",
        "seed = 42\n",
        "\n",
        "pnw_raw_train_ds = tf.keras.utils.text_dataset_from_directory(\n",
        "    pnw_train_dir,\n",
        "    batch_size=batch_size,\n",
        "    validation_split=0.2,\n",
        "    subset='training',\n",
        "    seed=seed)\n",
        "\n",
        "pnw_class_names = pnw_raw_train_ds.class_names\n",
        "pnw_train_ds = pnw_raw_train_ds.cache().prefetch(buffer_size=AUTOTUNE)\n",
        "\n",
        "pnw_val_ds = tf.keras.utils.text_dataset_from_directory(\n",
        "    pnw_train_dir,\n",
        "    batch_size=batch_size,\n",
        "    validation_split=0.2,\n",
        "    subset='validation',\n",
        "    seed=seed)\n",
        "\n",
        "pnw_val_ds = pnw_val_ds.cache().prefetch(buffer_size=AUTOTUNE)\n",
        "\n",
        "pnw_test_ds = tf.keras.utils.text_dataset_from_directory(\n",
        "    pnw_test_dir,\n",
        "    batch_size=batch_size)\n",
        "\n",
        "pnw_test_ds = pnw_test_ds.cache().prefetch(buffer_size=AUTOTUNE)"
      ],
      "metadata": {
        "colab": {
          "base_uri": "https://localhost:8080/"
        },
        "id": "k8oUdB3g0Et7",
        "outputId": "4892a9b9-79b2-42f3-a858-d27ee17b7333"
      },
      "execution_count": 47,
      "outputs": [
        {
          "output_type": "stream",
          "name": "stdout",
          "text": [
            "Found 3776 files belonging to 2 classes.\n",
            "Using 3021 files for training.\n",
            "Found 3776 files belonging to 2 classes.\n",
            "Using 755 files for validation.\n",
            "Found 2832 files belonging to 2 classes.\n"
          ]
        }
      ]
    },
    {
      "cell_type": "markdown",
      "source": [
        "### Selecting a BERT Model"
      ],
      "metadata": {
        "id": "33KZ0R9pdl46"
      }
    },
    {
      "cell_type": "code",
      "source": [
        "#@title Choose a BERT model to fine-tune for Positive and Negative Word List Model\n",
        "\n",
        "pnw_bert_model_name = 'bert_multi_cased_L-12_H-768_A-12'  #@param [\"bert_en_uncased_L-12_H-768_A-12\", \"bert_en_cased_L-12_H-768_A-12\", \"bert_multi_cased_L-12_H-768_A-12\", \"small_bert/bert_en_uncased_L-2_H-128_A-2\", \"small_bert/bert_en_uncased_L-2_H-256_A-4\", \"small_bert/bert_en_uncased_L-2_H-512_A-8\", \"small_bert/bert_en_uncased_L-2_H-768_A-12\", \"small_bert/bert_en_uncased_L-4_H-128_A-2\", \"small_bert/bert_en_uncased_L-4_H-256_A-4\", \"small_bert/bert_en_uncased_L-4_H-512_A-8\", \"small_bert/bert_en_uncased_L-4_H-768_A-12\", \"small_bert/bert_en_uncased_L-6_H-128_A-2\", \"small_bert/bert_en_uncased_L-6_H-256_A-4\", \"small_bert/bert_en_uncased_L-6_H-512_A-8\", \"small_bert/bert_en_uncased_L-6_H-768_A-12\", \"small_bert/bert_en_uncased_L-8_H-128_A-2\", \"small_bert/bert_en_uncased_L-8_H-256_A-4\", \"small_bert/bert_en_uncased_L-8_H-512_A-8\", \"small_bert/bert_en_uncased_L-8_H-768_A-12\", \"small_bert/bert_en_uncased_L-10_H-128_A-2\", \"small_bert/bert_en_uncased_L-10_H-256_A-4\", \"small_bert/bert_en_uncased_L-10_H-512_A-8\", \"small_bert/bert_en_uncased_L-10_H-768_A-12\", \"small_bert/bert_en_uncased_L-12_H-128_A-2\", \"small_bert/bert_en_uncased_L-12_H-256_A-4\", \"small_bert/bert_en_uncased_L-12_H-512_A-8\", \"small_bert/bert_en_uncased_L-12_H-768_A-12\", \"albert_en_base\", \"electra_small\", \"electra_base\", \"experts_pubmed\", \"experts_wiki_books\", \"talking-heads_base\"]\n",
        "\n",
        "\n",
        "pnw_tfhub_handle_encoder = map_name_to_handle[pnw_bert_model_name]\n",
        "pnw_tfhub_handle_preprocess = map_model_to_preprocess[pnw_bert_model_name]\n",
        "\n",
        "print(f'BERT model selected           : {pnw_tfhub_handle_encoder}')\n",
        "print(f'Preprocess model auto-selected: {pnw_tfhub_handle_preprocess}')"
      ],
      "metadata": {
        "colab": {
          "base_uri": "https://localhost:8080/"
        },
        "id": "9wVYZx671y4A",
        "outputId": "32949e9d-9561-4d8e-8341-6bc22e991fee"
      },
      "execution_count": 48,
      "outputs": [
        {
          "output_type": "stream",
          "name": "stdout",
          "text": [
            "BERT model selected           : https://tfhub.dev/tensorflow/bert_multi_cased_L-12_H-768_A-12/3\n",
            "Preprocess model auto-selected: https://tfhub.dev/tensorflow/bert_multi_cased_preprocess/3\n"
          ]
        }
      ]
    },
    {
      "cell_type": "code",
      "source": [
        "pnw_bert_preprocess_model = hub.KerasLayer(pnw_tfhub_handle_preprocess)"
      ],
      "metadata": {
        "id": "wxuZgi5419JR"
      },
      "execution_count": 49,
      "outputs": []
    },
    {
      "cell_type": "code",
      "source": [
        "pnw_bert_model = hub.KerasLayer(pnw_tfhub_handle_encoder)"
      ],
      "metadata": {
        "id": "wuTrHJ4Q1-BQ"
      },
      "execution_count": 50,
      "outputs": []
    },
    {
      "cell_type": "markdown",
      "source": [
        "### Using the BERT Model"
      ],
      "metadata": {
        "id": "5Sq292p8dpFR"
      }
    },
    {
      "cell_type": "code",
      "source": [
        "pnw_classifier_model = build_classifier_model(pnw_tfhub_handle_preprocess, pnw_tfhub_handle_encoder)\n",
        "tf.keras.utils.plot_model(pnw_classifier_model)"
      ],
      "metadata": {
        "colab": {
          "base_uri": "https://localhost:8080/",
          "height": 466
        },
        "id": "JhHy0eNm1-0I",
        "outputId": "024db7fe-76cc-4dc3-d455-5dc23773a0e0"
      },
      "execution_count": 51,
      "outputs": [
        {
          "output_type": "execute_result",
          "data": {
            "image/png": "[encoded data removed]",
            "text/plain": [
              "<IPython.core.display.Image object>"
            ]
          },
          "metadata": {},
          "execution_count": 51
        }
      ]
    },
    {
      "cell_type": "code",
      "source": [
        "pnw_loss = tf.keras.losses.BinaryCrossentropy(from_logits=True)\n",
        "pnw_metrics = tf.metrics.BinaryAccuracy()\n",
        "\n",
        "pnw_epochs = 10\n",
        "pnw_steps_per_epoch = tf.data.experimental.cardinality(pnw_train_ds).numpy()\n",
        "pnw_num_train_steps = pnw_steps_per_epoch * pnw_epochs\n",
        "pnw_num_warmup_steps = int(0.1*pnw_num_train_steps)\n",
        "\n",
        "pnw_init_lr = 3e-5\n",
        "pnw_optimizer = optimization.create_optimizer(init_lr=pnw_init_lr,\n",
        "                                          num_train_steps=pnw_num_train_steps,\n",
        "                                          num_warmup_steps=pnw_num_warmup_steps,\n",
        "                                          optimizer_type='adamw')"
      ],
      "metadata": {
        "id": "GbVT2tHs2k5j"
      },
      "execution_count": 52,
      "outputs": []
    },
    {
      "cell_type": "code",
      "source": [
        "pnw_classifier_model.compile(optimizer=pnw_optimizer,\n",
        "                         loss=pnw_loss,\n",
        "                         metrics=pnw_metrics)\n",
        "\n",
        "pnw_history = pnw_classifier_model.fit(x=pnw_train_ds,\n",
        "                               validation_data=pnw_val_ds,\n",
        "                               epochs=pnw_epochs)"
      ],
      "metadata": {
        "colab": {
          "base_uri": "https://localhost:8080/"
        },
        "id": "lhewBUBm2Myf",
        "outputId": "cc52d0bb-5473-4413-d97e-034ccefef019"
      },
      "execution_count": 53,
      "outputs": [
        {
          "output_type": "stream",
          "name": "stdout",
          "text": [
            "Epoch 1/10\n",
            "95/95 [==============================] - 113s 994ms/step - loss: 0.6197 - binary_accuracy: 0.6197 - val_loss: 0.4979 - val_binary_accuracy: 0.7735\n",
            "Epoch 2/10\n",
            "95/95 [==============================] - 92s 970ms/step - loss: 0.4317 - binary_accuracy: 0.8004 - val_loss: 0.4933 - val_binary_accuracy: 0.8146\n",
            "Epoch 3/10\n",
            "95/95 [==============================] - 93s 979ms/step - loss: 0.2882 - binary_accuracy: 0.8745 - val_loss: 0.6743 - val_binary_accuracy: 0.8212\n",
            "Epoch 4/10\n",
            "95/95 [==============================] - 97s 1s/step - loss: 0.2042 - binary_accuracy: 0.9196 - val_loss: 0.7509 - val_binary_accuracy: 0.8344\n",
            "Epoch 5/10\n",
            "95/95 [==============================] - 98s 1s/step - loss: 0.1666 - binary_accuracy: 0.9407 - val_loss: 0.8985 - val_binary_accuracy: 0.8265\n",
            "Epoch 6/10\n",
            "95/95 [==============================] - 97s 1s/step - loss: 0.1349 - binary_accuracy: 0.9547 - val_loss: 0.8465 - val_binary_accuracy: 0.8185\n",
            "Epoch 7/10\n",
            "95/95 [==============================] - 96s 1s/step - loss: 0.0978 - binary_accuracy: 0.9689 - val_loss: 0.8888 - val_binary_accuracy: 0.8305\n",
            "Epoch 8/10\n",
            "95/95 [==============================] - 97s 1s/step - loss: 0.0654 - binary_accuracy: 0.9821 - val_loss: 0.9573 - val_binary_accuracy: 0.8278\n",
            "Epoch 9/10\n",
            "95/95 [==============================] - 99s 1s/step - loss: 0.0505 - binary_accuracy: 0.9844 - val_loss: 1.0149 - val_binary_accuracy: 0.8318\n",
            "Epoch 10/10\n",
            "95/95 [==============================] - 98s 1s/step - loss: 0.0422 - binary_accuracy: 0.9851 - val_loss: 1.0539 - val_binary_accuracy: 0.8358\n"
          ]
        }
      ]
    },
    {
      "cell_type": "markdown",
      "source": [
        "### Evaluating the Model"
      ],
      "metadata": {
        "id": "WeaqD9lQdrkJ"
      }
    },
    {
      "cell_type": "code",
      "source": [
        "pnw_history_dict = pnw_history.history\n",
        "print(pnw_history_dict.keys())\n",
        "\n",
        "pnw_acc = pnw_history_dict['binary_accuracy']\n",
        "pnw_val_acc = pnw_history_dict['val_binary_accuracy']\n",
        "pnw_loss = pnw_history_dict['loss']\n",
        "pnw_val_loss = pnw_history_dict['val_loss']\n",
        "\n",
        "pnw_epochs = range(1, len(pnw_acc) + 1)\n",
        "pnw_fig = plt.figure(figsize=(10, 6))\n",
        "pnw_fig.tight_layout()\n",
        "\n",
        "plt.subplot(2, 1, 1)\n",
        "\n",
        "plt.plot(pnw_epochs, pnw_loss, 'r', label='Training loss')\n",
        "\n",
        "plt.plot(pnw_epochs, pnw_val_loss, 'b', label='Validation loss')\n",
        "plt.title('Training and validation loss')\n",
        "\n",
        "plt.ylabel('Loss')\n",
        "plt.legend()\n",
        "\n",
        "plt.subplot(2, 1, 2)\n",
        "plt.plot(pnw_epochs, pnw_acc, 'r', label='Training acc')\n",
        "plt.plot(pnw_epochs, pnw_val_acc, 'b', label='Validation acc')\n",
        "plt.title('Training and validation accuracy')\n",
        "plt.xlabel('Epochs')\n",
        "plt.ylabel('Accuracy')"
      ],
      "metadata": {
        "id": "6zORQDmV2XS4",
        "colab": {
          "base_uri": "https://localhost:8080/",
          "height": 599
        },
        "outputId": "79f689a6-a01b-4668-f690-288fa82a27f5"
      },
      "execution_count": 54,
      "outputs": [
        {
          "output_type": "stream",
          "name": "stdout",
          "text": [
            "dict_keys(['loss', 'binary_accuracy', 'val_loss', 'val_binary_accuracy'])\n"
          ]
        },
        {
          "output_type": "execute_result",
          "data": {
            "text/plain": [
              "Text(0, 0.5, 'Accuracy')"
            ]
          },
          "metadata": {},
          "execution_count": 54
        },
        {
          "output_type": "display_data",
          "data": {
            "text/plain": [
              "<Figure size 1000x600 with 2 Axes>"
            ],
            "image/png": "[encoded data removed]"
          },
          "metadata": {}
        }
      ]
    },
    {
      "cell_type": "markdown",
      "source": [
        "### Make Predictions"
      ],
      "metadata": {
        "id": "c0ak3dCJdtrg"
      }
    },
    {
      "cell_type": "code",
      "source": [
        "# pnw_eval_data = np.concatenate([atn_array(100), mnh_array(100)], 0)\n",
        "pnw_df = pd.DataFrame(np.squeeze(pnw_classifier_model.predict(eval_data)), columns=['Pos & Neg Word List Model'])\n",
        "pnw_df.insert(1, \"Title\", eval_data, True)\n",
        "pnw_df"
      ],
      "metadata": {
        "id": "ps5Uhfis2Y_K",
        "colab": {
          "base_uri": "https://localhost:8080/",
          "height": 667
        },
        "outputId": "fa3962cc-fa9b-49aa-ba92-228c42b776ab"
      },
      "execution_count": 55,
      "outputs": [
        {
          "output_type": "stream",
          "name": "stdout",
          "text": [
            "7/7 [==============================] - 3s 360ms/step\n"
          ]
        },
        {
          "output_type": "execute_result",
          "data": {
            "text/plain": [
              "     Pos & Neg Word List Model  \\\n",
              "0                     6.182361   \n",
              "1                     6.602257   \n",
              "2                     0.051341   \n",
              "3                     8.983531   \n",
              "4                     7.216666   \n",
              "..                         ...   \n",
              "195                  -4.419916   \n",
              "196                   0.575116   \n",
              "197                  -6.560894   \n",
              "198                   8.540446   \n",
              "199                  -1.624209   \n",
              "\n",
              "                                                 Title  \n",
              "0    More Women in Their 60s and 70s Are Having ‘Wa...  \n",
              "1    Harvard Political Review: To Understand Trump,...  \n",
              "2    Justice Dept. Sues Michigan City After Mosque ...  \n",
              "3                 Introducing Myanmar’s ’Geek Girls’    \n",
              "4    An Establishment Conservative’s Guide To The A...  \n",
              "..                                                 ...  \n",
              "195                    phelps aiming to upstage thorpe  \n",
              "196                                        kenbi mills  \n",
              "197                           cracker of a cotton year  \n",
              "198                        hannay to make origin debut  \n",
              "199  investigation launched into fatal police shoot...  \n",
              "\n",
              "[200 rows x 2 columns]"
            ],
            "text/html": [
              "\n",
              "  <div id=\"df-5e8f5007-0a2d-412d-872a-2afe29de2eee\">\n",
              "    <div class=\"colab-df-container\">\n",
              "      <div>\n",
              "<style scoped>\n",
              "    .dataframe tbody tr th:only-of-type {\n",
              "        vertical-align: middle;\n",
              "    }\n",
              "\n",
              "    .dataframe tbody tr th {\n",
              "        vertical-align: top;\n",
              "    }\n",
              "\n",
              "    .dataframe thead th {\n",
              "        text-align: right;\n",
              "    }\n",
              "</style>\n",
              "<table border=\"1\" class=\"dataframe\">\n",
              "  <thead>\n",
              "    <tr style=\"text-align: right;\">\n",
              "      <th></th>\n",
              "      <th>Pos &amp; Neg Word List Model</th>\n",
              "      <th>Title</th>\n",
              "    </tr>\n",
              "  </thead>\n",
              "  <tbody>\n",
              "    <tr>\n",
              "      <th>0</th>\n",
              "      <td>6.182361</td>\n",
              "      <td>More Women in Their 60s and 70s Are Having ‘Wa...</td>\n",
              "    </tr>\n",
              "    <tr>\n",
              "      <th>1</th>\n",
              "      <td>6.602257</td>\n",
              "      <td>Harvard Political Review: To Understand Trump,...</td>\n",
              "    </tr>\n",
              "    <tr>\n",
              "      <th>2</th>\n",
              "      <td>0.051341</td>\n",
              "      <td>Justice Dept. Sues Michigan City After Mosque ...</td>\n",
              "    </tr>\n",
              "    <tr>\n",
              "      <th>3</th>\n",
              "      <td>8.983531</td>\n",
              "      <td>Introducing Myanmar’s ’Geek Girls’</td>\n",
              "    </tr>\n",
              "    <tr>\n",
              "      <th>4</th>\n",
              "      <td>7.216666</td>\n",
              "      <td>An Establishment Conservative’s Guide To The A...</td>\n",
              "    </tr>\n",
              "    <tr>\n",
              "      <th>...</th>\n",
              "      <td>...</td>\n",
              "      <td>...</td>\n",
              "    </tr>\n",
              "    <tr>\n",
              "      <th>195</th>\n",
              "      <td>-4.419916</td>\n",
              "      <td>phelps aiming to upstage thorpe</td>\n",
              "    </tr>\n",
              "    <tr>\n",
              "      <th>196</th>\n",
              "      <td>0.575116</td>\n",
              "      <td>kenbi mills</td>\n",
              "    </tr>\n",
              "    <tr>\n",
              "      <th>197</th>\n",
              "      <td>-6.560894</td>\n",
              "      <td>cracker of a cotton year</td>\n",
              "    </tr>\n",
              "    <tr>\n",
              "      <th>198</th>\n",
              "      <td>8.540446</td>\n",
              "      <td>hannay to make origin debut</td>\n",
              "    </tr>\n",
              "    <tr>\n",
              "      <th>199</th>\n",
              "      <td>-1.624209</td>\n",
              "      <td>investigation launched into fatal police shoot...</td>\n",
              "    </tr>\n",
              "  </tbody>\n",
              "</table>\n",
              "<p>200 rows × 2 columns</p>\n",
              "</div>\n",
              "      <button class=\"colab-df-convert\" onclick=\"convertToInteractive('df-5e8f5007-0a2d-412d-872a-2afe29de2eee')\"\n",
              "              title=\"Convert this dataframe to an interactive table.\"\n",
              "              style=\"display:none;\">\n",
              "        \n",
              "  <svg xmlns=\"http://www.w3.org/2000/svg\" height=\"24px\"viewBox=\"0 0 24 24\"\n",
              "       width=\"24px\">\n",
              "    <path d=\"M0 0h24v24H0V0z\" fill=\"none\"/>\n",
              "    <path d=\"M18.56 5.44l.94 2.06.94-2.06 2.06-.94-2.06-.94-.94-2.06-.94 2.06-2.06.94zm-11 1L8.5 8.5l.94-2.06 2.06-.94-2.06-.94L8.5 2.5l-.94 2.06-2.06.94zm10 10l.94 2.06.94-2.06 2.06-.94-2.06-.94-.94-2.06-.94 2.06-2.06.94z\"/><path d=\"M17.41 7.96l-1.37-1.37c-.4-.4-.92-.59-1.43-.59-.52 0-1.04.2-1.43.59L10.3 9.45l-7.72 7.72c-.78.78-.78 2.05 0 2.83L4 21.41c.39.39.9.59 1.41.59.51 0 1.02-.2 1.41-.59l7.78-7.78 2.81-2.81c.8-.78.8-2.07 0-2.86zM5.41 20L4 18.59l7.72-7.72 1.47 1.35L5.41 20z\"/>\n",
              "  </svg>\n",
              "      </button>\n",
              "      \n",
              "  <style>\n",
              "    .colab-df-container {\n",
              "      display:flex;\n",
              "      flex-wrap:wrap;\n",
              "      gap: 12px;\n",
              "    }\n",
              "\n",
              "    .colab-df-convert {\n",
              "      background-color: #E8F0FE;\n",
              "      border: none;\n",
              "      border-radius: 50%;\n",
              "      cursor: pointer;\n",
              "      display: none;\n",
              "      fill: #1967D2;\n",
              "      height: 32px;\n",
              "      padding: 0 0 0 0;\n",
              "      width: 32px;\n",
              "    }\n",
              "\n",
              "    .colab-df-convert:hover {\n",
              "      background-color: #E2EBFA;\n",
              "      box-shadow: 0px 1px 2px rgba(60, 64, 67, 0.3), 0px 1px 3px 1px rgba(60, 64, 67, 0.15);\n",
              "      fill: #174EA6;\n",
              "    }\n",
              "\n",
              "    [theme=dark] .colab-df-convert {\n",
              "      background-color: #3B4455;\n",
              "      fill: #D2E3FC;\n",
              "    }\n",
              "\n",
              "    [theme=dark] .colab-df-convert:hover {\n",
              "      background-color: #434B5C;\n",
              "      box-shadow: 0px 1px 3px 1px rgba(0, 0, 0, 0.15);\n",
              "      filter: drop-shadow(0px 1px 2px rgba(0, 0, 0, 0.3));\n",
              "      fill: #FFFFFF;\n",
              "    }\n",
              "  </style>\n",
              "\n",
              "      <script>\n",
              "        const buttonEl =\n",
              "          document.querySelector('#df-5e8f5007-0a2d-412d-872a-2afe29de2eee button.colab-df-convert');\n",
              "        buttonEl.style.display =\n",
              "          google.colab.kernel.accessAllowed ? 'block' : 'none';\n",
              "\n",
              "        async function convertToInteractive(key) {\n",
              "          const element = document.querySelector('#df-5e8f5007-0a2d-412d-872a-2afe29de2eee');\n",
              "          const dataTable =\n",
              "            await google.colab.kernel.invokeFunction('convertToInteractive',\n",
              "                                                     [key], {});\n",
              "          if (!dataTable) return;\n",
              "\n",
              "          const docLinkHtml = 'Like what you see? Visit the ' +\n",
              "            '<a target=\"_blank\" href=https://colab.research.google.com/notebooks/data_table.ipynb>data table notebook</a>'\n",
              "            + ' to learn more about interactive tables.';\n",
              "          element.innerHTML = '';\n",
              "          dataTable['output_type'] = 'display_data';\n",
              "          await google.colab.output.renderOutput(dataTable, element);\n",
              "          const docLink = document.createElement('div');\n",
              "          docLink.innerHTML = docLinkHtml;\n",
              "          element.appendChild(docLink);\n",
              "        }\n",
              "      </script>\n",
              "    </div>\n",
              "  </div>\n",
              "  "
            ]
          },
          "metadata": {},
          "execution_count": 55
        }
      ]
    },
    {
      "cell_type": "markdown",
      "source": [
        "### Compare predictions with the other models"
      ],
      "metadata": {
        "id": "Ei-7NVeAdwFX"
      }
    },
    {
      "cell_type": "code",
      "source": [
        "overall_df.insert(0, \"Pos & Neg Word List\", pnw_df['Pos & Neg Word List Model'])\n",
        "overall_df"
      ],
      "metadata": {
        "id": "Gyic5WdF58E6",
        "colab": {
          "base_uri": "https://localhost:8080/",
          "height": 423
        },
        "outputId": "e167785d-6f6f-44ef-a3fa-599b9148d7d1"
      },
      "execution_count": 56,
      "outputs": [
        {
          "output_type": "execute_result",
          "data": {
            "text/plain": [
              "     Pos & Neg Word List  IMDb Model  FPB Model  \\\n",
              "0               6.182361    3.542113  -1.654533   \n",
              "1               6.602257    2.438075   1.559295   \n",
              "2               0.051341   -0.465708  -3.411098   \n",
              "3               8.983531    3.762477   6.470010   \n",
              "4               7.216666    3.165670   4.444001   \n",
              "..                   ...         ...        ...   \n",
              "195            -4.419916   -3.276024   3.688459   \n",
              "196             0.575116    2.782313   3.759456   \n",
              "197            -6.560894   -0.555887  -7.483743   \n",
              "198             8.540446   -0.844037   6.614454   \n",
              "199            -1.624209    1.561473  -3.032038   \n",
              "\n",
              "                                                 Title  \n",
              "0    More Women in Their 60s and 70s Are Having ‘Wa...  \n",
              "1    Harvard Political Review: To Understand Trump,...  \n",
              "2    Justice Dept. Sues Michigan City After Mosque ...  \n",
              "3                 Introducing Myanmar’s ’Geek Girls’    \n",
              "4    An Establishment Conservative’s Guide To The A...  \n",
              "..                                                 ...  \n",
              "195                    phelps aiming to upstage thorpe  \n",
              "196                                        kenbi mills  \n",
              "197                           cracker of a cotton year  \n",
              "198                        hannay to make origin debut  \n",
              "199  investigation launched into fatal police shoot...  \n",
              "\n",
              "[200 rows x 4 columns]"
            ],
            "text/html": [
              "\n",
              "  <div id=\"df-c37f4063-0765-479a-843f-2e9858b53da8\">\n",
              "    <div class=\"colab-df-container\">\n",
              "      <div>\n",
              "<style scoped>\n",
              "    .dataframe tbody tr th:only-of-type {\n",
              "        vertical-align: middle;\n",
              "    }\n",
              "\n",
              "    .dataframe tbody tr th {\n",
              "        vertical-align: top;\n",
              "    }\n",
              "\n",
              "    .dataframe thead th {\n",
              "        text-align: right;\n",
              "    }\n",
              "</style>\n",
              "<table border=\"1\" class=\"dataframe\">\n",
              "  <thead>\n",
              "    <tr style=\"text-align: right;\">\n",
              "      <th></th>\n",
              "      <th>Pos &amp; Neg Word List</th>\n",
              "      <th>IMDb Model</th>\n",
              "      <th>FPB Model</th>\n",
              "      <th>Title</th>\n",
              "    </tr>\n",
              "  </thead>\n",
              "  <tbody>\n",
              "    <tr>\n",
              "      <th>0</th>\n",
              "      <td>6.182361</td>\n",
              "      <td>3.542113</td>\n",
              "      <td>-1.654533</td>\n",
              "      <td>More Women in Their 60s and 70s Are Having ‘Wa...</td>\n",
              "    </tr>\n",
              "    <tr>\n",
              "      <th>1</th>\n",
              "      <td>6.602257</td>\n",
              "      <td>2.438075</td>\n",
              "      <td>1.559295</td>\n",
              "      <td>Harvard Political Review: To Understand Trump,...</td>\n",
              "    </tr>\n",
              "    <tr>\n",
              "      <th>2</th>\n",
              "      <td>0.051341</td>\n",
              "      <td>-0.465708</td>\n",
              "      <td>-3.411098</td>\n",
              "      <td>Justice Dept. Sues Michigan City After Mosque ...</td>\n",
              "    </tr>\n",
              "    <tr>\n",
              "      <th>3</th>\n",
              "      <td>8.983531</td>\n",
              "      <td>3.762477</td>\n",
              "      <td>6.470010</td>\n",
              "      <td>Introducing Myanmar’s ’Geek Girls’</td>\n",
              "    </tr>\n",
              "    <tr>\n",
              "      <th>4</th>\n",
              "      <td>7.216666</td>\n",
              "      <td>3.165670</td>\n",
              "      <td>4.444001</td>\n",
              "      <td>An Establishment Conservative’s Guide To The A...</td>\n",
              "    </tr>\n",
              "    <tr>\n",
              "      <th>...</th>\n",
              "      <td>...</td>\n",
              "      <td>...</td>\n",
              "      <td>...</td>\n",
              "      <td>...</td>\n",
              "    </tr>\n",
              "    <tr>\n",
              "      <th>195</th>\n",
              "      <td>-4.419916</td>\n",
              "      <td>-3.276024</td>\n",
              "      <td>3.688459</td>\n",
              "      <td>phelps aiming to upstage thorpe</td>\n",
              "    </tr>\n",
              "    <tr>\n",
              "      <th>196</th>\n",
              "      <td>0.575116</td>\n",
              "      <td>2.782313</td>\n",
              "      <td>3.759456</td>\n",
              "      <td>kenbi mills</td>\n",
              "    </tr>\n",
              "    <tr>\n",
              "      <th>197</th>\n",
              "      <td>-6.560894</td>\n",
              "      <td>-0.555887</td>\n",
              "      <td>-7.483743</td>\n",
              "      <td>cracker of a cotton year</td>\n",
              "    </tr>\n",
              "    <tr>\n",
              "      <th>198</th>\n",
              "      <td>8.540446</td>\n",
              "      <td>-0.844037</td>\n",
              "      <td>6.614454</td>\n",
              "      <td>hannay to make origin debut</td>\n",
              "    </tr>\n",
              "    <tr>\n",
              "      <th>199</th>\n",
              "      <td>-1.624209</td>\n",
              "      <td>1.561473</td>\n",
              "      <td>-3.032038</td>\n",
              "      <td>investigation launched into fatal police shoot...</td>\n",
              "    </tr>\n",
              "  </tbody>\n",
              "</table>\n",
              "<p>200 rows × 4 columns</p>\n",
              "</div>\n",
              "      <button class=\"colab-df-convert\" onclick=\"convertToInteractive('df-c37f4063-0765-479a-843f-2e9858b53da8')\"\n",
              "              title=\"Convert this dataframe to an interactive table.\"\n",
              "              style=\"display:none;\">\n",
              "        \n",
              "  <svg xmlns=\"http://www.w3.org/2000/svg\" height=\"24px\"viewBox=\"0 0 24 24\"\n",
              "       width=\"24px\">\n",
              "    <path d=\"M0 0h24v24H0V0z\" fill=\"none\"/>\n",
              "    <path d=\"M18.56 5.44l.94 2.06.94-2.06 2.06-.94-2.06-.94-.94-2.06-.94 2.06-2.06.94zm-11 1L8.5 8.5l.94-2.06 2.06-.94-2.06-.94L8.5 2.5l-.94 2.06-2.06.94zm10 10l.94 2.06.94-2.06 2.06-.94-2.06-.94-.94-2.06-.94 2.06-2.06.94z\"/><path d=\"M17.41 7.96l-1.37-1.37c-.4-.4-.92-.59-1.43-.59-.52 0-1.04.2-1.43.59L10.3 9.45l-7.72 7.72c-.78.78-.78 2.05 0 2.83L4 21.41c.39.39.9.59 1.41.59.51 0 1.02-.2 1.41-.59l7.78-7.78 2.81-2.81c.8-.78.8-2.07 0-2.86zM5.41 20L4 18.59l7.72-7.72 1.47 1.35L5.41 20z\"/>\n",
              "  </svg>\n",
              "      </button>\n",
              "      \n",
              "  <style>\n",
              "    .colab-df-container {\n",
              "      display:flex;\n",
              "      flex-wrap:wrap;\n",
              "      gap: 12px;\n",
              "    }\n",
              "\n",
              "    .colab-df-convert {\n",
              "      background-color: #E8F0FE;\n",
              "      border: none;\n",
              "      border-radius: 50%;\n",
              "      cursor: pointer;\n",
              "      display: none;\n",
              "      fill: #1967D2;\n",
              "      height: 32px;\n",
              "      padding: 0 0 0 0;\n",
              "      width: 32px;\n",
              "    }\n",
              "\n",
              "    .colab-df-convert:hover {\n",
              "      background-color: #E2EBFA;\n",
              "      box-shadow: 0px 1px 2px rgba(60, 64, 67, 0.3), 0px 1px 3px 1px rgba(60, 64, 67, 0.15);\n",
              "      fill: #174EA6;\n",
              "    }\n",
              "\n",
              "    [theme=dark] .colab-df-convert {\n",
              "      background-color: #3B4455;\n",
              "      fill: #D2E3FC;\n",
              "    }\n",
              "\n",
              "    [theme=dark] .colab-df-convert:hover {\n",
              "      background-color: #434B5C;\n",
              "      box-shadow: 0px 1px 3px 1px rgba(0, 0, 0, 0.15);\n",
              "      filter: drop-shadow(0px 1px 2px rgba(0, 0, 0, 0.3));\n",
              "      fill: #FFFFFF;\n",
              "    }\n",
              "  </style>\n",
              "\n",
              "      <script>\n",
              "        const buttonEl =\n",
              "          document.querySelector('#df-c37f4063-0765-479a-843f-2e9858b53da8 button.colab-df-convert');\n",
              "        buttonEl.style.display =\n",
              "          google.colab.kernel.accessAllowed ? 'block' : 'none';\n",
              "\n",
              "        async function convertToInteractive(key) {\n",
              "          const element = document.querySelector('#df-c37f4063-0765-479a-843f-2e9858b53da8');\n",
              "          const dataTable =\n",
              "            await google.colab.kernel.invokeFunction('convertToInteractive',\n",
              "                                                     [key], {});\n",
              "          if (!dataTable) return;\n",
              "\n",
              "          const docLinkHtml = 'Like what you see? Visit the ' +\n",
              "            '<a target=\"_blank\" href=https://colab.research.google.com/notebooks/data_table.ipynb>data table notebook</a>'\n",
              "            + ' to learn more about interactive tables.';\n",
              "          element.innerHTML = '';\n",
              "          dataTable['output_type'] = 'display_data';\n",
              "          await google.colab.output.renderOutput(dataTable, element);\n",
              "          const docLink = document.createElement('div');\n",
              "          docLink.innerHTML = docLinkHtml;\n",
              "          element.appendChild(docLink);\n",
              "        }\n",
              "      </script>\n",
              "    </div>\n",
              "  </div>\n",
              "  "
            ]
          },
          "metadata": {},
          "execution_count": 56
        }
      ]
    },
    {
      "cell_type": "markdown",
      "source": [
        "## Model IV - News Sentiment Dataset"
      ],
      "metadata": {
        "id": "L9UZojBwgwnU"
      }
    },
    {
      "cell_type": "markdown",
      "source": [
        "### Downloading the Dataset"
      ],
      "metadata": {
        "id": "HBjlxGs1g0ZV"
      }
    },
    {
      "cell_type": "code",
      "source": [
        "!cp \"/content/drive/MyDrive/Colab Notebooks/Daily Sunshine App/data/news_sentiment_dataset.csv\" \"/content/news_sentiment_dataset.csv\""
      ],
      "metadata": {
        "id": "DI7lygTqhTTr"
      },
      "execution_count": 57,
      "outputs": []
    },
    {
      "cell_type": "code",
      "source": [
        "nsd_dataframe = pd.read_csv('news_sentiment_dataset.csv', encoding = 'utf-8', encoding_errors = 'ignore')\n",
        "nsd_dataframe"
      ],
      "metadata": {
        "colab": {
          "base_uri": "https://localhost:8080/",
          "height": 641
        },
        "id": "QHmPFhYghdBi",
        "outputId": "18f58b58-4044-42b5-cfb1-debcfc0507cf"
      },
      "execution_count": 58,
      "outputs": [
        {
          "output_type": "execute_result",
          "data": {
            "text/plain": [
              "                                            news_title  \\\n",
              "0             Mark Cuban launches generic drug company   \n",
              "1    From Defendant to Defender: One Wrongfully Con...   \n",
              "2    Amazon Tribe Wins Lawsuit Against Big Oil, Sav...   \n",
              "3    Newark police: No officer fired a single shot ...   \n",
              "4                   Ingen barn døde i trafikken i 2019   \n",
              "..                                                 ...   \n",
              "843  Dee Why attack: Man allegedly choked and threa...   \n",
              "844  Africa: Children and HIV/Aids - 'We Need to Ta...   \n",
              "845                Terrorism suspected in Eilat attack   \n",
              "846  Anti-Semitism never disappeared in Europe. It'...   \n",
              "847     Five dead, 32 injured in Hong Kong coach crash   \n",
              "\n",
              "                                          reddit_title  sentiment  \\\n",
              "0    Billionaire Mark Cuban just launched a drug co...        1.0   \n",
              "1    Man falsely imprisoned for 10 years, uses pris...        1.0   \n",
              "2    Amazon tribe wins legal battle against oil com...        1.0   \n",
              "3    Newark police: No officer fired a single shot ...        1.0   \n",
              "4    No children died in traffic accidents in Norwa...        1.0   \n",
              "..                                                 ...        ...   \n",
              "843  Dee Why attack: Man allegedly choked and threa...        0.0   \n",
              "844  Africa: Children and HIV/Aids - 'We Need to Ta...        0.0   \n",
              "845                Terrorism suspected in Eilat attack        0.0   \n",
              "846  Anti-Semitism never disappeared in Europe. It'...        0.0   \n",
              "847     Five dead, 32 injured in Hong Kong coach crash        0.0   \n",
              "\n",
              "                                                  text  \\\n",
              "0    Billionaire investor and Shark Tank star Mark ...   \n",
              "1    Attorney Jarrett Adams recently helped overtur...   \n",
              "2    The Amazon Rainforest is well known across the...   \n",
              "3    Newark police: No officer fired a single shot ...   \n",
              "4    I 1970 døde det 560 mennesker i den norske tra...   \n",
              "..                                                 ...   \n",
              "843  Frightening details have emerged about a toile...   \n",
              "844  interview\\n\\nJohannesburg — 360,000 adolescent...   \n",
              "845  A violent attack in the southern Israeli port ...   \n",
              "846  It's a 17-year-old boy, too frightened to wear...   \n",
              "847  HONG KONG (AFP) - Five people were killed and ...   \n",
              "\n",
              "                                                   url  \n",
              "0    https://www.beckershospitalreview.com/pharmacy...  \n",
              "1    https://www.nbcnews.com/news/us-news/defendant...  \n",
              "2    https://www.disclose.tv/amazon-tribe-wins-laws...  \n",
              "3    https://newjersey.news12.com/newark-police-no-...  \n",
              "4    https://www.nrk.no/trondelag/ingen-barn-dode-i...  \n",
              "..                                                 ...  \n",
              "843  https://www.9news.com.au/2018/11/30/17/55/sydn...  \n",
              "844    https://allafrica.com/stories/201811300567.html  \n",
              "845  http://www.israelnationalnews.com/News/News.as...  \n",
              "846  https://edition.cnn.com/2018/11/27/europe/anti...  \n",
              "847  https://www.straitstimes.com/asia/east-asia/fi...  \n",
              "\n",
              "[848 rows x 5 columns]"
            ],
            "text/html": [
              "\n",
              "  <div id=\"df-b3f9249e-d8c3-472c-8af5-1a91ede0fc27\">\n",
              "    <div class=\"colab-df-container\">\n",
              "      <div>\n",
              "<style scoped>\n",
              "    .dataframe tbody tr th:only-of-type {\n",
              "        vertical-align: middle;\n",
              "    }\n",
              "\n",
              "    .dataframe tbody tr th {\n",
              "        vertical-align: top;\n",
              "    }\n",
              "\n",
              "    .dataframe thead th {\n",
              "        text-align: right;\n",
              "    }\n",
              "</style>\n",
              "<table border=\"1\" class=\"dataframe\">\n",
              "  <thead>\n",
              "    <tr style=\"text-align: right;\">\n",
              "      <th></th>\n",
              "      <th>news_title</th>\n",
              "      <th>reddit_title</th>\n",
              "      <th>sentiment</th>\n",
              "      <th>text</th>\n",
              "      <th>url</th>\n",
              "    </tr>\n",
              "  </thead>\n",
              "  <tbody>\n",
              "    <tr>\n",
              "      <th>0</th>\n",
              "      <td>Mark Cuban launches generic drug company</td>\n",
              "      <td>Billionaire Mark Cuban just launched a drug co...</td>\n",
              "      <td>1.0</td>\n",
              "      <td>Billionaire investor and Shark Tank star Mark ...</td>\n",
              "      <td>https://www.beckershospitalreview.com/pharmacy...</td>\n",
              "    </tr>\n",
              "    <tr>\n",
              "      <th>1</th>\n",
              "      <td>From Defendant to Defender: One Wrongfully Con...</td>\n",
              "      <td>Man falsely imprisoned for 10 years, uses pris...</td>\n",
              "      <td>1.0</td>\n",
              "      <td>Attorney Jarrett Adams recently helped overtur...</td>\n",
              "      <td>https://www.nbcnews.com/news/us-news/defendant...</td>\n",
              "    </tr>\n",
              "    <tr>\n",
              "      <th>2</th>\n",
              "      <td>Amazon Tribe Wins Lawsuit Against Big Oil, Sav...</td>\n",
              "      <td>Amazon tribe wins legal battle against oil com...</td>\n",
              "      <td>1.0</td>\n",
              "      <td>The Amazon Rainforest is well known across the...</td>\n",
              "      <td>https://www.disclose.tv/amazon-tribe-wins-laws...</td>\n",
              "    </tr>\n",
              "    <tr>\n",
              "      <th>3</th>\n",
              "      <td>Newark police: No officer fired a single shot ...</td>\n",
              "      <td>Newark police: No officer fired a single shot ...</td>\n",
              "      <td>1.0</td>\n",
              "      <td>Newark police: No officer fired a single shot ...</td>\n",
              "      <td>https://newjersey.news12.com/newark-police-no-...</td>\n",
              "    </tr>\n",
              "    <tr>\n",
              "      <th>4</th>\n",
              "      <td>Ingen barn døde i trafikken i 2019</td>\n",
              "      <td>No children died in traffic accidents in Norwa...</td>\n",
              "      <td>1.0</td>\n",
              "      <td>I 1970 døde det 560 mennesker i den norske tra...</td>\n",
              "      <td>https://www.nrk.no/trondelag/ingen-barn-dode-i...</td>\n",
              "    </tr>\n",
              "    <tr>\n",
              "      <th>...</th>\n",
              "      <td>...</td>\n",
              "      <td>...</td>\n",
              "      <td>...</td>\n",
              "      <td>...</td>\n",
              "      <td>...</td>\n",
              "    </tr>\n",
              "    <tr>\n",
              "      <th>843</th>\n",
              "      <td>Dee Why attack: Man allegedly choked and threa...</td>\n",
              "      <td>Dee Why attack: Man allegedly choked and threa...</td>\n",
              "      <td>0.0</td>\n",
              "      <td>Frightening details have emerged about a toile...</td>\n",
              "      <td>https://www.9news.com.au/2018/11/30/17/55/sydn...</td>\n",
              "    </tr>\n",
              "    <tr>\n",
              "      <th>844</th>\n",
              "      <td>Africa: Children and HIV/Aids - 'We Need to Ta...</td>\n",
              "      <td>Africa: Children and HIV/Aids - 'We Need to Ta...</td>\n",
              "      <td>0.0</td>\n",
              "      <td>interview\\n\\nJohannesburg — 360,000 adolescent...</td>\n",
              "      <td>https://allafrica.com/stories/201811300567.html</td>\n",
              "    </tr>\n",
              "    <tr>\n",
              "      <th>845</th>\n",
              "      <td>Terrorism suspected in Eilat attack</td>\n",
              "      <td>Terrorism suspected in Eilat attack</td>\n",
              "      <td>0.0</td>\n",
              "      <td>A violent attack in the southern Israeli port ...</td>\n",
              "      <td>http://www.israelnationalnews.com/News/News.as...</td>\n",
              "    </tr>\n",
              "    <tr>\n",
              "      <th>846</th>\n",
              "      <td>Anti-Semitism never disappeared in Europe. It'...</td>\n",
              "      <td>Anti-Semitism never disappeared in Europe. It'...</td>\n",
              "      <td>0.0</td>\n",
              "      <td>It's a 17-year-old boy, too frightened to wear...</td>\n",
              "      <td>https://edition.cnn.com/2018/11/27/europe/anti...</td>\n",
              "    </tr>\n",
              "    <tr>\n",
              "      <th>847</th>\n",
              "      <td>Five dead, 32 injured in Hong Kong coach crash</td>\n",
              "      <td>Five dead, 32 injured in Hong Kong coach crash</td>\n",
              "      <td>0.0</td>\n",
              "      <td>HONG KONG (AFP) - Five people were killed and ...</td>\n",
              "      <td>https://www.straitstimes.com/asia/east-asia/fi...</td>\n",
              "    </tr>\n",
              "  </tbody>\n",
              "</table>\n",
              "<p>848 rows × 5 columns</p>\n",
              "</div>\n",
              "      <button class=\"colab-df-convert\" onclick=\"convertToInteractive('df-b3f9249e-d8c3-472c-8af5-1a91ede0fc27')\"\n",
              "              title=\"Convert this dataframe to an interactive table.\"\n",
              "              style=\"display:none;\">\n",
              "        \n",
              "  <svg xmlns=\"http://www.w3.org/2000/svg\" height=\"24px\"viewBox=\"0 0 24 24\"\n",
              "       width=\"24px\">\n",
              "    <path d=\"M0 0h24v24H0V0z\" fill=\"none\"/>\n",
              "    <path d=\"M18.56 5.44l.94 2.06.94-2.06 2.06-.94-2.06-.94-.94-2.06-.94 2.06-2.06.94zm-11 1L8.5 8.5l.94-2.06 2.06-.94-2.06-.94L8.5 2.5l-.94 2.06-2.06.94zm10 10l.94 2.06.94-2.06 2.06-.94-2.06-.94-.94-2.06-.94 2.06-2.06.94z\"/><path d=\"M17.41 7.96l-1.37-1.37c-.4-.4-.92-.59-1.43-.59-.52 0-1.04.2-1.43.59L10.3 9.45l-7.72 7.72c-.78.78-.78 2.05 0 2.83L4 21.41c.39.39.9.59 1.41.59.51 0 1.02-.2 1.41-.59l7.78-7.78 2.81-2.81c.8-.78.8-2.07 0-2.86zM5.41 20L4 18.59l7.72-7.72 1.47 1.35L5.41 20z\"/>\n",
              "  </svg>\n",
              "      </button>\n",
              "      \n",
              "  <style>\n",
              "    .colab-df-container {\n",
              "      display:flex;\n",
              "      flex-wrap:wrap;\n",
              "      gap: 12px;\n",
              "    }\n",
              "\n",
              "    .colab-df-convert {\n",
              "      background-color: #E8F0FE;\n",
              "      border: none;\n",
              "      border-radius: 50%;\n",
              "      cursor: pointer;\n",
              "      display: none;\n",
              "      fill: #1967D2;\n",
              "      height: 32px;\n",
              "      padding: 0 0 0 0;\n",
              "      width: 32px;\n",
              "    }\n",
              "\n",
              "    .colab-df-convert:hover {\n",
              "      background-color: #E2EBFA;\n",
              "      box-shadow: 0px 1px 2px rgba(60, 64, 67, 0.3), 0px 1px 3px 1px rgba(60, 64, 67, 0.15);\n",
              "      fill: #174EA6;\n",
              "    }\n",
              "\n",
              "    [theme=dark] .colab-df-convert {\n",
              "      background-color: #3B4455;\n",
              "      fill: #D2E3FC;\n",
              "    }\n",
              "\n",
              "    [theme=dark] .colab-df-convert:hover {\n",
              "      background-color: #434B5C;\n",
              "      box-shadow: 0px 1px 3px 1px rgba(0, 0, 0, 0.15);\n",
              "      filter: drop-shadow(0px 1px 2px rgba(0, 0, 0, 0.3));\n",
              "      fill: #FFFFFF;\n",
              "    }\n",
              "  </style>\n",
              "\n",
              "      <script>\n",
              "        const buttonEl =\n",
              "          document.querySelector('#df-b3f9249e-d8c3-472c-8af5-1a91ede0fc27 button.colab-df-convert');\n",
              "        buttonEl.style.display =\n",
              "          google.colab.kernel.accessAllowed ? 'block' : 'none';\n",
              "\n",
              "        async function convertToInteractive(key) {\n",
              "          const element = document.querySelector('#df-b3f9249e-d8c3-472c-8af5-1a91ede0fc27');\n",
              "          const dataTable =\n",
              "            await google.colab.kernel.invokeFunction('convertToInteractive',\n",
              "                                                     [key], {});\n",
              "          if (!dataTable) return;\n",
              "\n",
              "          const docLinkHtml = 'Like what you see? Visit the ' +\n",
              "            '<a target=\"_blank\" href=https://colab.research.google.com/notebooks/data_table.ipynb>data table notebook</a>'\n",
              "            + ' to learn more about interactive tables.';\n",
              "          element.innerHTML = '';\n",
              "          dataTable['output_type'] = 'display_data';\n",
              "          await google.colab.output.renderOutput(dataTable, element);\n",
              "          const docLink = document.createElement('div');\n",
              "          docLink.innerHTML = docLinkHtml;\n",
              "          element.appendChild(docLink);\n",
              "        }\n",
              "      </script>\n",
              "    </div>\n",
              "  </div>\n",
              "  "
            ]
          },
          "metadata": {},
          "execution_count": 58
        }
      ]
    },
    {
      "cell_type": "markdown",
      "source": [
        "### Split the data into Training, Testing and Validation Datasets"
      ],
      "metadata": {
        "id": "VDNXtBYkg4nW"
      }
    },
    {
      "cell_type": "code",
      "source": [
        "!rm -rf news_sentiment_dataset"
      ],
      "metadata": {
        "id": "1W0KD_fhhTyY"
      },
      "execution_count": 65,
      "outputs": []
    },
    {
      "cell_type": "code",
      "source": [
        "nsd_dataset_dir = 'news_sentiment_dataset'\n",
        "\n",
        "os.mkdir(nsd_dataset_dir)\n",
        "\n",
        "nsd_train_dir = os.path.join(nsd_dataset_dir, 'train')\n",
        "nsd_test_dir = os.path.join(nsd_dataset_dir, 'test')\n",
        "\n",
        "os.mkdir(nsd_train_dir)\n",
        "os.mkdir(nsd_test_dir)\n",
        "\n",
        "for path in [nsd_train_dir, nsd_test_dir]:\n",
        "  os.mkdir(os.path.join(path, 'negative'))\n",
        "  os.mkdir(os.path.join(path, 'positive'))\n",
        "\n",
        "\n",
        "count_train = 1\n",
        "count_test = 1\n",
        "\n",
        "# Training Dataset\n",
        "for ind in nsd_dataframe[int(.6*len(nsd_dataframe)):].index:\n",
        "  with open(os.path.join(nsd_train_dir, 'negative' if nsd_dataframe['sentiment'][ind] == 0 else 'positive', str(count_train)+'.txt'), 'w') as file_obj:\n",
        "    file_obj.write(nsd_dataframe['news_title'][ind])\n",
        "  count_train +=1\n",
        "\n",
        "# Testing Dataset\n",
        "for ind in nsd_dataframe[:int(.3*len(nsd_dataframe))].index:\n",
        "  with open(os.path.join(nsd_test_dir, 'negative' if nsd_dataframe['sentiment'][ind] == 0 else 'positive', str(count_test)+'.txt'), 'w') as file_obj:\n",
        "    file_obj.write(nsd_dataframe['news_title'][ind])\n",
        "  count_test +=1"
      ],
      "metadata": {
        "id": "68jmNciIh1dy"
      },
      "execution_count": 66,
      "outputs": []
    },
    {
      "cell_type": "markdown",
      "source": [
        "### Preprocess Data"
      ],
      "metadata": {
        "id": "G9T8g7bcg-hy"
      }
    },
    {
      "cell_type": "code",
      "source": [
        "AUTOTUNE = tf.data.AUTOTUNE\n",
        "batch_size = 32\n",
        "seed = 42\n",
        "\n",
        "nsd_raw_train_ds = tf.keras.utils.text_dataset_from_directory(\n",
        "    nsd_train_dir,\n",
        "    batch_size=batch_size,\n",
        "    validation_split=0.2,\n",
        "    subset='training',\n",
        "    seed=seed)\n",
        "\n",
        "nsd_class_names = nsd_raw_train_ds.class_names\n",
        "nsd_train_ds = nsd_raw_train_ds.cache().prefetch(buffer_size=AUTOTUNE)\n",
        "\n",
        "nsd_val_ds = tf.keras.utils.text_dataset_from_directory(\n",
        "    nsd_train_dir,\n",
        "    batch_size=batch_size,\n",
        "    validation_split=0.2,\n",
        "    subset='validation',\n",
        "    seed=seed)\n",
        "\n",
        "nsd_val_ds = nsd_val_ds.cache().prefetch(buffer_size=AUTOTUNE)\n",
        "\n",
        "nsd_test_ds = tf.keras.utils.text_dataset_from_directory(\n",
        "    nsd_test_dir,\n",
        "    batch_size=batch_size)\n",
        "\n",
        "nsd_test_ds = nsd_test_ds.cache().prefetch(buffer_size=AUTOTUNE)"
      ],
      "metadata": {
        "colab": {
          "base_uri": "https://localhost:8080/"
        },
        "id": "cs0KxWtdhUcr",
        "outputId": "7e91c339-d00d-4af0-b0aa-e7f6785c459c"
      },
      "execution_count": 67,
      "outputs": [
        {
          "output_type": "stream",
          "name": "stdout",
          "text": [
            "Found 340 files belonging to 2 classes.\n",
            "Using 272 files for training.\n",
            "Found 340 files belonging to 2 classes.\n",
            "Using 68 files for validation.\n",
            "Found 254 files belonging to 2 classes.\n"
          ]
        }
      ]
    },
    {
      "cell_type": "markdown",
      "source": [
        "### Selecting a BERT Model"
      ],
      "metadata": {
        "id": "0DZL5w2bhAaN"
      }
    },
    {
      "cell_type": "code",
      "source": [
        "#@title Choose a BERT model to fine-tune for Positive and Negative Word List Model\n",
        "\n",
        "nsd_bert_model_name = 'small_bert/bert_en_uncased_L-4_H-512_A-8'  #@param [\"bert_en_uncased_L-12_H-768_A-12\", \"bert_en_cased_L-12_H-768_A-12\", \"bert_multi_cased_L-12_H-768_A-12\", \"small_bert/bert_en_uncased_L-2_H-128_A-2\", \"small_bert/bert_en_uncased_L-2_H-256_A-4\", \"small_bert/bert_en_uncased_L-2_H-512_A-8\", \"small_bert/bert_en_uncased_L-2_H-768_A-12\", \"small_bert/bert_en_uncased_L-4_H-128_A-2\", \"small_bert/bert_en_uncased_L-4_H-256_A-4\", \"small_bert/bert_en_uncased_L-4_H-512_A-8\", \"small_bert/bert_en_uncased_L-4_H-768_A-12\", \"small_bert/bert_en_uncased_L-6_H-128_A-2\", \"small_bert/bert_en_uncased_L-6_H-256_A-4\", \"small_bert/bert_en_uncased_L-6_H-512_A-8\", \"small_bert/bert_en_uncased_L-6_H-768_A-12\", \"small_bert/bert_en_uncased_L-8_H-128_A-2\", \"small_bert/bert_en_uncased_L-8_H-256_A-4\", \"small_bert/bert_en_uncased_L-8_H-512_A-8\", \"small_bert/bert_en_uncased_L-8_H-768_A-12\", \"small_bert/bert_en_uncased_L-10_H-128_A-2\", \"small_bert/bert_en_uncased_L-10_H-256_A-4\", \"small_bert/bert_en_uncased_L-10_H-512_A-8\", \"small_bert/bert_en_uncased_L-10_H-768_A-12\", \"small_bert/bert_en_uncased_L-12_H-128_A-2\", \"small_bert/bert_en_uncased_L-12_H-256_A-4\", \"small_bert/bert_en_uncased_L-12_H-512_A-8\", \"small_bert/bert_en_uncased_L-12_H-768_A-12\", \"albert_en_base\", \"electra_small\", \"electra_base\", \"experts_pubmed\", \"experts_wiki_books\", \"talking-heads_base\"]\n",
        "\n",
        "\n",
        "nsd_tfhub_handle_encoder = map_name_to_handle[nsd_bert_model_name]\n",
        "nsd_tfhub_handle_preprocess = map_model_to_preprocess[nsd_bert_model_name]\n",
        "\n",
        "print(f'BERT model selected           : {nsd_tfhub_handle_encoder}')\n",
        "print(f'Preprocess model auto-selected: {nsd_tfhub_handle_preprocess}')"
      ],
      "metadata": {
        "colab": {
          "base_uri": "https://localhost:8080/"
        },
        "id": "BKdDnJMShU6v",
        "outputId": "0dc72dd0-8870-4642-bcfb-475e812003f9"
      },
      "execution_count": 68,
      "outputs": [
        {
          "output_type": "stream",
          "name": "stdout",
          "text": [
            "BERT model selected           : https://tfhub.dev/tensorflow/small_bert/bert_en_uncased_L-4_H-512_A-8/1\n",
            "Preprocess model auto-selected: https://tfhub.dev/tensorflow/bert_en_uncased_preprocess/3\n"
          ]
        }
      ]
    },
    {
      "cell_type": "code",
      "source": [
        "nsd_bert_preprocess_model = hub.KerasLayer(nsd_tfhub_handle_preprocess)"
      ],
      "metadata": {
        "id": "bTk_bp14iyVx"
      },
      "execution_count": 69,
      "outputs": []
    },
    {
      "cell_type": "code",
      "source": [
        "nsd_bert_model = hub.KerasLayer(nsd_tfhub_handle_encoder)"
      ],
      "metadata": {
        "id": "TilViebsizMa"
      },
      "execution_count": 70,
      "outputs": []
    },
    {
      "cell_type": "markdown",
      "source": [
        "### Using the BERT Model"
      ],
      "metadata": {
        "id": "hZqv4xMDhE4R"
      }
    },
    {
      "cell_type": "code",
      "source": [
        "nsd_classifier_model = build_classifier_model(nsd_tfhub_handle_preprocess, nsd_tfhub_handle_encoder)\n",
        "tf.keras.utils.plot_model(nsd_classifier_model)"
      ],
      "metadata": {
        "colab": {
          "base_uri": "https://localhost:8080/",
          "height": 466
        },
        "id": "0FoDCya2hVSm",
        "outputId": "5493ab91-7fff-4bd3-b927-fd0a2be679a1"
      },
      "execution_count": 71,
      "outputs": [
        {
          "output_type": "execute_result",
          "data": {
            "image/png": "[encoded data removed]",
            "text/plain": [
              "<IPython.core.display.Image object>"
            ]
          },
          "metadata": {},
          "execution_count": 71
        }
      ]
    },
    {
      "cell_type": "code",
      "source": [
        "nsd_loss = tf.keras.losses.BinaryCrossentropy(from_logits=True)\n",
        "nsd_metrics = tf.metrics.BinaryAccuracy()\n",
        "\n",
        "nsd_epochs = 10\n",
        "nsd_steps_per_epoch = tf.data.experimental.cardinality(nsd_train_ds).numpy()\n",
        "nsd_num_train_steps = nsd_steps_per_epoch * nsd_epochs\n",
        "nsd_num_warmup_steps = int(0.1*nsd_num_train_steps)\n",
        "\n",
        "nsd_init_lr = 3e-5\n",
        "nsd_optimizer = optimization.create_optimizer(init_lr=nsd_init_lr,\n",
        "                                          num_train_steps=nsd_num_train_steps,\n",
        "                                          num_warmup_steps=nsd_num_warmup_steps,\n",
        "                                          optimizer_type='adamw')"
      ],
      "metadata": {
        "id": "L761Zrw2i8uJ"
      },
      "execution_count": 72,
      "outputs": []
    },
    {
      "cell_type": "code",
      "source": [
        "nsd_classifier_model.compile(optimizer=nsd_optimizer,\n",
        "                         loss=nsd_loss,\n",
        "                         metrics=nsd_metrics)\n",
        "\n",
        "nsd_history = nsd_classifier_model.fit(x=nsd_train_ds,\n",
        "                               validation_data=nsd_val_ds,\n",
        "                               epochs=nsd_epochs)"
      ],
      "metadata": {
        "colab": {
          "base_uri": "https://localhost:8080/"
        },
        "id": "dU8D18qTi_Uf",
        "outputId": "e2d42859-772c-4500-8409-05e2a651947f"
      },
      "execution_count": 73,
      "outputs": [
        {
          "output_type": "stream",
          "name": "stdout",
          "text": [
            "Epoch 1/10\n",
            "9/9 [==============================] - 11s 522ms/step - loss: 0.7415 - binary_accuracy: 0.4007 - val_loss: 0.5502 - val_binary_accuracy: 0.7500\n",
            "Epoch 2/10\n",
            "9/9 [==============================] - 3s 318ms/step - loss: 0.6048 - binary_accuracy: 0.7243 - val_loss: 0.4938 - val_binary_accuracy: 0.8088\n",
            "Epoch 3/10\n",
            "9/9 [==============================] - 2s 219ms/step - loss: 0.4805 - binary_accuracy: 0.7721 - val_loss: 0.4474 - val_binary_accuracy: 0.8088\n",
            "Epoch 4/10\n",
            "9/9 [==============================] - 2s 221ms/step - loss: 0.4019 - binary_accuracy: 0.8640 - val_loss: 0.4174 - val_binary_accuracy: 0.8088\n",
            "Epoch 5/10\n",
            "9/9 [==============================] - 2s 222ms/step - loss: 0.3610 - binary_accuracy: 0.8713 - val_loss: 0.3857 - val_binary_accuracy: 0.8088\n",
            "Epoch 6/10\n",
            "9/9 [==============================] - 2s 220ms/step - loss: 0.2936 - binary_accuracy: 0.8971 - val_loss: 0.3792 - val_binary_accuracy: 0.8088\n",
            "Epoch 7/10\n",
            "9/9 [==============================] - 2s 282ms/step - loss: 0.2655 - binary_accuracy: 0.9191 - val_loss: 0.3728 - val_binary_accuracy: 0.8235\n",
            "Epoch 8/10\n",
            "9/9 [==============================] - 3s 286ms/step - loss: 0.2172 - binary_accuracy: 0.9522 - val_loss: 0.3692 - val_binary_accuracy: 0.8235\n",
            "Epoch 9/10\n",
            "9/9 [==============================] - 2s 236ms/step - loss: 0.2039 - binary_accuracy: 0.9449 - val_loss: 0.3716 - val_binary_accuracy: 0.8382\n",
            "Epoch 10/10\n",
            "9/9 [==============================] - 2s 220ms/step - loss: 0.1982 - binary_accuracy: 0.9485 - val_loss: 0.3730 - val_binary_accuracy: 0.8235\n"
          ]
        }
      ]
    },
    {
      "cell_type": "markdown",
      "source": [
        "### Evaluating the Model"
      ],
      "metadata": {
        "id": "CfNtKLINhHdT"
      }
    },
    {
      "cell_type": "code",
      "source": [
        "nsd_history_dict = nsd_history.history\n",
        "print(nsd_history_dict.keys())\n",
        "\n",
        "nsd_acc = nsd_history_dict['binary_accuracy']\n",
        "nsd_val_acc = nsd_history_dict['val_binary_accuracy']\n",
        "nsd_loss = nsd_history_dict['loss']\n",
        "nsd_val_loss = nsd_history_dict['val_loss']\n",
        "\n",
        "nsd_epochs = range(1, len(nsd_acc) + 1)\n",
        "nsd_fig = plt.figure(figsize=(10, 6))\n",
        "nsd_fig.tight_layout()\n",
        "\n",
        "plt.subplot(2, 1, 1)\n",
        "\n",
        "plt.plot(nsd_epochs, nsd_loss, 'r', label='Training loss')\n",
        "\n",
        "plt.plot(nsd_epochs, nsd_val_loss, 'b', label='Validation loss')\n",
        "plt.title('Training and validation loss')\n",
        "\n",
        "plt.ylabel('Loss')\n",
        "plt.legend()\n",
        "\n",
        "plt.subplot(2, 1, 2)\n",
        "plt.plot(nsd_epochs, nsd_acc, 'r', label='Training acc')\n",
        "plt.plot(nsd_epochs, nsd_val_acc, 'b', label='Validation acc')\n",
        "plt.title('Training and validation accuracy')\n",
        "plt.xlabel('Epochs')\n",
        "plt.ylabel('Accuracy')"
      ],
      "metadata": {
        "colab": {
          "base_uri": "https://localhost:8080/",
          "height": 599
        },
        "id": "MCc8wa9ehVuC",
        "outputId": "acc2162b-f897-4d7e-aba7-30ca91b85ee9"
      },
      "execution_count": 74,
      "outputs": [
        {
          "output_type": "stream",
          "name": "stdout",
          "text": [
            "dict_keys(['loss', 'binary_accuracy', 'val_loss', 'val_binary_accuracy'])\n"
          ]
        },
        {
          "output_type": "execute_result",
          "data": {
            "text/plain": [
              "Text(0, 0.5, 'Accuracy')"
            ]
          },
          "metadata": {},
          "execution_count": 74
        },
        {
          "output_type": "display_data",
          "data": {
            "text/plain": [
              "<Figure size 1000x600 with 2 Axes>"
            ],
            "image/png": "[encoded data removed]"
          },
          "metadata": {}
        }
      ]
    },
    {
      "cell_type": "markdown",
      "source": [
        "### Make Predictions"
      ],
      "metadata": {
        "id": "Hg68RHcNhKQP"
      }
    },
    {
      "cell_type": "code",
      "source": [
        "# nsd_eval_data = np.concatenate([atn_array(100), mnh_array(100)], 0)\n",
        "nsd_df = pd.DataFrame(np.squeeze(nsd_classifier_model.predict(eval_data)), columns=['News Sentiment Dataset Model'])\n",
        "nsd_df.insert(1, \"Title\", eval_data, True)\n",
        "nsd_df"
      ],
      "metadata": {
        "colab": {
          "base_uri": "https://localhost:8080/",
          "height": 441
        },
        "id": "adYgocjlhWYd",
        "outputId": "0454c33d-c1f8-45dd-8f32-3b9378edfc6d"
      },
      "execution_count": 75,
      "outputs": [
        {
          "output_type": "stream",
          "name": "stdout",
          "text": [
            "7/7 [==============================] - 1s 85ms/step\n"
          ]
        },
        {
          "output_type": "execute_result",
          "data": {
            "text/plain": [
              "     News Sentiment Dataset Model  \\\n",
              "0                        0.123268   \n",
              "1                       -0.387179   \n",
              "2                        2.229828   \n",
              "3                        1.560382   \n",
              "4                        1.023739   \n",
              "..                            ...   \n",
              "195                      1.696876   \n",
              "196                      0.694283   \n",
              "197                      0.046458   \n",
              "198                      2.679347   \n",
              "199                     -1.822393   \n",
              "\n",
              "                                                 Title  \n",
              "0    More Women in Their 60s and 70s Are Having ‘Wa...  \n",
              "1    Harvard Political Review: To Understand Trump,...  \n",
              "2    Justice Dept. Sues Michigan City After Mosque ...  \n",
              "3                 Introducing Myanmar’s ’Geek Girls’    \n",
              "4    An Establishment Conservative’s Guide To The A...  \n",
              "..                                                 ...  \n",
              "195                    phelps aiming to upstage thorpe  \n",
              "196                                        kenbi mills  \n",
              "197                           cracker of a cotton year  \n",
              "198                        hannay to make origin debut  \n",
              "199  investigation launched into fatal police shoot...  \n",
              "\n",
              "[200 rows x 2 columns]"
            ],
            "text/html": [
              "\n",
              "  <div id=\"df-7d515216-6d8a-4912-866a-ed6363a62aa6\">\n",
              "    <div class=\"colab-df-container\">\n",
              "      <div>\n",
              "<style scoped>\n",
              "    .dataframe tbody tr th:only-of-type {\n",
              "        vertical-align: middle;\n",
              "    }\n",
              "\n",
              "    .dataframe tbody tr th {\n",
              "        vertical-align: top;\n",
              "    }\n",
              "\n",
              "    .dataframe thead th {\n",
              "        text-align: right;\n",
              "    }\n",
              "</style>\n",
              "<table border=\"1\" class=\"dataframe\">\n",
              "  <thead>\n",
              "    <tr style=\"text-align: right;\">\n",
              "      <th></th>\n",
              "      <th>News Sentiment Dataset Model</th>\n",
              "      <th>Title</th>\n",
              "    </tr>\n",
              "  </thead>\n",
              "  <tbody>\n",
              "    <tr>\n",
              "      <th>0</th>\n",
              "      <td>0.123268</td>\n",
              "      <td>More Women in Their 60s and 70s Are Having ‘Wa...</td>\n",
              "    </tr>\n",
              "    <tr>\n",
              "      <th>1</th>\n",
              "      <td>-0.387179</td>\n",
              "      <td>Harvard Political Review: To Understand Trump,...</td>\n",
              "    </tr>\n",
              "    <tr>\n",
              "      <th>2</th>\n",
              "      <td>2.229828</td>\n",
              "      <td>Justice Dept. Sues Michigan City After Mosque ...</td>\n",
              "    </tr>\n",
              "    <tr>\n",
              "      <th>3</th>\n",
              "      <td>1.560382</td>\n",
              "      <td>Introducing Myanmar’s ’Geek Girls’</td>\n",
              "    </tr>\n",
              "    <tr>\n",
              "      <th>4</th>\n",
              "      <td>1.023739</td>\n",
              "      <td>An Establishment Conservative’s Guide To The A...</td>\n",
              "    </tr>\n",
              "    <tr>\n",
              "      <th>...</th>\n",
              "      <td>...</td>\n",
              "      <td>...</td>\n",
              "    </tr>\n",
              "    <tr>\n",
              "      <th>195</th>\n",
              "      <td>1.696876</td>\n",
              "      <td>phelps aiming to upstage thorpe</td>\n",
              "    </tr>\n",
              "    <tr>\n",
              "      <th>196</th>\n",
              "      <td>0.694283</td>\n",
              "      <td>kenbi mills</td>\n",
              "    </tr>\n",
              "    <tr>\n",
              "      <th>197</th>\n",
              "      <td>0.046458</td>\n",
              "      <td>cracker of a cotton year</td>\n",
              "    </tr>\n",
              "    <tr>\n",
              "      <th>198</th>\n",
              "      <td>2.679347</td>\n",
              "      <td>hannay to make origin debut</td>\n",
              "    </tr>\n",
              "    <tr>\n",
              "      <th>199</th>\n",
              "      <td>-1.822393</td>\n",
              "      <td>investigation launched into fatal police shoot...</td>\n",
              "    </tr>\n",
              "  </tbody>\n",
              "</table>\n",
              "<p>200 rows × 2 columns</p>\n",
              "</div>\n",
              "      <button class=\"colab-df-convert\" onclick=\"convertToInteractive('df-7d515216-6d8a-4912-866a-ed6363a62aa6')\"\n",
              "              title=\"Convert this dataframe to an interactive table.\"\n",
              "              style=\"display:none;\">\n",
              "        \n",
              "  <svg xmlns=\"http://www.w3.org/2000/svg\" height=\"24px\"viewBox=\"0 0 24 24\"\n",
              "       width=\"24px\">\n",
              "    <path d=\"M0 0h24v24H0V0z\" fill=\"none\"/>\n",
              "    <path d=\"M18.56 5.44l.94 2.06.94-2.06 2.06-.94-2.06-.94-.94-2.06-.94 2.06-2.06.94zm-11 1L8.5 8.5l.94-2.06 2.06-.94-2.06-.94L8.5 2.5l-.94 2.06-2.06.94zm10 10l.94 2.06.94-2.06 2.06-.94-2.06-.94-.94-2.06-.94 2.06-2.06.94z\"/><path d=\"M17.41 7.96l-1.37-1.37c-.4-.4-.92-.59-1.43-.59-.52 0-1.04.2-1.43.59L10.3 9.45l-7.72 7.72c-.78.78-.78 2.05 0 2.83L4 21.41c.39.39.9.59 1.41.59.51 0 1.02-.2 1.41-.59l7.78-7.78 2.81-2.81c.8-.78.8-2.07 0-2.86zM5.41 20L4 18.59l7.72-7.72 1.47 1.35L5.41 20z\"/>\n",
              "  </svg>\n",
              "      </button>\n",
              "      \n",
              "  <style>\n",
              "    .colab-df-container {\n",
              "      display:flex;\n",
              "      flex-wrap:wrap;\n",
              "      gap: 12px;\n",
              "    }\n",
              "\n",
              "    .colab-df-convert {\n",
              "      background-color: #E8F0FE;\n",
              "      border: none;\n",
              "      border-radius: 50%;\n",
              "      cursor: pointer;\n",
              "      display: none;\n",
              "      fill: #1967D2;\n",
              "      height: 32px;\n",
              "      padding: 0 0 0 0;\n",
              "      width: 32px;\n",
              "    }\n",
              "\n",
              "    .colab-df-convert:hover {\n",
              "      background-color: #E2EBFA;\n",
              "      box-shadow: 0px 1px 2px rgba(60, 64, 67, 0.3), 0px 1px 3px 1px rgba(60, 64, 67, 0.15);\n",
              "      fill: #174EA6;\n",
              "    }\n",
              "\n",
              "    [theme=dark] .colab-df-convert {\n",
              "      background-color: #3B4455;\n",
              "      fill: #D2E3FC;\n",
              "    }\n",
              "\n",
              "    [theme=dark] .colab-df-convert:hover {\n",
              "      background-color: #434B5C;\n",
              "      box-shadow: 0px 1px 3px 1px rgba(0, 0, 0, 0.15);\n",
              "      filter: drop-shadow(0px 1px 2px rgba(0, 0, 0, 0.3));\n",
              "      fill: #FFFFFF;\n",
              "    }\n",
              "  </style>\n",
              "\n",
              "      <script>\n",
              "        const buttonEl =\n",
              "          document.querySelector('#df-7d515216-6d8a-4912-866a-ed6363a62aa6 button.colab-df-convert');\n",
              "        buttonEl.style.display =\n",
              "          google.colab.kernel.accessAllowed ? 'block' : 'none';\n",
              "\n",
              "        async function convertToInteractive(key) {\n",
              "          const element = document.querySelector('#df-7d515216-6d8a-4912-866a-ed6363a62aa6');\n",
              "          const dataTable =\n",
              "            await google.colab.kernel.invokeFunction('convertToInteractive',\n",
              "                                                     [key], {});\n",
              "          if (!dataTable) return;\n",
              "\n",
              "          const docLinkHtml = 'Like what you see? Visit the ' +\n",
              "            '<a target=\"_blank\" href=https://colab.research.google.com/notebooks/data_table.ipynb>data table notebook</a>'\n",
              "            + ' to learn more about interactive tables.';\n",
              "          element.innerHTML = '';\n",
              "          dataTable['output_type'] = 'display_data';\n",
              "          await google.colab.output.renderOutput(dataTable, element);\n",
              "          const docLink = document.createElement('div');\n",
              "          docLink.innerHTML = docLinkHtml;\n",
              "          element.appendChild(docLink);\n",
              "        }\n",
              "      </script>\n",
              "    </div>\n",
              "  </div>\n",
              "  "
            ]
          },
          "metadata": {},
          "execution_count": 75
        }
      ]
    },
    {
      "cell_type": "markdown",
      "source": [
        "### Compare predictions with the other models"
      ],
      "metadata": {
        "id": "MEWmfcRChOIX"
      }
    },
    {
      "cell_type": "code",
      "source": [
        "overall_df.insert(0, \"News Sentiment Dataset Model\", nsd_df['News Sentiment Dataset Model'])\n",
        "overall_df"
      ],
      "metadata": {
        "colab": {
          "base_uri": "https://localhost:8080/",
          "height": 898
        },
        "id": "WLODZ8PYhWw6",
        "outputId": "953267b6-c8f5-486f-ec56-3900ac6387e8"
      },
      "execution_count": 76,
      "outputs": [
        {
          "output_type": "execute_result",
          "data": {
            "text/plain": [
              "     News Sentiment Dataset Model  Pos & Neg Word List  IMDb Model  FPB Model  \\\n",
              "0                        0.123268             6.182361    3.542113  -1.654533   \n",
              "1                       -0.387179             6.602257    2.438075   1.559295   \n",
              "2                        2.229828             0.051341   -0.465708  -3.411098   \n",
              "3                        1.560382             8.983531    3.762477   6.470010   \n",
              "4                        1.023739             7.216666    3.165670   4.444001   \n",
              "..                            ...                  ...         ...        ...   \n",
              "195                      1.696876            -4.419916   -3.276024   3.688459   \n",
              "196                      0.694283             0.575116    2.782313   3.759456   \n",
              "197                      0.046458            -6.560894   -0.555887  -7.483743   \n",
              "198                      2.679347             8.540446   -0.844037   6.614454   \n",
              "199                     -1.822393            -1.624209    1.561473  -3.032038   \n",
              "\n",
              "                                                 Title  \n",
              "0    More Women in Their 60s and 70s Are Having ‘Wa...  \n",
              "1    Harvard Political Review: To Understand Trump,...  \n",
              "2    Justice Dept. Sues Michigan City After Mosque ...  \n",
              "3                 Introducing Myanmar’s ’Geek Girls’    \n",
              "4    An Establishment Conservative’s Guide To The A...  \n",
              "..                                                 ...  \n",
              "195                    phelps aiming to upstage thorpe  \n",
              "196                                        kenbi mills  \n",
              "197                           cracker of a cotton year  \n",
              "198                        hannay to make origin debut  \n",
              "199  investigation launched into fatal police shoot...  \n",
              "\n",
              "[200 rows x 5 columns]"
            ],
            "text/html": [
              "\n",
              "  <div id=\"df-35c22710-1726-4f14-8b4b-471f6b7c75a6\">\n",
              "    <div class=\"colab-df-container\">\n",
              "      <div>\n",
              "<style scoped>\n",
              "    .dataframe tbody tr th:only-of-type {\n",
              "        vertical-align: middle;\n",
              "    }\n",
              "\n",
              "    .dataframe tbody tr th {\n",
              "        vertical-align: top;\n",
              "    }\n",
              "\n",
              "    .dataframe thead th {\n",
              "        text-align: right;\n",
              "    }\n",
              "</style>\n",
              "<table border=\"1\" class=\"dataframe\">\n",
              "  <thead>\n",
              "    <tr style=\"text-align: right;\">\n",
              "      <th></th>\n",
              "      <th>News Sentiment Dataset Model</th>\n",
              "      <th>Pos &amp; Neg Word List</th>\n",
              "      <th>IMDb Model</th>\n",
              "      <th>FPB Model</th>\n",
              "      <th>Title</th>\n",
              "    </tr>\n",
              "  </thead>\n",
              "  <tbody>\n",
              "    <tr>\n",
              "      <th>0</th>\n",
              "      <td>0.123268</td>\n",
              "      <td>6.182361</td>\n",
              "      <td>3.542113</td>\n",
              "      <td>-1.654533</td>\n",
              "      <td>More Women in Their 60s and 70s Are Having ‘Wa...</td>\n",
              "    </tr>\n",
              "    <tr>\n",
              "      <th>1</th>\n",
              "      <td>-0.387179</td>\n",
              "      <td>6.602257</td>\n",
              "      <td>2.438075</td>\n",
              "      <td>1.559295</td>\n",
              "      <td>Harvard Political Review: To Understand Trump,...</td>\n",
              "    </tr>\n",
              "    <tr>\n",
              "      <th>2</th>\n",
              "      <td>2.229828</td>\n",
              "      <td>0.051341</td>\n",
              "      <td>-0.465708</td>\n",
              "      <td>-3.411098</td>\n",
              "      <td>Justice Dept. Sues Michigan City After Mosque ...</td>\n",
              "    </tr>\n",
              "    <tr>\n",
              "      <th>3</th>\n",
              "      <td>1.560382</td>\n",
              "      <td>8.983531</td>\n",
              "      <td>3.762477</td>\n",
              "      <td>6.470010</td>\n",
              "      <td>Introducing Myanmar’s ’Geek Girls’</td>\n",
              "    </tr>\n",
              "    <tr>\n",
              "      <th>4</th>\n",
              "      <td>1.023739</td>\n",
              "      <td>7.216666</td>\n",
              "      <td>3.165670</td>\n",
              "      <td>4.444001</td>\n",
              "      <td>An Establishment Conservative’s Guide To The A...</td>\n",
              "    </tr>\n",
              "    <tr>\n",
              "      <th>...</th>\n",
              "      <td>...</td>\n",
              "      <td>...</td>\n",
              "      <td>...</td>\n",
              "      <td>...</td>\n",
              "      <td>...</td>\n",
              "    </tr>\n",
              "    <tr>\n",
              "      <th>195</th>\n",
              "      <td>1.696876</td>\n",
              "      <td>-4.419916</td>\n",
              "      <td>-3.276024</td>\n",
              "      <td>3.688459</td>\n",
              "      <td>phelps aiming to upstage thorpe</td>\n",
              "    </tr>\n",
              "    <tr>\n",
              "      <th>196</th>\n",
              "      <td>0.694283</td>\n",
              "      <td>0.575116</td>\n",
              "      <td>2.782313</td>\n",
              "      <td>3.759456</td>\n",
              "      <td>kenbi mills</td>\n",
              "    </tr>\n",
              "    <tr>\n",
              "      <th>197</th>\n",
              "      <td>0.046458</td>\n",
              "      <td>-6.560894</td>\n",
              "      <td>-0.555887</td>\n",
              "      <td>-7.483743</td>\n",
              "      <td>cracker of a cotton year</td>\n",
              "    </tr>\n",
              "    <tr>\n",
              "      <th>198</th>\n",
              "      <td>2.679347</td>\n",
              "      <td>8.540446</td>\n",
              "      <td>-0.844037</td>\n",
              "      <td>6.614454</td>\n",
              "      <td>hannay to make origin debut</td>\n",
              "    </tr>\n",
              "    <tr>\n",
              "      <th>199</th>\n",
              "      <td>-1.822393</td>\n",
              "      <td>-1.624209</td>\n",
              "      <td>1.561473</td>\n",
              "      <td>-3.032038</td>\n",
              "      <td>investigation launched into fatal police shoot...</td>\n",
              "    </tr>\n",
              "  </tbody>\n",
              "</table>\n",
              "<p>200 rows × 5 columns</p>\n",
              "</div>\n",
              "      <button class=\"colab-df-convert\" onclick=\"convertToInteractive('df-35c22710-1726-4f14-8b4b-471f6b7c75a6')\"\n",
              "              title=\"Convert this dataframe to an interactive table.\"\n",
              "              style=\"display:none;\">\n",
              "        \n",
              "  <svg xmlns=\"http://www.w3.org/2000/svg\" height=\"24px\"viewBox=\"0 0 24 24\"\n",
              "       width=\"24px\">\n",
              "    <path d=\"M0 0h24v24H0V0z\" fill=\"none\"/>\n",
              "    <path d=\"M18.56 5.44l.94 2.06.94-2.06 2.06-.94-2.06-.94-.94-2.06-.94 2.06-2.06.94zm-11 1L8.5 8.5l.94-2.06 2.06-.94-2.06-.94L8.5 2.5l-.94 2.06-2.06.94zm10 10l.94 2.06.94-2.06 2.06-.94-2.06-.94-.94-2.06-.94 2.06-2.06.94z\"/><path d=\"M17.41 7.96l-1.37-1.37c-.4-.4-.92-.59-1.43-.59-.52 0-1.04.2-1.43.59L10.3 9.45l-7.72 7.72c-.78.78-.78 2.05 0 2.83L4 21.41c.39.39.9.59 1.41.59.51 0 1.02-.2 1.41-.59l7.78-7.78 2.81-2.81c.8-.78.8-2.07 0-2.86zM5.41 20L4 18.59l7.72-7.72 1.47 1.35L5.41 20z\"/>\n",
              "  </svg>\n",
              "      </button>\n",
              "      \n",
              "  <style>\n",
              "    .colab-df-container {\n",
              "      display:flex;\n",
              "      flex-wrap:wrap;\n",
              "      gap: 12px;\n",
              "    }\n",
              "\n",
              "    .colab-df-convert {\n",
              "      background-color: #E8F0FE;\n",
              "      border: none;\n",
              "      border-radius: 50%;\n",
              "      cursor: pointer;\n",
              "      display: none;\n",
              "      fill: #1967D2;\n",
              "      height: 32px;\n",
              "      padding: 0 0 0 0;\n",
              "      width: 32px;\n",
              "    }\n",
              "\n",
              "    .colab-df-convert:hover {\n",
              "      background-color: #E2EBFA;\n",
              "      box-shadow: 0px 1px 2px rgba(60, 64, 67, 0.3), 0px 1px 3px 1px rgba(60, 64, 67, 0.15);\n",
              "      fill: #174EA6;\n",
              "    }\n",
              "\n",
              "    [theme=dark] .colab-df-convert {\n",
              "      background-color: #3B4455;\n",
              "      fill: #D2E3FC;\n",
              "    }\n",
              "\n",
              "    [theme=dark] .colab-df-convert:hover {\n",
              "      background-color: #434B5C;\n",
              "      box-shadow: 0px 1px 3px 1px rgba(0, 0, 0, 0.15);\n",
              "      filter: drop-shadow(0px 1px 2px rgba(0, 0, 0, 0.3));\n",
              "      fill: #FFFFFF;\n",
              "    }\n",
              "  </style>\n",
              "\n",
              "      <script>\n",
              "        const buttonEl =\n",
              "          document.querySelector('#df-35c22710-1726-4f14-8b4b-471f6b7c75a6 button.colab-df-convert');\n",
              "        buttonEl.style.display =\n",
              "          google.colab.kernel.accessAllowed ? 'block' : 'none';\n",
              "\n",
              "        async function convertToInteractive(key) {\n",
              "          const element = document.querySelector('#df-35c22710-1726-4f14-8b4b-471f6b7c75a6');\n",
              "          const dataTable =\n",
              "            await google.colab.kernel.invokeFunction('convertToInteractive',\n",
              "                                                     [key], {});\n",
              "          if (!dataTable) return;\n",
              "\n",
              "          const docLinkHtml = 'Like what you see? Visit the ' +\n",
              "            '<a target=\"_blank\" href=https://colab.research.google.com/notebooks/data_table.ipynb>data table notebook</a>'\n",
              "            + ' to learn more about interactive tables.';\n",
              "          element.innerHTML = '';\n",
              "          dataTable['output_type'] = 'display_data';\n",
              "          await google.colab.output.renderOutput(dataTable, element);\n",
              "          const docLink = document.createElement('div');\n",
              "          docLink.innerHTML = docLinkHtml;\n",
              "          element.appendChild(docLink);\n",
              "        }\n",
              "      </script>\n",
              "    </div>\n",
              "  </div>\n",
              "  "
            ]
          },
          "metadata": {},
          "execution_count": 76
        }
      ]
    },
    {
      "cell_type": "code",
      "source": [],
      "metadata": {
        "id": "C8ql4V-UkWCx"
      },
      "execution_count": null,
      "outputs": []
    }
  ],
  "metadata": {
    "accelerator": "GPU",
    "colab": {
      "provenance": [],
      "collapsed_sections": [
        "g9oYPpPCzMsM",
        "uPhUToKUncad",
        "rXwir2pXBZrL"
      ],
      "toc_visible": true,
      "mount_file_id": "1DWRkxowtHGD4wPTiwtchgIxWj8EDReLs",
      "authorship_tag": "ABX9TyNRXb6DVRVkyzA80Dzm8Vug"
    },
    "gpuClass": "standard",
    "kernelspec": {
      "display_name": "Python 3",
      "name": "python3"
    },
    "language_info": {
      "name": "python"
    }
  },
  "nbformat": 4,
  "nbformat_minor": 0
}